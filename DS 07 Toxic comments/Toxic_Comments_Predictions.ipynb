{
  "cells": [
    {
      "cell_type": "markdown",
      "metadata": {
        "id": "urJs4HNiImsg"
      },
      "source": [
        "# Определение токсичных комментариев"
      ]
    },
    {
      "cell_type": "markdown",
      "metadata": {
        "id": "j94ALkdWImsg"
      },
      "source": [
        "Необходимо искать токсичные комментарии на основе набора данных с разметкой токсичности.\n",
        "\n",
        "**Описание данных**\n",
        "\n",
        "Данные находятся в файле `toxic_comments.csv`. Столбец *text* в нём содержит текст комментария, а *toxic* — целевой признак."
      ]
    },
    {
      "cell_type": "markdown",
      "metadata": {
        "id": "lA-RTi3vImsh"
      },
      "source": [
        "## Подготовка"
      ]
    },
    {
      "cell_type": "code",
      "execution_count": 1,
      "metadata": {
        "id": "WmjkaXQ4fSSZ"
      },
      "outputs": [],
      "source": [
        "import warnings\n",
        "warnings.filterwarnings(\"ignore\")"
      ]
    },
    {
      "cell_type": "code",
      "execution_count": 2,
      "metadata": {
        "colab": {
          "base_uri": "https://localhost:8080/"
        },
        "id": "wwVOLyK2Imsi",
        "outputId": "d6f5a1f1-4f7a-4435-9f7e-4498166d4726"
      },
      "outputs": [
        {
          "name": "stderr",
          "output_type": "stream",
          "text": [
            "[nltk_data] Downloading package punkt to /root/nltk_data...\n",
            "[nltk_data]   Unzipping tokenizers/punkt.zip.\n",
            "[nltk_data] Downloading package wordnet to /root/nltk_data...\n",
            "[nltk_data] Downloading package omw-1.4 to /root/nltk_data...\n",
            "[nltk_data] Downloading package stopwords to /root/nltk_data...\n",
            "[nltk_data]   Unzipping corpora/stopwords.zip.\n"
          ]
        }
      ],
      "source": [
        "import time\n",
        "\n",
        "import pandas as pd\n",
        "import numpy as np\n",
        "\n",
        "import re\n",
        "import nltk\n",
        "nltk.download('punkt')\n",
        "nltk.download('wordnet')\n",
        "nltk.download('omw-1.4')\n",
        "nltk.download('stopwords')\n",
        "\n",
        "from nltk.corpus import stopwords as nltk_stopwords\n",
        "from nltk.stem import WordNetLemmatizer\n",
        "import spacy\n",
        "\n",
        "from sklearn.pipeline import Pipeline\n",
        "\n",
        "from sklearn.feature_extraction.text import CountVectorizer\n",
        "from sklearn.feature_extraction.text import TfidfVectorizer\n",
        "\n",
        "from sklearn.linear_model import LogisticRegression\n",
        "from sklearn.tree import DecisionTreeClassifier\n",
        "from sklearn.ensemble import RandomForestClassifier\n",
        "from sklearn.model_selection import train_test_split, GridSearchCV, cross_val_score\n",
        "from sklearn.metrics import f1_score"
      ]
    },
    {
      "cell_type": "markdown",
      "metadata": {
        "id": "arW08WfZImsk"
      },
      "source": [
        "### Загрузка"
      ]
    },
    {
      "cell_type": "code",
      "execution_count": 3,
      "metadata": {
        "id": "3tw0QmaJImsk"
      },
      "outputs": [],
      "source": [
        "df = pd.read_csv('toxic_comments.csv')"
      ]
    },
    {
      "cell_type": "code",
      "execution_count": 4,
      "metadata": {
        "colab": {
          "base_uri": "https://localhost:8080/",
          "height": 206
        },
        "id": "D-w4A2CMImsl",
        "outputId": "0af48f59-c8ed-491f-9736-30785e910685",
        "scrolled": true
      },
      "outputs": [
        {
          "data": {
            "text/html": [
              "\n",
              "  <div id=\"df-b965a823-7ad4-4569-a80d-5da955d842b8\">\n",
              "    <div class=\"colab-df-container\">\n",
              "      <div>\n",
              "<style scoped>\n",
              "    .dataframe tbody tr th:only-of-type {\n",
              "        vertical-align: middle;\n",
              "    }\n",
              "\n",
              "    .dataframe tbody tr th {\n",
              "        vertical-align: top;\n",
              "    }\n",
              "\n",
              "    .dataframe thead th {\n",
              "        text-align: right;\n",
              "    }\n",
              "</style>\n",
              "<table border=\"1\" class=\"dataframe\">\n",
              "  <thead>\n",
              "    <tr style=\"text-align: right;\">\n",
              "      <th></th>\n",
              "      <th>Unnamed: 0</th>\n",
              "      <th>text</th>\n",
              "      <th>toxic</th>\n",
              "    </tr>\n",
              "  </thead>\n",
              "  <tbody>\n",
              "    <tr>\n",
              "      <th>0</th>\n",
              "      <td>0</td>\n",
              "      <td>Explanation\\nWhy the edits made under my usern...</td>\n",
              "      <td>0</td>\n",
              "    </tr>\n",
              "    <tr>\n",
              "      <th>1</th>\n",
              "      <td>1</td>\n",
              "      <td>D'aww! He matches this background colour I'm s...</td>\n",
              "      <td>0</td>\n",
              "    </tr>\n",
              "    <tr>\n",
              "      <th>2</th>\n",
              "      <td>2</td>\n",
              "      <td>Hey man, I'm really not trying to edit war. It...</td>\n",
              "      <td>0</td>\n",
              "    </tr>\n",
              "    <tr>\n",
              "      <th>3</th>\n",
              "      <td>3</td>\n",
              "      <td>\"\\nMore\\nI can't make any real suggestions on ...</td>\n",
              "      <td>0</td>\n",
              "    </tr>\n",
              "    <tr>\n",
              "      <th>4</th>\n",
              "      <td>4</td>\n",
              "      <td>You, sir, are my hero. Any chance you remember...</td>\n",
              "      <td>0</td>\n",
              "    </tr>\n",
              "  </tbody>\n",
              "</table>\n",
              "</div>\n",
              "      <button class=\"colab-df-convert\" onclick=\"convertToInteractive('df-b965a823-7ad4-4569-a80d-5da955d842b8')\"\n",
              "              title=\"Convert this dataframe to an interactive table.\"\n",
              "              style=\"display:none;\">\n",
              "        \n",
              "  <svg xmlns=\"http://www.w3.org/2000/svg\" height=\"24px\"viewBox=\"0 0 24 24\"\n",
              "       width=\"24px\">\n",
              "    <path d=\"M0 0h24v24H0V0z\" fill=\"none\"/>\n",
              "    <path d=\"M18.56 5.44l.94 2.06.94-2.06 2.06-.94-2.06-.94-.94-2.06-.94 2.06-2.06.94zm-11 1L8.5 8.5l.94-2.06 2.06-.94-2.06-.94L8.5 2.5l-.94 2.06-2.06.94zm10 10l.94 2.06.94-2.06 2.06-.94-2.06-.94-.94-2.06-.94 2.06-2.06.94z\"/><path d=\"M17.41 7.96l-1.37-1.37c-.4-.4-.92-.59-1.43-.59-.52 0-1.04.2-1.43.59L10.3 9.45l-7.72 7.72c-.78.78-.78 2.05 0 2.83L4 21.41c.39.39.9.59 1.41.59.51 0 1.02-.2 1.41-.59l7.78-7.78 2.81-2.81c.8-.78.8-2.07 0-2.86zM5.41 20L4 18.59l7.72-7.72 1.47 1.35L5.41 20z\"/>\n",
              "  </svg>\n",
              "      </button>\n",
              "      \n",
              "  <style>\n",
              "    .colab-df-container {\n",
              "      display:flex;\n",
              "      flex-wrap:wrap;\n",
              "      gap: 12px;\n",
              "    }\n",
              "\n",
              "    .colab-df-convert {\n",
              "      background-color: #E8F0FE;\n",
              "      border: none;\n",
              "      border-radius: 50%;\n",
              "      cursor: pointer;\n",
              "      display: none;\n",
              "      fill: #1967D2;\n",
              "      height: 32px;\n",
              "      padding: 0 0 0 0;\n",
              "      width: 32px;\n",
              "    }\n",
              "\n",
              "    .colab-df-convert:hover {\n",
              "      background-color: #E2EBFA;\n",
              "      box-shadow: 0px 1px 2px rgba(60, 64, 67, 0.3), 0px 1px 3px 1px rgba(60, 64, 67, 0.15);\n",
              "      fill: #174EA6;\n",
              "    }\n",
              "\n",
              "    [theme=dark] .colab-df-convert {\n",
              "      background-color: #3B4455;\n",
              "      fill: #D2E3FC;\n",
              "    }\n",
              "\n",
              "    [theme=dark] .colab-df-convert:hover {\n",
              "      background-color: #434B5C;\n",
              "      box-shadow: 0px 1px 3px 1px rgba(0, 0, 0, 0.15);\n",
              "      filter: drop-shadow(0px 1px 2px rgba(0, 0, 0, 0.3));\n",
              "      fill: #FFFFFF;\n",
              "    }\n",
              "  </style>\n",
              "\n",
              "      <script>\n",
              "        const buttonEl =\n",
              "          document.querySelector('#df-b965a823-7ad4-4569-a80d-5da955d842b8 button.colab-df-convert');\n",
              "        buttonEl.style.display =\n",
              "          google.colab.kernel.accessAllowed ? 'block' : 'none';\n",
              "\n",
              "        async function convertToInteractive(key) {\n",
              "          const element = document.querySelector('#df-b965a823-7ad4-4569-a80d-5da955d842b8');\n",
              "          const dataTable =\n",
              "            await google.colab.kernel.invokeFunction('convertToInteractive',\n",
              "                                                     [key], {});\n",
              "          if (!dataTable) return;\n",
              "\n",
              "          const docLinkHtml = 'Like what you see? Visit the ' +\n",
              "            '<a target=\"_blank\" href=https://colab.research.google.com/notebooks/data_table.ipynb>data table notebook</a>'\n",
              "            + ' to learn more about interactive tables.';\n",
              "          element.innerHTML = '';\n",
              "          dataTable['output_type'] = 'display_data';\n",
              "          await google.colab.output.renderOutput(dataTable, element);\n",
              "          const docLink = document.createElement('div');\n",
              "          docLink.innerHTML = docLinkHtml;\n",
              "          element.appendChild(docLink);\n",
              "        }\n",
              "      </script>\n",
              "    </div>\n",
              "  </div>\n",
              "  "
            ],
            "text/plain": [
              "   Unnamed: 0                                               text  toxic\n",
              "0           0  Explanation\\nWhy the edits made under my usern...      0\n",
              "1           1  D'aww! He matches this background colour I'm s...      0\n",
              "2           2  Hey man, I'm really not trying to edit war. It...      0\n",
              "3           3  \"\\nMore\\nI can't make any real suggestions on ...      0\n",
              "4           4  You, sir, are my hero. Any chance you remember...      0"
            ]
          },
          "execution_count": 4,
          "metadata": {},
          "output_type": "execute_result"
        }
      ],
      "source": [
        "df.head()"
      ]
    },
    {
      "cell_type": "code",
      "execution_count": 5,
      "metadata": {
        "colab": {
          "base_uri": "https://localhost:8080/"
        },
        "id": "GsxKaaZuImsm",
        "outputId": "6ea278e2-da68-4992-bfd0-c82634affa00",
        "scrolled": true
      },
      "outputs": [
        {
          "name": "stdout",
          "output_type": "stream",
          "text": [
            "<class 'pandas.core.frame.DataFrame'>\n",
            "RangeIndex: 159292 entries, 0 to 159291\n",
            "Data columns (total 3 columns):\n",
            " #   Column      Non-Null Count   Dtype \n",
            "---  ------      --------------   ----- \n",
            " 0   Unnamed: 0  159292 non-null  int64 \n",
            " 1   text        159292 non-null  object\n",
            " 2   toxic       159292 non-null  int64 \n",
            "dtypes: int64(2), object(1)\n",
            "memory usage: 3.6+ MB\n"
          ]
        }
      ],
      "source": [
        "df.info()"
      ]
    },
    {
      "cell_type": "code",
      "execution_count": 6,
      "metadata": {
        "colab": {
          "base_uri": "https://localhost:8080/"
        },
        "id": "5080vNbyImsm",
        "outputId": "c3e82b1d-2293-41bf-a189-c4cdb353c74b",
        "scrolled": true
      },
      "outputs": [
        {
          "data": {
            "text/plain": [
              "Unnamed: 0  text   toxic\n",
              "False       False  False    159292\n",
              "dtype: int64"
            ]
          },
          "execution_count": 6,
          "metadata": {},
          "output_type": "execute_result"
        }
      ],
      "source": [
        "df.isna().value_counts()"
      ]
    },
    {
      "cell_type": "code",
      "execution_count": 7,
      "metadata": {
        "colab": {
          "base_uri": "https://localhost:8080/"
        },
        "id": "n4DpRYsTImsm",
        "outputId": "91286365-95b7-43ba-dd96-b123f4be4e37"
      },
      "outputs": [
        {
          "data": {
            "text/plain": [
              "False    159292\n",
              "dtype: int64"
            ]
          },
          "execution_count": 7,
          "metadata": {},
          "output_type": "execute_result"
        }
      ],
      "source": [
        "df.duplicated().value_counts()"
      ]
    },
    {
      "cell_type": "code",
      "execution_count": 8,
      "metadata": {
        "colab": {
          "base_uri": "https://localhost:8080/"
        },
        "id": "HUnjWOhgImsm",
        "outputId": "f678b4db-b249-4a0a-a710-552b07498db2",
        "scrolled": false
      },
      "outputs": [
        {
          "data": {
            "text/plain": [
              "0    143106\n",
              "1     16186\n",
              "Name: toxic, dtype: int64"
            ]
          },
          "execution_count": 8,
          "metadata": {},
          "output_type": "execute_result"
        }
      ],
      "source": [
        "df['toxic'].value_counts()"
      ]
    },
    {
      "cell_type": "markdown",
      "metadata": {
        "id": "PY-d4wcMImsn"
      },
      "source": [
        "Вывод: пропусков и дубликатов в данных нет. Целевой признак не сбалансирован. Это следует учитывать в моделях"
      ]
    },
    {
      "cell_type": "markdown",
      "metadata": {
        "id": "mbjkvyXRImsn"
      },
      "source": [
        "### Очистка и лемматизация"
      ]
    },
    {
      "cell_type": "code",
      "execution_count": 9,
      "metadata": {
        "id": "NnpZeVE6Imsn"
      },
      "outputs": [],
      "source": [
        "# нормализация и очистка текста\n",
        "\n",
        "def clear_text(text):\n",
        "    text = text.lower()\n",
        "    cleared = re.sub(r'[^a-zA-Z]', \" \", text).split()\n",
        "    return \" \".join(cleared)"
      ]
    },
    {
      "cell_type": "code",
      "execution_count": 10,
      "metadata": {
        "colab": {
          "base_uri": "https://localhost:8080/"
        },
        "id": "17QSmlYFImso",
        "outputId": "792e1323-86bc-4392-8bd4-5d2b42f40415",
        "scrolled": true
      },
      "outputs": [
        {
          "name": "stdout",
          "output_type": "stream",
          "text": [
            "0         explanation why the edits made under my userna...\n",
            "1         d aww he match this background colour i m seem...\n",
            "2         hey man i m really not trying to edit war it s...\n",
            "3         more i can t make any real suggestion on impro...\n",
            "4         you sir are my hero any chance you remember wh...\n",
            "                                ...                        \n",
            "159287    and for the second time of asking when your vi...\n",
            "159288    you should be ashamed of yourself that is a ho...\n",
            "159289    spitzer umm there no actual article for prosti...\n",
            "159290    and it look like it wa actually you who put on...\n",
            "159291    and i really don t think you understand i came...\n",
            "Name: nltk_lem_text, Length: 159292, dtype: object\n",
            "CPU times: user 1min 38s, sys: 678 ms, total: 1min 39s\n",
            "Wall time: 1min 39s\n"
          ]
        }
      ],
      "source": [
        "# лемматизация текста\n",
        "\n",
        "%%time\n",
        "\n",
        "lemmatizer = WordNetLemmatizer()\n",
        "\n",
        "def nltk_lemmatize(text):\n",
        "    word_list = nltk.word_tokenize(text)\n",
        "    lemm_text = ' '.join([lemmatizer.lemmatize(w) for w in word_list])\n",
        "        \n",
        "    return lemm_text\n",
        "\n",
        "\n",
        "df['nltk_lem_text'] = df['text'].apply(lambda x: nltk_lemmatize(clear_text(x)))\n",
        "\n",
        "print(df['nltk_lem_text'])"
      ]
    },
    {
      "cell_type": "code",
      "execution_count": 11,
      "metadata": {
        "colab": {
          "base_uri": "https://localhost:8080/"
        },
        "id": "6v8epDbFImsp",
        "outputId": "affe74a5-2658-4b47-d2d6-065039605093",
        "scrolled": true
      },
      "outputs": [
        {
          "name": "stdout",
          "output_type": "stream",
          "text": [
            "0         explanation why the edit make under my usernam...\n",
            "1         d aww he match this background colour I be see...\n",
            "2         hey man I be really not try to edit war it be ...\n",
            "3         more I can not make any real suggestion on imp...\n",
            "4         you sir be my hero any chance you remember wha...\n",
            "                                ...                        \n",
            "159287    and for the second time of ask when your view ...\n",
            "159288    you should be ashamed of yourself that be a ho...\n",
            "159289    spitzer umm there s no actual article for pros...\n",
            "159290    and it look like it be actually you who put on...\n",
            "159291    and I really do not think you understand I com...\n",
            "Name: spacy_lem_text, Length: 159292, dtype: object\n",
            "CPU times: user 23min 23s, sys: 9.7 s, total: 23min 33s\n",
            "Wall time: 23min 33s\n"
          ]
        }
      ],
      "source": [
        "%%time\n",
        "\n",
        "sp = spacy.load(\"en_core_web_sm\", disable=['parser', 'ner'])\n",
        "\n",
        "def spacy_lemmatize (text):    \n",
        "    text = text.lower()\n",
        "    lemm_text = sp(text)\n",
        "    lemm_text = \" \".join([token.lemma_ for token in lemm_text])\n",
        "    cleared_text = re.sub(r'[^a-zA-Z]', ' ', lemm_text)\n",
        "    \n",
        "    return \" \".join(cleared_text.split())\n",
        "\n",
        "df['spacy_lem_text'] = df['text'].apply(spacy_lemmatize)\n",
        "\n",
        "print(df['spacy_lem_text'])"
      ]
    },
    {
      "cell_type": "markdown",
      "metadata": {
        "id": "QKhW_TmCImsq"
      },
      "source": [
        "Вывод: лемматизация методом spacy выполняется намного дольше, чем nltk. Посмотрим как лемматизация повлияет на модели машинного обучения."
      ]
    },
    {
      "cell_type": "markdown",
      "metadata": {
        "id": "dYvpQU0ZImsq"
      },
      "source": [
        "## Обучение"
      ]
    },
    {
      "cell_type": "markdown",
      "metadata": {
        "id": "pzoM46p3Imsq"
      },
      "source": [
        "Сначала выберем модель и подберём гиперпараметры, потом на лучшей прогоним результаты разной лемматизации и протестируем оптимальный из них"
      ]
    },
    {
      "cell_type": "code",
      "execution_count": 12,
      "metadata": {
        "id": "cDHYkuP2Imsr"
      },
      "outputs": [],
      "source": [
        "# разделение выборок\n",
        "\n",
        "target = df['toxic']\n",
        "features_nltk = df['nltk_lem_text']\n",
        "\n",
        "features_train_nltk, features_valid_nltk, target_train_nltk, target_valid_nltk = train_test_split(features_nltk, \n",
        "                                                                               target, \n",
        "                                                                               test_size=0.2, \n",
        "                                                                               random_state=12345)"
      ]
    },
    {
      "cell_type": "code",
      "execution_count": 13,
      "metadata": {
        "id": "4osypUnqImsr"
      },
      "outputs": [],
      "source": [
        "# TF-IDF\n",
        "\n",
        "stopwords = set(nltk_stopwords.words('english'))\n",
        "\n",
        "count_tf_idf = TfidfVectorizer(stop_words=stopwords)\n",
        "\n",
        "features_train_nltk = count_tf_idf.fit_transform(features_train_nltk.values.astype('U'))\n",
        " \n",
        "features_valid_nltk = count_tf_idf.transform(features_valid_nltk.values.astype('U'))"
      ]
    },
    {
      "cell_type": "code",
      "execution_count": 14,
      "metadata": {
        "colab": {
          "base_uri": "https://localhost:8080/"
        },
        "id": "QMLAY6AEqktl",
        "outputId": "64c5c985-4888-4071-b701-2c3c34bd20ff"
      },
      "outputs": [
        {
          "name": "stdout",
          "output_type": "stream",
          "text": [
            "features_train (127433, 138358)\n",
            "features_valid (31859, 138358)\n",
            "target_train (127433,)\n",
            "target_valid (31859,)\n"
          ]
        }
      ],
      "source": [
        "print('features_train', features_train_nltk.shape)\n",
        "print('features_valid', features_valid_nltk.shape)\n",
        "print('target_train', target_train_nltk.shape)\n",
        "print('target_valid', target_valid_nltk.shape)"
      ]
    },
    {
      "cell_type": "code",
      "execution_count": 15,
      "metadata": {
        "id": "YEU1NJRfImsr"
      },
      "outputs": [],
      "source": [
        "# разделение выборок\n",
        "\n",
        "target = df['toxic']\n",
        "features_spacy = df['spacy_lem_text']\n",
        "\n",
        "features_train_spacy, features_valid_spacy, target_train_spacy, target_valid_spacy = train_test_split(features_spacy, \n",
        "                                                                               target, \n",
        "                                                                               test_size=0.2, \n",
        "                                                                               random_state=12345)"
      ]
    },
    {
      "cell_type": "code",
      "execution_count": 16,
      "metadata": {
        "id": "q1XOZMpFImss"
      },
      "outputs": [],
      "source": [
        "# TF-IDF\n",
        "\n",
        "features_train_spacy = count_tf_idf.fit_transform(features_train_spacy.values.astype('U'))\n",
        " \n",
        "features_valid_spacy = count_tf_idf.transform(features_valid_spacy.values.astype('U'))"
      ]
    },
    {
      "cell_type": "code",
      "execution_count": 17,
      "metadata": {
        "colab": {
          "base_uri": "https://localhost:8080/"
        },
        "id": "LZYGVXXTImst",
        "outputId": "c45f60dc-d28f-4a39-e5f0-a38a80a28448"
      },
      "outputs": [
        {
          "name": "stdout",
          "output_type": "stream",
          "text": [
            "Fitting 3 folds for each of 3 candidates, totalling 9 fits\n",
            "best parameters:  {'C': 10}\n",
            "best f1 score:  0.7592394403658248\n"
          ]
        }
      ],
      "source": [
        "# Logistic Regression\n",
        "\n",
        "#%%time\n",
        "\n",
        "lr_model = LogisticRegression(class_weight='balanced', random_state = 12345)\n",
        "\n",
        "params = {\n",
        "    \"C\": [0.01, 1, 10]\n",
        " }\n",
        "\n",
        "lr_gs = GridSearchCV(lr_model, params, cv=3, scoring='f1', verbose=True).fit(features_train_spacy, target_train_spacy)\n",
        "\n",
        "print('best parameters: ', lr_gs.best_params_)\n",
        "print('best f1 score: ', lr_gs.best_score_)"
      ]
    },
    {
      "cell_type": "code",
      "execution_count": 18,
      "metadata": {
        "colab": {
          "base_uri": "https://localhost:8080/"
        },
        "id": "nh21KWH7Imsu",
        "outputId": "c2d2f6fe-afaa-4778-85b7-2fd8dcd5abbb"
      },
      "outputs": [
        {
          "name": "stdout",
          "output_type": "stream",
          "text": [
            "Fitting 3 folds for each of 6 candidates, totalling 18 fits\n",
            "best parameters:  {'criterion': 'entropy', 'max_depth': 11}\n",
            "best f1 score:  0.5815049365666366\n"
          ]
        }
      ],
      "source": [
        "# Decision Tree\n",
        "\n",
        "#%%time\n",
        "\n",
        "tree = DecisionTreeClassifier(class_weight='balanced', random_state = 12345)\n",
        "\n",
        "params = {\n",
        "    'criterion':['gini', 'entropy'],        \n",
        "    'max_depth':list(range(1,15,5)) \n",
        " }\n",
        "    \n",
        "tree_gs = GridSearchCV(tree, params, cv=3, scoring='f1', verbose=True).fit(features_train_spacy, target_train_spacy)\n",
        "\n",
        "print('best parameters: ', tree_gs.best_params_)\n",
        "print('best f1 score: ', tree_gs.best_score_)"
      ]
    },
    {
      "cell_type": "code",
      "execution_count": 19,
      "metadata": {
        "colab": {
          "base_uri": "https://localhost:8080/"
        },
        "id": "kCOSBD3jImsu",
        "outputId": "ce58f0f0-c679-4e2a-f590-17eecb08e7c0",
        "scrolled": true
      },
      "outputs": [
        {
          "name": "stdout",
          "output_type": "stream",
          "text": [
            "Fitting 3 folds for each of 9 candidates, totalling 27 fits\n",
            "best parameters:  {'max_depth': 11, 'n_estimators': 100}\n",
            "best f1 score:  0.3666099429776586\n"
          ]
        }
      ],
      "source": [
        "# Random Forest\n",
        "\n",
        "#%%time\n",
        "\n",
        "rf_model = RandomForestClassifier(class_weight='balanced', random_state = 12345)\n",
        "\n",
        "params = {\n",
        "    'n_estimators':[10, 50, 100],        \n",
        "    'max_depth':list(range(1,15,5)) \n",
        " }\n",
        "    \n",
        "rf_gs = GridSearchCV(rf_model, params, cv=3, scoring='f1', verbose=True).fit(features_train_spacy, target_train_spacy)\n",
        "\n",
        "print('best parameters: ', rf_gs.best_params_)\n",
        "print('best f1 score: ', rf_gs.best_score_)"
      ]
    },
    {
      "cell_type": "markdown",
      "metadata": {
        "id": "64fYZAddImsv"
      },
      "source": [
        "Вывод: модель логистической регрессии показала наилучший результат. Проверим результаты лемматизаци nltk на логистической регрессии"
      ]
    },
    {
      "cell_type": "markdown",
      "metadata": {
        "id": "fvRwGp6bImsv"
      },
      "source": [
        "### Оценка лемматизации"
      ]
    },
    {
      "cell_type": "code",
      "execution_count": 20,
      "metadata": {
        "colab": {
          "base_uri": "https://localhost:8080/"
        },
        "id": "h63fgUOuImsv",
        "outputId": "e7eeafa3-e20c-4216-f6b2-bc55bd7c28c9",
        "scrolled": true
      },
      "outputs": [
        {
          "name": "stdout",
          "output_type": "stream",
          "text": [
            "Fitting 3 folds for each of 3 candidates, totalling 9 fits\n",
            "best parameters:  {'C': 10}\n",
            "best f1 score:  0.7568265757418132\n"
          ]
        }
      ],
      "source": [
        "# Logistic Regression\n",
        "\n",
        "#%%time\n",
        "\n",
        "lr_model = LogisticRegression(class_weight='balanced', random_state = 12345)\n",
        "\n",
        "params = {\n",
        "    \"C\": [0.01, 1, 10]\n",
        " }\n",
        "\n",
        "lr_gs_nltk = GridSearchCV(lr_model, params, cv=3, scoring='f1', verbose=True).fit(features_train_nltk, target_train_nltk)\n",
        "\n",
        "print('best parameters: ', lr_gs_nltk.best_params_)\n",
        "print('best f1 score: ', lr_gs_nltk.best_score_)"
      ]
    },
    {
      "cell_type": "markdown",
      "metadata": {
        "id": "bxgCNTJgImsw"
      },
      "source": [
        "Вывод: наилучший f1 получился у логистической регрессии на данных, лемматизированных методом Spacy.  Тестируем."
      ]
    },
    {
      "cell_type": "markdown",
      "metadata": {
        "id": "QPHU4TxPImsx"
      },
      "source": [
        "### Тестирование"
      ]
    },
    {
      "cell_type": "code",
      "execution_count": 21,
      "metadata": {
        "colab": {
          "base_uri": "https://localhost:8080/"
        },
        "id": "4ZSQ940wImsx",
        "outputId": "c5ebf225-0807-4267-a696-154a799e0762",
        "scrolled": false
      },
      "outputs": [
        {
          "name": "stdout",
          "output_type": "stream",
          "text": [
            "f1_score: 0.7705739229998569\n"
          ]
        }
      ],
      "source": [
        "lr_model_test = LogisticRegression(class_weight='balanced', C = 10, random_state = 12345)\n",
        "\n",
        "lr_model_test.fit(features_train_spacy, target_train_spacy)\n",
        "\n",
        "predictions = lr_model_test.predict(features_valid_spacy)\n",
        "\n",
        "print('f1_score:', f1_score(target_valid_spacy, predictions))"
      ]
    },
    {
      "cell_type": "code",
      "execution_count": 22,
      "metadata": {
        "colab": {
          "base_uri": "https://localhost:8080/"
        },
        "id": "eZJ5ck7ZImsx",
        "outputId": "d627859a-cbf9-46e7-9202-444c8b8395ae"
      },
      "outputs": [
        {
          "name": "stdout",
          "output_type": "stream",
          "text": [
            "f1_score: 0.76527698458024\n"
          ]
        }
      ],
      "source": [
        "lr_model_test = LogisticRegression(class_weight='balanced', C = 10, random_state = 12345)\n",
        "\n",
        "lr_model_test.fit(features_train_nltk, target_train_nltk)\n",
        "\n",
        "predictions = lr_model_test.predict(features_valid_nltk)\n",
        "\n",
        "print('f1_score:', f1_score(target_valid_nltk, predictions))"
      ]
    },
    {
      "cell_type": "markdown",
      "metadata": {
        "id": "sgLJTy0TImsy"
      },
      "source": [
        "## Выводы"
      ]
    },
    {
      "cell_type": "markdown",
      "metadata": {
        "id": "YXY1gTejImsy"
      },
      "source": [
        "Текст загружен, в предобработке не нуждался. Подготовка данных заключалась в очистке от знаков препнания, цифр, символов и пр. кроме букв и приведении к строчным буквам. Лемматизация проводилась двумя способами NLTK (более быстрый) и Spacy (более долгий). Для обучения текстовые данные векторизовались методом TF-IDF. Обучение происходило посредством логистической регрессии и деревянных моделей. Логистическая регрессия показала наилучший результат. Лемматизация оказалась лучше методом Spacy.\n",
        "\n",
        "В качестве дальнейших шагов по улучшению метрики можно выполнить токенизацию, обучение с градиентным бустингом и векторизацию нейронной сеткой BERT."
      ]
    }
  ],
  "metadata": {
    "ExecuteTimeLog": [
      {
        "duration": 363,
        "start_time": "2022-06-14T18:22:11.587Z"
      },
      {
        "duration": 77,
        "start_time": "2022-06-14T18:22:31.967Z"
      },
      {
        "duration": 3092,
        "start_time": "2022-06-14T18:24:22.550Z"
      },
      {
        "duration": 13,
        "start_time": "2022-06-14T18:24:32.367Z"
      },
      {
        "duration": 7,
        "start_time": "2022-06-14T18:24:59.883Z"
      },
      {
        "duration": 1707,
        "start_time": "2022-06-14T18:26:01.344Z"
      },
      {
        "duration": 2,
        "start_time": "2022-06-14T18:27:01.096Z"
      },
      {
        "duration": 4,
        "start_time": "2022-06-14T18:31:58.296Z"
      },
      {
        "duration": 10,
        "start_time": "2022-06-14T18:32:09.184Z"
      },
      {
        "duration": 30,
        "start_time": "2022-06-14T18:57:31.345Z"
      },
      {
        "duration": 2,
        "start_time": "2022-06-14T18:58:10.976Z"
      },
      {
        "duration": 2,
        "start_time": "2022-06-14T18:58:20.679Z"
      },
      {
        "duration": 5,
        "start_time": "2022-06-14T18:59:57.836Z"
      },
      {
        "duration": 4,
        "start_time": "2022-06-14T19:08:37.852Z"
      },
      {
        "duration": 938,
        "start_time": "2022-06-14T19:08:40.475Z"
      },
      {
        "duration": 639,
        "start_time": "2022-06-14T19:11:31.837Z"
      },
      {
        "duration": 1742,
        "start_time": "2022-06-14T19:14:20.047Z"
      },
      {
        "duration": 4,
        "start_time": "2022-06-14T19:14:41.551Z"
      },
      {
        "duration": 4,
        "start_time": "2022-06-14T19:14:55.324Z"
      },
      {
        "duration": 3260,
        "start_time": "2022-06-14T19:14:55.330Z"
      },
      {
        "duration": 0,
        "start_time": "2022-06-14T19:14:58.592Z"
      },
      {
        "duration": 0,
        "start_time": "2022-06-14T19:14:58.593Z"
      },
      {
        "duration": 0,
        "start_time": "2022-06-14T19:14:58.594Z"
      },
      {
        "duration": 0,
        "start_time": "2022-06-14T19:14:58.594Z"
      },
      {
        "duration": 0,
        "start_time": "2022-06-14T19:14:58.595Z"
      },
      {
        "duration": 0,
        "start_time": "2022-06-14T19:14:58.596Z"
      },
      {
        "duration": 0,
        "start_time": "2022-06-14T19:14:58.597Z"
      },
      {
        "duration": 0,
        "start_time": "2022-06-14T19:14:58.598Z"
      },
      {
        "duration": 3,
        "start_time": "2022-06-14T19:15:05.628Z"
      },
      {
        "duration": 671,
        "start_time": "2022-06-14T19:15:07.836Z"
      },
      {
        "duration": 13,
        "start_time": "2022-06-14T19:15:36.519Z"
      },
      {
        "duration": 1768,
        "start_time": "2022-06-14T19:15:39.112Z"
      },
      {
        "duration": 3,
        "start_time": "2022-06-14T19:15:43.626Z"
      },
      {
        "duration": 3,
        "start_time": "2022-06-14T19:15:45.870Z"
      },
      {
        "duration": 990,
        "start_time": "2022-06-14T19:15:47.922Z"
      },
      {
        "duration": 11395,
        "start_time": "2022-06-14T19:27:55.145Z"
      },
      {
        "duration": 3384,
        "start_time": "2022-06-15T19:39:14.610Z"
      },
      {
        "duration": 4,
        "start_time": "2022-06-15T19:39:24.913Z"
      },
      {
        "duration": 2893,
        "start_time": "2022-06-15T19:39:24.928Z"
      },
      {
        "duration": 13,
        "start_time": "2022-06-15T19:39:27.823Z"
      },
      {
        "duration": 1631,
        "start_time": "2022-06-15T19:39:27.838Z"
      },
      {
        "duration": 295,
        "start_time": "2022-06-15T19:39:34.183Z"
      },
      {
        "duration": 3,
        "start_time": "2022-06-15T19:39:53.628Z"
      },
      {
        "duration": 3,
        "start_time": "2022-06-15T19:39:55.701Z"
      },
      {
        "duration": 65827,
        "start_time": "2022-06-15T19:39:57.573Z"
      },
      {
        "duration": 11,
        "start_time": "2022-06-15T19:41:22.043Z"
      },
      {
        "duration": 524,
        "start_time": "2022-06-15T19:42:10.306Z"
      },
      {
        "duration": 26,
        "start_time": "2022-06-15T19:42:17.689Z"
      },
      {
        "duration": 14,
        "start_time": "2022-06-15T19:42:25.977Z"
      },
      {
        "duration": 18,
        "start_time": "2022-06-15T19:44:40.346Z"
      },
      {
        "duration": 123,
        "start_time": "2022-06-15T19:45:03.051Z"
      },
      {
        "duration": 34,
        "start_time": "2022-06-15T19:45:18.147Z"
      },
      {
        "duration": 21599,
        "start_time": "2022-06-15T19:45:21.473Z"
      },
      {
        "duration": 251,
        "start_time": "2022-06-15T19:48:24.792Z"
      },
      {
        "duration": 4,
        "start_time": "2022-06-15T19:48:55.986Z"
      },
      {
        "duration": 19,
        "start_time": "2022-06-15T19:48:59.074Z"
      },
      {
        "duration": 4,
        "start_time": "2022-06-15T19:49:07.074Z"
      },
      {
        "duration": 17,
        "start_time": "2022-06-15T19:49:18.472Z"
      },
      {
        "duration": 17,
        "start_time": "2022-06-15T19:49:27.843Z"
      },
      {
        "duration": 284,
        "start_time": "2022-06-15T19:49:46.373Z"
      },
      {
        "duration": 5,
        "start_time": "2022-06-15T19:50:06.716Z"
      },
      {
        "duration": 5,
        "start_time": "2022-06-15T19:50:27.778Z"
      },
      {
        "duration": 6281,
        "start_time": "2022-06-15T19:50:43.320Z"
      },
      {
        "duration": 3,
        "start_time": "2022-06-15T19:50:51.641Z"
      },
      {
        "duration": 364,
        "start_time": "2022-06-15T19:51:45.945Z"
      },
      {
        "duration": 190252,
        "start_time": "2022-06-15T19:51:48.391Z"
      },
      {
        "duration": 18,
        "start_time": "2022-06-15T19:57:08.759Z"
      },
      {
        "duration": 40,
        "start_time": "2022-06-15T19:57:40.220Z"
      },
      {
        "duration": 3295,
        "start_time": "2022-06-15T19:58:18.178Z"
      },
      {
        "duration": 2830,
        "start_time": "2022-06-15T19:58:21.474Z"
      },
      {
        "duration": 13,
        "start_time": "2022-06-15T19:58:24.305Z"
      },
      {
        "duration": 3,
        "start_time": "2022-06-15T19:58:24.319Z"
      },
      {
        "duration": 4,
        "start_time": "2022-06-15T19:58:24.324Z"
      },
      {
        "duration": 5,
        "start_time": "2022-06-15T19:58:24.329Z"
      },
      {
        "duration": 60150,
        "start_time": "2022-06-15T19:58:24.335Z"
      },
      {
        "duration": 3,
        "start_time": "2022-06-15T20:04:49.269Z"
      },
      {
        "duration": 659,
        "start_time": "2022-06-15T20:04:49.274Z"
      },
      {
        "duration": 6,
        "start_time": "2022-06-15T20:04:49.935Z"
      },
      {
        "duration": 7,
        "start_time": "2022-06-15T20:04:49.943Z"
      },
      {
        "duration": 5,
        "start_time": "2022-06-15T20:04:49.951Z"
      },
      {
        "duration": 5956,
        "start_time": "2022-06-15T20:04:49.957Z"
      },
      {
        "duration": 6,
        "start_time": "2022-06-15T20:05:02.380Z"
      },
      {
        "duration": 10,
        "start_time": "2022-06-15T20:05:09.683Z"
      },
      {
        "duration": 3,
        "start_time": "2022-06-15T20:08:03.553Z"
      },
      {
        "duration": 374,
        "start_time": "2022-06-15T20:08:18.082Z"
      },
      {
        "duration": 147,
        "start_time": "2022-06-15T20:08:45.035Z"
      },
      {
        "duration": 4,
        "start_time": "2022-06-15T20:08:58.017Z"
      },
      {
        "duration": 143,
        "start_time": "2022-06-15T20:09:04.462Z"
      },
      {
        "duration": 3,
        "start_time": "2022-06-15T20:09:42.654Z"
      },
      {
        "duration": 4,
        "start_time": "2022-06-15T20:09:56.594Z"
      },
      {
        "duration": 14,
        "start_time": "2022-06-15T20:10:02.734Z"
      },
      {
        "duration": 4,
        "start_time": "2022-06-15T20:10:17.935Z"
      },
      {
        "duration": 71625,
        "start_time": "2022-06-15T20:10:22.025Z"
      },
      {
        "duration": 16,
        "start_time": "2022-06-15T20:11:39.442Z"
      },
      {
        "duration": 620,
        "start_time": "2022-06-15T20:15:46.841Z"
      },
      {
        "duration": 3849,
        "start_time": "2022-06-15T20:32:43.998Z"
      },
      {
        "duration": 2896,
        "start_time": "2022-06-15T20:32:47.849Z"
      },
      {
        "duration": 17,
        "start_time": "2022-06-15T20:32:50.746Z"
      },
      {
        "duration": 8,
        "start_time": "2022-06-15T20:32:50.766Z"
      },
      {
        "duration": 6,
        "start_time": "2022-06-15T20:32:50.776Z"
      },
      {
        "duration": 5,
        "start_time": "2022-06-15T20:32:50.784Z"
      },
      {
        "duration": 6,
        "start_time": "2022-06-15T20:32:50.790Z"
      },
      {
        "duration": 60851,
        "start_time": "2022-06-15T20:32:50.797Z"
      },
      {
        "duration": 11,
        "start_time": "2022-06-15T20:34:32.118Z"
      },
      {
        "duration": 65,
        "start_time": "2022-06-15T20:34:41.667Z"
      },
      {
        "duration": 285,
        "start_time": "2022-06-15T20:34:45.103Z"
      },
      {
        "duration": 16,
        "start_time": "2022-06-15T20:35:44.126Z"
      },
      {
        "duration": 7,
        "start_time": "2022-06-15T20:35:49.321Z"
      },
      {
        "duration": 18,
        "start_time": "2022-06-15T20:35:51.634Z"
      },
      {
        "duration": 29,
        "start_time": "2022-06-15T20:35:55.184Z"
      },
      {
        "duration": 6287,
        "start_time": "2022-06-15T20:35:57.642Z"
      },
      {
        "duration": 5062,
        "start_time": "2022-06-15T20:36:08.724Z"
      },
      {
        "duration": 19,
        "start_time": "2022-06-15T20:36:39.421Z"
      },
      {
        "duration": 4,
        "start_time": "2022-06-15T20:37:06.342Z"
      },
      {
        "duration": 5,
        "start_time": "2022-06-15T20:37:19.807Z"
      },
      {
        "duration": 8,
        "start_time": "2022-06-15T20:37:25.853Z"
      },
      {
        "duration": 22,
        "start_time": "2022-06-15T20:37:50.040Z"
      },
      {
        "duration": 18,
        "start_time": "2022-06-15T20:38:00.685Z"
      },
      {
        "duration": 4,
        "start_time": "2022-06-15T20:39:16.449Z"
      },
      {
        "duration": 20,
        "start_time": "2022-06-15T20:40:21.089Z"
      },
      {
        "duration": 18,
        "start_time": "2022-06-15T20:40:32.341Z"
      },
      {
        "duration": 6165,
        "start_time": "2022-06-15T20:40:38.281Z"
      },
      {
        "duration": 3,
        "start_time": "2022-06-15T20:40:49.747Z"
      },
      {
        "duration": 18,
        "start_time": "2022-06-15T20:41:08.999Z"
      },
      {
        "duration": 21,
        "start_time": "2022-06-15T20:41:45.448Z"
      },
      {
        "duration": 19,
        "start_time": "2022-06-15T20:41:51.138Z"
      },
      {
        "duration": 4,
        "start_time": "2022-06-15T20:42:43.541Z"
      },
      {
        "duration": 22,
        "start_time": "2022-06-15T20:42:53.867Z"
      },
      {
        "duration": 20,
        "start_time": "2022-06-15T20:43:14.664Z"
      },
      {
        "duration": 24,
        "start_time": "2022-06-15T20:43:57.414Z"
      },
      {
        "duration": 30,
        "start_time": "2022-06-15T20:45:02.535Z"
      },
      {
        "duration": 5228,
        "start_time": "2022-06-15T20:45:05.292Z"
      },
      {
        "duration": 130710,
        "start_time": "2022-06-15T20:45:15.812Z"
      },
      {
        "duration": 5,
        "start_time": "2022-06-15T20:52:51.622Z"
      },
      {
        "duration": 18,
        "start_time": "2022-06-15T20:53:05.094Z"
      },
      {
        "duration": 16,
        "start_time": "2022-06-15T20:53:13.313Z"
      },
      {
        "duration": 17,
        "start_time": "2022-06-15T20:53:16.050Z"
      },
      {
        "duration": 16,
        "start_time": "2022-06-15T20:53:21.512Z"
      },
      {
        "duration": 15,
        "start_time": "2022-06-15T20:53:25.932Z"
      },
      {
        "duration": 3,
        "start_time": "2022-06-15T20:53:28.290Z"
      },
      {
        "duration": 4,
        "start_time": "2022-06-15T20:53:48.740Z"
      },
      {
        "duration": 2,
        "start_time": "2022-06-15T20:57:40.991Z"
      },
      {
        "duration": 4,
        "start_time": "2022-06-15T20:57:59.153Z"
      },
      {
        "duration": 19,
        "start_time": "2022-06-15T21:05:50.264Z"
      },
      {
        "duration": 35,
        "start_time": "2022-06-15T21:06:13.318Z"
      },
      {
        "duration": 26,
        "start_time": "2022-06-15T21:07:08.212Z"
      },
      {
        "duration": 24,
        "start_time": "2022-06-15T21:07:37.396Z"
      },
      {
        "duration": 279885,
        "start_time": "2022-06-15T21:07:47.310Z"
      },
      {
        "duration": 4,
        "start_time": "2022-06-15T21:12:27.197Z"
      },
      {
        "duration": 4,
        "start_time": "2022-06-15T21:18:06.972Z"
      },
      {
        "duration": 11,
        "start_time": "2022-06-15T21:22:28.133Z"
      },
      {
        "duration": 3,
        "start_time": "2022-06-15T21:23:25.773Z"
      },
      {
        "duration": 120461,
        "start_time": "2022-06-15T21:24:49.824Z"
      },
      {
        "duration": 16,
        "start_time": "2022-06-15T21:35:21.042Z"
      },
      {
        "duration": 5,
        "start_time": "2022-06-15T21:35:26.578Z"
      },
      {
        "duration": 54,
        "start_time": "2022-06-15T21:36:15.820Z"
      },
      {
        "duration": 50,
        "start_time": "2022-06-15T21:36:31.642Z"
      },
      {
        "duration": 54,
        "start_time": "2022-06-15T21:36:40.048Z"
      },
      {
        "duration": 362,
        "start_time": "2022-06-15T21:36:58.554Z"
      },
      {
        "duration": 340,
        "start_time": "2022-06-15T21:37:06.646Z"
      },
      {
        "duration": 22,
        "start_time": "2022-06-15T21:40:02.299Z"
      },
      {
        "duration": 26,
        "start_time": "2022-06-15T21:40:16.520Z"
      },
      {
        "duration": 4,
        "start_time": "2022-06-15T22:02:38.971Z"
      },
      {
        "duration": 17,
        "start_time": "2022-06-15T22:02:52.729Z"
      },
      {
        "duration": 20240,
        "start_time": "2022-06-15T22:02:57.874Z"
      },
      {
        "duration": 10,
        "start_time": "2022-06-15T22:24:51.111Z"
      },
      {
        "duration": 38,
        "start_time": "2022-06-15T22:25:01.695Z"
      },
      {
        "duration": 904913,
        "start_time": "2022-06-15T22:36:44.842Z"
      },
      {
        "duration": 5727,
        "start_time": "2022-06-17T07:45:23.335Z"
      },
      {
        "duration": 3175,
        "start_time": "2022-06-17T07:45:29.063Z"
      },
      {
        "duration": 18,
        "start_time": "2022-06-17T07:45:32.241Z"
      },
      {
        "duration": 31,
        "start_time": "2022-06-17T07:45:32.262Z"
      },
      {
        "duration": 39,
        "start_time": "2022-06-17T07:45:32.295Z"
      },
      {
        "duration": 246,
        "start_time": "2022-06-17T07:45:32.337Z"
      },
      {
        "duration": 6,
        "start_time": "2022-06-17T07:45:32.584Z"
      },
      {
        "duration": 3,
        "start_time": "2022-06-17T07:51:23.906Z"
      },
      {
        "duration": 86081,
        "start_time": "2022-06-17T07:51:26.233Z"
      },
      {
        "duration": 36,
        "start_time": "2022-06-17T07:53:44.594Z"
      },
      {
        "duration": 19,
        "start_time": "2022-06-17T07:54:21.297Z"
      },
      {
        "duration": 17,
        "start_time": "2022-06-17T07:54:27.897Z"
      },
      {
        "duration": 578,
        "start_time": "2022-06-17T07:54:52.070Z"
      },
      {
        "duration": 1856,
        "start_time": "2022-06-17T07:56:02.598Z"
      },
      {
        "duration": 88890,
        "start_time": "2022-06-17T07:56:44.532Z"
      },
      {
        "duration": 903,
        "start_time": "2022-06-17T07:59:12.718Z"
      },
      {
        "duration": 1219843,
        "start_time": "2022-06-17T07:59:26.996Z"
      },
      {
        "duration": 502,
        "start_time": "2022-06-17T08:25:59.183Z"
      },
      {
        "duration": 38,
        "start_time": "2022-06-17T08:26:15.375Z"
      },
      {
        "duration": 20,
        "start_time": "2022-06-17T08:26:25.157Z"
      },
      {
        "duration": 7475,
        "start_time": "2022-06-17T08:26:58.581Z"
      },
      {
        "duration": 6,
        "start_time": "2022-06-17T08:27:09.605Z"
      },
      {
        "duration": 6,
        "start_time": "2022-06-17T08:27:42.622Z"
      },
      {
        "duration": 6,
        "start_time": "2022-06-17T08:28:16.504Z"
      },
      {
        "duration": 343301,
        "start_time": "2022-06-17T08:28:19.956Z"
      },
      {
        "duration": 6,
        "start_time": "2022-06-17T08:43:38.287Z"
      },
      {
        "duration": 4,
        "start_time": "2022-06-17T08:44:58.693Z"
      },
      {
        "duration": 6,
        "start_time": "2022-06-17T08:45:05.865Z"
      },
      {
        "duration": 174655,
        "start_time": "2022-06-17T08:45:10.711Z"
      },
      {
        "duration": 6,
        "start_time": "2022-06-17T08:56:34.862Z"
      },
      {
        "duration": 157144,
        "start_time": "2022-06-17T08:56:39.116Z"
      },
      {
        "duration": 51,
        "start_time": "2022-06-17T09:12:30.241Z"
      },
      {
        "duration": 253,
        "start_time": "2022-06-17T09:12:33.347Z"
      },
      {
        "duration": 7256,
        "start_time": "2022-06-17T09:14:05.569Z"
      },
      {
        "duration": 328530,
        "start_time": "2022-06-17T09:14:16.827Z"
      },
      {
        "duration": 46,
        "start_time": "2022-06-17T10:23:52.247Z"
      },
      {
        "duration": 6952,
        "start_time": "2022-06-17T10:23:54.590Z"
      },
      {
        "duration": 343789,
        "start_time": "2022-06-17T10:24:07.271Z"
      },
      {
        "duration": 54378,
        "start_time": "2022-06-17T10:37:36.996Z"
      },
      {
        "duration": 60,
        "start_time": "2022-06-17T21:17:17.838Z"
      },
      {
        "duration": 4109,
        "start_time": "2022-06-17T21:17:35.653Z"
      },
      {
        "duration": 2878,
        "start_time": "2022-06-17T21:17:39.766Z"
      },
      {
        "duration": 13,
        "start_time": "2022-06-17T21:17:42.645Z"
      },
      {
        "duration": 41,
        "start_time": "2022-06-17T21:17:42.661Z"
      },
      {
        "duration": 36,
        "start_time": "2022-06-17T21:17:42.703Z"
      },
      {
        "duration": 249,
        "start_time": "2022-06-17T21:17:42.741Z"
      },
      {
        "duration": 6,
        "start_time": "2022-06-17T21:17:42.991Z"
      },
      {
        "duration": 4,
        "start_time": "2022-06-17T21:17:42.999Z"
      },
      {
        "duration": 68928,
        "start_time": "2022-06-17T21:17:43.005Z"
      },
      {
        "duration": 80188,
        "start_time": "2022-06-17T21:18:51.936Z"
      },
      {
        "duration": 982544,
        "start_time": "2022-06-17T21:20:12.125Z"
      },
      {
        "duration": 30,
        "start_time": "2022-06-17T21:36:34.671Z"
      },
      {
        "duration": 6384,
        "start_time": "2022-06-17T21:36:34.703Z"
      },
      {
        "duration": 4,
        "start_time": "2022-06-17T21:36:41.088Z"
      },
      {
        "duration": 28,
        "start_time": "2022-06-17T21:40:15.280Z"
      },
      {
        "duration": 6328,
        "start_time": "2022-06-17T21:40:17.660Z"
      },
      {
        "duration": 4,
        "start_time": "2022-06-17T21:40:25.677Z"
      },
      {
        "duration": 281,
        "start_time": "2022-06-17T21:40:29.741Z"
      },
      {
        "duration": 56,
        "start_time": "2022-06-17T22:04:35.435Z"
      },
      {
        "duration": 52,
        "start_time": "2022-06-17T22:05:28.080Z"
      },
      {
        "duration": 68,
        "start_time": "2022-06-17T22:05:35.488Z"
      },
      {
        "duration": 49,
        "start_time": "2022-06-17T22:07:58.879Z"
      },
      {
        "duration": 49,
        "start_time": "2022-06-17T22:08:23.160Z"
      },
      {
        "duration": 176,
        "start_time": "2022-06-17T22:16:37.389Z"
      },
      {
        "duration": 4171,
        "start_time": "2022-06-17T22:19:08.791Z"
      },
      {
        "duration": 3962,
        "start_time": "2022-06-19T19:26:51.552Z"
      },
      {
        "duration": 3319,
        "start_time": "2022-06-19T19:26:55.517Z"
      },
      {
        "duration": 24,
        "start_time": "2022-06-19T19:26:58.838Z"
      },
      {
        "duration": 35,
        "start_time": "2022-06-19T19:26:58.865Z"
      },
      {
        "duration": 51,
        "start_time": "2022-06-19T19:26:58.902Z"
      },
      {
        "duration": 259,
        "start_time": "2022-06-19T19:26:58.955Z"
      },
      {
        "duration": 9,
        "start_time": "2022-06-19T19:26:59.215Z"
      },
      {
        "duration": 15,
        "start_time": "2022-06-19T19:26:59.226Z"
      },
      {
        "duration": 78255,
        "start_time": "2022-06-19T19:26:59.243Z"
      },
      {
        "duration": 85199,
        "start_time": "2022-06-19T19:28:17.501Z"
      },
      {
        "duration": 1168876,
        "start_time": "2022-06-19T19:29:42.702Z"
      },
      {
        "duration": 89,
        "start_time": "2022-06-19T19:49:11.581Z"
      },
      {
        "duration": 8321,
        "start_time": "2022-06-19T19:49:11.672Z"
      },
      {
        "duration": 5,
        "start_time": "2022-06-19T19:49:19.996Z"
      },
      {
        "duration": 30,
        "start_time": "2022-06-19T19:50:15.791Z"
      },
      {
        "duration": 7249,
        "start_time": "2022-06-19T19:50:18.244Z"
      },
      {
        "duration": 38,
        "start_time": "2022-06-19T19:50:28.371Z"
      },
      {
        "duration": 6857,
        "start_time": "2022-06-19T19:50:31.497Z"
      },
      {
        "duration": 322,
        "start_time": "2022-06-19T19:52:10.101Z"
      },
      {
        "duration": 50,
        "start_time": "2022-06-19T19:53:47.564Z"
      },
      {
        "duration": 30,
        "start_time": "2022-06-19T19:56:33.756Z"
      },
      {
        "duration": 799,
        "start_time": "2022-06-19T19:56:42.750Z"
      },
      {
        "duration": 32,
        "start_time": "2022-06-19T19:57:19.228Z"
      },
      {
        "duration": 1629366,
        "start_time": "2022-06-19T19:57:23.222Z"
      },
      {
        "duration": 44042,
        "start_time": "2022-06-19T20:24:38.882Z"
      },
      {
        "duration": 33,
        "start_time": "2022-06-19T20:27:44.723Z"
      },
      {
        "duration": 7171,
        "start_time": "2022-06-19T20:27:46.403Z"
      },
      {
        "duration": 33,
        "start_time": "2022-06-19T20:27:55.932Z"
      },
      {
        "duration": 42974,
        "start_time": "2022-06-19T20:28:02.013Z"
      },
      {
        "duration": 42294,
        "start_time": "2022-06-19T20:28:56.211Z"
      },
      {
        "duration": 42389,
        "start_time": "2022-06-19T20:31:00.096Z"
      },
      {
        "duration": 353474,
        "start_time": "2022-06-19T20:34:49.803Z"
      },
      {
        "duration": 351894,
        "start_time": "2022-06-19T20:44:22.318Z"
      },
      {
        "duration": 769404,
        "start_time": "2022-06-19T20:58:56.459Z"
      },
      {
        "duration": 50,
        "start_time": "2022-06-20T19:45:25.864Z"
      },
      {
        "duration": 6,
        "start_time": "2022-06-20T19:45:30.774Z"
      }
    ],
    "colab": {
      "provenance": []
    },
    "kernelspec": {
      "display_name": "Python 3 (ipykernel)",
      "language": "python",
      "name": "python3"
    },
    "language_info": {
      "codemirror_mode": {
        "name": "ipython",
        "version": 3
      },
      "file_extension": ".py",
      "mimetype": "text/x-python",
      "name": "python",
      "nbconvert_exporter": "python",
      "pygments_lexer": "ipython3",
      "version": "3.9.5"
    },
    "toc": {
      "base_numbering": 1,
      "nav_menu": {},
      "number_sections": true,
      "sideBar": true,
      "skip_h1_title": true,
      "title_cell": "Содержание",
      "title_sidebar": "Contents",
      "toc_cell": true,
      "toc_position": {
        "height": "calc(100% - 180px)",
        "left": "10px",
        "top": "150px",
        "width": "302.375px"
      },
      "toc_section_display": true,
      "toc_window_display": true
    }
  },
  "nbformat": 4,
  "nbformat_minor": 0
}
