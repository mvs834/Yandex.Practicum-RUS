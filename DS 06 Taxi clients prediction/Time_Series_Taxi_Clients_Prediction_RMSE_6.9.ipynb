{
  "cells": [
    {
      "cell_type": "markdown",
      "metadata": {
        "id": "1fgTjlmJxeUv"
      },
      "source": [
        "#  Прогнозирование заказов такси"
      ]
    },
    {
      "cell_type": "markdown",
      "metadata": {
        "id": "udHzRRTExeUw"
      },
      "source": [
        "Необходимо проанализировать исторические данные о заказах такси в аэропортах и на этой основе спрогнозировать количество заказов такси на следующий час"
      ]
    },
    {
      "cell_type": "markdown",
      "metadata": {
        "id": "ei3rklp-xeUx"
      },
      "source": [
        "## Подготовка"
      ]
    },
    {
      "cell_type": "code",
      "execution_count": 47,
      "metadata": {
        "id": "gfZzfNI-xeUy"
      },
      "outputs": [],
      "source": [
        "import warnings\n",
        "\n",
        "warnings.filterwarnings(\"ignore\")"
      ]
    },
    {
      "cell_type": "code",
      "execution_count": 48,
      "metadata": {
        "id": "YRTOOWI4xeU0"
      },
      "outputs": [],
      "source": [
        "import pandas as pd\n",
        "import numpy as np\n",
        "import datetime\n",
        "\n",
        "import matplotlib.pyplot as plt\n",
        "import seaborn as sns\n",
        "\n",
        "from statsmodels.tsa.seasonal import seasonal_decompose\n",
        "\n",
        "from sklearn.model_selection import train_test_split, TimeSeriesSplit, cross_val_score, GridSearchCV\n",
        "\n",
        "from sklearn.linear_model import LinearRegression\n",
        "from sklearn.tree import DecisionTreeRegressor\n",
        "from sklearn.ensemble import RandomForestRegressor\n",
        "\n",
        "from sklearn.metrics import mean_squared_error\n",
        "\n",
        "from sklearn.pipeline import make_pipeline\n",
        "\n",
        "import lightgbm as lgb\n",
        "import xgboost as xgb\n",
        "from catboost import CatBoost, Pool, CatBoostRegressor"
      ]
    },
    {
      "cell_type": "code",
      "execution_count": 49,
      "metadata": {
        "colab": {
          "base_uri": "https://localhost:8080/",
          "height": 455
        },
        "id": "Wg39T6cLxeU2",
        "outputId": "4b6445b8-2f91-439d-b925-0d0136bbc429",
        "scrolled": true
      },
      "outputs": [
        {
          "data": {
            "text/html": [
              "\n",
              "  <div id=\"df-404d57a8-7bca-4f87-ad48-77b06ffb3897\">\n",
              "    <div class=\"colab-df-container\">\n",
              "      <div>\n",
              "<style scoped>\n",
              "    .dataframe tbody tr th:only-of-type {\n",
              "        vertical-align: middle;\n",
              "    }\n",
              "\n",
              "    .dataframe tbody tr th {\n",
              "        vertical-align: top;\n",
              "    }\n",
              "\n",
              "    .dataframe thead th {\n",
              "        text-align: right;\n",
              "    }\n",
              "</style>\n",
              "<table border=\"1\" class=\"dataframe\">\n",
              "  <thead>\n",
              "    <tr style=\"text-align: right;\">\n",
              "      <th></th>\n",
              "      <th>num_orders</th>\n",
              "    </tr>\n",
              "    <tr>\n",
              "      <th>datetime</th>\n",
              "      <th></th>\n",
              "    </tr>\n",
              "  </thead>\n",
              "  <tbody>\n",
              "    <tr>\n",
              "      <th>2018-03-01 00:00:00</th>\n",
              "      <td>9</td>\n",
              "    </tr>\n",
              "    <tr>\n",
              "      <th>2018-03-01 00:10:00</th>\n",
              "      <td>14</td>\n",
              "    </tr>\n",
              "    <tr>\n",
              "      <th>2018-03-01 00:20:00</th>\n",
              "      <td>28</td>\n",
              "    </tr>\n",
              "    <tr>\n",
              "      <th>2018-03-01 00:30:00</th>\n",
              "      <td>20</td>\n",
              "    </tr>\n",
              "    <tr>\n",
              "      <th>2018-03-01 00:40:00</th>\n",
              "      <td>32</td>\n",
              "    </tr>\n",
              "    <tr>\n",
              "      <th>...</th>\n",
              "      <td>...</td>\n",
              "    </tr>\n",
              "    <tr>\n",
              "      <th>2018-08-31 23:10:00</th>\n",
              "      <td>32</td>\n",
              "    </tr>\n",
              "    <tr>\n",
              "      <th>2018-08-31 23:20:00</th>\n",
              "      <td>24</td>\n",
              "    </tr>\n",
              "    <tr>\n",
              "      <th>2018-08-31 23:30:00</th>\n",
              "      <td>27</td>\n",
              "    </tr>\n",
              "    <tr>\n",
              "      <th>2018-08-31 23:40:00</th>\n",
              "      <td>39</td>\n",
              "    </tr>\n",
              "    <tr>\n",
              "      <th>2018-08-31 23:50:00</th>\n",
              "      <td>53</td>\n",
              "    </tr>\n",
              "  </tbody>\n",
              "</table>\n",
              "<p>26496 rows × 1 columns</p>\n",
              "</div>\n",
              "      <button class=\"colab-df-convert\" onclick=\"convertToInteractive('df-404d57a8-7bca-4f87-ad48-77b06ffb3897')\"\n",
              "              title=\"Convert this dataframe to an interactive table.\"\n",
              "              style=\"display:none;\">\n",
              "        \n",
              "  <svg xmlns=\"http://www.w3.org/2000/svg\" height=\"24px\"viewBox=\"0 0 24 24\"\n",
              "       width=\"24px\">\n",
              "    <path d=\"M0 0h24v24H0V0z\" fill=\"none\"/>\n",
              "    <path d=\"M18.56 5.44l.94 2.06.94-2.06 2.06-.94-2.06-.94-.94-2.06-.94 2.06-2.06.94zm-11 1L8.5 8.5l.94-2.06 2.06-.94-2.06-.94L8.5 2.5l-.94 2.06-2.06.94zm10 10l.94 2.06.94-2.06 2.06-.94-2.06-.94-.94-2.06-.94 2.06-2.06.94z\"/><path d=\"M17.41 7.96l-1.37-1.37c-.4-.4-.92-.59-1.43-.59-.52 0-1.04.2-1.43.59L10.3 9.45l-7.72 7.72c-.78.78-.78 2.05 0 2.83L4 21.41c.39.39.9.59 1.41.59.51 0 1.02-.2 1.41-.59l7.78-7.78 2.81-2.81c.8-.78.8-2.07 0-2.86zM5.41 20L4 18.59l7.72-7.72 1.47 1.35L5.41 20z\"/>\n",
              "  </svg>\n",
              "      </button>\n",
              "      \n",
              "  <style>\n",
              "    .colab-df-container {\n",
              "      display:flex;\n",
              "      flex-wrap:wrap;\n",
              "      gap: 12px;\n",
              "    }\n",
              "\n",
              "    .colab-df-convert {\n",
              "      background-color: #E8F0FE;\n",
              "      border: none;\n",
              "      border-radius: 50%;\n",
              "      cursor: pointer;\n",
              "      display: none;\n",
              "      fill: #1967D2;\n",
              "      height: 32px;\n",
              "      padding: 0 0 0 0;\n",
              "      width: 32px;\n",
              "    }\n",
              "\n",
              "    .colab-df-convert:hover {\n",
              "      background-color: #E2EBFA;\n",
              "      box-shadow: 0px 1px 2px rgba(60, 64, 67, 0.3), 0px 1px 3px 1px rgba(60, 64, 67, 0.15);\n",
              "      fill: #174EA6;\n",
              "    }\n",
              "\n",
              "    [theme=dark] .colab-df-convert {\n",
              "      background-color: #3B4455;\n",
              "      fill: #D2E3FC;\n",
              "    }\n",
              "\n",
              "    [theme=dark] .colab-df-convert:hover {\n",
              "      background-color: #434B5C;\n",
              "      box-shadow: 0px 1px 3px 1px rgba(0, 0, 0, 0.15);\n",
              "      filter: drop-shadow(0px 1px 2px rgba(0, 0, 0, 0.3));\n",
              "      fill: #FFFFFF;\n",
              "    }\n",
              "  </style>\n",
              "\n",
              "      <script>\n",
              "        const buttonEl =\n",
              "          document.querySelector('#df-404d57a8-7bca-4f87-ad48-77b06ffb3897 button.colab-df-convert');\n",
              "        buttonEl.style.display =\n",
              "          google.colab.kernel.accessAllowed ? 'block' : 'none';\n",
              "\n",
              "        async function convertToInteractive(key) {\n",
              "          const element = document.querySelector('#df-404d57a8-7bca-4f87-ad48-77b06ffb3897');\n",
              "          const dataTable =\n",
              "            await google.colab.kernel.invokeFunction('convertToInteractive',\n",
              "                                                     [key], {});\n",
              "          if (!dataTable) return;\n",
              "\n",
              "          const docLinkHtml = 'Like what you see? Visit the ' +\n",
              "            '<a target=\"_blank\" href=https://colab.research.google.com/notebooks/data_table.ipynb>data table notebook</a>'\n",
              "            + ' to learn more about interactive tables.';\n",
              "          element.innerHTML = '';\n",
              "          dataTable['output_type'] = 'display_data';\n",
              "          await google.colab.output.renderOutput(dataTable, element);\n",
              "          const docLink = document.createElement('div');\n",
              "          docLink.innerHTML = docLinkHtml;\n",
              "          element.appendChild(docLink);\n",
              "        }\n",
              "      </script>\n",
              "    </div>\n",
              "  </div>\n",
              "  "
            ],
            "text/plain": [
              "                     num_orders\n",
              "datetime                       \n",
              "2018-03-01 00:00:00           9\n",
              "2018-03-01 00:10:00          14\n",
              "2018-03-01 00:20:00          28\n",
              "2018-03-01 00:30:00          20\n",
              "2018-03-01 00:40:00          32\n",
              "...                         ...\n",
              "2018-08-31 23:10:00          32\n",
              "2018-08-31 23:20:00          24\n",
              "2018-08-31 23:30:00          27\n",
              "2018-08-31 23:40:00          39\n",
              "2018-08-31 23:50:00          53\n",
              "\n",
              "[26496 rows x 1 columns]"
            ]
          },
          "execution_count": 49,
          "metadata": {},
          "output_type": "execute_result"
        }
      ],
      "source": [
        "df = pd.read_csv('taxi.csv', index_col=[0], parse_dates=[0])\n",
        "df"
      ]
    },
    {
      "cell_type": "code",
      "execution_count": 60,
      "metadata": {
        "colab": {
          "base_uri": "https://localhost:8080/",
          "height": 281
        },
        "id": "u6bYlWsmxeU6",
        "outputId": "8fc650c7-14de-474c-88e2-18534f1584fc"
      },
      "outputs": [
        {
          "data": {
            "image/png": "[encoded data removed]",
            "text/plain": [
              "<Figure size 432x288 with 1 Axes>"
            ]
          },
          "metadata": {
            "needs_background": "light"
          },
          "output_type": "display_data"
        }
      ],
      "source": [
        "df.hist(bins = 50);\n",
        "plt.title('распределение заказов такси');"
      ]
    },
    {
      "cell_type": "markdown",
      "metadata": {
        "id": "GEHC5RNrxeU7"
      },
      "source": [
        "Распределение правостороннее, близкое к Гауссову, что ожидаемо, поскольку имеем дело с событиями"
      ]
    },
    {
      "cell_type": "code",
      "execution_count": 10,
      "metadata": {
        "colab": {
          "base_uri": "https://localhost:8080/",
          "height": 300
        },
        "id": "sbJPZRSbxeU7",
        "outputId": "a79e2c2a-c507-4d62-ce8c-496783371861"
      },
      "outputs": [
        {
          "data": {
            "text/html": [
              "\n",
              "  <div id=\"df-aa0775e5-4ca8-4ddf-b6e7-afb564749fde\">\n",
              "    <div class=\"colab-df-container\">\n",
              "      <div>\n",
              "<style scoped>\n",
              "    .dataframe tbody tr th:only-of-type {\n",
              "        vertical-align: middle;\n",
              "    }\n",
              "\n",
              "    .dataframe tbody tr th {\n",
              "        vertical-align: top;\n",
              "    }\n",
              "\n",
              "    .dataframe thead th {\n",
              "        text-align: right;\n",
              "    }\n",
              "</style>\n",
              "<table border=\"1\" class=\"dataframe\">\n",
              "  <thead>\n",
              "    <tr style=\"text-align: right;\">\n",
              "      <th></th>\n",
              "      <th>num_orders</th>\n",
              "    </tr>\n",
              "  </thead>\n",
              "  <tbody>\n",
              "    <tr>\n",
              "      <th>count</th>\n",
              "      <td>26496.000000</td>\n",
              "    </tr>\n",
              "    <tr>\n",
              "      <th>mean</th>\n",
              "      <td>14.070463</td>\n",
              "    </tr>\n",
              "    <tr>\n",
              "      <th>std</th>\n",
              "      <td>9.211330</td>\n",
              "    </tr>\n",
              "    <tr>\n",
              "      <th>min</th>\n",
              "      <td>0.000000</td>\n",
              "    </tr>\n",
              "    <tr>\n",
              "      <th>25%</th>\n",
              "      <td>8.000000</td>\n",
              "    </tr>\n",
              "    <tr>\n",
              "      <th>50%</th>\n",
              "      <td>13.000000</td>\n",
              "    </tr>\n",
              "    <tr>\n",
              "      <th>75%</th>\n",
              "      <td>19.000000</td>\n",
              "    </tr>\n",
              "    <tr>\n",
              "      <th>max</th>\n",
              "      <td>119.000000</td>\n",
              "    </tr>\n",
              "  </tbody>\n",
              "</table>\n",
              "</div>\n",
              "      <button class=\"colab-df-convert\" onclick=\"convertToInteractive('df-aa0775e5-4ca8-4ddf-b6e7-afb564749fde')\"\n",
              "              title=\"Convert this dataframe to an interactive table.\"\n",
              "              style=\"display:none;\">\n",
              "        \n",
              "  <svg xmlns=\"http://www.w3.org/2000/svg\" height=\"24px\"viewBox=\"0 0 24 24\"\n",
              "       width=\"24px\">\n",
              "    <path d=\"M0 0h24v24H0V0z\" fill=\"none\"/>\n",
              "    <path d=\"M18.56 5.44l.94 2.06.94-2.06 2.06-.94-2.06-.94-.94-2.06-.94 2.06-2.06.94zm-11 1L8.5 8.5l.94-2.06 2.06-.94-2.06-.94L8.5 2.5l-.94 2.06-2.06.94zm10 10l.94 2.06.94-2.06 2.06-.94-2.06-.94-.94-2.06-.94 2.06-2.06.94z\"/><path d=\"M17.41 7.96l-1.37-1.37c-.4-.4-.92-.59-1.43-.59-.52 0-1.04.2-1.43.59L10.3 9.45l-7.72 7.72c-.78.78-.78 2.05 0 2.83L4 21.41c.39.39.9.59 1.41.59.51 0 1.02-.2 1.41-.59l7.78-7.78 2.81-2.81c.8-.78.8-2.07 0-2.86zM5.41 20L4 18.59l7.72-7.72 1.47 1.35L5.41 20z\"/>\n",
              "  </svg>\n",
              "      </button>\n",
              "      \n",
              "  <style>\n",
              "    .colab-df-container {\n",
              "      display:flex;\n",
              "      flex-wrap:wrap;\n",
              "      gap: 12px;\n",
              "    }\n",
              "\n",
              "    .colab-df-convert {\n",
              "      background-color: #E8F0FE;\n",
              "      border: none;\n",
              "      border-radius: 50%;\n",
              "      cursor: pointer;\n",
              "      display: none;\n",
              "      fill: #1967D2;\n",
              "      height: 32px;\n",
              "      padding: 0 0 0 0;\n",
              "      width: 32px;\n",
              "    }\n",
              "\n",
              "    .colab-df-convert:hover {\n",
              "      background-color: #E2EBFA;\n",
              "      box-shadow: 0px 1px 2px rgba(60, 64, 67, 0.3), 0px 1px 3px 1px rgba(60, 64, 67, 0.15);\n",
              "      fill: #174EA6;\n",
              "    }\n",
              "\n",
              "    [theme=dark] .colab-df-convert {\n",
              "      background-color: #3B4455;\n",
              "      fill: #D2E3FC;\n",
              "    }\n",
              "\n",
              "    [theme=dark] .colab-df-convert:hover {\n",
              "      background-color: #434B5C;\n",
              "      box-shadow: 0px 1px 3px 1px rgba(0, 0, 0, 0.15);\n",
              "      filter: drop-shadow(0px 1px 2px rgba(0, 0, 0, 0.3));\n",
              "      fill: #FFFFFF;\n",
              "    }\n",
              "  </style>\n",
              "\n",
              "      <script>\n",
              "        const buttonEl =\n",
              "          document.querySelector('#df-aa0775e5-4ca8-4ddf-b6e7-afb564749fde button.colab-df-convert');\n",
              "        buttonEl.style.display =\n",
              "          google.colab.kernel.accessAllowed ? 'block' : 'none';\n",
              "\n",
              "        async function convertToInteractive(key) {\n",
              "          const element = document.querySelector('#df-aa0775e5-4ca8-4ddf-b6e7-afb564749fde');\n",
              "          const dataTable =\n",
              "            await google.colab.kernel.invokeFunction('convertToInteractive',\n",
              "                                                     [key], {});\n",
              "          if (!dataTable) return;\n",
              "\n",
              "          const docLinkHtml = 'Like what you see? Visit the ' +\n",
              "            '<a target=\"_blank\" href=https://colab.research.google.com/notebooks/data_table.ipynb>data table notebook</a>'\n",
              "            + ' to learn more about interactive tables.';\n",
              "          element.innerHTML = '';\n",
              "          dataTable['output_type'] = 'display_data';\n",
              "          await google.colab.output.renderOutput(dataTable, element);\n",
              "          const docLink = document.createElement('div');\n",
              "          docLink.innerHTML = docLinkHtml;\n",
              "          element.appendChild(docLink);\n",
              "        }\n",
              "      </script>\n",
              "    </div>\n",
              "  </div>\n",
              "  "
            ],
            "text/plain": [
              "         num_orders\n",
              "count  26496.000000\n",
              "mean      14.070463\n",
              "std        9.211330\n",
              "min        0.000000\n",
              "25%        8.000000\n",
              "50%       13.000000\n",
              "75%       19.000000\n",
              "max      119.000000"
            ]
          },
          "execution_count": 10,
          "metadata": {},
          "output_type": "execute_result"
        }
      ],
      "source": [
        "df.describe()"
      ]
    },
    {
      "cell_type": "markdown",
      "metadata": {
        "id": "rDbBpNrBxeU8"
      },
      "source": [
        "есть ощущение, что 119 заказов это слишком много..."
      ]
    },
    {
      "cell_type": "code",
      "execution_count": 61,
      "metadata": {
        "colab": {
          "base_uri": "https://localhost:8080/",
          "height": 282
        },
        "id": "Hggkr8QYxeU8",
        "outputId": "8143eefe-6fe7-4a9d-d504-dd76f98b34b2",
        "scrolled": false
      },
      "outputs": [
        {
          "data": {
            "image/png": "[encoded data removed]",
            "text/plain": [
              "<Figure size 432x288 with 1 Axes>"
            ]
          },
          "metadata": {
            "needs_background": "light"
          },
          "output_type": "display_data"
        }
      ],
      "source": [
        "df.boxplot();\n",
        "plt.title('диаграмма размаха заказов такси');"
      ]
    },
    {
      "cell_type": "markdown",
      "metadata": {
        "id": "IuknYAdTxeU9"
      },
      "source": [
        "похоже, что всё, что больше 38 это выбросы. Избавимся от них"
      ]
    },
    {
      "cell_type": "code",
      "execution_count": 12,
      "metadata": {
        "id": "0Dlek9PlxeU9"
      },
      "outputs": [],
      "source": [
        "df = df.query('num_orders < 38')"
      ]
    },
    {
      "cell_type": "code",
      "execution_count": 13,
      "metadata": {
        "colab": {
          "base_uri": "https://localhost:8080/"
        },
        "id": "1InTjEc5xeU-",
        "outputId": "906d3c80-3b09-4350-ed5e-94edd47cb896"
      },
      "outputs": [
        {
          "data": {
            "text/plain": [
              "25929"
            ]
          },
          "execution_count": 13,
          "metadata": {},
          "output_type": "execute_result"
        }
      ],
      "source": [
        "df.duplicated().sum()"
      ]
    },
    {
      "cell_type": "markdown",
      "metadata": {
        "id": "DAJ-eWo1xeU-"
      },
      "source": [
        "Повторение значений num_orders это нормально, поскольку их всего 38 уникальных"
      ]
    },
    {
      "cell_type": "code",
      "execution_count": 14,
      "metadata": {
        "colab": {
          "base_uri": "https://localhost:8080/"
        },
        "id": "YfDL1v1KxeU_",
        "outputId": "a6cbf700-c818-4389-fa1e-a158e99e3351"
      },
      "outputs": [
        {
          "data": {
            "text/plain": [
              "num_orders    0\n",
              "dtype: int64"
            ]
          },
          "execution_count": 14,
          "metadata": {},
          "output_type": "execute_result"
        }
      ],
      "source": [
        "df.isna().sum()"
      ]
    },
    {
      "cell_type": "markdown",
      "metadata": {
        "id": "2uvWEAbXxeVA"
      },
      "source": [
        "Пропусков нет"
      ]
    },
    {
      "cell_type": "code",
      "execution_count": 15,
      "metadata": {
        "colab": {
          "base_uri": "https://localhost:8080/"
        },
        "id": "N8WlX_KBxeVA",
        "outputId": "beda066e-ce3c-48fa-8398-98e70cb074b2",
        "scrolled": true
      },
      "outputs": [
        {
          "name": "stdout",
          "output_type": "stream",
          "text": [
            "True\n"
          ]
        }
      ],
      "source": [
        "# проверим в хронологическом ли порядке расположены даты и время\n",
        "\n",
        "print(df.index.is_monotonic)"
      ]
    },
    {
      "cell_type": "markdown",
      "metadata": {
        "id": "jzt_ljGa3_N_"
      },
      "source": [
        "всё в порядке, данные монотонны"
      ]
    },
    {
      "cell_type": "code",
      "execution_count": 16,
      "metadata": {
        "colab": {
          "base_uri": "https://localhost:8080/",
          "height": 455
        },
        "id": "E7XqMvvQxeVB",
        "outputId": "6948a113-c110-41eb-9f0c-e2edee132260"
      },
      "outputs": [
        {
          "data": {
            "text/html": [
              "\n",
              "  <div id=\"df-41335c5c-8b8b-4984-a095-06c4bc991e79\">\n",
              "    <div class=\"colab-df-container\">\n",
              "      <div>\n",
              "<style scoped>\n",
              "    .dataframe tbody tr th:only-of-type {\n",
              "        vertical-align: middle;\n",
              "    }\n",
              "\n",
              "    .dataframe tbody tr th {\n",
              "        vertical-align: top;\n",
              "    }\n",
              "\n",
              "    .dataframe thead th {\n",
              "        text-align: right;\n",
              "    }\n",
              "</style>\n",
              "<table border=\"1\" class=\"dataframe\">\n",
              "  <thead>\n",
              "    <tr style=\"text-align: right;\">\n",
              "      <th></th>\n",
              "      <th>num_orders</th>\n",
              "    </tr>\n",
              "    <tr>\n",
              "      <th>datetime</th>\n",
              "      <th></th>\n",
              "    </tr>\n",
              "  </thead>\n",
              "  <tbody>\n",
              "    <tr>\n",
              "      <th>2018-03-01 00:00:00</th>\n",
              "      <td>124</td>\n",
              "    </tr>\n",
              "    <tr>\n",
              "      <th>2018-03-01 01:00:00</th>\n",
              "      <td>85</td>\n",
              "    </tr>\n",
              "    <tr>\n",
              "      <th>2018-03-01 02:00:00</th>\n",
              "      <td>71</td>\n",
              "    </tr>\n",
              "    <tr>\n",
              "      <th>2018-03-01 03:00:00</th>\n",
              "      <td>66</td>\n",
              "    </tr>\n",
              "    <tr>\n",
              "      <th>2018-03-01 04:00:00</th>\n",
              "      <td>43</td>\n",
              "    </tr>\n",
              "    <tr>\n",
              "      <th>...</th>\n",
              "      <td>...</td>\n",
              "    </tr>\n",
              "    <tr>\n",
              "      <th>2018-08-31 19:00:00</th>\n",
              "      <td>136</td>\n",
              "    </tr>\n",
              "    <tr>\n",
              "      <th>2018-08-31 20:00:00</th>\n",
              "      <td>154</td>\n",
              "    </tr>\n",
              "    <tr>\n",
              "      <th>2018-08-31 21:00:00</th>\n",
              "      <td>159</td>\n",
              "    </tr>\n",
              "    <tr>\n",
              "      <th>2018-08-31 22:00:00</th>\n",
              "      <td>134</td>\n",
              "    </tr>\n",
              "    <tr>\n",
              "      <th>2018-08-31 23:00:00</th>\n",
              "      <td>113</td>\n",
              "    </tr>\n",
              "  </tbody>\n",
              "</table>\n",
              "<p>4416 rows × 1 columns</p>\n",
              "</div>\n",
              "      <button class=\"colab-df-convert\" onclick=\"convertToInteractive('df-41335c5c-8b8b-4984-a095-06c4bc991e79')\"\n",
              "              title=\"Convert this dataframe to an interactive table.\"\n",
              "              style=\"display:none;\">\n",
              "        \n",
              "  <svg xmlns=\"http://www.w3.org/2000/svg\" height=\"24px\"viewBox=\"0 0 24 24\"\n",
              "       width=\"24px\">\n",
              "    <path d=\"M0 0h24v24H0V0z\" fill=\"none\"/>\n",
              "    <path d=\"M18.56 5.44l.94 2.06.94-2.06 2.06-.94-2.06-.94-.94-2.06-.94 2.06-2.06.94zm-11 1L8.5 8.5l.94-2.06 2.06-.94-2.06-.94L8.5 2.5l-.94 2.06-2.06.94zm10 10l.94 2.06.94-2.06 2.06-.94-2.06-.94-.94-2.06-.94 2.06-2.06.94z\"/><path d=\"M17.41 7.96l-1.37-1.37c-.4-.4-.92-.59-1.43-.59-.52 0-1.04.2-1.43.59L10.3 9.45l-7.72 7.72c-.78.78-.78 2.05 0 2.83L4 21.41c.39.39.9.59 1.41.59.51 0 1.02-.2 1.41-.59l7.78-7.78 2.81-2.81c.8-.78.8-2.07 0-2.86zM5.41 20L4 18.59l7.72-7.72 1.47 1.35L5.41 20z\"/>\n",
              "  </svg>\n",
              "      </button>\n",
              "      \n",
              "  <style>\n",
              "    .colab-df-container {\n",
              "      display:flex;\n",
              "      flex-wrap:wrap;\n",
              "      gap: 12px;\n",
              "    }\n",
              "\n",
              "    .colab-df-convert {\n",
              "      background-color: #E8F0FE;\n",
              "      border: none;\n",
              "      border-radius: 50%;\n",
              "      cursor: pointer;\n",
              "      display: none;\n",
              "      fill: #1967D2;\n",
              "      height: 32px;\n",
              "      padding: 0 0 0 0;\n",
              "      width: 32px;\n",
              "    }\n",
              "\n",
              "    .colab-df-convert:hover {\n",
              "      background-color: #E2EBFA;\n",
              "      box-shadow: 0px 1px 2px rgba(60, 64, 67, 0.3), 0px 1px 3px 1px rgba(60, 64, 67, 0.15);\n",
              "      fill: #174EA6;\n",
              "    }\n",
              "\n",
              "    [theme=dark] .colab-df-convert {\n",
              "      background-color: #3B4455;\n",
              "      fill: #D2E3FC;\n",
              "    }\n",
              "\n",
              "    [theme=dark] .colab-df-convert:hover {\n",
              "      background-color: #434B5C;\n",
              "      box-shadow: 0px 1px 3px 1px rgba(0, 0, 0, 0.15);\n",
              "      filter: drop-shadow(0px 1px 2px rgba(0, 0, 0, 0.3));\n",
              "      fill: #FFFFFF;\n",
              "    }\n",
              "  </style>\n",
              "\n",
              "      <script>\n",
              "        const buttonEl =\n",
              "          document.querySelector('#df-41335c5c-8b8b-4984-a095-06c4bc991e79 button.colab-df-convert');\n",
              "        buttonEl.style.display =\n",
              "          google.colab.kernel.accessAllowed ? 'block' : 'none';\n",
              "\n",
              "        async function convertToInteractive(key) {\n",
              "          const element = document.querySelector('#df-41335c5c-8b8b-4984-a095-06c4bc991e79');\n",
              "          const dataTable =\n",
              "            await google.colab.kernel.invokeFunction('convertToInteractive',\n",
              "                                                     [key], {});\n",
              "          if (!dataTable) return;\n",
              "\n",
              "          const docLinkHtml = 'Like what you see? Visit the ' +\n",
              "            '<a target=\"_blank\" href=https://colab.research.google.com/notebooks/data_table.ipynb>data table notebook</a>'\n",
              "            + ' to learn more about interactive tables.';\n",
              "          element.innerHTML = '';\n",
              "          dataTable['output_type'] = 'display_data';\n",
              "          await google.colab.output.renderOutput(dataTable, element);\n",
              "          const docLink = document.createElement('div');\n",
              "          docLink.innerHTML = docLinkHtml;\n",
              "          element.appendChild(docLink);\n",
              "        }\n",
              "      </script>\n",
              "    </div>\n",
              "  </div>\n",
              "  "
            ],
            "text/plain": [
              "                     num_orders\n",
              "datetime                       \n",
              "2018-03-01 00:00:00         124\n",
              "2018-03-01 01:00:00          85\n",
              "2018-03-01 02:00:00          71\n",
              "2018-03-01 03:00:00          66\n",
              "2018-03-01 04:00:00          43\n",
              "...                         ...\n",
              "2018-08-31 19:00:00         136\n",
              "2018-08-31 20:00:00         154\n",
              "2018-08-31 21:00:00         159\n",
              "2018-08-31 22:00:00         134\n",
              "2018-08-31 23:00:00         113\n",
              "\n",
              "[4416 rows x 1 columns]"
            ]
          },
          "execution_count": 16,
          "metadata": {},
          "output_type": "execute_result"
        }
      ],
      "source": [
        "# перемасштабирование данных\n",
        "\n",
        "df.resample('1H').sum()"
      ]
    },
    {
      "cell_type": "markdown",
      "metadata": {
        "id": "jwaDHDOTxeVD"
      },
      "source": [
        "## Анализ"
      ]
    },
    {
      "cell_type": "code",
      "execution_count": 17,
      "metadata": {
        "colab": {
          "base_uri": "https://localhost:8080/",
          "height": 255
        },
        "id": "QG0vVyBqxeVD",
        "outputId": "a26d78d2-9297-45d6-ef60-5377c4520242",
        "scrolled": false
      },
      "outputs": [
        {
          "data": {
            "image/png": "[encoded data removed]",
            "text/plain": [
              "<Figure size 1440x360 with 1 Axes>"
            ]
          },
          "metadata": {
            "needs_background": "light"
          },
          "output_type": "display_data"
        }
      ],
      "source": [
        "fig, ax = plt.subplots(figsize=(20, 5))\n",
        "\n",
        "p = sns.lineplot(data = df['2018-03-01':'2018-04-01']);\n",
        "p.set_xlabel(\"Время\", fontsize = 20);\n",
        "p.set_ylabel(\"Кол-во заказов\", fontsize = 20);"
      ]
    },
    {
      "cell_type": "markdown",
      "metadata": {
        "id": "fz2kR0PlxeVE"
      },
      "source": [
        "Похоже, тут есть какая-то сезонность... Построим скользящее среднее и посмотрим только на один  месяц"
      ]
    },
    {
      "cell_type": "code",
      "execution_count": 18,
      "metadata": {
        "id": "6A_aVzutxeVE"
      },
      "outputs": [],
      "source": [
        "df_rolling = df.rolling(7).mean()"
      ]
    },
    {
      "cell_type": "code",
      "execution_count": 19,
      "metadata": {
        "colab": {
          "base_uri": "https://localhost:8080/",
          "height": 255
        },
        "id": "lxOtsa9FxeVE",
        "outputId": "ef4e7c9d-2feb-4a25-8068-013d4003024b",
        "scrolled": true
      },
      "outputs": [
        {
          "data": {
            "image/png": "[encoded data removed]",
            "text/plain": [
              "<Figure size 1440x360 with 1 Axes>"
            ]
          },
          "metadata": {
            "needs_background": "light"
          },
          "output_type": "display_data"
        }
      ],
      "source": [
        "fig, ax = plt.subplots(figsize=(20, 5))\n",
        "\n",
        "p = sns.lineplot(data = df_rolling['2018-03-01':'2018-04-01']);\n",
        "p.set_xlabel(\"Время\", fontsize = 20);\n",
        "p.set_ylabel(\"Кол-во заказов\", fontsize = 20);"
      ]
    },
    {
      "cell_type": "markdown",
      "metadata": {
        "id": "VoDlonYtxeVF"
      },
      "source": [
        "действительно, сезонность имеется. Вычленим тренд и взглянем на сезонность отдельно"
      ]
    },
    {
      "cell_type": "code",
      "execution_count": 20,
      "metadata": {
        "id": "0-3r2_0JxeVG"
      },
      "outputs": [],
      "source": [
        "decomposed = seasonal_decompose(df, period = 60*24)"
      ]
    },
    {
      "cell_type": "code",
      "execution_count": 21,
      "metadata": {
        "colab": {
          "base_uri": "https://localhost:8080/",
          "height": 254
        },
        "id": "nCMMrZztxeVG",
        "outputId": "78dfbb6d-9ae5-4807-e6dc-bb4b061e90a5",
        "scrolled": false
      },
      "outputs": [
        {
          "data": {
            "image/png": "[encoded data removed]",
            "text/plain": [
              "<Figure size 1440x360 with 1 Axes>"
            ]
          },
          "metadata": {
            "needs_background": "light"
          },
          "output_type": "display_data"
        }
      ],
      "source": [
        "fig, ax = plt.subplots(figsize=(20, 5))\n",
        "\n",
        "p = sns.lineplot(data = decomposed.trend);\n",
        "p.set_xlabel(\"Время\", fontsize = 20);\n",
        "p.set_ylabel(\"Кол-во заказов\", fontsize = 20);"
      ]
    },
    {
      "cell_type": "markdown",
      "metadata": {
        "id": "Q8qg5Z-qxeVH"
      },
      "source": [
        "Дела идут явно в гору"
      ]
    },
    {
      "cell_type": "code",
      "execution_count": 22,
      "metadata": {
        "colab": {
          "base_uri": "https://localhost:8080/",
          "height": 255
        },
        "id": "Hpd538PAxeVH",
        "outputId": "864970e2-c15e-4547-d61a-3a62d42f131f",
        "scrolled": false
      },
      "outputs": [
        {
          "data": {
            "image/png": "[encoded data removed]",
            "text/plain": [
              "<Figure size 1440x360 with 1 Axes>"
            ]
          },
          "metadata": {
            "needs_background": "light"
          },
          "output_type": "display_data"
        }
      ],
      "source": [
        "fig, ax = plt.subplots(figsize=(20, 5))\n",
        "\n",
        "\n",
        "p = sns.lineplot(data = decomposed.seasonal['2018-03-01':'2018-04-01']);\n",
        "p.set_xlabel(\"Время\", fontsize = 20);\n",
        "p.set_ylabel(\"Кол-во заказов\", fontsize = 20);"
      ]
    },
    {
      "cell_type": "markdown",
      "metadata": {
        "id": "IaSTLO9zxeVI"
      },
      "source": [
        "Похоже на ритм сердца здорового человека - часы пик вверху, практически полное отсутствие заказов в непопулярное, возможно, ночное, время. Изучим это предположение, построив суточный график"
      ]
    },
    {
      "cell_type": "code",
      "execution_count": 23,
      "metadata": {
        "colab": {
          "base_uri": "https://localhost:8080/",
          "height": 256
        },
        "id": "SqB8r6X_xeVI",
        "outputId": "163910d2-faa1-4c95-da00-d0bc3cc28e12",
        "scrolled": true
      },
      "outputs": [
        {
          "data": {
            "image/png": "[encoded data removed]",
            "text/plain": [
              "<Figure size 1440x360 with 1 Axes>"
            ]
          },
          "metadata": {
            "needs_background": "light"
          },
          "output_type": "display_data"
        }
      ],
      "source": [
        "fig, ax = plt.subplots(figsize=(20, 5))\n",
        "\n",
        "p = sns.lineplot(data = decomposed.seasonal['2018-03-01':'2018-03-01'])\n",
        "p.set_xlabel(\"Время\", fontsize = 20);\n",
        "p.set_ylabel(\"Кол-во заказов\", fontsize = 20);"
      ]
    },
    {
      "cell_type": "markdown",
      "metadata": {
        "id": "jCLnzTxWxeVJ"
      },
      "source": [
        "С трёх утра до шести активность минимальна. Потом она возрастает до пиковых значений в 16-18 часов и далее постепенно спадает к ночи. Получается, что действительно, сезонность связана с суточными колебаниями ритма большого города"
      ]
    },
    {
      "cell_type": "code",
      "execution_count": 24,
      "metadata": {
        "colab": {
          "base_uri": "https://localhost:8080/",
          "height": 254
        },
        "id": "XWbTKSWixeVK",
        "outputId": "98e5ccef-6270-4ef8-eea2-7a8b6d7a3792",
        "scrolled": true
      },
      "outputs": [
        {
          "data": {
            "image/png": "[encoded data removed]",
            "text/plain": [
              "<Figure size 1440x360 with 1 Axes>"
            ]
          },
          "metadata": {
            "needs_background": "light"
          },
          "output_type": "display_data"
        }
      ],
      "source": [
        "fig, ax = plt.subplots(figsize=(20, 5))\n",
        "\n",
        "p = sns.lineplot(data = decomposed.resid['2018-03-01':'2018-04-01'])\n",
        "p.set_xlabel(\"Время\", fontsize = 20);\n",
        "p.set_ylabel(\"Кол-во заказов\", fontsize = 20);"
      ]
    },
    {
      "cell_type": "markdown",
      "metadata": {
        "id": "tuAhGeUzxeVK"
      },
      "source": [
        "шум"
      ]
    },
    {
      "cell_type": "markdown",
      "metadata": {
        "id": "ugSOHx6txeVK"
      },
      "source": [
        "## Обучение"
      ]
    },
    {
      "cell_type": "markdown",
      "metadata": {
        "id": "Ni6DPk78xeVL"
      },
      "source": [
        "### Создание признаков"
      ]
    },
    {
      "cell_type": "code",
      "execution_count": 25,
      "metadata": {
        "id": "FijPSL88xeVL"
      },
      "outputs": [],
      "source": [
        "def make_features(data, max_lag, rolling_mean_size):\n",
        "    df['day'] = data.index.day\n",
        "    df['dayofweek'] = data.index.dayofweek\n",
        "    \n",
        "    for lag in range(1, max_lag + 1):\n",
        "        df['lag_{}'.format(lag)] = df['num_orders'].shift(lag)\n",
        "\n",
        "    df['rolling_mean'] = df['num_orders'].shift().rolling(rolling_mean_size).mean()"
      ]
    },
    {
      "cell_type": "code",
      "execution_count": 26,
      "metadata": {
        "id": "mKc4W5amxeVM"
      },
      "outputs": [],
      "source": [
        "make_features(df, 4, 4)"
      ]
    },
    {
      "cell_type": "code",
      "execution_count": 27,
      "metadata": {
        "colab": {
          "base_uri": "https://localhost:8080/",
          "height": 237
        },
        "id": "4gOH5xFMxeVN",
        "outputId": "1aa76754-dc1f-413f-9aef-c9e399331e48",
        "scrolled": true
      },
      "outputs": [
        {
          "data": {
            "text/html": [
              "\n",
              "  <div id=\"df-62138f74-1a5c-4051-9088-758c2e481464\">\n",
              "    <div class=\"colab-df-container\">\n",
              "      <div>\n",
              "<style scoped>\n",
              "    .dataframe tbody tr th:only-of-type {\n",
              "        vertical-align: middle;\n",
              "    }\n",
              "\n",
              "    .dataframe tbody tr th {\n",
              "        vertical-align: top;\n",
              "    }\n",
              "\n",
              "    .dataframe thead th {\n",
              "        text-align: right;\n",
              "    }\n",
              "</style>\n",
              "<table border=\"1\" class=\"dataframe\">\n",
              "  <thead>\n",
              "    <tr style=\"text-align: right;\">\n",
              "      <th></th>\n",
              "      <th>num_orders</th>\n",
              "      <th>day</th>\n",
              "      <th>dayofweek</th>\n",
              "      <th>lag_1</th>\n",
              "      <th>lag_2</th>\n",
              "      <th>lag_3</th>\n",
              "      <th>lag_4</th>\n",
              "      <th>rolling_mean</th>\n",
              "    </tr>\n",
              "    <tr>\n",
              "      <th>datetime</th>\n",
              "      <th></th>\n",
              "      <th></th>\n",
              "      <th></th>\n",
              "      <th></th>\n",
              "      <th></th>\n",
              "      <th></th>\n",
              "      <th></th>\n",
              "      <th></th>\n",
              "    </tr>\n",
              "  </thead>\n",
              "  <tbody>\n",
              "    <tr>\n",
              "      <th>2018-03-01 00:00:00</th>\n",
              "      <td>9</td>\n",
              "      <td>1</td>\n",
              "      <td>3</td>\n",
              "      <td>NaN</td>\n",
              "      <td>NaN</td>\n",
              "      <td>NaN</td>\n",
              "      <td>NaN</td>\n",
              "      <td>NaN</td>\n",
              "    </tr>\n",
              "    <tr>\n",
              "      <th>2018-03-01 00:10:00</th>\n",
              "      <td>14</td>\n",
              "      <td>1</td>\n",
              "      <td>3</td>\n",
              "      <td>9.0</td>\n",
              "      <td>NaN</td>\n",
              "      <td>NaN</td>\n",
              "      <td>NaN</td>\n",
              "      <td>NaN</td>\n",
              "    </tr>\n",
              "    <tr>\n",
              "      <th>2018-03-01 00:20:00</th>\n",
              "      <td>28</td>\n",
              "      <td>1</td>\n",
              "      <td>3</td>\n",
              "      <td>14.0</td>\n",
              "      <td>9.0</td>\n",
              "      <td>NaN</td>\n",
              "      <td>NaN</td>\n",
              "      <td>NaN</td>\n",
              "    </tr>\n",
              "    <tr>\n",
              "      <th>2018-03-01 00:30:00</th>\n",
              "      <td>20</td>\n",
              "      <td>1</td>\n",
              "      <td>3</td>\n",
              "      <td>28.0</td>\n",
              "      <td>14.0</td>\n",
              "      <td>9.0</td>\n",
              "      <td>NaN</td>\n",
              "      <td>NaN</td>\n",
              "    </tr>\n",
              "    <tr>\n",
              "      <th>2018-03-01 00:40:00</th>\n",
              "      <td>32</td>\n",
              "      <td>1</td>\n",
              "      <td>3</td>\n",
              "      <td>20.0</td>\n",
              "      <td>28.0</td>\n",
              "      <td>14.0</td>\n",
              "      <td>9.0</td>\n",
              "      <td>17.75</td>\n",
              "    </tr>\n",
              "  </tbody>\n",
              "</table>\n",
              "</div>\n",
              "      <button class=\"colab-df-convert\" onclick=\"convertToInteractive('df-62138f74-1a5c-4051-9088-758c2e481464')\"\n",
              "              title=\"Convert this dataframe to an interactive table.\"\n",
              "              style=\"display:none;\">\n",
              "        \n",
              "  <svg xmlns=\"http://www.w3.org/2000/svg\" height=\"24px\"viewBox=\"0 0 24 24\"\n",
              "       width=\"24px\">\n",
              "    <path d=\"M0 0h24v24H0V0z\" fill=\"none\"/>\n",
              "    <path d=\"M18.56 5.44l.94 2.06.94-2.06 2.06-.94-2.06-.94-.94-2.06-.94 2.06-2.06.94zm-11 1L8.5 8.5l.94-2.06 2.06-.94-2.06-.94L8.5 2.5l-.94 2.06-2.06.94zm10 10l.94 2.06.94-2.06 2.06-.94-2.06-.94-.94-2.06-.94 2.06-2.06.94z\"/><path d=\"M17.41 7.96l-1.37-1.37c-.4-.4-.92-.59-1.43-.59-.52 0-1.04.2-1.43.59L10.3 9.45l-7.72 7.72c-.78.78-.78 2.05 0 2.83L4 21.41c.39.39.9.59 1.41.59.51 0 1.02-.2 1.41-.59l7.78-7.78 2.81-2.81c.8-.78.8-2.07 0-2.86zM5.41 20L4 18.59l7.72-7.72 1.47 1.35L5.41 20z\"/>\n",
              "  </svg>\n",
              "      </button>\n",
              "      \n",
              "  <style>\n",
              "    .colab-df-container {\n",
              "      display:flex;\n",
              "      flex-wrap:wrap;\n",
              "      gap: 12px;\n",
              "    }\n",
              "\n",
              "    .colab-df-convert {\n",
              "      background-color: #E8F0FE;\n",
              "      border: none;\n",
              "      border-radius: 50%;\n",
              "      cursor: pointer;\n",
              "      display: none;\n",
              "      fill: #1967D2;\n",
              "      height: 32px;\n",
              "      padding: 0 0 0 0;\n",
              "      width: 32px;\n",
              "    }\n",
              "\n",
              "    .colab-df-convert:hover {\n",
              "      background-color: #E2EBFA;\n",
              "      box-shadow: 0px 1px 2px rgba(60, 64, 67, 0.3), 0px 1px 3px 1px rgba(60, 64, 67, 0.15);\n",
              "      fill: #174EA6;\n",
              "    }\n",
              "\n",
              "    [theme=dark] .colab-df-convert {\n",
              "      background-color: #3B4455;\n",
              "      fill: #D2E3FC;\n",
              "    }\n",
              "\n",
              "    [theme=dark] .colab-df-convert:hover {\n",
              "      background-color: #434B5C;\n",
              "      box-shadow: 0px 1px 3px 1px rgba(0, 0, 0, 0.15);\n",
              "      filter: drop-shadow(0px 1px 2px rgba(0, 0, 0, 0.3));\n",
              "      fill: #FFFFFF;\n",
              "    }\n",
              "  </style>\n",
              "\n",
              "      <script>\n",
              "        const buttonEl =\n",
              "          document.querySelector('#df-62138f74-1a5c-4051-9088-758c2e481464 button.colab-df-convert');\n",
              "        buttonEl.style.display =\n",
              "          google.colab.kernel.accessAllowed ? 'block' : 'none';\n",
              "\n",
              "        async function convertToInteractive(key) {\n",
              "          const element = document.querySelector('#df-62138f74-1a5c-4051-9088-758c2e481464');\n",
              "          const dataTable =\n",
              "            await google.colab.kernel.invokeFunction('convertToInteractive',\n",
              "                                                     [key], {});\n",
              "          if (!dataTable) return;\n",
              "\n",
              "          const docLinkHtml = 'Like what you see? Visit the ' +\n",
              "            '<a target=\"_blank\" href=https://colab.research.google.com/notebooks/data_table.ipynb>data table notebook</a>'\n",
              "            + ' to learn more about interactive tables.';\n",
              "          element.innerHTML = '';\n",
              "          dataTable['output_type'] = 'display_data';\n",
              "          await google.colab.output.renderOutput(dataTable, element);\n",
              "          const docLink = document.createElement('div');\n",
              "          docLink.innerHTML = docLinkHtml;\n",
              "          element.appendChild(docLink);\n",
              "        }\n",
              "      </script>\n",
              "    </div>\n",
              "  </div>\n",
              "  "
            ],
            "text/plain": [
              "                     num_orders  day  dayofweek  lag_1  lag_2  lag_3  lag_4  \\\n",
              "datetime                                                                      \n",
              "2018-03-01 00:00:00           9    1          3    NaN    NaN    NaN    NaN   \n",
              "2018-03-01 00:10:00          14    1          3    9.0    NaN    NaN    NaN   \n",
              "2018-03-01 00:20:00          28    1          3   14.0    9.0    NaN    NaN   \n",
              "2018-03-01 00:30:00          20    1          3   28.0   14.0    9.0    NaN   \n",
              "2018-03-01 00:40:00          32    1          3   20.0   28.0   14.0    9.0   \n",
              "\n",
              "                     rolling_mean  \n",
              "datetime                           \n",
              "2018-03-01 00:00:00           NaN  \n",
              "2018-03-01 00:10:00           NaN  \n",
              "2018-03-01 00:20:00           NaN  \n",
              "2018-03-01 00:30:00           NaN  \n",
              "2018-03-01 00:40:00         17.75  "
            ]
          },
          "execution_count": 27,
          "metadata": {},
          "output_type": "execute_result"
        }
      ],
      "source": [
        "df.head()"
      ]
    },
    {
      "cell_type": "markdown",
      "metadata": {
        "id": "xTCqPVuXxeVN"
      },
      "source": [
        "### Разделение выборок"
      ]
    },
    {
      "cell_type": "code",
      "execution_count": 28,
      "metadata": {
        "colab": {
          "base_uri": "https://localhost:8080/"
        },
        "id": "c5a4vinwxeVN",
        "outputId": "3edac746-f5b2-4626-d6ff-be31fc4ae51a"
      },
      "outputs": [
        {
          "name": "stdout",
          "output_type": "stream",
          "text": [
            "train_size: (23366, 7)\n",
            "test_size: (2597, 7)\n"
          ]
        }
      ],
      "source": [
        "train, test = train_test_split(df, shuffle=False, test_size=0.1) # shuffle = False - чтобы не происходила перетасовка, поскольку для временных раядов в каждом сплите тестовые индексы должны быть позже по времени, чем обучающие\n",
        "train = train.dropna()\n",
        "\n",
        "features_train = train.drop('num_orders', axis = 1)\n",
        "target_train = train['num_orders']\n",
        "\n",
        "features_test = test.drop('num_orders', axis = 1)\n",
        "target_test = test['num_orders']\n",
        "\n",
        "print('train_size:', features_train.shape)\n",
        "print('test_size:', features_test.shape)"
      ]
    },
    {
      "cell_type": "markdown",
      "metadata": {
        "id": "TzlnQGi2xeVP"
      },
      "source": [
        "### Линейная регрессия"
      ]
    },
    {
      "cell_type": "code",
      "execution_count": 30,
      "metadata": {
        "colab": {
          "base_uri": "https://localhost:8080/"
        },
        "id": "OA399llyxeVP",
        "outputId": "d2501b1b-791d-4650-e736-84cb6d1c7d3f",
        "scrolled": true
      },
      "outputs": [
        {
          "name": "stdout",
          "output_type": "stream",
          "text": [
            "RMSE обучающей выборки: 5.426588591428658\n",
            "RMSE тестовой выборки:  6.7023915503051406\n"
          ]
        }
      ],
      "source": [
        "model = LinearRegression()\n",
        "model.fit(features_train, target_train)\n",
        "\n",
        "print(\"RMSE обучающей выборки:\", mean_squared_error(model.predict(features_train), target_train)**0.5)\n",
        "print(\"RMSE тестовой выборки: \", mean_squared_error(model.predict(features_test), target_test)**0.5)"
      ]
    },
    {
      "cell_type": "markdown",
      "metadata": {
        "id": "3KtFJyY2xeVQ"
      },
      "source": [
        "Модель линейной регрессии показала достаточно малую ошибку RMSE"
      ]
    },
    {
      "cell_type": "markdown",
      "metadata": {
        "id": "MN5_r4NBxeVQ"
      },
      "source": [
        "### Деревянные модели"
      ]
    },
    {
      "cell_type": "code",
      "execution_count": 31,
      "metadata": {
        "id": "HLLS_v6XxeVR"
      },
      "outputs": [],
      "source": [
        "tscv = TimeSeriesSplit(n_splits=4)\n",
        "rmse = []\n",
        "\n",
        "for train_index, valid_index in tscv.split(train):\n",
        "    cv_train, cv_valid = train.iloc[train_index], train.iloc[valid_index]\n",
        "    \n",
        "    features_train_cv = cv_train.drop('num_orders', axis = 1)\n",
        "    target_train_cv = cv_train['num_orders']\n",
        "    \n",
        "    features_valid_cv = cv_valid.drop('num_orders', axis = 1)\n",
        "    target_valid_cv = cv_valid['num_orders']"
      ]
    },
    {
      "cell_type": "code",
      "execution_count": 32,
      "metadata": {
        "id": "iw03wlBlxeVR"
      },
      "outputs": [],
      "source": [
        "def algorithm_pipeline(features_train_data, features_test_data, target_train_data, target_test_data, \n",
        "                       model, param_grid, num_splits = 4,\n",
        "                       scoring_fit='neg_mean_squared_error', do_probabilities = False):\n",
        "    gs = GridSearchCV(\n",
        "        estimator=model,\n",
        "        param_grid=param_grid, \n",
        "        cv=TimeSeriesSplit(n_splits=num_splits).split(features_train_data), # TimeSeriesSplit используется для временных рядов\n",
        "        n_jobs=-1, \n",
        "        scoring=scoring_fit,\n",
        "        verbose=2\n",
        "    )\n",
        "    fitted_model = gs.fit(features_train_data, target_train_data)\n",
        "    \n",
        "    if do_probabilities:\n",
        "        pred = fitted_model.predict_proba(features_test_data)\n",
        "    else:\n",
        "        pred = fitted_model.predict(features_test_data)\n",
        "    \n",
        "    return fitted_model, pred"
      ]
    },
    {
      "cell_type": "code",
      "execution_count": 33,
      "metadata": {
        "colab": {
          "base_uri": "https://localhost:8080/"
        },
        "id": "x_s5jWzbxeVT",
        "outputId": "b606095a-40f1-4431-ce23-0597e33d8f05",
        "scrolled": true
      },
      "outputs": [
        {
          "name": "stdout",
          "output_type": "stream",
          "text": [
            "Fitting 4 folds for each of 10 candidates, totalling 40 fits\n",
            "5.357647421264179\n",
            "{'max_depth': 4}\n",
            "CPU times: user 238 ms, sys: 110 ms, total: 348 ms\n",
            "Wall time: 2.62 s\n"
          ]
        }
      ],
      "source": [
        "%%time\n",
        "\n",
        "DT_model = DecisionTreeRegressor()\n",
        "\n",
        "param_grid = {\n",
        "    'max_depth': list(range(1,11))\n",
        "}\n",
        "\n",
        "DT_model, pred = algorithm_pipeline(features_train_cv, features_valid_cv, target_train_cv, target_valid_cv, DT_model, \n",
        "                                 param_grid)\n",
        "\n",
        "print(np.sqrt(-DT_model.best_score_))\n",
        "print(DT_model.best_params_)"
      ]
    },
    {
      "cell_type": "markdown",
      "metadata": {
        "id": "A46GXFcXxeVT"
      },
      "source": [
        "Модель дерева решений сработала достаточно быстро и показала результат лучше, чем модель линейной регрессии"
      ]
    },
    {
      "cell_type": "code",
      "execution_count": 34,
      "metadata": {
        "colab": {
          "base_uri": "https://localhost:8080/"
        },
        "id": "FM8HBFN_xeVU",
        "outputId": "fbc83f74-0598-48cd-cc45-2f8e1b53be92",
        "scrolled": true
      },
      "outputs": [
        {
          "name": "stdout",
          "output_type": "stream",
          "text": [
            "Fitting 4 folds for each of 4 candidates, totalling 16 fits\n",
            "5.311709334639047\n",
            "{'max_depth': 5, 'n_estimators': 100}\n",
            "CPU times: user 1.88 s, sys: 30.8 ms, total: 1.91 s\n",
            "Wall time: 13.8 s\n"
          ]
        }
      ],
      "source": [
        "%%time\n",
        "\n",
        "RF_model = RandomForestRegressor()\n",
        "\n",
        "param_grid = {\n",
        "    'n_estimators': [50, 100],\n",
        "    'max_depth': [5, 10],\n",
        "}\n",
        "\n",
        "RF_model, pred = algorithm_pipeline(features_train_cv, features_valid_cv, target_train_cv, target_valid_cv, RF_model, \n",
        "                                 param_grid)\n",
        "\n",
        "print(np.sqrt(-RF_model.best_score_))\n",
        "print(RF_model.best_params_)"
      ]
    },
    {
      "cell_type": "markdown",
      "metadata": {
        "id": "3KdL2no1xeVV"
      },
      "source": [
        "Модель случайного леса работала несколько дольше модели дерева решений, но и результат показала лучше."
      ]
    },
    {
      "cell_type": "markdown",
      "metadata": {
        "id": "adyJESX9xeVV"
      },
      "source": [
        "### Деревянные модели на градиентном бустинге"
      ]
    },
    {
      "cell_type": "code",
      "execution_count": 39,
      "metadata": {
        "colab": {
          "base_uri": "https://localhost:8080/"
        },
        "id": "ePa2PRcKxeVV",
        "outputId": "807eee0e-0100-4a47-f9d5-8d9c73a3fea6",
        "scrolled": true
      },
      "outputs": [
        {
          "name": "stdout",
          "output_type": "stream",
          "text": [
            "Fitting 4 folds for each of 4 candidates, totalling 16 fits\n",
            "5.337249156438971\n",
            "{'max_depth': 5, 'num_leaves': 10}\n",
            "CPU times: user 263 ms, sys: 53.3 ms, total: 316 ms\n",
            "Wall time: 3.72 s\n"
          ]
        }
      ],
      "source": [
        "%%time\n",
        "\n",
        "lgb_train = lgb.Dataset(features_train, target_train)\n",
        "lgb_eval = lgb.Dataset(features_test, target_test, reference=lgb_train)\n",
        "\n",
        "param_grid = {\n",
        "    \"max_depth\": [5, 10],\n",
        "    \"num_leaves\": [10, 20]  \n",
        "}\n",
        "\n",
        "gbm_cv = lgb.LGBMRegressor()\n",
        "\n",
        "gbm_cv, pred = algorithm_pipeline(features_train_cv, features_valid_cv, target_train_cv, target_valid_cv, gbm_cv, \n",
        "                                 param_grid)\n",
        "\n",
        "print(np.sqrt(-gbm_cv.best_score_))\n",
        "print(gbm_cv.best_params_)"
      ]
    },
    {
      "cell_type": "markdown",
      "metadata": {
        "id": "utFNBreNxeVW"
      },
      "source": [
        "Модель дерева решений на градиентном бустинге LGBM работала дольше в сравнении с моделью sklearn, а результат показала хуже"
      ]
    },
    {
      "cell_type": "code",
      "execution_count": 40,
      "metadata": {
        "colab": {
          "base_uri": "https://localhost:8080/"
        },
        "id": "FyiogXa4xeVW",
        "outputId": "0ab2e72e-98e9-46e7-886a-9f458da7c477",
        "scrolled": true
      },
      "outputs": [
        {
          "name": "stdout",
          "output_type": "stream",
          "text": [
            "Fitting 4 folds for each of 4 candidates, totalling 16 fits\n",
            "[11:38:25] WARNING: /workspace/src/objective/regression_obj.cu:152: reg:linear is now deprecated in favor of reg:squarederror.\n",
            "5.379006219133564\n",
            "{'max_depth': 5, 'n_estimators': 50}\n",
            "CPU times: user 751 ms, sys: 26.5 ms, total: 778 ms\n",
            "Wall time: 11 s\n"
          ]
        }
      ],
      "source": [
        "%%time\n",
        "\n",
        "xgb_model = xgb.XGBRegressor()\n",
        "\n",
        "param_grid = {\n",
        "    'n_estimators': [50, 100],\n",
        "    'max_depth': [5, 10],\n",
        "}\n",
        "\n",
        "xgb_model, pred = algorithm_pipeline(features_train_cv, features_valid_cv, target_train_cv, target_valid_cv, xgb_model, \n",
        "                                 param_grid)\n",
        "\n",
        "print(np.sqrt(-xgb_model.best_score_))\n",
        "print(xgb_model.best_params_)"
      ]
    },
    {
      "cell_type": "markdown",
      "metadata": {
        "id": "0STvIoZ_xeVX"
      },
      "source": [
        "Модель случайного леса на градиентном бустинге XGB работала очень долго, а результат показала достаточно плохой"
      ]
    },
    {
      "cell_type": "code",
      "execution_count": 41,
      "metadata": {
        "colab": {
          "base_uri": "https://localhost:8080/"
        },
        "id": "rQABsncSxeVX",
        "outputId": "bd376d72-a022-4015-bb4a-b1ab076a4a8a",
        "scrolled": true
      },
      "outputs": [
        {
          "name": "stdout",
          "output_type": "stream",
          "text": [
            "Fitting 4 folds for each of 4 candidates, totalling 16 fits\n",
            "Learning rate set to 0.5\n",
            "0:\tlearn: 5.8703813\ttotal: 3.34ms\tremaining: 164ms\n",
            "1:\tlearn: 5.4114133\ttotal: 6.15ms\tremaining: 148ms\n",
            "2:\tlearn: 5.2771782\ttotal: 8.99ms\tremaining: 141ms\n",
            "3:\tlearn: 5.2187158\ttotal: 12ms\tremaining: 138ms\n",
            "4:\tlearn: 5.1985981\ttotal: 14.9ms\tremaining: 134ms\n",
            "5:\tlearn: 5.1866793\ttotal: 17.9ms\tremaining: 131ms\n",
            "6:\tlearn: 5.1790348\ttotal: 20.7ms\tremaining: 127ms\n",
            "7:\tlearn: 5.1706622\ttotal: 23.4ms\tremaining: 123ms\n",
            "8:\tlearn: 5.1602626\ttotal: 26.4ms\tremaining: 120ms\n",
            "9:\tlearn: 5.1539334\ttotal: 29ms\tremaining: 116ms\n",
            "10:\tlearn: 5.1490779\ttotal: 31.9ms\tremaining: 113ms\n",
            "11:\tlearn: 5.1457138\ttotal: 34.6ms\tremaining: 110ms\n",
            "12:\tlearn: 5.1387469\ttotal: 37.3ms\tremaining: 106ms\n",
            "13:\tlearn: 5.1350831\ttotal: 40.1ms\tremaining: 103ms\n",
            "14:\tlearn: 5.1309630\ttotal: 42.7ms\tremaining: 99.7ms\n",
            "15:\tlearn: 5.1251299\ttotal: 45.3ms\tremaining: 96.4ms\n",
            "16:\tlearn: 5.1216407\ttotal: 48.1ms\tremaining: 93.3ms\n",
            "17:\tlearn: 5.1173795\ttotal: 50.9ms\tremaining: 90.5ms\n",
            "18:\tlearn: 5.1141994\ttotal: 53.5ms\tremaining: 87.3ms\n",
            "19:\tlearn: 5.1118013\ttotal: 55.8ms\tremaining: 83.7ms\n",
            "20:\tlearn: 5.1083172\ttotal: 58.7ms\tremaining: 81ms\n",
            "21:\tlearn: 5.1034465\ttotal: 61.3ms\tremaining: 78ms\n",
            "22:\tlearn: 5.0984070\ttotal: 63.8ms\tremaining: 74.9ms\n",
            "23:\tlearn: 5.0949511\ttotal: 66.2ms\tremaining: 71.7ms\n",
            "24:\tlearn: 5.0916964\ttotal: 69ms\tremaining: 69ms\n",
            "25:\tlearn: 5.0859252\ttotal: 71.8ms\tremaining: 66.3ms\n",
            "26:\tlearn: 5.0824246\ttotal: 74.5ms\tremaining: 63.5ms\n",
            "27:\tlearn: 5.0788757\ttotal: 77.1ms\tremaining: 60.5ms\n",
            "28:\tlearn: 5.0763436\ttotal: 79.6ms\tremaining: 57.6ms\n",
            "29:\tlearn: 5.0702899\ttotal: 82.2ms\tremaining: 54.8ms\n",
            "30:\tlearn: 5.0661969\ttotal: 84.9ms\tremaining: 52ms\n",
            "31:\tlearn: 5.0628970\ttotal: 87.7ms\tremaining: 49.3ms\n",
            "32:\tlearn: 5.0579000\ttotal: 90.6ms\tremaining: 46.7ms\n",
            "33:\tlearn: 5.0556997\ttotal: 93.1ms\tremaining: 43.8ms\n",
            "34:\tlearn: 5.0537097\ttotal: 95.8ms\tremaining: 41.1ms\n",
            "35:\tlearn: 5.0513273\ttotal: 98.3ms\tremaining: 38.2ms\n",
            "36:\tlearn: 5.0483174\ttotal: 101ms\tremaining: 35.6ms\n",
            "37:\tlearn: 5.0442298\ttotal: 104ms\tremaining: 32.8ms\n",
            "38:\tlearn: 5.0397998\ttotal: 107ms\tremaining: 30ms\n",
            "39:\tlearn: 5.0380282\ttotal: 109ms\tremaining: 27.3ms\n",
            "40:\tlearn: 5.0343732\ttotal: 112ms\tremaining: 24.6ms\n",
            "41:\tlearn: 5.0309445\ttotal: 115ms\tremaining: 21.9ms\n",
            "42:\tlearn: 5.0286617\ttotal: 118ms\tremaining: 19.2ms\n",
            "43:\tlearn: 5.0266722\ttotal: 120ms\tremaining: 16.4ms\n",
            "44:\tlearn: 5.0212773\ttotal: 123ms\tremaining: 13.7ms\n",
            "45:\tlearn: 5.0200607\ttotal: 126ms\tremaining: 10.9ms\n",
            "46:\tlearn: 5.0159377\ttotal: 129ms\tremaining: 8.21ms\n",
            "47:\tlearn: 5.0123496\ttotal: 131ms\tremaining: 5.47ms\n",
            "48:\tlearn: 5.0084634\ttotal: 135ms\tremaining: 2.75ms\n",
            "49:\tlearn: 5.0051685\ttotal: 137ms\tremaining: 0us\n",
            "5.451596355941187\n",
            "{'max_depth': 5, 'n_estimators': 50}\n",
            "CPU times: user 404 ms, sys: 34.3 ms, total: 439 ms\n",
            "Wall time: 7.4 s\n"
          ]
        }
      ],
      "source": [
        "%%time\n",
        "\n",
        "CBM = CatBoostRegressor()\n",
        "\n",
        "param_grid = {\n",
        "    'n_estimators': [50, 100],\n",
        "    'max_depth': [5, 10],\n",
        "}\n",
        "\n",
        "CBM, pred = algorithm_pipeline(features_train_cv, features_valid_cv, target_train_cv, target_valid_cv, CBM, \n",
        "                                 param_grid)\n",
        "\n",
        "print(np.sqrt(-CBM.best_score_))\n",
        "print(CBM.best_params_)"
      ]
    },
    {
      "cell_type": "markdown",
      "metadata": {
        "id": "FRFgPBHZxeVY"
      },
      "source": [
        "Модель случайного леса на градиентном бустинге CatBoost работала достаточно быстро, показала результат лучше, чем у других моделей на градиентном бустинге, но ошибка всё же больше, чем у модели дерева решений sklearn"
      ]
    },
    {
      "cell_type": "code",
      "execution_count": 42,
      "metadata": {
        "colab": {
          "base_uri": "https://localhost:8080/"
        },
        "id": "8eo7s1aTxeVY",
        "outputId": "62df4914-1502-4f38-cfdd-059bc16afa0b"
      },
      "outputs": [
        {
          "name": "stdout",
          "output_type": "stream",
          "text": [
            "DT_model RMSE: 5.357647421264179\n",
            "{'max_depth': 4}\n",
            "\n",
            "RF_model RMSE: 5.311709334639047\n",
            "{'max_depth': 5, 'n_estimators': 100}\n",
            "\n",
            "gbm_cv RMSE: 5.337249156438971\n",
            "{'max_depth': 5, 'num_leaves': 10}\n",
            "\n",
            "xgb_model RMSE: 5.379006219133564\n",
            "{'max_depth': 5, 'n_estimators': 50}\n",
            "\n",
            "CBM RMSE: 5.451596355941187\n",
            "{'max_depth': 5, 'n_estimators': 50}\n"
          ]
        }
      ],
      "source": [
        "print('DT_model RMSE:', np.sqrt(-DT_model.best_score_))\n",
        "print(DT_model.best_params_)\n",
        "print('')\n",
        "print('RF_model RMSE:', np.sqrt(-RF_model.best_score_))\n",
        "print(RF_model.best_params_)\n",
        "print('')\n",
        "print('gbm_cv RMSE:', np.sqrt(-gbm_cv.best_score_))\n",
        "print(gbm_cv.best_params_)\n",
        "print('')\n",
        "print('xgb_model RMSE:', np.sqrt(-xgb_model.best_score_))\n",
        "print(xgb_model.best_params_)\n",
        "print('')\n",
        "print('CBM RMSE:', np.sqrt(-CBM.best_score_))\n",
        "print(CBM.best_params_)"
      ]
    },
    {
      "cell_type": "markdown",
      "metadata": {
        "id": "G98HSGkUxeVZ"
      },
      "source": [
        "Вывод: наилучший результат показала модель случайного леса. "
      ]
    },
    {
      "cell_type": "markdown",
      "metadata": {
        "id": "e-4eC6jKxeVZ"
      },
      "source": [
        "## Тестирование"
      ]
    },
    {
      "cell_type": "code",
      "execution_count": 43,
      "metadata": {
        "colab": {
          "base_uri": "https://localhost:8080/"
        },
        "id": "RVXfUNsuxeVa",
        "outputId": "dc2225fa-c3bf-4c92-a615-80839baa8547"
      },
      "outputs": [
        {
          "name": "stdout",
          "output_type": "stream",
          "text": [
            "6.911034436802054\n"
          ]
        }
      ],
      "source": [
        "DT_model = DecisionTreeRegressor(max_depth = 4)\n",
        "DT_model.fit(features_train, target_train)\n",
        "predictions = DT_model.predict(features_test)\n",
        "\n",
        "print(mean_squared_error(target_test, predictions) ** 0.5)"
      ]
    },
    {
      "cell_type": "markdown",
      "metadata": {
        "id": "2i0WrgIYxeVa"
      },
      "source": [
        "Вывод: наименьшую ошибку имеет модель дерева решений с параметром max_depth = 4. При таком гиперпараметре на тестовой выборке метрика RMSE составляет 6.9"
      ]
    }
  ],
  "metadata": {
    "ExecuteTimeLog": [
      {
        "duration": 410,
        "start_time": "2022-06-07T17:15:45.475Z"
      },
      {
        "duration": 73,
        "start_time": "2022-06-07T17:15:47.414Z"
      },
      {
        "duration": 113,
        "start_time": "2022-06-07T17:15:56.747Z"
      },
      {
        "duration": 57,
        "start_time": "2022-06-07T17:16:02.909Z"
      },
      {
        "duration": 4,
        "start_time": "2022-06-07T17:17:30.779Z"
      },
      {
        "duration": 51,
        "start_time": "2022-06-07T17:17:33.882Z"
      },
      {
        "duration": 4,
        "start_time": "2022-06-07T17:18:00.009Z"
      },
      {
        "duration": 23,
        "start_time": "2022-06-07T17:25:05.072Z"
      },
      {
        "duration": 598,
        "start_time": "2022-06-07T17:32:41.594Z"
      },
      {
        "duration": 48,
        "start_time": "2022-06-07T17:33:08.598Z"
      },
      {
        "duration": 1182,
        "start_time": "2022-06-07T17:38:05.001Z"
      },
      {
        "duration": 588,
        "start_time": "2022-06-07T17:38:26.205Z"
      },
      {
        "duration": 52,
        "start_time": "2022-06-07T17:38:44.241Z"
      },
      {
        "duration": 33,
        "start_time": "2022-06-07T17:38:51.512Z"
      },
      {
        "duration": 10,
        "start_time": "2022-06-07T17:39:02.133Z"
      },
      {
        "duration": 9,
        "start_time": "2022-06-07T17:41:26.311Z"
      },
      {
        "duration": 22,
        "start_time": "2022-06-07T17:41:37.592Z"
      },
      {
        "duration": 9,
        "start_time": "2022-06-07T17:42:43.266Z"
      },
      {
        "duration": 15,
        "start_time": "2022-06-07T17:42:49.305Z"
      },
      {
        "duration": 126,
        "start_time": "2022-06-07T17:42:57.828Z"
      },
      {
        "duration": 1365,
        "start_time": "2022-06-07T17:43:06.741Z"
      },
      {
        "duration": 11,
        "start_time": "2022-06-07T17:52:45.080Z"
      },
      {
        "duration": 3,
        "start_time": "2022-06-07T17:53:01.499Z"
      },
      {
        "duration": 9,
        "start_time": "2022-06-07T17:53:04.906Z"
      },
      {
        "duration": 3,
        "start_time": "2022-06-07T17:54:42.391Z"
      },
      {
        "duration": 1471,
        "start_time": "2022-06-07T17:55:11.007Z"
      },
      {
        "duration": 1357,
        "start_time": "2022-06-07T17:55:19.147Z"
      },
      {
        "duration": 1355,
        "start_time": "2022-06-07T17:55:26.337Z"
      },
      {
        "duration": 287,
        "start_time": "2022-06-07T17:55:43.063Z"
      },
      {
        "duration": 1419,
        "start_time": "2022-06-07T17:55:58.645Z"
      },
      {
        "duration": 1273,
        "start_time": "2022-06-07T17:56:40.011Z"
      },
      {
        "duration": 1240,
        "start_time": "2022-06-07T17:56:53.304Z"
      },
      {
        "duration": 11,
        "start_time": "2022-06-07T17:57:36.879Z"
      },
      {
        "duration": 137,
        "start_time": "2022-06-07T18:02:02.940Z"
      },
      {
        "duration": 397,
        "start_time": "2022-06-07T18:02:09.999Z"
      },
      {
        "duration": 12,
        "start_time": "2022-06-07T18:06:14.382Z"
      },
      {
        "duration": 4,
        "start_time": "2022-06-07T18:06:26.043Z"
      },
      {
        "duration": 424,
        "start_time": "2022-06-07T18:06:40.643Z"
      },
      {
        "duration": 10,
        "start_time": "2022-06-07T18:09:29.048Z"
      },
      {
        "duration": 11,
        "start_time": "2022-06-07T18:09:42.175Z"
      },
      {
        "duration": 13,
        "start_time": "2022-06-07T18:10:03.306Z"
      },
      {
        "duration": 15,
        "start_time": "2022-06-07T18:10:59.224Z"
      },
      {
        "duration": 11,
        "start_time": "2022-06-07T18:11:11.402Z"
      },
      {
        "duration": 115,
        "start_time": "2022-06-07T18:11:21.860Z"
      },
      {
        "duration": 5,
        "start_time": "2022-06-07T18:11:33.704Z"
      },
      {
        "duration": 1121,
        "start_time": "2022-06-07T18:11:51.050Z"
      },
      {
        "duration": 1056,
        "start_time": "2022-06-07T18:17:44.195Z"
      },
      {
        "duration": 1115,
        "start_time": "2022-06-07T18:18:09.343Z"
      },
      {
        "duration": 402,
        "start_time": "2022-06-07T18:18:41.695Z"
      },
      {
        "duration": 399,
        "start_time": "2022-06-07T18:18:46.563Z"
      },
      {
        "duration": 317,
        "start_time": "2022-06-07T18:21:02.874Z"
      },
      {
        "duration": 99,
        "start_time": "2022-06-07T18:32:26.965Z"
      },
      {
        "duration": 5,
        "start_time": "2022-06-07T18:41:56.317Z"
      },
      {
        "duration": 9,
        "start_time": "2022-06-07T18:44:44.509Z"
      },
      {
        "duration": 6,
        "start_time": "2022-06-07T18:49:16.847Z"
      },
      {
        "duration": 3,
        "start_time": "2022-06-07T18:53:22.360Z"
      },
      {
        "duration": 57,
        "start_time": "2022-06-07T18:53:22.365Z"
      },
      {
        "duration": 6,
        "start_time": "2022-06-07T18:53:22.424Z"
      },
      {
        "duration": 31,
        "start_time": "2022-06-07T18:53:22.431Z"
      },
      {
        "duration": 413,
        "start_time": "2022-06-07T18:53:22.465Z"
      },
      {
        "duration": 5,
        "start_time": "2022-06-07T18:53:22.879Z"
      },
      {
        "duration": 435,
        "start_time": "2022-06-07T18:53:22.885Z"
      },
      {
        "duration": 115,
        "start_time": "2022-06-07T18:53:23.322Z"
      },
      {
        "duration": 1026,
        "start_time": "2022-06-07T18:53:23.440Z"
      },
      {
        "duration": 382,
        "start_time": "2022-06-07T18:53:24.468Z"
      },
      {
        "duration": 341,
        "start_time": "2022-06-07T18:53:24.852Z"
      },
      {
        "duration": 4,
        "start_time": "2022-06-07T18:53:25.194Z"
      },
      {
        "duration": 36,
        "start_time": "2022-06-07T18:53:25.200Z"
      },
      {
        "duration": 12,
        "start_time": "2022-06-07T18:53:25.239Z"
      },
      {
        "duration": 13,
        "start_time": "2022-06-07T18:54:00.158Z"
      },
      {
        "duration": 20,
        "start_time": "2022-06-07T18:58:14.761Z"
      },
      {
        "duration": 161,
        "start_time": "2022-06-07T18:59:00.573Z"
      },
      {
        "duration": 3,
        "start_time": "2022-06-07T19:01:07.140Z"
      },
      {
        "duration": 57,
        "start_time": "2022-06-07T19:01:07.145Z"
      },
      {
        "duration": 3,
        "start_time": "2022-06-07T19:01:07.204Z"
      },
      {
        "duration": 18,
        "start_time": "2022-06-07T19:01:07.208Z"
      },
      {
        "duration": 392,
        "start_time": "2022-06-07T19:01:07.228Z"
      },
      {
        "duration": 7,
        "start_time": "2022-06-07T19:01:07.622Z"
      },
      {
        "duration": 425,
        "start_time": "2022-06-07T19:01:07.631Z"
      },
      {
        "duration": 106,
        "start_time": "2022-06-07T19:01:08.058Z"
      },
      {
        "duration": 917,
        "start_time": "2022-06-07T19:01:08.166Z"
      },
      {
        "duration": 364,
        "start_time": "2022-06-07T19:01:09.085Z"
      },
      {
        "duration": 446,
        "start_time": "2022-06-07T19:01:09.450Z"
      },
      {
        "duration": 4,
        "start_time": "2022-06-07T19:01:09.898Z"
      },
      {
        "duration": 29,
        "start_time": "2022-06-07T19:01:09.904Z"
      },
      {
        "duration": 21,
        "start_time": "2022-06-07T19:01:09.935Z"
      },
      {
        "duration": 15,
        "start_time": "2022-06-07T19:01:09.958Z"
      },
      {
        "duration": 15,
        "start_time": "2022-06-07T19:01:09.974Z"
      },
      {
        "duration": 40,
        "start_time": "2022-06-07T19:01:09.990Z"
      },
      {
        "duration": 3,
        "start_time": "2022-06-07T19:24:14.506Z"
      },
      {
        "duration": 174,
        "start_time": "2022-06-07T19:24:14.511Z"
      },
      {
        "duration": 56,
        "start_time": "2022-06-07T19:24:14.687Z"
      },
      {
        "duration": 3,
        "start_time": "2022-06-07T19:24:14.745Z"
      },
      {
        "duration": 18,
        "start_time": "2022-06-07T19:24:14.750Z"
      },
      {
        "duration": 406,
        "start_time": "2022-06-07T19:24:14.770Z"
      },
      {
        "duration": 3,
        "start_time": "2022-06-07T19:24:15.178Z"
      },
      {
        "duration": 399,
        "start_time": "2022-06-07T19:24:15.183Z"
      },
      {
        "duration": 115,
        "start_time": "2022-06-07T19:24:15.584Z"
      },
      {
        "duration": 941,
        "start_time": "2022-06-07T19:24:15.701Z"
      },
      {
        "duration": 364,
        "start_time": "2022-06-07T19:24:16.643Z"
      },
      {
        "duration": 337,
        "start_time": "2022-06-07T19:24:17.009Z"
      },
      {
        "duration": 3,
        "start_time": "2022-06-07T19:24:17.349Z"
      },
      {
        "duration": 25,
        "start_time": "2022-06-07T19:24:17.354Z"
      },
      {
        "duration": 11,
        "start_time": "2022-06-07T19:24:17.380Z"
      },
      {
        "duration": 8,
        "start_time": "2022-06-07T19:24:17.393Z"
      },
      {
        "duration": 33,
        "start_time": "2022-06-07T19:24:17.403Z"
      },
      {
        "duration": 18,
        "start_time": "2022-06-07T19:24:17.437Z"
      },
      {
        "duration": 14,
        "start_time": "2022-06-07T19:24:17.529Z"
      },
      {
        "duration": 30,
        "start_time": "2022-06-07T19:24:25.521Z"
      },
      {
        "duration": 3,
        "start_time": "2022-06-07T19:26:18.580Z"
      },
      {
        "duration": 6,
        "start_time": "2022-06-07T19:26:18.584Z"
      },
      {
        "duration": 57,
        "start_time": "2022-06-07T19:26:18.592Z"
      },
      {
        "duration": 4,
        "start_time": "2022-06-07T19:26:18.650Z"
      },
      {
        "duration": 16,
        "start_time": "2022-06-07T19:26:18.656Z"
      },
      {
        "duration": 491,
        "start_time": "2022-06-07T19:26:18.674Z"
      },
      {
        "duration": 5,
        "start_time": "2022-06-07T19:26:19.166Z"
      },
      {
        "duration": 424,
        "start_time": "2022-06-07T19:26:19.172Z"
      },
      {
        "duration": 105,
        "start_time": "2022-06-07T19:26:19.598Z"
      },
      {
        "duration": 893,
        "start_time": "2022-06-07T19:26:19.705Z"
      },
      {
        "duration": 369,
        "start_time": "2022-06-07T19:26:20.600Z"
      },
      {
        "duration": 340,
        "start_time": "2022-06-07T19:26:20.971Z"
      },
      {
        "duration": 15,
        "start_time": "2022-06-07T19:26:21.313Z"
      },
      {
        "duration": 20,
        "start_time": "2022-06-07T19:26:21.330Z"
      },
      {
        "duration": 11,
        "start_time": "2022-06-07T19:26:21.351Z"
      },
      {
        "duration": 9,
        "start_time": "2022-06-07T19:26:21.364Z"
      },
      {
        "duration": 8,
        "start_time": "2022-06-07T19:26:21.375Z"
      },
      {
        "duration": 52,
        "start_time": "2022-06-07T19:26:21.385Z"
      },
      {
        "duration": 196,
        "start_time": "2022-06-07T19:26:21.440Z"
      },
      {
        "duration": 12745,
        "start_time": "2022-06-07T19:26:21.638Z"
      },
      {
        "duration": 2,
        "start_time": "2022-06-07T19:26:34.385Z"
      },
      {
        "duration": 12,
        "start_time": "2022-06-07T19:26:34.389Z"
      },
      {
        "duration": 19,
        "start_time": "2022-06-07T19:26:34.403Z"
      },
      {
        "duration": 57,
        "start_time": "2022-06-07T19:30:56.618Z"
      },
      {
        "duration": 55,
        "start_time": "2022-06-07T19:35:40.184Z"
      },
      {
        "duration": 4,
        "start_time": "2022-06-07T19:36:51.347Z"
      },
      {
        "duration": 13419,
        "start_time": "2022-06-07T19:36:57.219Z"
      },
      {
        "duration": 401,
        "start_time": "2022-06-07T19:40:43.664Z"
      },
      {
        "duration": 23,
        "start_time": "2022-06-07T19:41:10.748Z"
      },
      {
        "duration": 13,
        "start_time": "2022-06-07T19:41:22.493Z"
      },
      {
        "duration": 1317,
        "start_time": "2022-06-07T19:41:35.728Z"
      },
      {
        "duration": 30605,
        "start_time": "2022-06-07T19:42:58.353Z"
      },
      {
        "duration": 38,
        "start_time": "2022-06-07T19:44:48.027Z"
      },
      {
        "duration": 15271,
        "start_time": "2022-06-07T19:50:13.473Z"
      },
      {
        "duration": 117026,
        "start_time": "2022-06-07T19:50:37.121Z"
      },
      {
        "duration": 1750,
        "start_time": "2022-06-08T04:36:00.830Z"
      },
      {
        "duration": 2,
        "start_time": "2022-06-08T04:42:26.957Z"
      },
      {
        "duration": 6,
        "start_time": "2022-06-08T04:42:26.961Z"
      },
      {
        "duration": 129,
        "start_time": "2022-06-08T04:42:26.969Z"
      },
      {
        "duration": 3,
        "start_time": "2022-06-08T04:42:27.099Z"
      },
      {
        "duration": 16,
        "start_time": "2022-06-08T04:42:27.104Z"
      },
      {
        "duration": 534,
        "start_time": "2022-06-08T04:42:27.121Z"
      },
      {
        "duration": 5,
        "start_time": "2022-06-08T04:42:27.656Z"
      },
      {
        "duration": 371,
        "start_time": "2022-06-08T04:42:27.662Z"
      },
      {
        "duration": 109,
        "start_time": "2022-06-08T04:42:28.035Z"
      },
      {
        "duration": 976,
        "start_time": "2022-06-08T04:42:28.146Z"
      },
      {
        "duration": 353,
        "start_time": "2022-06-08T04:42:29.124Z"
      },
      {
        "duration": 319,
        "start_time": "2022-06-08T04:42:29.479Z"
      },
      {
        "duration": 3,
        "start_time": "2022-06-08T04:42:29.801Z"
      },
      {
        "duration": 25,
        "start_time": "2022-06-08T04:42:29.806Z"
      },
      {
        "duration": 12,
        "start_time": "2022-06-08T04:42:29.832Z"
      },
      {
        "duration": 9,
        "start_time": "2022-06-08T04:42:29.846Z"
      },
      {
        "duration": 9,
        "start_time": "2022-06-08T04:42:29.857Z"
      },
      {
        "duration": 138,
        "start_time": "2022-06-08T04:42:29.868Z"
      },
      {
        "duration": 0,
        "start_time": "2022-06-08T04:42:30.008Z"
      },
      {
        "duration": 0,
        "start_time": "2022-06-08T04:42:30.009Z"
      },
      {
        "duration": 0,
        "start_time": "2022-06-08T04:42:30.010Z"
      },
      {
        "duration": 0,
        "start_time": "2022-06-08T04:42:30.024Z"
      },
      {
        "duration": 0,
        "start_time": "2022-06-08T04:42:30.025Z"
      },
      {
        "duration": 0,
        "start_time": "2022-06-08T04:42:30.026Z"
      },
      {
        "duration": 0,
        "start_time": "2022-06-08T04:42:30.027Z"
      },
      {
        "duration": 0,
        "start_time": "2022-06-08T04:42:30.028Z"
      },
      {
        "duration": 0,
        "start_time": "2022-06-08T04:42:30.029Z"
      },
      {
        "duration": 0,
        "start_time": "2022-06-08T04:42:30.030Z"
      },
      {
        "duration": 0,
        "start_time": "2022-06-08T04:42:30.031Z"
      },
      {
        "duration": 0,
        "start_time": "2022-06-08T04:42:30.032Z"
      },
      {
        "duration": 0,
        "start_time": "2022-06-08T04:42:30.033Z"
      },
      {
        "duration": 0,
        "start_time": "2022-06-08T04:42:30.035Z"
      },
      {
        "duration": 0,
        "start_time": "2022-06-08T04:42:30.035Z"
      },
      {
        "duration": 0,
        "start_time": "2022-06-08T04:42:30.037Z"
      },
      {
        "duration": 12,
        "start_time": "2022-06-08T04:53:25.664Z"
      },
      {
        "duration": 0,
        "start_time": "2022-06-08T04:53:25.678Z"
      },
      {
        "duration": 0,
        "start_time": "2022-06-08T04:53:25.679Z"
      },
      {
        "duration": 0,
        "start_time": "2022-06-08T04:53:25.680Z"
      },
      {
        "duration": 45,
        "start_time": "2022-06-08T04:53:25.682Z"
      },
      {
        "duration": 28,
        "start_time": "2022-06-08T04:53:25.728Z"
      },
      {
        "duration": 25,
        "start_time": "2022-06-08T04:53:25.758Z"
      },
      {
        "duration": 2,
        "start_time": "2022-06-08T04:53:25.785Z"
      },
      {
        "duration": 9,
        "start_time": "2022-06-08T04:53:25.788Z"
      },
      {
        "duration": 232,
        "start_time": "2022-06-08T04:53:25.798Z"
      },
      {
        "duration": 0,
        "start_time": "2022-06-08T04:53:26.031Z"
      },
      {
        "duration": 0,
        "start_time": "2022-06-08T04:53:26.032Z"
      },
      {
        "duration": 0,
        "start_time": "2022-06-08T04:53:26.033Z"
      },
      {
        "duration": 0,
        "start_time": "2022-06-08T04:53:26.034Z"
      },
      {
        "duration": 0,
        "start_time": "2022-06-08T04:53:26.035Z"
      },
      {
        "duration": 0,
        "start_time": "2022-06-08T04:53:26.037Z"
      },
      {
        "duration": 0,
        "start_time": "2022-06-08T04:53:26.038Z"
      },
      {
        "duration": 17,
        "start_time": "2022-06-08T04:53:42.642Z"
      },
      {
        "duration": 164,
        "start_time": "2022-06-08T04:53:42.661Z"
      },
      {
        "duration": 1333,
        "start_time": "2022-06-08T04:53:42.827Z"
      },
      {
        "duration": 31190,
        "start_time": "2022-06-08T04:53:44.162Z"
      },
      {
        "duration": 13770,
        "start_time": "2022-06-08T04:54:15.354Z"
      },
      {
        "duration": 99324,
        "start_time": "2022-06-08T04:54:29.125Z"
      },
      {
        "duration": 12721,
        "start_time": "2022-06-08T04:56:08.451Z"
      },
      {
        "duration": 3,
        "start_time": "2022-06-08T04:56:21.174Z"
      },
      {
        "duration": 10,
        "start_time": "2022-06-08T04:56:21.178Z"
      },
      {
        "duration": 151,
        "start_time": "2022-06-08T04:56:21.191Z"
      },
      {
        "duration": 0,
        "start_time": "2022-06-08T04:56:21.344Z"
      },
      {
        "duration": 0,
        "start_time": "2022-06-08T04:56:21.345Z"
      },
      {
        "duration": 0,
        "start_time": "2022-06-08T04:56:21.347Z"
      },
      {
        "duration": 0,
        "start_time": "2022-06-08T04:56:21.349Z"
      },
      {
        "duration": 0,
        "start_time": "2022-06-08T04:56:21.350Z"
      },
      {
        "duration": 0,
        "start_time": "2022-06-08T04:56:21.423Z"
      },
      {
        "duration": 0,
        "start_time": "2022-06-08T04:56:21.425Z"
      },
      {
        "duration": 3,
        "start_time": "2022-06-08T05:03:14.087Z"
      },
      {
        "duration": 6,
        "start_time": "2022-06-08T05:03:14.091Z"
      },
      {
        "duration": 28,
        "start_time": "2022-06-08T05:03:14.099Z"
      },
      {
        "duration": 293,
        "start_time": "2022-06-08T05:03:14.130Z"
      },
      {
        "duration": 6011,
        "start_time": "2022-06-08T05:03:14.425Z"
      },
      {
        "duration": 893,
        "start_time": "2022-06-08T05:03:20.438Z"
      },
      {
        "duration": 4930,
        "start_time": "2022-06-08T05:03:21.333Z"
      },
      {
        "duration": 3668,
        "start_time": "2022-06-08T05:03:26.265Z"
      },
      {
        "duration": 6,
        "start_time": "2022-06-08T05:03:29.934Z"
      },
      {
        "duration": 28,
        "start_time": "2022-06-08T05:03:29.942Z"
      },
      {
        "duration": 10,
        "start_time": "2022-06-08T05:09:15.559Z"
      },
      {
        "duration": 11,
        "start_time": "2022-06-08T05:09:33.349Z"
      },
      {
        "duration": 15,
        "start_time": "2022-06-08T05:09:48.283Z"
      },
      {
        "duration": 9,
        "start_time": "2022-06-08T05:09:53.826Z"
      },
      {
        "duration": 17,
        "start_time": "2022-06-08T05:10:01.437Z"
      },
      {
        "duration": 10,
        "start_time": "2022-06-08T05:10:10.534Z"
      },
      {
        "duration": 4,
        "start_time": "2022-06-08T05:11:11.099Z"
      },
      {
        "duration": 3,
        "start_time": "2022-06-08T05:11:43.884Z"
      },
      {
        "duration": 6,
        "start_time": "2022-06-08T05:12:15.058Z"
      },
      {
        "duration": 8,
        "start_time": "2022-06-08T08:24:40.711Z"
      },
      {
        "duration": 1642,
        "start_time": "2022-06-08T08:24:40.722Z"
      },
      {
        "duration": 51,
        "start_time": "2022-06-08T08:24:42.366Z"
      },
      {
        "duration": 3,
        "start_time": "2022-06-08T08:24:42.419Z"
      },
      {
        "duration": 17,
        "start_time": "2022-06-08T08:24:42.424Z"
      },
      {
        "duration": 490,
        "start_time": "2022-06-08T08:24:42.442Z"
      },
      {
        "duration": 4,
        "start_time": "2022-06-08T08:24:42.934Z"
      },
      {
        "duration": 412,
        "start_time": "2022-06-08T08:24:42.939Z"
      },
      {
        "duration": 92,
        "start_time": "2022-06-08T08:24:43.352Z"
      },
      {
        "duration": 962,
        "start_time": "2022-06-08T08:24:43.446Z"
      },
      {
        "duration": 354,
        "start_time": "2022-06-08T08:24:44.410Z"
      },
      {
        "duration": 341,
        "start_time": "2022-06-08T08:24:44.766Z"
      },
      {
        "duration": 4,
        "start_time": "2022-06-08T08:24:45.109Z"
      },
      {
        "duration": 26,
        "start_time": "2022-06-08T08:24:45.115Z"
      },
      {
        "duration": 18,
        "start_time": "2022-06-08T08:24:45.142Z"
      },
      {
        "duration": 8,
        "start_time": "2022-06-08T08:24:45.161Z"
      },
      {
        "duration": 14,
        "start_time": "2022-06-08T08:24:45.170Z"
      },
      {
        "duration": 5,
        "start_time": "2022-06-08T08:24:45.185Z"
      },
      {
        "duration": 70,
        "start_time": "2022-06-08T08:24:45.192Z"
      },
      {
        "duration": 96,
        "start_time": "2022-06-08T08:24:45.263Z"
      },
      {
        "duration": 1354,
        "start_time": "2022-06-08T08:24:45.360Z"
      },
      {
        "duration": 29841,
        "start_time": "2022-06-08T08:24:46.715Z"
      },
      {
        "duration": 13908,
        "start_time": "2022-06-08T08:25:16.559Z"
      },
      {
        "duration": 329992,
        "start_time": "2022-06-08T08:25:30.469Z"
      },
      {
        "duration": 13340,
        "start_time": "2022-06-08T08:31:00.463Z"
      },
      {
        "duration": 2,
        "start_time": "2022-06-08T08:31:13.804Z"
      },
      {
        "duration": 9,
        "start_time": "2022-06-08T08:31:13.808Z"
      },
      {
        "duration": 18,
        "start_time": "2022-06-08T08:31:13.819Z"
      },
      {
        "duration": 233,
        "start_time": "2022-06-08T08:31:13.838Z"
      },
      {
        "duration": 6043,
        "start_time": "2022-06-08T08:31:14.072Z"
      },
      {
        "duration": 952,
        "start_time": "2022-06-08T08:31:20.116Z"
      },
      {
        "duration": 5324,
        "start_time": "2022-06-08T08:31:21.069Z"
      },
      {
        "duration": 3965,
        "start_time": "2022-06-08T08:31:26.395Z"
      },
      {
        "duration": 3,
        "start_time": "2022-06-08T08:31:30.362Z"
      },
      {
        "duration": 28,
        "start_time": "2022-06-08T08:31:30.367Z"
      },
      {
        "duration": 3,
        "start_time": "2022-06-08T10:51:04.805Z"
      },
      {
        "duration": 4,
        "start_time": "2022-06-08T10:51:17.927Z"
      },
      {
        "duration": 18,
        "start_time": "2022-06-08T11:04:31.554Z"
      },
      {
        "duration": 8,
        "start_time": "2022-06-08T20:11:57.940Z"
      },
      {
        "duration": 4594,
        "start_time": "2022-06-08T20:11:57.950Z"
      },
      {
        "duration": 145,
        "start_time": "2022-06-08T20:12:02.546Z"
      },
      {
        "duration": 3,
        "start_time": "2022-06-08T20:12:02.693Z"
      },
      {
        "duration": 26,
        "start_time": "2022-06-08T20:12:02.698Z"
      },
      {
        "duration": 590,
        "start_time": "2022-06-08T20:12:02.726Z"
      },
      {
        "duration": 5,
        "start_time": "2022-06-08T20:12:03.318Z"
      },
      {
        "duration": 517,
        "start_time": "2022-06-08T20:12:03.327Z"
      },
      {
        "duration": 118,
        "start_time": "2022-06-08T20:12:03.846Z"
      },
      {
        "duration": 959,
        "start_time": "2022-06-08T20:12:03.965Z"
      },
      {
        "duration": 410,
        "start_time": "2022-06-08T20:12:04.926Z"
      },
      {
        "duration": 371,
        "start_time": "2022-06-08T20:12:05.338Z"
      },
      {
        "duration": 4,
        "start_time": "2022-06-08T20:12:05.711Z"
      },
      {
        "duration": 20,
        "start_time": "2022-06-08T20:12:05.719Z"
      },
      {
        "duration": 22,
        "start_time": "2022-06-08T20:12:05.740Z"
      },
      {
        "duration": 19,
        "start_time": "2022-06-08T20:12:05.768Z"
      },
      {
        "duration": 20,
        "start_time": "2022-06-08T20:12:05.790Z"
      },
      {
        "duration": 7,
        "start_time": "2022-06-08T20:12:05.812Z"
      },
      {
        "duration": 59,
        "start_time": "2022-06-08T20:12:05.821Z"
      },
      {
        "duration": 175,
        "start_time": "2022-06-08T20:12:05.882Z"
      },
      {
        "duration": 113,
        "start_time": "2022-06-08T20:12:06.062Z"
      },
      {
        "duration": 1346,
        "start_time": "2022-06-08T20:12:06.177Z"
      },
      {
        "duration": 5,
        "start_time": "2022-06-08T20:12:07.525Z"
      },
      {
        "duration": 30260,
        "start_time": "2022-06-08T20:12:07.532Z"
      },
      {
        "duration": 1248469,
        "start_time": "2022-06-08T20:12:37.794Z"
      },
      {
        "duration": 35,
        "start_time": "2022-06-09T01:58:03.242Z"
      },
      {
        "duration": 8,
        "start_time": "2022-06-09T02:03:58.127Z"
      },
      {
        "duration": 76,
        "start_time": "2022-06-09T09:43:41.262Z"
      },
      {
        "duration": 3,
        "start_time": "2022-06-09T09:43:45.081Z"
      },
      {
        "duration": 1863,
        "start_time": "2022-06-09T09:43:45.087Z"
      },
      {
        "duration": 139,
        "start_time": "2022-06-09T09:43:46.952Z"
      },
      {
        "duration": 7,
        "start_time": "2022-06-09T09:43:50.272Z"
      },
      {
        "duration": 7,
        "start_time": "2022-06-09T09:44:30.194Z"
      },
      {
        "duration": 10,
        "start_time": "2022-06-09T09:44:43.879Z"
      },
      {
        "duration": 10,
        "start_time": "2022-06-09T09:44:52.680Z"
      },
      {
        "duration": 10,
        "start_time": "2022-06-09T09:46:10.424Z"
      },
      {
        "duration": 11,
        "start_time": "2022-06-09T09:46:20.345Z"
      },
      {
        "duration": 7,
        "start_time": "2022-06-09T09:47:13.666Z"
      },
      {
        "duration": 271,
        "start_time": "2022-06-09T09:47:32.254Z"
      },
      {
        "duration": 291,
        "start_time": "2022-06-09T09:47:36.373Z"
      },
      {
        "duration": 165,
        "start_time": "2022-06-09T09:47:49.389Z"
      },
      {
        "duration": 257,
        "start_time": "2022-06-09T09:47:52.617Z"
      },
      {
        "duration": 10,
        "start_time": "2022-06-09T09:49:44.589Z"
      },
      {
        "duration": 8,
        "start_time": "2022-06-09T09:49:54.317Z"
      },
      {
        "duration": 14,
        "start_time": "2022-06-09T09:50:06.030Z"
      },
      {
        "duration": 12,
        "start_time": "2022-06-09T09:50:14.022Z"
      },
      {
        "duration": 510,
        "start_time": "2022-06-09T09:51:18.058Z"
      },
      {
        "duration": 504,
        "start_time": "2022-06-09T09:51:32.361Z"
      },
      {
        "duration": 15,
        "start_time": "2022-06-09T09:51:38.826Z"
      },
      {
        "duration": 14,
        "start_time": "2022-06-09T09:51:48.014Z"
      },
      {
        "duration": 21,
        "start_time": "2022-06-09T09:56:29.227Z"
      },
      {
        "duration": 6,
        "start_time": "2022-06-09T09:56:35.466Z"
      },
      {
        "duration": 16,
        "start_time": "2022-06-09T09:57:55.844Z"
      },
      {
        "duration": 15,
        "start_time": "2022-06-09T09:57:58.162Z"
      },
      {
        "duration": 6,
        "start_time": "2022-06-09T09:58:02.659Z"
      },
      {
        "duration": 14,
        "start_time": "2022-06-09T09:59:23.846Z"
      },
      {
        "duration": 140,
        "start_time": "2022-06-09T10:00:32.908Z"
      },
      {
        "duration": 138,
        "start_time": "2022-06-09T10:00:40.214Z"
      },
      {
        "duration": 126,
        "start_time": "2022-06-09T10:00:52.494Z"
      },
      {
        "duration": 133,
        "start_time": "2022-06-09T10:00:58.328Z"
      },
      {
        "duration": 6,
        "start_time": "2022-06-09T10:02:00.911Z"
      },
      {
        "duration": 11,
        "start_time": "2022-06-09T10:02:32.480Z"
      },
      {
        "duration": 11,
        "start_time": "2022-06-09T10:03:48.165Z"
      },
      {
        "duration": 8,
        "start_time": "2022-06-09T10:04:05.532Z"
      },
      {
        "duration": 15,
        "start_time": "2022-06-09T10:04:59.520Z"
      },
      {
        "duration": 10,
        "start_time": "2022-06-09T10:05:47.143Z"
      },
      {
        "duration": 195,
        "start_time": "2022-06-09T10:07:42.095Z"
      },
      {
        "duration": 3,
        "start_time": "2022-06-09T10:07:46.503Z"
      },
      {
        "duration": 46,
        "start_time": "2022-06-09T10:07:46.509Z"
      },
      {
        "duration": 130,
        "start_time": "2022-06-09T10:07:46.558Z"
      },
      {
        "duration": 266,
        "start_time": "2022-06-09T10:07:46.689Z"
      },
      {
        "duration": 22,
        "start_time": "2022-06-09T10:07:46.958Z"
      },
      {
        "duration": 298,
        "start_time": "2022-06-09T10:07:46.983Z"
      },
      {
        "duration": 6,
        "start_time": "2022-06-09T10:07:47.283Z"
      },
      {
        "duration": 18,
        "start_time": "2022-06-09T10:07:47.291Z"
      },
      {
        "duration": 61,
        "start_time": "2022-06-09T10:07:47.312Z"
      },
      {
        "duration": 17,
        "start_time": "2022-06-09T10:07:47.375Z"
      },
      {
        "duration": 29,
        "start_time": "2022-06-09T10:07:47.396Z"
      },
      {
        "duration": 695,
        "start_time": "2022-06-09T10:07:47.427Z"
      },
      {
        "duration": 21,
        "start_time": "2022-06-09T10:07:48.125Z"
      },
      {
        "duration": 665,
        "start_time": "2022-06-09T10:07:48.152Z"
      },
      {
        "duration": 228,
        "start_time": "2022-06-09T10:07:48.819Z"
      },
      {
        "duration": 1256,
        "start_time": "2022-06-09T10:07:49.049Z"
      },
      {
        "duration": 515,
        "start_time": "2022-06-09T10:07:50.307Z"
      },
      {
        "duration": 328,
        "start_time": "2022-06-09T10:07:54.584Z"
      },
      {
        "duration": 333,
        "start_time": "2022-06-09T10:08:17.821Z"
      },
      {
        "duration": 44,
        "start_time": "2022-06-09T11:31:21.403Z"
      },
      {
        "duration": 23,
        "start_time": "2022-06-09T11:31:29.094Z"
      },
      {
        "duration": 44,
        "start_time": "2022-06-09T11:31:34.379Z"
      },
      {
        "duration": 3,
        "start_time": "2022-06-09T11:36:15.869Z"
      },
      {
        "duration": 20,
        "start_time": "2022-06-09T11:36:15.874Z"
      },
      {
        "duration": 81,
        "start_time": "2022-06-09T11:36:15.896Z"
      },
      {
        "duration": 230,
        "start_time": "2022-06-09T11:36:16.002Z"
      },
      {
        "duration": 16,
        "start_time": "2022-06-09T11:36:16.237Z"
      },
      {
        "duration": 236,
        "start_time": "2022-06-09T11:36:16.255Z"
      },
      {
        "duration": 6,
        "start_time": "2022-06-09T11:36:16.493Z"
      },
      {
        "duration": 19,
        "start_time": "2022-06-09T11:36:16.501Z"
      },
      {
        "duration": 26,
        "start_time": "2022-06-09T11:36:16.522Z"
      },
      {
        "duration": 14,
        "start_time": "2022-06-09T11:36:16.550Z"
      },
      {
        "duration": 23,
        "start_time": "2022-06-09T11:36:16.566Z"
      },
      {
        "duration": 440,
        "start_time": "2022-06-09T11:36:16.591Z"
      },
      {
        "duration": 12,
        "start_time": "2022-06-09T11:36:17.034Z"
      },
      {
        "duration": 610,
        "start_time": "2022-06-09T11:36:17.047Z"
      },
      {
        "duration": 120,
        "start_time": "2022-06-09T11:36:17.659Z"
      },
      {
        "duration": 982,
        "start_time": "2022-06-09T11:36:17.781Z"
      },
      {
        "duration": 483,
        "start_time": "2022-06-09T11:36:18.765Z"
      },
      {
        "duration": 756,
        "start_time": "2022-06-09T11:36:19.250Z"
      },
      {
        "duration": 832,
        "start_time": "2022-06-09T11:36:20.008Z"
      },
      {
        "duration": 100,
        "start_time": "2022-06-09T11:36:20.841Z"
      },
      {
        "duration": 1253,
        "start_time": "2022-06-09T11:36:20.945Z"
      },
      {
        "duration": 17,
        "start_time": "2022-06-09T11:36:22.200Z"
      },
      {
        "duration": 33,
        "start_time": "2022-06-09T11:36:22.219Z"
      },
      {
        "duration": 3,
        "start_time": "2022-06-09T11:36:25.261Z"
      },
      {
        "duration": 4,
        "start_time": "2022-06-09T11:36:31.259Z"
      },
      {
        "duration": 13,
        "start_time": "2022-06-09T11:44:30.825Z"
      },
      {
        "duration": 6,
        "start_time": "2022-06-09T11:44:32.748Z"
      },
      {
        "duration": 492,
        "start_time": "2022-06-09T11:47:38.100Z"
      },
      {
        "duration": 18,
        "start_time": "2022-06-09T11:47:47.754Z"
      },
      {
        "duration": 17,
        "start_time": "2022-06-09T11:48:00.400Z"
      },
      {
        "duration": 12,
        "start_time": "2022-06-09T11:48:41.197Z"
      },
      {
        "duration": 209,
        "start_time": "2022-06-09T11:50:31.991Z"
      },
      {
        "duration": 100,
        "start_time": "2022-06-09T11:50:50.053Z"
      },
      {
        "duration": 17,
        "start_time": "2022-06-09T11:51:01.899Z"
      },
      {
        "duration": 7,
        "start_time": "2022-06-09T11:51:06.667Z"
      },
      {
        "duration": 106,
        "start_time": "2022-06-09T11:51:12.803Z"
      },
      {
        "duration": 191,
        "start_time": "2022-06-09T11:51:24.897Z"
      },
      {
        "duration": 5,
        "start_time": "2022-06-09T11:51:36.526Z"
      },
      {
        "duration": 25,
        "start_time": "2022-06-09T11:51:44.254Z"
      },
      {
        "duration": 6,
        "start_time": "2022-06-09T11:51:48.204Z"
      },
      {
        "duration": 26,
        "start_time": "2022-06-09T11:52:00.906Z"
      },
      {
        "duration": 23,
        "start_time": "2022-06-09T11:52:39.147Z"
      },
      {
        "duration": 10,
        "start_time": "2022-06-09T11:53:23.755Z"
      },
      {
        "duration": 4,
        "start_time": "2022-06-09T11:53:30.599Z"
      },
      {
        "duration": 4,
        "start_time": "2022-06-09T11:54:09.891Z"
      },
      {
        "duration": 8,
        "start_time": "2022-06-09T11:54:32.423Z"
      },
      {
        "duration": 6,
        "start_time": "2022-06-09T11:54:35.202Z"
      },
      {
        "duration": 5,
        "start_time": "2022-06-09T11:54:57.051Z"
      },
      {
        "duration": 7,
        "start_time": "2022-06-09T11:55:01.455Z"
      },
      {
        "duration": 4,
        "start_time": "2022-06-09T11:55:14.515Z"
      },
      {
        "duration": 4,
        "start_time": "2022-06-09T11:55:16.614Z"
      },
      {
        "duration": 6,
        "start_time": "2022-06-09T11:55:34.615Z"
      },
      {
        "duration": 5,
        "start_time": "2022-06-09T11:55:42.308Z"
      },
      {
        "duration": 4,
        "start_time": "2022-06-09T11:55:51.035Z"
      },
      {
        "duration": 17,
        "start_time": "2022-06-09T11:56:05.928Z"
      },
      {
        "duration": 16,
        "start_time": "2022-06-09T11:56:45.289Z"
      },
      {
        "duration": 19,
        "start_time": "2022-06-09T11:59:53.820Z"
      },
      {
        "duration": 42,
        "start_time": "2022-06-09T12:01:18.467Z"
      },
      {
        "duration": 43,
        "start_time": "2022-06-09T12:01:34.886Z"
      },
      {
        "duration": 18,
        "start_time": "2022-06-09T12:01:36.990Z"
      },
      {
        "duration": 12,
        "start_time": "2022-06-09T12:04:25.664Z"
      },
      {
        "duration": 14,
        "start_time": "2022-06-09T12:04:59.442Z"
      },
      {
        "duration": 9,
        "start_time": "2022-06-09T12:05:09.343Z"
      },
      {
        "duration": 12,
        "start_time": "2022-06-09T12:05:26.239Z"
      },
      {
        "duration": 4,
        "start_time": "2022-06-09T12:05:34.043Z"
      },
      {
        "duration": 14,
        "start_time": "2022-06-09T12:05:34.049Z"
      },
      {
        "duration": 56,
        "start_time": "2022-06-09T12:05:34.065Z"
      },
      {
        "duration": 207,
        "start_time": "2022-06-09T12:05:34.123Z"
      },
      {
        "duration": 19,
        "start_time": "2022-06-09T12:05:34.334Z"
      },
      {
        "duration": 182,
        "start_time": "2022-06-09T12:05:34.357Z"
      },
      {
        "duration": 8,
        "start_time": "2022-06-09T12:05:34.541Z"
      },
      {
        "duration": 21,
        "start_time": "2022-06-09T12:05:34.552Z"
      },
      {
        "duration": 19,
        "start_time": "2022-06-09T12:05:34.576Z"
      },
      {
        "duration": 11,
        "start_time": "2022-06-09T12:05:34.598Z"
      },
      {
        "duration": 19,
        "start_time": "2022-06-09T12:05:34.613Z"
      },
      {
        "duration": 529,
        "start_time": "2022-06-09T12:05:34.634Z"
      },
      {
        "duration": 6,
        "start_time": "2022-06-09T12:05:35.165Z"
      },
      {
        "duration": 464,
        "start_time": "2022-06-09T12:05:35.172Z"
      },
      {
        "duration": 128,
        "start_time": "2022-06-09T12:05:35.639Z"
      },
      {
        "duration": 1010,
        "start_time": "2022-06-09T12:05:35.769Z"
      },
      {
        "duration": 402,
        "start_time": "2022-06-09T12:05:36.781Z"
      },
      {
        "duration": 222,
        "start_time": "2022-06-09T12:05:37.184Z"
      },
      {
        "duration": 387,
        "start_time": "2022-06-09T12:05:37.408Z"
      },
      {
        "duration": 4,
        "start_time": "2022-06-09T12:05:37.797Z"
      },
      {
        "duration": 32,
        "start_time": "2022-06-09T12:05:37.803Z"
      },
      {
        "duration": 31,
        "start_time": "2022-06-09T12:05:37.837Z"
      },
      {
        "duration": 20,
        "start_time": "2022-06-09T12:05:37.870Z"
      },
      {
        "duration": 5,
        "start_time": "2022-06-09T12:05:37.892Z"
      },
      {
        "duration": 39,
        "start_time": "2022-06-09T12:05:37.898Z"
      },
      {
        "duration": 26,
        "start_time": "2022-06-09T12:05:37.940Z"
      },
      {
        "duration": 24,
        "start_time": "2022-06-09T12:05:41.225Z"
      },
      {
        "duration": 19,
        "start_time": "2022-06-09T12:05:43.765Z"
      },
      {
        "duration": 16,
        "start_time": "2022-06-09T12:05:48.191Z"
      },
      {
        "duration": 11,
        "start_time": "2022-06-09T12:05:56.835Z"
      },
      {
        "duration": 17,
        "start_time": "2022-06-09T12:06:56.605Z"
      },
      {
        "duration": 4,
        "start_time": "2022-06-09T12:07:09.503Z"
      },
      {
        "duration": 5,
        "start_time": "2022-06-09T12:07:23.163Z"
      },
      {
        "duration": 4,
        "start_time": "2022-06-09T12:07:37.348Z"
      },
      {
        "duration": 14,
        "start_time": "2022-06-09T12:09:50.130Z"
      },
      {
        "duration": 17,
        "start_time": "2022-06-09T12:09:58.163Z"
      },
      {
        "duration": 20,
        "start_time": "2022-06-09T12:10:00.386Z"
      },
      {
        "duration": 18,
        "start_time": "2022-06-09T12:10:13.393Z"
      },
      {
        "duration": 24,
        "start_time": "2022-06-09T12:10:18.590Z"
      },
      {
        "duration": 13,
        "start_time": "2022-06-09T12:10:38.107Z"
      },
      {
        "duration": 1280,
        "start_time": "2022-06-09T12:11:45.183Z"
      },
      {
        "duration": 16,
        "start_time": "2022-06-09T12:12:28.526Z"
      },
      {
        "duration": 13,
        "start_time": "2022-06-09T12:12:37.766Z"
      },
      {
        "duration": 11,
        "start_time": "2022-06-09T12:12:41.110Z"
      },
      {
        "duration": 6,
        "start_time": "2022-06-09T12:13:11.979Z"
      },
      {
        "duration": 11,
        "start_time": "2022-06-09T13:37:45.950Z"
      },
      {
        "duration": 13,
        "start_time": "2022-06-09T13:39:08.287Z"
      },
      {
        "duration": 11,
        "start_time": "2022-06-09T13:45:57.799Z"
      },
      {
        "duration": 41,
        "start_time": "2022-06-09T13:50:43.103Z"
      },
      {
        "duration": 11,
        "start_time": "2022-06-09T13:50:58.761Z"
      },
      {
        "duration": 5,
        "start_time": "2022-06-09T13:51:25.018Z"
      },
      {
        "duration": 4,
        "start_time": "2022-06-09T13:53:22.703Z"
      },
      {
        "duration": 947,
        "start_time": "2022-06-09T13:53:27.066Z"
      },
      {
        "duration": 5,
        "start_time": "2022-06-09T13:53:53.195Z"
      },
      {
        "duration": 923,
        "start_time": "2022-06-09T13:53:55.587Z"
      },
      {
        "duration": 15,
        "start_time": "2022-06-09T13:54:14.953Z"
      },
      {
        "duration": 4,
        "start_time": "2022-06-09T13:54:23.268Z"
      },
      {
        "duration": 983,
        "start_time": "2022-06-09T13:54:30.502Z"
      },
      {
        "duration": 6,
        "start_time": "2022-06-09T13:55:47.942Z"
      },
      {
        "duration": 13,
        "start_time": "2022-06-09T13:58:02.486Z"
      },
      {
        "duration": 36,
        "start_time": "2022-06-09T13:58:18.610Z"
      },
      {
        "duration": 24,
        "start_time": "2022-06-09T13:58:36.817Z"
      },
      {
        "duration": 738,
        "start_time": "2022-06-09T13:58:39.061Z"
      },
      {
        "duration": 16199,
        "start_time": "2022-06-09T14:02:14.227Z"
      },
      {
        "duration": 297323,
        "start_time": "2022-06-09T14:03:02.604Z"
      },
      {
        "duration": 1155430,
        "start_time": "2022-06-09T14:08:06.934Z"
      },
      {
        "duration": 10007,
        "start_time": "2022-06-09T14:27:47.053Z"
      },
      {
        "duration": 6,
        "start_time": "2022-06-09T14:29:57.151Z"
      },
      {
        "duration": 7,
        "start_time": "2022-06-09T14:31:05.547Z"
      },
      {
        "duration": 6,
        "start_time": "2022-06-09T14:31:10.353Z"
      },
      {
        "duration": 32,
        "start_time": "2022-06-09T14:31:17.366Z"
      },
      {
        "duration": 7,
        "start_time": "2022-06-09T14:31:31.767Z"
      },
      {
        "duration": 9,
        "start_time": "2022-06-09T14:31:44.555Z"
      },
      {
        "duration": 13,
        "start_time": "2022-06-09T14:32:14.425Z"
      },
      {
        "duration": 14,
        "start_time": "2022-06-09T14:42:35.307Z"
      },
      {
        "duration": 14,
        "start_time": "2022-06-09T14:45:30.200Z"
      },
      {
        "duration": 126,
        "start_time": "2022-06-09T14:45:48.430Z"
      },
      {
        "duration": 27,
        "start_time": "2022-06-09T14:45:58.200Z"
      },
      {
        "duration": 379,
        "start_time": "2022-06-09T14:47:59.311Z"
      },
      {
        "duration": 487,
        "start_time": "2022-06-09T14:48:10.302Z"
      },
      {
        "duration": 232,
        "start_time": "2022-06-09T14:48:33.600Z"
      },
      {
        "duration": 457,
        "start_time": "2022-06-09T14:49:01.202Z"
      },
      {
        "duration": 991,
        "start_time": "2022-06-09T14:49:27.411Z"
      },
      {
        "duration": 487,
        "start_time": "2022-06-09T14:49:47.518Z"
      },
      {
        "duration": 2139,
        "start_time": "2022-06-09T14:50:03.155Z"
      },
      {
        "duration": 607,
        "start_time": "2022-06-09T14:50:36.525Z"
      },
      {
        "duration": 3,
        "start_time": "2022-06-09T14:50:59.605Z"
      },
      {
        "duration": 10,
        "start_time": "2022-06-09T14:50:59.610Z"
      },
      {
        "duration": 62,
        "start_time": "2022-06-09T14:50:59.621Z"
      },
      {
        "duration": 196,
        "start_time": "2022-06-09T14:50:59.685Z"
      },
      {
        "duration": 12,
        "start_time": "2022-06-09T14:50:59.884Z"
      },
      {
        "duration": 143,
        "start_time": "2022-06-09T14:50:59.898Z"
      },
      {
        "duration": 6,
        "start_time": "2022-06-09T14:51:00.043Z"
      },
      {
        "duration": 10,
        "start_time": "2022-06-09T14:51:00.051Z"
      },
      {
        "duration": 7,
        "start_time": "2022-06-09T14:51:00.063Z"
      },
      {
        "duration": 40,
        "start_time": "2022-06-09T14:51:00.072Z"
      },
      {
        "duration": 41,
        "start_time": "2022-06-09T14:51:00.114Z"
      },
      {
        "duration": 447,
        "start_time": "2022-06-09T14:51:03.138Z"
      },
      {
        "duration": 229,
        "start_time": "2022-06-09T14:51:43.499Z"
      },
      {
        "duration": 228,
        "start_time": "2022-06-09T14:51:51.614Z"
      },
      {
        "duration": 2,
        "start_time": "2022-06-09T14:51:58.108Z"
      },
      {
        "duration": 9,
        "start_time": "2022-06-09T14:51:58.112Z"
      },
      {
        "duration": 65,
        "start_time": "2022-06-09T14:51:58.123Z"
      },
      {
        "duration": 213,
        "start_time": "2022-06-09T14:51:59.741Z"
      }
    ],
    "colab": {
      "provenance": []
    },
    "kernelspec": {
      "display_name": "Python 3 (ipykernel)",
      "language": "python",
      "name": "python3"
    },
    "language_info": {
      "codemirror_mode": {
        "name": "ipython",
        "version": 3
      },
      "file_extension": ".py",
      "mimetype": "text/x-python",
      "name": "python",
      "nbconvert_exporter": "python",
      "pygments_lexer": "ipython3",
      "version": "3.9.5"
    },
    "toc": {
      "base_numbering": 1,
      "nav_menu": {},
      "number_sections": true,
      "sideBar": true,
      "skip_h1_title": true,
      "title_cell": "Содержание",
      "title_sidebar": "Contents",
      "toc_cell": true,
      "toc_position": {
        "height": "calc(100% - 180px)",
        "left": "10px",
        "top": "150px",
        "width": "238.391px"
      },
      "toc_section_display": true,
      "toc_window_display": true
    }
  },
  "nbformat": 4,
  "nbformat_minor": 0
}
