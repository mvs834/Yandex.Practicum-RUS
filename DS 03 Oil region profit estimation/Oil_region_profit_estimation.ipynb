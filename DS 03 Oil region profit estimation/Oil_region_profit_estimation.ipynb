{
  "cells": [
    {
      "cell_type": "markdown",
      "metadata": {
        "id": "Q44otTiQj7-L"
      },
      "source": [
        "# Описание проекта"
      ]
    },
    {
      "cell_type": "markdown",
      "metadata": {
        "id": "GwnxsCTLj7-L"
      },
      "source": [
        "Необходимо решить в каком из регионов наиболее прибыльно и наименее рискованно бурить новую скважину на основе данных о качестве нефти и объёме запасов"
      ]
    },
    {
      "cell_type": "markdown",
      "metadata": {
        "id": "9lMeNKV3j7-M"
      },
      "source": [
        "## Загрузка и подготовка данных"
      ]
    },
    {
      "cell_type": "code",
      "execution_count": null,
      "metadata": {
        "id": "kdqBniLAj7-M"
      },
      "outputs": [],
      "source": [
        "import pandas as pd\n",
        "import seaborn as sn\n",
        "import matplotlib.pyplot as plt\n",
        "\n",
        "from sklearn.model_selection import GridSearchCV, train_test_split\n",
        "from sklearn.preprocessing import StandardScaler\n",
        "from sklearn.preprocessing import OrdinalEncoder\n",
        "\n",
        "from sklearn.linear_model import LinearRegression\n",
        "\n",
        "from sklearn.metrics import mean_squared_error\n",
        "from sklearn.metrics import r2_score\n",
        "from sklearn.metrics import mean_absolute_error\n",
        "\n",
        "from sklearn.metrics import make_scorer\n",
        "import sklearn\n",
        "from numpy.random import RandomState"
      ]
    },
    {
      "cell_type": "code",
      "execution_count": null,
      "metadata": {
        "id": "GEGZSk_cj7-O"
      },
      "outputs": [],
      "source": [
        "data_0 = pd.read_csv('/datasets/geo_data_0.csv')\n",
        "data_1 = pd.read_csv('/datasets/geo_data_1.csv')\n",
        "data_2 = pd.read_csv('/datasets/geo_data_2.csv')"
      ]
    },
    {
      "cell_type": "code",
      "execution_count": null,
      "metadata": {
        "id": "FQrzmUuNj7-O",
        "outputId": "7e175472-5182-4f49-da6a-b4cdfede541f",
        "scrolled": true
      },
      "outputs": [
        {
          "data": {
            "text/html": [
              "<div>\n",
              "<style scoped>\n",
              "    .dataframe tbody tr th:only-of-type {\n",
              "        vertical-align: middle;\n",
              "    }\n",
              "\n",
              "    .dataframe tbody tr th {\n",
              "        vertical-align: top;\n",
              "    }\n",
              "\n",
              "    .dataframe thead th {\n",
              "        text-align: right;\n",
              "    }\n",
              "</style>\n",
              "<table border=\"1\" class=\"dataframe\">\n",
              "  <thead>\n",
              "    <tr style=\"text-align: right;\">\n",
              "      <th></th>\n",
              "      <th>id</th>\n",
              "      <th>f0</th>\n",
              "      <th>f1</th>\n",
              "      <th>f2</th>\n",
              "      <th>product</th>\n",
              "    </tr>\n",
              "  </thead>\n",
              "  <tbody>\n",
              "    <tr>\n",
              "      <th>0</th>\n",
              "      <td>txEyH</td>\n",
              "      <td>0.705745</td>\n",
              "      <td>-0.497823</td>\n",
              "      <td>1.221170</td>\n",
              "      <td>105.280062</td>\n",
              "    </tr>\n",
              "    <tr>\n",
              "      <th>1</th>\n",
              "      <td>2acmU</td>\n",
              "      <td>1.334711</td>\n",
              "      <td>-0.340164</td>\n",
              "      <td>4.365080</td>\n",
              "      <td>73.037750</td>\n",
              "    </tr>\n",
              "    <tr>\n",
              "      <th>2</th>\n",
              "      <td>409Wp</td>\n",
              "      <td>1.022732</td>\n",
              "      <td>0.151990</td>\n",
              "      <td>1.419926</td>\n",
              "      <td>85.265647</td>\n",
              "    </tr>\n",
              "    <tr>\n",
              "      <th>3</th>\n",
              "      <td>iJLyR</td>\n",
              "      <td>-0.032172</td>\n",
              "      <td>0.139033</td>\n",
              "      <td>2.978566</td>\n",
              "      <td>168.620776</td>\n",
              "    </tr>\n",
              "    <tr>\n",
              "      <th>4</th>\n",
              "      <td>Xdl7t</td>\n",
              "      <td>1.988431</td>\n",
              "      <td>0.155413</td>\n",
              "      <td>4.751769</td>\n",
              "      <td>154.036647</td>\n",
              "    </tr>\n",
              "    <tr>\n",
              "      <th>...</th>\n",
              "      <td>...</td>\n",
              "      <td>...</td>\n",
              "      <td>...</td>\n",
              "      <td>...</td>\n",
              "      <td>...</td>\n",
              "    </tr>\n",
              "    <tr>\n",
              "      <th>99995</th>\n",
              "      <td>DLsed</td>\n",
              "      <td>0.971957</td>\n",
              "      <td>0.370953</td>\n",
              "      <td>6.075346</td>\n",
              "      <td>110.744026</td>\n",
              "    </tr>\n",
              "    <tr>\n",
              "      <th>99996</th>\n",
              "      <td>QKivN</td>\n",
              "      <td>1.392429</td>\n",
              "      <td>-0.382606</td>\n",
              "      <td>1.273912</td>\n",
              "      <td>122.346843</td>\n",
              "    </tr>\n",
              "    <tr>\n",
              "      <th>99997</th>\n",
              "      <td>3rnvd</td>\n",
              "      <td>1.029585</td>\n",
              "      <td>0.018787</td>\n",
              "      <td>-1.348308</td>\n",
              "      <td>64.375443</td>\n",
              "    </tr>\n",
              "    <tr>\n",
              "      <th>99998</th>\n",
              "      <td>7kl59</td>\n",
              "      <td>0.998163</td>\n",
              "      <td>-0.528582</td>\n",
              "      <td>1.583869</td>\n",
              "      <td>74.040764</td>\n",
              "    </tr>\n",
              "    <tr>\n",
              "      <th>99999</th>\n",
              "      <td>1CWhH</td>\n",
              "      <td>1.764754</td>\n",
              "      <td>-0.266417</td>\n",
              "      <td>5.722849</td>\n",
              "      <td>149.633246</td>\n",
              "    </tr>\n",
              "  </tbody>\n",
              "</table>\n",
              "<p>100000 rows × 5 columns</p>\n",
              "</div>"
            ],
            "text/plain": [
              "          id        f0        f1        f2     product\n",
              "0      txEyH  0.705745 -0.497823  1.221170  105.280062\n",
              "1      2acmU  1.334711 -0.340164  4.365080   73.037750\n",
              "2      409Wp  1.022732  0.151990  1.419926   85.265647\n",
              "3      iJLyR -0.032172  0.139033  2.978566  168.620776\n",
              "4      Xdl7t  1.988431  0.155413  4.751769  154.036647\n",
              "...      ...       ...       ...       ...         ...\n",
              "99995  DLsed  0.971957  0.370953  6.075346  110.744026\n",
              "99996  QKivN  1.392429 -0.382606  1.273912  122.346843\n",
              "99997  3rnvd  1.029585  0.018787 -1.348308   64.375443\n",
              "99998  7kl59  0.998163 -0.528582  1.583869   74.040764\n",
              "99999  1CWhH  1.764754 -0.266417  5.722849  149.633246\n",
              "\n",
              "[100000 rows x 5 columns]"
            ]
          },
          "execution_count": 3,
          "metadata": {},
          "output_type": "execute_result"
        }
      ],
      "source": [
        "data_0"
      ]
    },
    {
      "cell_type": "code",
      "execution_count": null,
      "metadata": {
        "id": "aKCAdhg_j7-P",
        "outputId": "6402411f-5b0a-42f2-ef0c-e7b471832129"
      },
      "outputs": [
        {
          "name": "stdout",
          "output_type": "stream",
          "text": [
            "<class 'pandas.core.frame.DataFrame'>\n",
            "RangeIndex: 100000 entries, 0 to 99999\n",
            "Data columns (total 5 columns):\n",
            " #   Column   Non-Null Count   Dtype  \n",
            "---  ------   --------------   -----  \n",
            " 0   id       100000 non-null  object \n",
            " 1   f0       100000 non-null  float64\n",
            " 2   f1       100000 non-null  float64\n",
            " 3   f2       100000 non-null  float64\n",
            " 4   product  100000 non-null  float64\n",
            "dtypes: float64(4), object(1)\n",
            "memory usage: 3.8+ MB\n"
          ]
        }
      ],
      "source": [
        "data_0.info()"
      ]
    },
    {
      "cell_type": "code",
      "execution_count": null,
      "metadata": {
        "id": "XRzMNCIDj7-Q",
        "outputId": "d5144389-5c5b-4f4c-dd3e-d2b629111b40",
        "scrolled": true
      },
      "outputs": [
        {
          "data": {
            "text/html": [
              "<div>\n",
              "<style scoped>\n",
              "    .dataframe tbody tr th:only-of-type {\n",
              "        vertical-align: middle;\n",
              "    }\n",
              "\n",
              "    .dataframe tbody tr th {\n",
              "        vertical-align: top;\n",
              "    }\n",
              "\n",
              "    .dataframe thead th {\n",
              "        text-align: right;\n",
              "    }\n",
              "</style>\n",
              "<table border=\"1\" class=\"dataframe\">\n",
              "  <thead>\n",
              "    <tr style=\"text-align: right;\">\n",
              "      <th></th>\n",
              "      <th>f0</th>\n",
              "      <th>f1</th>\n",
              "      <th>f2</th>\n",
              "      <th>product</th>\n",
              "    </tr>\n",
              "  </thead>\n",
              "  <tbody>\n",
              "    <tr>\n",
              "      <th>count</th>\n",
              "      <td>100000.000000</td>\n",
              "      <td>100000.000000</td>\n",
              "      <td>100000.000000</td>\n",
              "      <td>100000.000000</td>\n",
              "    </tr>\n",
              "    <tr>\n",
              "      <th>mean</th>\n",
              "      <td>0.500419</td>\n",
              "      <td>0.250143</td>\n",
              "      <td>2.502647</td>\n",
              "      <td>92.500000</td>\n",
              "    </tr>\n",
              "    <tr>\n",
              "      <th>std</th>\n",
              "      <td>0.871832</td>\n",
              "      <td>0.504433</td>\n",
              "      <td>3.248248</td>\n",
              "      <td>44.288691</td>\n",
              "    </tr>\n",
              "    <tr>\n",
              "      <th>min</th>\n",
              "      <td>-1.408605</td>\n",
              "      <td>-0.848218</td>\n",
              "      <td>-12.088328</td>\n",
              "      <td>0.000000</td>\n",
              "    </tr>\n",
              "    <tr>\n",
              "      <th>25%</th>\n",
              "      <td>-0.072580</td>\n",
              "      <td>-0.200881</td>\n",
              "      <td>0.287748</td>\n",
              "      <td>56.497507</td>\n",
              "    </tr>\n",
              "    <tr>\n",
              "      <th>50%</th>\n",
              "      <td>0.502360</td>\n",
              "      <td>0.250252</td>\n",
              "      <td>2.515969</td>\n",
              "      <td>91.849972</td>\n",
              "    </tr>\n",
              "    <tr>\n",
              "      <th>75%</th>\n",
              "      <td>1.073581</td>\n",
              "      <td>0.700646</td>\n",
              "      <td>4.715088</td>\n",
              "      <td>128.564089</td>\n",
              "    </tr>\n",
              "    <tr>\n",
              "      <th>max</th>\n",
              "      <td>2.362331</td>\n",
              "      <td>1.343769</td>\n",
              "      <td>16.003790</td>\n",
              "      <td>185.364347</td>\n",
              "    </tr>\n",
              "  </tbody>\n",
              "</table>\n",
              "</div>"
            ],
            "text/plain": [
              "                  f0             f1             f2        product\n",
              "count  100000.000000  100000.000000  100000.000000  100000.000000\n",
              "mean        0.500419       0.250143       2.502647      92.500000\n",
              "std         0.871832       0.504433       3.248248      44.288691\n",
              "min        -1.408605      -0.848218     -12.088328       0.000000\n",
              "25%        -0.072580      -0.200881       0.287748      56.497507\n",
              "50%         0.502360       0.250252       2.515969      91.849972\n",
              "75%         1.073581       0.700646       4.715088     128.564089\n",
              "max         2.362331       1.343769      16.003790     185.364347"
            ]
          },
          "execution_count": 5,
          "metadata": {},
          "output_type": "execute_result"
        }
      ],
      "source": [
        "data_0.describe()"
      ]
    },
    {
      "cell_type": "code",
      "execution_count": null,
      "metadata": {
        "id": "sZzL15Cnj7-Q",
        "outputId": "dc985735-c693-4840-fcc1-689f9a2ada84",
        "scrolled": true
      },
      "outputs": [
        {
          "data": {
            "text/plain": [
              "id         0\n",
              "f0         0\n",
              "f1         0\n",
              "f2         0\n",
              "product    0\n",
              "dtype: int64"
            ]
          },
          "execution_count": 6,
          "metadata": {},
          "output_type": "execute_result"
        }
      ],
      "source": [
        "data_0[data_0.duplicated() == True].count()"
      ]
    },
    {
      "cell_type": "code",
      "execution_count": null,
      "metadata": {
        "id": "Yp3d5Xo7j7-Q",
        "outputId": "65551d82-f6c3-4077-dab1-c03f8eb89bc0"
      },
      "outputs": [
        {
          "data": {
            "text/html": [
              "<div>\n",
              "<style scoped>\n",
              "    .dataframe tbody tr th:only-of-type {\n",
              "        vertical-align: middle;\n",
              "    }\n",
              "\n",
              "    .dataframe tbody tr th {\n",
              "        vertical-align: top;\n",
              "    }\n",
              "\n",
              "    .dataframe thead th {\n",
              "        text-align: right;\n",
              "    }\n",
              "</style>\n",
              "<table border=\"1\" class=\"dataframe\">\n",
              "  <thead>\n",
              "    <tr style=\"text-align: right;\">\n",
              "      <th></th>\n",
              "      <th>id</th>\n",
              "      <th>f0</th>\n",
              "      <th>f1</th>\n",
              "      <th>f2</th>\n",
              "      <th>product</th>\n",
              "    </tr>\n",
              "  </thead>\n",
              "  <tbody>\n",
              "    <tr>\n",
              "      <th>0</th>\n",
              "      <td>kBEdx</td>\n",
              "      <td>-15.001348</td>\n",
              "      <td>-8.276000</td>\n",
              "      <td>-0.005876</td>\n",
              "      <td>3.179103</td>\n",
              "    </tr>\n",
              "    <tr>\n",
              "      <th>1</th>\n",
              "      <td>62mP7</td>\n",
              "      <td>14.272088</td>\n",
              "      <td>-3.475083</td>\n",
              "      <td>0.999183</td>\n",
              "      <td>26.953261</td>\n",
              "    </tr>\n",
              "    <tr>\n",
              "      <th>2</th>\n",
              "      <td>vyE1P</td>\n",
              "      <td>6.263187</td>\n",
              "      <td>-5.948386</td>\n",
              "      <td>5.001160</td>\n",
              "      <td>134.766305</td>\n",
              "    </tr>\n",
              "    <tr>\n",
              "      <th>3</th>\n",
              "      <td>KcrkZ</td>\n",
              "      <td>-13.081196</td>\n",
              "      <td>-11.506057</td>\n",
              "      <td>4.999415</td>\n",
              "      <td>137.945408</td>\n",
              "    </tr>\n",
              "    <tr>\n",
              "      <th>4</th>\n",
              "      <td>AHL4O</td>\n",
              "      <td>12.702195</td>\n",
              "      <td>-8.147433</td>\n",
              "      <td>5.004363</td>\n",
              "      <td>134.766305</td>\n",
              "    </tr>\n",
              "    <tr>\n",
              "      <th>...</th>\n",
              "      <td>...</td>\n",
              "      <td>...</td>\n",
              "      <td>...</td>\n",
              "      <td>...</td>\n",
              "      <td>...</td>\n",
              "    </tr>\n",
              "    <tr>\n",
              "      <th>99995</th>\n",
              "      <td>QywKC</td>\n",
              "      <td>9.535637</td>\n",
              "      <td>-6.878139</td>\n",
              "      <td>1.998296</td>\n",
              "      <td>53.906522</td>\n",
              "    </tr>\n",
              "    <tr>\n",
              "      <th>99996</th>\n",
              "      <td>ptvty</td>\n",
              "      <td>-10.160631</td>\n",
              "      <td>-12.558096</td>\n",
              "      <td>5.005581</td>\n",
              "      <td>137.945408</td>\n",
              "    </tr>\n",
              "    <tr>\n",
              "      <th>99997</th>\n",
              "      <td>09gWa</td>\n",
              "      <td>-7.378891</td>\n",
              "      <td>-3.084104</td>\n",
              "      <td>4.998651</td>\n",
              "      <td>137.945408</td>\n",
              "    </tr>\n",
              "    <tr>\n",
              "      <th>99998</th>\n",
              "      <td>rqwUm</td>\n",
              "      <td>0.665714</td>\n",
              "      <td>-6.152593</td>\n",
              "      <td>1.000146</td>\n",
              "      <td>30.132364</td>\n",
              "    </tr>\n",
              "    <tr>\n",
              "      <th>99999</th>\n",
              "      <td>relB0</td>\n",
              "      <td>-3.426139</td>\n",
              "      <td>-7.794274</td>\n",
              "      <td>-0.003299</td>\n",
              "      <td>3.179103</td>\n",
              "    </tr>\n",
              "  </tbody>\n",
              "</table>\n",
              "<p>100000 rows × 5 columns</p>\n",
              "</div>"
            ],
            "text/plain": [
              "          id         f0         f1        f2     product\n",
              "0      kBEdx -15.001348  -8.276000 -0.005876    3.179103\n",
              "1      62mP7  14.272088  -3.475083  0.999183   26.953261\n",
              "2      vyE1P   6.263187  -5.948386  5.001160  134.766305\n",
              "3      KcrkZ -13.081196 -11.506057  4.999415  137.945408\n",
              "4      AHL4O  12.702195  -8.147433  5.004363  134.766305\n",
              "...      ...        ...        ...       ...         ...\n",
              "99995  QywKC   9.535637  -6.878139  1.998296   53.906522\n",
              "99996  ptvty -10.160631 -12.558096  5.005581  137.945408\n",
              "99997  09gWa  -7.378891  -3.084104  4.998651  137.945408\n",
              "99998  rqwUm   0.665714  -6.152593  1.000146   30.132364\n",
              "99999  relB0  -3.426139  -7.794274 -0.003299    3.179103\n",
              "\n",
              "[100000 rows x 5 columns]"
            ]
          },
          "execution_count": 7,
          "metadata": {},
          "output_type": "execute_result"
        }
      ],
      "source": [
        "data_1"
      ]
    },
    {
      "cell_type": "code",
      "execution_count": null,
      "metadata": {
        "id": "ivThw83bj7-Q",
        "outputId": "111a44f5-da0f-4c53-94b7-ef87652cc995"
      },
      "outputs": [
        {
          "name": "stdout",
          "output_type": "stream",
          "text": [
            "<class 'pandas.core.frame.DataFrame'>\n",
            "RangeIndex: 100000 entries, 0 to 99999\n",
            "Data columns (total 5 columns):\n",
            " #   Column   Non-Null Count   Dtype  \n",
            "---  ------   --------------   -----  \n",
            " 0   id       100000 non-null  object \n",
            " 1   f0       100000 non-null  float64\n",
            " 2   f1       100000 non-null  float64\n",
            " 3   f2       100000 non-null  float64\n",
            " 4   product  100000 non-null  float64\n",
            "dtypes: float64(4), object(1)\n",
            "memory usage: 3.8+ MB\n"
          ]
        }
      ],
      "source": [
        "data_1.info()"
      ]
    },
    {
      "cell_type": "code",
      "execution_count": null,
      "metadata": {
        "id": "HGw_U7agj7-R",
        "outputId": "9dec604d-b295-464e-fe5f-acb2d830d556"
      },
      "outputs": [
        {
          "data": {
            "text/html": [
              "<div>\n",
              "<style scoped>\n",
              "    .dataframe tbody tr th:only-of-type {\n",
              "        vertical-align: middle;\n",
              "    }\n",
              "\n",
              "    .dataframe tbody tr th {\n",
              "        vertical-align: top;\n",
              "    }\n",
              "\n",
              "    .dataframe thead th {\n",
              "        text-align: right;\n",
              "    }\n",
              "</style>\n",
              "<table border=\"1\" class=\"dataframe\">\n",
              "  <thead>\n",
              "    <tr style=\"text-align: right;\">\n",
              "      <th></th>\n",
              "      <th>f0</th>\n",
              "      <th>f1</th>\n",
              "      <th>f2</th>\n",
              "      <th>product</th>\n",
              "    </tr>\n",
              "  </thead>\n",
              "  <tbody>\n",
              "    <tr>\n",
              "      <th>count</th>\n",
              "      <td>100000.000000</td>\n",
              "      <td>100000.000000</td>\n",
              "      <td>100000.000000</td>\n",
              "      <td>100000.000000</td>\n",
              "    </tr>\n",
              "    <tr>\n",
              "      <th>mean</th>\n",
              "      <td>1.141296</td>\n",
              "      <td>-4.796579</td>\n",
              "      <td>2.494541</td>\n",
              "      <td>68.825000</td>\n",
              "    </tr>\n",
              "    <tr>\n",
              "      <th>std</th>\n",
              "      <td>8.965932</td>\n",
              "      <td>5.119872</td>\n",
              "      <td>1.703572</td>\n",
              "      <td>45.944423</td>\n",
              "    </tr>\n",
              "    <tr>\n",
              "      <th>min</th>\n",
              "      <td>-31.609576</td>\n",
              "      <td>-26.358598</td>\n",
              "      <td>-0.018144</td>\n",
              "      <td>0.000000</td>\n",
              "    </tr>\n",
              "    <tr>\n",
              "      <th>25%</th>\n",
              "      <td>-6.298551</td>\n",
              "      <td>-8.267985</td>\n",
              "      <td>1.000021</td>\n",
              "      <td>26.953261</td>\n",
              "    </tr>\n",
              "    <tr>\n",
              "      <th>50%</th>\n",
              "      <td>1.153055</td>\n",
              "      <td>-4.813172</td>\n",
              "      <td>2.011479</td>\n",
              "      <td>57.085625</td>\n",
              "    </tr>\n",
              "    <tr>\n",
              "      <th>75%</th>\n",
              "      <td>8.621015</td>\n",
              "      <td>-1.332816</td>\n",
              "      <td>3.999904</td>\n",
              "      <td>107.813044</td>\n",
              "    </tr>\n",
              "    <tr>\n",
              "      <th>max</th>\n",
              "      <td>29.421755</td>\n",
              "      <td>18.734063</td>\n",
              "      <td>5.019721</td>\n",
              "      <td>137.945408</td>\n",
              "    </tr>\n",
              "  </tbody>\n",
              "</table>\n",
              "</div>"
            ],
            "text/plain": [
              "                  f0             f1             f2        product\n",
              "count  100000.000000  100000.000000  100000.000000  100000.000000\n",
              "mean        1.141296      -4.796579       2.494541      68.825000\n",
              "std         8.965932       5.119872       1.703572      45.944423\n",
              "min       -31.609576     -26.358598      -0.018144       0.000000\n",
              "25%        -6.298551      -8.267985       1.000021      26.953261\n",
              "50%         1.153055      -4.813172       2.011479      57.085625\n",
              "75%         8.621015      -1.332816       3.999904     107.813044\n",
              "max        29.421755      18.734063       5.019721     137.945408"
            ]
          },
          "execution_count": 9,
          "metadata": {},
          "output_type": "execute_result"
        }
      ],
      "source": [
        "data_1.describe()"
      ]
    },
    {
      "cell_type": "code",
      "execution_count": null,
      "metadata": {
        "id": "I8mOdodVj7-R",
        "outputId": "a8ff460a-b179-4316-de5d-eec7d8922d07"
      },
      "outputs": [
        {
          "data": {
            "text/plain": [
              "id         0\n",
              "f0         0\n",
              "f1         0\n",
              "f2         0\n",
              "product    0\n",
              "dtype: int64"
            ]
          },
          "execution_count": 10,
          "metadata": {},
          "output_type": "execute_result"
        }
      ],
      "source": [
        "data_1[data_1.duplicated() == True].count()"
      ]
    },
    {
      "cell_type": "code",
      "execution_count": null,
      "metadata": {
        "id": "KRUyNwqvj7-R",
        "outputId": "3f12f90f-279f-4540-d28b-6ccb298a9c74"
      },
      "outputs": [
        {
          "data": {
            "text/html": [
              "<div>\n",
              "<style scoped>\n",
              "    .dataframe tbody tr th:only-of-type {\n",
              "        vertical-align: middle;\n",
              "    }\n",
              "\n",
              "    .dataframe tbody tr th {\n",
              "        vertical-align: top;\n",
              "    }\n",
              "\n",
              "    .dataframe thead th {\n",
              "        text-align: right;\n",
              "    }\n",
              "</style>\n",
              "<table border=\"1\" class=\"dataframe\">\n",
              "  <thead>\n",
              "    <tr style=\"text-align: right;\">\n",
              "      <th></th>\n",
              "      <th>id</th>\n",
              "      <th>f0</th>\n",
              "      <th>f1</th>\n",
              "      <th>f2</th>\n",
              "      <th>product</th>\n",
              "    </tr>\n",
              "  </thead>\n",
              "  <tbody>\n",
              "    <tr>\n",
              "      <th>0</th>\n",
              "      <td>fwXo0</td>\n",
              "      <td>-1.146987</td>\n",
              "      <td>0.963328</td>\n",
              "      <td>-0.828965</td>\n",
              "      <td>27.758673</td>\n",
              "    </tr>\n",
              "    <tr>\n",
              "      <th>1</th>\n",
              "      <td>WJtFt</td>\n",
              "      <td>0.262778</td>\n",
              "      <td>0.269839</td>\n",
              "      <td>-2.530187</td>\n",
              "      <td>56.069697</td>\n",
              "    </tr>\n",
              "    <tr>\n",
              "      <th>2</th>\n",
              "      <td>ovLUW</td>\n",
              "      <td>0.194587</td>\n",
              "      <td>0.289035</td>\n",
              "      <td>-5.586433</td>\n",
              "      <td>62.871910</td>\n",
              "    </tr>\n",
              "    <tr>\n",
              "      <th>3</th>\n",
              "      <td>q6cA6</td>\n",
              "      <td>2.236060</td>\n",
              "      <td>-0.553760</td>\n",
              "      <td>0.930038</td>\n",
              "      <td>114.572842</td>\n",
              "    </tr>\n",
              "    <tr>\n",
              "      <th>4</th>\n",
              "      <td>WPMUX</td>\n",
              "      <td>-0.515993</td>\n",
              "      <td>1.716266</td>\n",
              "      <td>5.899011</td>\n",
              "      <td>149.600746</td>\n",
              "    </tr>\n",
              "    <tr>\n",
              "      <th>...</th>\n",
              "      <td>...</td>\n",
              "      <td>...</td>\n",
              "      <td>...</td>\n",
              "      <td>...</td>\n",
              "      <td>...</td>\n",
              "    </tr>\n",
              "    <tr>\n",
              "      <th>99995</th>\n",
              "      <td>4GxBu</td>\n",
              "      <td>-1.777037</td>\n",
              "      <td>1.125220</td>\n",
              "      <td>6.263374</td>\n",
              "      <td>172.327046</td>\n",
              "    </tr>\n",
              "    <tr>\n",
              "      <th>99996</th>\n",
              "      <td>YKFjq</td>\n",
              "      <td>-1.261523</td>\n",
              "      <td>-0.894828</td>\n",
              "      <td>2.524545</td>\n",
              "      <td>138.748846</td>\n",
              "    </tr>\n",
              "    <tr>\n",
              "      <th>99997</th>\n",
              "      <td>tKPY3</td>\n",
              "      <td>-1.199934</td>\n",
              "      <td>-2.957637</td>\n",
              "      <td>5.219411</td>\n",
              "      <td>157.080080</td>\n",
              "    </tr>\n",
              "    <tr>\n",
              "      <th>99998</th>\n",
              "      <td>nmxp2</td>\n",
              "      <td>-2.419896</td>\n",
              "      <td>2.417221</td>\n",
              "      <td>-5.548444</td>\n",
              "      <td>51.795253</td>\n",
              "    </tr>\n",
              "    <tr>\n",
              "      <th>99999</th>\n",
              "      <td>V9kWn</td>\n",
              "      <td>-2.551421</td>\n",
              "      <td>-2.025625</td>\n",
              "      <td>6.090891</td>\n",
              "      <td>102.775767</td>\n",
              "    </tr>\n",
              "  </tbody>\n",
              "</table>\n",
              "<p>100000 rows × 5 columns</p>\n",
              "</div>"
            ],
            "text/plain": [
              "          id        f0        f1        f2     product\n",
              "0      fwXo0 -1.146987  0.963328 -0.828965   27.758673\n",
              "1      WJtFt  0.262778  0.269839 -2.530187   56.069697\n",
              "2      ovLUW  0.194587  0.289035 -5.586433   62.871910\n",
              "3      q6cA6  2.236060 -0.553760  0.930038  114.572842\n",
              "4      WPMUX -0.515993  1.716266  5.899011  149.600746\n",
              "...      ...       ...       ...       ...         ...\n",
              "99995  4GxBu -1.777037  1.125220  6.263374  172.327046\n",
              "99996  YKFjq -1.261523 -0.894828  2.524545  138.748846\n",
              "99997  tKPY3 -1.199934 -2.957637  5.219411  157.080080\n",
              "99998  nmxp2 -2.419896  2.417221 -5.548444   51.795253\n",
              "99999  V9kWn -2.551421 -2.025625  6.090891  102.775767\n",
              "\n",
              "[100000 rows x 5 columns]"
            ]
          },
          "execution_count": 11,
          "metadata": {},
          "output_type": "execute_result"
        }
      ],
      "source": [
        "data_2"
      ]
    },
    {
      "cell_type": "code",
      "execution_count": null,
      "metadata": {
        "id": "HjH0PpyZj7-R",
        "outputId": "af58a864-e848-46b7-9c0e-8feea175e018"
      },
      "outputs": [
        {
          "name": "stdout",
          "output_type": "stream",
          "text": [
            "<class 'pandas.core.frame.DataFrame'>\n",
            "RangeIndex: 100000 entries, 0 to 99999\n",
            "Data columns (total 5 columns):\n",
            " #   Column   Non-Null Count   Dtype  \n",
            "---  ------   --------------   -----  \n",
            " 0   id       100000 non-null  object \n",
            " 1   f0       100000 non-null  float64\n",
            " 2   f1       100000 non-null  float64\n",
            " 3   f2       100000 non-null  float64\n",
            " 4   product  100000 non-null  float64\n",
            "dtypes: float64(4), object(1)\n",
            "memory usage: 3.8+ MB\n"
          ]
        }
      ],
      "source": [
        "data_2.info()"
      ]
    },
    {
      "cell_type": "code",
      "execution_count": null,
      "metadata": {
        "id": "gNhs5OBcj7-S",
        "outputId": "ddbf9e9d-0b29-400b-aff0-8a1e166829c0"
      },
      "outputs": [
        {
          "data": {
            "text/html": [
              "<div>\n",
              "<style scoped>\n",
              "    .dataframe tbody tr th:only-of-type {\n",
              "        vertical-align: middle;\n",
              "    }\n",
              "\n",
              "    .dataframe tbody tr th {\n",
              "        vertical-align: top;\n",
              "    }\n",
              "\n",
              "    .dataframe thead th {\n",
              "        text-align: right;\n",
              "    }\n",
              "</style>\n",
              "<table border=\"1\" class=\"dataframe\">\n",
              "  <thead>\n",
              "    <tr style=\"text-align: right;\">\n",
              "      <th></th>\n",
              "      <th>f0</th>\n",
              "      <th>f1</th>\n",
              "      <th>f2</th>\n",
              "      <th>product</th>\n",
              "    </tr>\n",
              "  </thead>\n",
              "  <tbody>\n",
              "    <tr>\n",
              "      <th>count</th>\n",
              "      <td>100000.000000</td>\n",
              "      <td>100000.000000</td>\n",
              "      <td>100000.000000</td>\n",
              "      <td>100000.000000</td>\n",
              "    </tr>\n",
              "    <tr>\n",
              "      <th>mean</th>\n",
              "      <td>0.002023</td>\n",
              "      <td>-0.002081</td>\n",
              "      <td>2.495128</td>\n",
              "      <td>95.000000</td>\n",
              "    </tr>\n",
              "    <tr>\n",
              "      <th>std</th>\n",
              "      <td>1.732045</td>\n",
              "      <td>1.730417</td>\n",
              "      <td>3.473445</td>\n",
              "      <td>44.749921</td>\n",
              "    </tr>\n",
              "    <tr>\n",
              "      <th>min</th>\n",
              "      <td>-8.760004</td>\n",
              "      <td>-7.084020</td>\n",
              "      <td>-11.970335</td>\n",
              "      <td>0.000000</td>\n",
              "    </tr>\n",
              "    <tr>\n",
              "      <th>25%</th>\n",
              "      <td>-1.162288</td>\n",
              "      <td>-1.174820</td>\n",
              "      <td>0.130359</td>\n",
              "      <td>59.450441</td>\n",
              "    </tr>\n",
              "    <tr>\n",
              "      <th>50%</th>\n",
              "      <td>0.009424</td>\n",
              "      <td>-0.009482</td>\n",
              "      <td>2.484236</td>\n",
              "      <td>94.925613</td>\n",
              "    </tr>\n",
              "    <tr>\n",
              "      <th>75%</th>\n",
              "      <td>1.158535</td>\n",
              "      <td>1.163678</td>\n",
              "      <td>4.858794</td>\n",
              "      <td>130.595027</td>\n",
              "    </tr>\n",
              "    <tr>\n",
              "      <th>max</th>\n",
              "      <td>7.238262</td>\n",
              "      <td>7.844801</td>\n",
              "      <td>16.739402</td>\n",
              "      <td>190.029838</td>\n",
              "    </tr>\n",
              "  </tbody>\n",
              "</table>\n",
              "</div>"
            ],
            "text/plain": [
              "                  f0             f1             f2        product\n",
              "count  100000.000000  100000.000000  100000.000000  100000.000000\n",
              "mean        0.002023      -0.002081       2.495128      95.000000\n",
              "std         1.732045       1.730417       3.473445      44.749921\n",
              "min        -8.760004      -7.084020     -11.970335       0.000000\n",
              "25%        -1.162288      -1.174820       0.130359      59.450441\n",
              "50%         0.009424      -0.009482       2.484236      94.925613\n",
              "75%         1.158535       1.163678       4.858794     130.595027\n",
              "max         7.238262       7.844801      16.739402     190.029838"
            ]
          },
          "execution_count": 13,
          "metadata": {},
          "output_type": "execute_result"
        }
      ],
      "source": [
        "data_2.describe()"
      ]
    },
    {
      "cell_type": "code",
      "execution_count": null,
      "metadata": {
        "id": "V-GZ80Avj7-S",
        "outputId": "8c79ce2d-20b6-4ad8-b201-3f058b70546a",
        "scrolled": true
      },
      "outputs": [
        {
          "data": {
            "text/plain": [
              "id         0\n",
              "f0         0\n",
              "f1         0\n",
              "f2         0\n",
              "product    0\n",
              "dtype: int64"
            ]
          },
          "execution_count": 14,
          "metadata": {},
          "output_type": "execute_result"
        }
      ],
      "source": [
        "data_2[data_2.duplicated() == True].count()"
      ]
    },
    {
      "cell_type": "markdown",
      "metadata": {
        "id": "NA_tE-Bvj7-S"
      },
      "source": [
        "Вывод: в данных нет пропусков, дубликатов, проблемных значений, следовательно предобработка не требуется"
      ]
    },
    {
      "cell_type": "markdown",
      "metadata": {
        "id": "xO2CFMn4j7-S"
      },
      "source": [
        "## Обучение и проверка модели\n",
        "### Оценка корреляции признаков f0-f2 с целевым признаком"
      ]
    },
    {
      "cell_type": "code",
      "execution_count": null,
      "metadata": {
        "id": "Fx_tpuFIj7-S",
        "outputId": "28912638-7987-4b79-f7c6-a7d5e7a3bcec"
      },
      "outputs": [
        {
          "data": {
            "image/png": "[encoded data removed]",
            "text/plain": [
              "<Figure size 432x288 with 2 Axes>"
            ]
          },
          "metadata": {
            "needs_background": "light"
          },
          "output_type": "display_data"
        }
      ],
      "source": [
        "corrMatrix = data_0.corr()\n",
        "sn.heatmap(corrMatrix, annot=True)\n",
        "plt.title('Correlation Matrix - Region 0')\n",
        "plt.show()"
      ]
    },
    {
      "cell_type": "code",
      "execution_count": null,
      "metadata": {
        "id": "RvzhseD_j7-T",
        "outputId": "a59388de-415b-4fd8-e310-9493c7da5e8c"
      },
      "outputs": [
        {
          "data": {
            "image/png": "[encoded data removed]",
            "text/plain": [
              "<Figure size 432x288 with 2 Axes>"
            ]
          },
          "metadata": {
            "needs_background": "light"
          },
          "output_type": "display_data"
        }
      ],
      "source": [
        "corrMatrix = data_1.corr()\n",
        "sn.heatmap(corrMatrix, annot=True)\n",
        "plt.title('Correlation Matrix - Region 0')\n",
        "plt.show()"
      ]
    },
    {
      "cell_type": "code",
      "execution_count": null,
      "metadata": {
        "id": "KNefHkH2j7-T",
        "outputId": "cc402c5c-4309-46b3-8e41-365f2e7957ae"
      },
      "outputs": [
        {
          "data": {
            "image/png": "[encoded data removed]",
            "text/plain": [
              "<Figure size 432x288 with 2 Axes>"
            ]
          },
          "metadata": {
            "needs_background": "light"
          },
          "output_type": "display_data"
        }
      ],
      "source": [
        "corrMatrix = data_2.corr()\n",
        "sn.heatmap(corrMatrix, annot=True)\n",
        "plt.title('Correlation Matrix - Region 0')\n",
        "plt.show()"
      ]
    },
    {
      "cell_type": "markdown",
      "metadata": {
        "id": "bTvUGT4Bj7-T"
      },
      "source": [
        "Вывод: Признак f2 для региона 1 полностью коррелирует\n",
        "\n",
        "### Подготовка данных"
      ]
    },
    {
      "cell_type": "code",
      "execution_count": null,
      "metadata": {
        "id": "yXcVx4kvj7-T"
      },
      "outputs": [],
      "source": [
        "# разделение данных на признаки и целевую колонку\n",
        "\n",
        "def features_target(data):\n",
        "    features = data.drop(['product', 'id'], axis=1)\n",
        "    target = data['product']\n",
        "    return features, target\n",
        "\n",
        "features0, target0 = features_target(data_0)\n",
        "features1, target1 = features_target(data_1)\n",
        "features2, target2 = features_target(data_2)"
      ]
    },
    {
      "cell_type": "markdown",
      "metadata": {
        "id": "vNVcZdqRj7-T"
      },
      "source": [
        "### Разделение на обучающую и валидационную выборки"
      ]
    },
    {
      "cell_type": "code",
      "execution_count": null,
      "metadata": {
        "id": "QDnqikhhj7-U"
      },
      "outputs": [],
      "source": [
        "def train_valid_predict(features, target, region_no):\n",
        "    \n",
        "# разделение данных на обучающую и валидационную выборки\n",
        "    features_train, features_valid, target_train, target_valid = train_test_split(\n",
        "        features, target, test_size=0.25, random_state=12345)\n",
        "\n",
        "# обучение модели линейной регрессии\n",
        "    model = LinearRegression()\n",
        "    model.fit(features_train, target_train)\n",
        "    \n",
        "# предсказания модели на валидационной выборке\n",
        "    predicted_valid = model.predict(features_valid)\n",
        "    \n",
        "    rmse = mean_squared_error(target_valid, predicted_valid, squared=False)\n",
        "    \n",
        "    print('features_train', features_train.shape)\n",
        "    print('features_valid', features_valid.shape)\n",
        "    print('target_train', target_train.shape)\n",
        "    print('target_valid', target_valid.shape)\n",
        "    print()\n",
        "    \n",
        "    print('Модель для региона', region_no)\n",
        "    print('Среднеквадратичная ошибка (RMSE) =', rmse, 'тыс. баррелей')\n",
        "    print('Средний запас предсказанного сырья =', predicted_valid.mean(), 'тыс. баррелей')\n",
        "    \n",
        "    return model, features_train, features_valid, target_train, target_valid, predicted_valid"
      ]
    },
    {
      "cell_type": "markdown",
      "metadata": {
        "id": "uBxRTj9Dj7-U"
      },
      "source": [
        "### Проверка модели на адекватность"
      ]
    },
    {
      "cell_type": "code",
      "execution_count": null,
      "metadata": {
        "id": "wf0m9LiPj7-U",
        "outputId": "ec2108df-7d31-4ac8-8c7a-32ba577832db"
      },
      "outputs": [
        {
          "name": "stdout",
          "output_type": "stream",
          "text": [
            "features_train (75000, 3)\n",
            "features_valid (25000, 3)\n",
            "target_train (75000,)\n",
            "target_valid (25000,)\n",
            "\n",
            "Модель для региона 0\n",
            "Среднеквадратичная ошибка (RMSE) = 37.5794217150813 тыс. баррелей\n",
            "Средний запас предсказанного сырья = 92.59256778438035 тыс. баррелей\n"
          ]
        }
      ],
      "source": [
        "model0, features_train0, features_valid0, target_train0, target_valid0, predicted_valid0 = train_valid_predict(features0, target0, 0)"
      ]
    },
    {
      "cell_type": "code",
      "execution_count": null,
      "metadata": {
        "id": "dbPrlmN_j7-U"
      },
      "outputs": [],
      "source": [
        "def dummy_rmse(target_train, target_valid, region_no):\n",
        "\n",
        "    predictions_dummy = pd.Series(target_train.mean(), index=target_valid.index)\n",
        "    rmse = mean_squared_error(target_valid, predictions_dummy, squared=False)\n",
        "    \n",
        "    print('Dummy-модель для региона', region_no)\n",
        "    print('Среднеквадратичная ошибка (RMSE) =', rmse, 'тыс. баррелей')\n",
        "    print('Средний запас предсказанного сырья =', predictions_dummy.mean(), 'тыс. баррелей')"
      ]
    },
    {
      "cell_type": "code",
      "execution_count": null,
      "metadata": {
        "id": "8AGTaDsUj7-U",
        "outputId": "f1c298df-d48a-4708-97c4-ee3189904d00"
      },
      "outputs": [
        {
          "name": "stdout",
          "output_type": "stream",
          "text": [
            "Dummy-модель для региона 0\n",
            "Среднеквадратичная ошибка (RMSE) = 44.289591053907365 тыс. баррелей\n",
            "Средний запас предсказанного сырья = 92.64046775305694 тыс. баррелей\n"
          ]
        }
      ],
      "source": [
        "dummy_rmse(target_train0, target_valid0, 0)"
      ]
    },
    {
      "cell_type": "code",
      "execution_count": null,
      "metadata": {
        "id": "M5N-17xUj7-V",
        "outputId": "2df4067d-4c8e-4c69-962c-b69421c26136"
      },
      "outputs": [
        {
          "name": "stdout",
          "output_type": "stream",
          "text": [
            "features_train (75000, 3)\n",
            "features_valid (25000, 3)\n",
            "target_train (75000,)\n",
            "target_valid (25000,)\n",
            "\n",
            "Модель для региона 1\n",
            "Среднеквадратичная ошибка (RMSE) = 0.893099286775617 тыс. баррелей\n",
            "Средний запас предсказанного сырья = 68.728546895446 тыс. баррелей\n"
          ]
        }
      ],
      "source": [
        "model1, features_train1, features_valid1, target_train1, target_valid1, predicted_valid1 = train_valid_predict(features1, target1, 1)"
      ]
    },
    {
      "cell_type": "code",
      "execution_count": null,
      "metadata": {
        "id": "jQONEDpgj7-V",
        "outputId": "c483a5ac-0e1a-43bd-e664-72240967661f"
      },
      "outputs": [
        {
          "name": "stdout",
          "output_type": "stream",
          "text": [
            "Dummy-модель для региона 1\n",
            "Среднеквадратичная ошибка (RMSE) = 46.02144533725462 тыс. баррелей\n",
            "Средний запас предсказанного сырья = 68.85895465854665 тыс. баррелей\n"
          ]
        }
      ],
      "source": [
        "dummy_rmse(target_train1, target_valid1, 1)"
      ]
    },
    {
      "cell_type": "code",
      "execution_count": null,
      "metadata": {
        "id": "_DfWV2zLj7-V",
        "outputId": "83bb271c-28fa-484f-a885-38894035e237"
      },
      "outputs": [
        {
          "name": "stdout",
          "output_type": "stream",
          "text": [
            "features_train (75000, 3)\n",
            "features_valid (25000, 3)\n",
            "target_train (75000,)\n",
            "target_valid (25000,)\n",
            "\n",
            "Модель для региона 2\n",
            "Среднеквадратичная ошибка (RMSE) = 40.02970873393434 тыс. баррелей\n",
            "Средний запас предсказанного сырья = 94.96504596800489 тыс. баррелей\n"
          ]
        }
      ],
      "source": [
        "model2, features_train2, features_valid2, target_train2, target_valid2, predicted_valid2 = train_valid_predict(features2, target2, 2)"
      ]
    },
    {
      "cell_type": "code",
      "execution_count": null,
      "metadata": {
        "id": "KZutF4XZj7-V",
        "outputId": "2a51e613-3e35-40f4-c751-c4c34ce8967f"
      },
      "outputs": [
        {
          "name": "stdout",
          "output_type": "stream",
          "text": [
            "Dummy-модель для региона 2\n",
            "Среднеквадратичная ошибка (RMSE) = 44.90234968510566 тыс. баррелей\n",
            "Средний запас предсказанного сырья = 95.03858906371526 тыс. баррелей\n"
          ]
        }
      ],
      "source": [
        "dummy_rmse(target_train2, target_valid2, 2)"
      ]
    },
    {
      "cell_type": "markdown",
      "metadata": {
        "id": "X58vj62Zj7-V"
      },
      "source": [
        "Выводы: Среднеквадратичная ошибка dummy-моделей больше, чем для лнейной регрессии, что свидетельствует об адекватности построенных моделей. Для региона 1 значительная разница может быть связана с высокой корреляцией признака f2 и целевого признака. Средний запас предсказанного сырья больше у dummy-моделей на <1 тыс. баррелей."
      ]
    },
    {
      "cell_type": "markdown",
      "metadata": {
        "id": "OznuAV2pj7-W"
      },
      "source": [
        "## Подготовка к расчёту прибыли"
      ]
    },
    {
      "cell_type": "code",
      "execution_count": null,
      "metadata": {
        "id": "05Rps6p4j7-W",
        "outputId": "c618289a-1335-49d6-f39c-4fcb12bce81d"
      },
      "outputs": [
        {
          "data": {
            "text/plain": [
              "111.11111111111111"
            ]
          },
          "execution_count": 27,
          "metadata": {},
          "output_type": "execute_result"
        }
      ],
      "source": [
        "WELLS_NO = 200\n",
        "BUDGET = 10000000000\n",
        "BARREL_PROFIT = 450000\n",
        "VOLUME_CRIT = BUDGET / (WELLS_NO * BARREL_PROFIT) # достаточный объем сырья для безубыточной разработки скважины\n",
        "VOLUME_CRIT"
      ]
    },
    {
      "cell_type": "markdown",
      "metadata": {
        "id": "dmCRfaXYj7-W"
      },
      "source": [
        "Вывод: Рассчитанный критический объем сырья составляет 111.1 тыс баррелей, это выше всех трех средних показателей по регионам. Именно поэтому нужно выбрать самые перспективные скважины в регионе."
      ]
    },
    {
      "cell_type": "markdown",
      "metadata": {
        "id": "P_4_F3ILj7-W"
      },
      "source": [
        "## Расчёт прибыли и рисков"
      ]
    },
    {
      "cell_type": "code",
      "execution_count": null,
      "metadata": {
        "id": "-qbSwP5Uj7-X"
      },
      "outputs": [],
      "source": [
        "# Функция для расчета прибыли\n",
        "def profit(target, predictions):\n",
        "    predictions_sorted = predictions.sort_values(ascending=False)\n",
        "    volume = pd.Series(target[predictions_sorted.index])\n",
        "    volume_selected = volume[:200]\n",
        "    total_volume = volume_selected.sum()\n",
        "    profit = 0.45 * total_volume - 10**4\n",
        "    return profit"
      ]
    },
    {
      "cell_type": "markdown",
      "metadata": {
        "id": "OhIArmp1j7-X"
      },
      "source": [
        "Оценка перспективности регионов с помощью техники Bootstrap"
      ]
    },
    {
      "cell_type": "code",
      "execution_count": null,
      "metadata": {
        "id": "oUZeNzUQj7-X"
      },
      "outputs": [],
      "source": [
        "def bootstrap_revenue(target, predictions, region_no):\n",
        "    state = RandomState(12345)\n",
        "    profits = []\n",
        "    for i in range(1000):\n",
        "        target_subs = target.sample(n=500, replace=True, random_state=state)\n",
        "        predict_subs = predictions[target_subs.index]\n",
        "        profits.append(profit(target_subs, predict_subs))\n",
        "    profits = pd.Series(profits)\n",
        "    negative_percent = (profits < 0).mean() *100\n",
        "    lower = profits.quantile(0.025)\n",
        "    upper = profits.quantile(0.975)\n",
        "    print('Регион', region_no)\n",
        "    print(f'Средняя прибыль прогнозируется равной {profits.mean()} млн рублей')\n",
        "    print(f'С вероятностью 95% прибыль составит от {lower} до {upper} млн рублей')\n",
        "    print(f'Вероятность убытков по региону: {negative_percent}%')"
      ]
    },
    {
      "cell_type": "code",
      "execution_count": null,
      "metadata": {
        "id": "F1QL9XTTj7-Y",
        "outputId": "7b9cbfcf-dacb-42bb-9acf-6be6280b829a"
      },
      "outputs": [
        {
          "name": "stdout",
          "output_type": "stream",
          "text": [
            "Регион 0\n",
            "Средняя прибыль прогнозируется равной 425.9385269105927 млн рублей\n",
            "С вероятностью 95% прибыль составит от -102.09009483793592 до 947.976353358369 млн рублей\n",
            "Вероятность убытков по региону: 6.0%\n"
          ]
        }
      ],
      "source": [
        "predicted_valid0 = pd.Series(predicted_valid0)\n",
        "target_valid0 = target_valid0.reset_index(drop=True)\n",
        "bootstrap_revenue(target_valid0, predicted_valid0, 0)"
      ]
    },
    {
      "cell_type": "code",
      "execution_count": null,
      "metadata": {
        "id": "5SOvHrfLj7-Y",
        "outputId": "d99a2b10-c57a-4b8f-f418-b806a397a1b8"
      },
      "outputs": [
        {
          "name": "stdout",
          "output_type": "stream",
          "text": [
            "Регион 1\n",
            "Средняя прибыль прогнозируется равной 515.2227734432902 млн рублей\n",
            "С вероятностью 95% прибыль составит от 68.87322537050254 до 931.547591257049 млн рублей\n",
            "Вероятность убытков по региону: 1.0%\n"
          ]
        }
      ],
      "source": [
        "predicted_valid1 = pd.Series(predicted_valid1)\n",
        "target_valid1 = target_valid1.reset_index(drop=True)\n",
        "bootstrap_revenue(target_valid1, predicted_valid1, 1)"
      ]
    },
    {
      "cell_type": "code",
      "execution_count": null,
      "metadata": {
        "id": "hu8n9uqjj7-Z",
        "outputId": "7c2cee1b-9a2d-421f-897f-5e7d1c3c2735"
      },
      "outputs": [
        {
          "name": "stdout",
          "output_type": "stream",
          "text": [
            "Регион 2\n",
            "Средняя прибыль прогнозируется равной 435.00836278275585 млн рублей\n",
            "С вероятностью 95% прибыль составит от -128.88054732978893 до 969.7069541802657 млн рублей\n",
            "Вероятность убытков по региону: 6.4%\n"
          ]
        }
      ],
      "source": [
        "predicted_valid2 = pd.Series(predicted_valid2)\n",
        "target_valid2 = target_valid2.reset_index(drop=True)\n",
        "bootstrap_revenue(target_valid2, predicted_valid2, 2)"
      ]
    },
    {
      "cell_type": "markdown",
      "metadata": {
        "id": "5N_KNrNtj7-Z"
      },
      "source": [
        "Вывод: в качестве предложения, следует обратить внимание на регион 1 в связи с относительно высокой средней прогнозируемой прибылью, и низкой вероятностью оказаться в убытке. Однако, следует обратить внимание на признак f2, который полностью коррелирует с целевым признаком в этом регионе. Возможно, имеется ошибка и оценка неверна.\n",
        "\n",
        "Регионы 0 и 2 имеют примерно равные показатели и между ними следует выбирать исходя из терпимости к риску: регион 2 имеет большую вероятность убытков, но и несколько большую прогнозную прибыль, тогда так регион 0 - наоборот, более консервативный."
      ]
    }
  ],
  "metadata": {
    "ExecuteTimeLog": [
      {
        "duration": 43,
        "start_time": "2022-04-14T23:18:05.954Z"
      },
      {
        "duration": 353,
        "start_time": "2022-04-14T23:18:08.234Z"
      },
      {
        "duration": 129,
        "start_time": "2022-04-14T23:18:09.471Z"
      },
      {
        "duration": 339,
        "start_time": "2022-04-14T23:18:25.997Z"
      },
      {
        "duration": 18,
        "start_time": "2022-04-14T23:18:36.155Z"
      },
      {
        "duration": 32,
        "start_time": "2022-04-14T23:21:34.714Z"
      },
      {
        "duration": 27,
        "start_time": "2022-04-14T23:22:21.402Z"
      },
      {
        "duration": 43,
        "start_time": "2022-04-14T23:22:29.303Z"
      },
      {
        "duration": 42,
        "start_time": "2022-04-14T23:22:39.115Z"
      },
      {
        "duration": 198,
        "start_time": "2022-04-14T23:23:16.467Z"
      },
      {
        "duration": 46,
        "start_time": "2022-04-14T23:23:20.605Z"
      },
      {
        "duration": 775,
        "start_time": "2022-04-14T23:46:10.955Z"
      },
      {
        "duration": 37,
        "start_time": "2022-04-14T23:53:34.423Z"
      },
      {
        "duration": 7,
        "start_time": "2022-04-14T23:54:02.607Z"
      },
      {
        "duration": 19,
        "start_time": "2022-04-14T23:54:07.663Z"
      },
      {
        "duration": 38,
        "start_time": "2022-04-14T23:54:11.432Z"
      },
      {
        "duration": 12,
        "start_time": "2022-04-14T23:55:06.662Z"
      },
      {
        "duration": 6,
        "start_time": "2022-04-14T23:55:20.216Z"
      },
      {
        "duration": 11,
        "start_time": "2022-04-14T23:55:21.918Z"
      },
      {
        "duration": 16,
        "start_time": "2022-04-14T23:55:23.889Z"
      },
      {
        "duration": 6,
        "start_time": "2022-04-14T23:56:03.896Z"
      },
      {
        "duration": 4,
        "start_time": "2022-04-14T23:56:43.898Z"
      },
      {
        "duration": 4,
        "start_time": "2022-04-14T23:56:50.163Z"
      },
      {
        "duration": 14,
        "start_time": "2022-04-15T00:00:24.350Z"
      },
      {
        "duration": 14,
        "start_time": "2022-04-15T00:01:07.359Z"
      },
      {
        "duration": 14,
        "start_time": "2022-04-15T00:01:16.858Z"
      },
      {
        "duration": 2350,
        "start_time": "2022-04-15T09:01:54.130Z"
      },
      {
        "duration": 426,
        "start_time": "2022-04-15T09:01:56.484Z"
      },
      {
        "duration": 25,
        "start_time": "2022-04-15T09:01:56.912Z"
      },
      {
        "duration": 29,
        "start_time": "2022-04-15T09:01:56.940Z"
      },
      {
        "duration": 49,
        "start_time": "2022-04-15T09:01:56.971Z"
      },
      {
        "duration": 104,
        "start_time": "2022-04-15T09:01:57.023Z"
      },
      {
        "duration": 34,
        "start_time": "2022-04-15T09:01:57.129Z"
      },
      {
        "duration": 25,
        "start_time": "2022-04-15T09:01:57.166Z"
      },
      {
        "duration": 80,
        "start_time": "2022-04-15T09:01:57.193Z"
      },
      {
        "duration": 91,
        "start_time": "2022-04-15T09:01:57.278Z"
      },
      {
        "duration": 20,
        "start_time": "2022-04-15T09:01:57.372Z"
      },
      {
        "duration": 25,
        "start_time": "2022-04-15T09:01:57.395Z"
      },
      {
        "duration": 72,
        "start_time": "2022-04-15T09:01:57.423Z"
      },
      {
        "duration": 96,
        "start_time": "2022-04-15T09:01:57.497Z"
      },
      {
        "duration": 494,
        "start_time": "2022-04-15T09:01:57.595Z"
      },
      {
        "duration": 457,
        "start_time": "2022-04-15T09:01:58.092Z"
      },
      {
        "duration": 480,
        "start_time": "2022-04-15T09:01:58.551Z"
      },
      {
        "duration": 179,
        "start_time": "2022-04-15T09:01:59.034Z"
      },
      {
        "duration": 0,
        "start_time": "2022-04-15T09:01:59.217Z"
      },
      {
        "duration": 0,
        "start_time": "2022-04-15T09:01:59.219Z"
      },
      {
        "duration": 0,
        "start_time": "2022-04-15T09:01:59.222Z"
      },
      {
        "duration": 0,
        "start_time": "2022-04-15T09:01:59.224Z"
      },
      {
        "duration": 0,
        "start_time": "2022-04-15T09:01:59.226Z"
      },
      {
        "duration": 0,
        "start_time": "2022-04-15T09:01:59.228Z"
      },
      {
        "duration": 0,
        "start_time": "2022-04-15T09:01:59.231Z"
      },
      {
        "duration": 0,
        "start_time": "2022-04-15T09:01:59.232Z"
      },
      {
        "duration": 0,
        "start_time": "2022-04-15T09:01:59.232Z"
      },
      {
        "duration": 0,
        "start_time": "2022-04-15T09:01:59.233Z"
      },
      {
        "duration": 0,
        "start_time": "2022-04-15T09:01:59.234Z"
      },
      {
        "duration": 0,
        "start_time": "2022-04-15T09:01:59.256Z"
      },
      {
        "duration": 0,
        "start_time": "2022-04-15T09:01:59.258Z"
      },
      {
        "duration": 0,
        "start_time": "2022-04-15T09:01:59.260Z"
      },
      {
        "duration": 0,
        "start_time": "2022-04-15T09:01:59.262Z"
      },
      {
        "duration": 0,
        "start_time": "2022-04-15T09:01:59.264Z"
      },
      {
        "duration": 0,
        "start_time": "2022-04-15T09:01:59.265Z"
      },
      {
        "duration": 0,
        "start_time": "2022-04-15T09:01:59.267Z"
      },
      {
        "duration": 0,
        "start_time": "2022-04-15T09:01:59.269Z"
      },
      {
        "duration": 0,
        "start_time": "2022-04-15T09:01:59.271Z"
      },
      {
        "duration": 0,
        "start_time": "2022-04-15T09:01:59.272Z"
      },
      {
        "duration": 0,
        "start_time": "2022-04-15T09:01:59.274Z"
      },
      {
        "duration": 0,
        "start_time": "2022-04-15T09:01:59.276Z"
      },
      {
        "duration": 0,
        "start_time": "2022-04-15T09:01:59.277Z"
      },
      {
        "duration": 14,
        "start_time": "2022-04-15T09:06:01.893Z"
      },
      {
        "duration": 7,
        "start_time": "2022-04-15T09:41:26.329Z"
      },
      {
        "duration": 78,
        "start_time": "2022-04-15T09:41:28.796Z"
      },
      {
        "duration": 7,
        "start_time": "2022-04-15T09:42:11.826Z"
      },
      {
        "duration": 88,
        "start_time": "2022-04-15T09:42:16.775Z"
      },
      {
        "duration": 8,
        "start_time": "2022-04-15T09:42:26.596Z"
      },
      {
        "duration": 114,
        "start_time": "2022-04-15T09:42:29.053Z"
      },
      {
        "duration": 10,
        "start_time": "2022-04-15T09:42:35.892Z"
      },
      {
        "duration": 97,
        "start_time": "2022-04-15T09:42:37.671Z"
      },
      {
        "duration": 6,
        "start_time": "2022-04-15T09:42:55.983Z"
      },
      {
        "duration": 11,
        "start_time": "2022-04-15T09:42:58.631Z"
      },
      {
        "duration": 137,
        "start_time": "2022-04-15T09:43:05.730Z"
      },
      {
        "duration": 8,
        "start_time": "2022-04-15T09:43:08.336Z"
      },
      {
        "duration": 46,
        "start_time": "2022-04-15T09:43:16.174Z"
      },
      {
        "duration": 7,
        "start_time": "2022-04-15T09:43:18.584Z"
      },
      {
        "duration": 8,
        "start_time": "2022-04-15T09:46:25.591Z"
      },
      {
        "duration": 52,
        "start_time": "2022-04-15T09:46:27.340Z"
      },
      {
        "duration": 5,
        "start_time": "2022-04-15T09:47:08.702Z"
      },
      {
        "duration": 9,
        "start_time": "2022-04-15T09:47:11.161Z"
      },
      {
        "duration": 126,
        "start_time": "2022-04-15T09:48:50.939Z"
      },
      {
        "duration": 7,
        "start_time": "2022-04-15T09:49:00.091Z"
      },
      {
        "duration": 32,
        "start_time": "2022-04-15T09:49:02.209Z"
      },
      {
        "duration": 7,
        "start_time": "2022-04-15T09:49:04.833Z"
      },
      {
        "duration": 6,
        "start_time": "2022-04-15T09:54:36.108Z"
      },
      {
        "duration": 5,
        "start_time": "2022-04-15T09:55:12.596Z"
      },
      {
        "duration": 5,
        "start_time": "2022-04-15T09:55:58.896Z"
      },
      {
        "duration": 7,
        "start_time": "2022-04-15T09:56:17.886Z"
      },
      {
        "duration": 9,
        "start_time": "2022-04-15T10:00:08.977Z"
      },
      {
        "duration": 1946,
        "start_time": "2022-04-15T10:00:11.702Z"
      },
      {
        "duration": 1959,
        "start_time": "2022-04-15T10:00:15.914Z"
      },
      {
        "duration": 2096,
        "start_time": "2022-04-15T10:00:19.778Z"
      },
      {
        "duration": 2143,
        "start_time": "2022-04-15T10:09:13.118Z"
      },
      {
        "duration": 500,
        "start_time": "2022-04-15T10:09:15.264Z"
      },
      {
        "duration": 27,
        "start_time": "2022-04-15T10:09:15.766Z"
      },
      {
        "duration": 21,
        "start_time": "2022-04-15T10:09:15.796Z"
      },
      {
        "duration": 71,
        "start_time": "2022-04-15T10:09:15.819Z"
      },
      {
        "duration": 106,
        "start_time": "2022-04-15T10:09:15.893Z"
      },
      {
        "duration": 18,
        "start_time": "2022-04-15T10:09:16.002Z"
      },
      {
        "duration": 41,
        "start_time": "2022-04-15T10:09:16.022Z"
      },
      {
        "duration": 61,
        "start_time": "2022-04-15T10:09:16.066Z"
      },
      {
        "duration": 109,
        "start_time": "2022-04-15T10:09:16.131Z"
      },
      {
        "duration": 28,
        "start_time": "2022-04-15T10:09:16.242Z"
      },
      {
        "duration": 22,
        "start_time": "2022-04-15T10:09:16.273Z"
      },
      {
        "duration": 87,
        "start_time": "2022-04-15T10:09:16.298Z"
      },
      {
        "duration": 94,
        "start_time": "2022-04-15T10:09:16.388Z"
      },
      {
        "duration": 454,
        "start_time": "2022-04-15T10:09:16.485Z"
      },
      {
        "duration": 402,
        "start_time": "2022-04-15T10:09:16.941Z"
      },
      {
        "duration": 434,
        "start_time": "2022-04-15T10:09:17.345Z"
      },
      {
        "duration": 13,
        "start_time": "2022-04-15T10:09:17.782Z"
      },
      {
        "duration": 23,
        "start_time": "2022-04-15T10:09:17.798Z"
      },
      {
        "duration": 135,
        "start_time": "2022-04-15T10:09:17.823Z"
      },
      {
        "duration": 88,
        "start_time": "2022-04-15T10:09:17.964Z"
      },
      {
        "duration": 34,
        "start_time": "2022-04-15T10:09:18.055Z"
      },
      {
        "duration": 63,
        "start_time": "2022-04-15T10:09:18.091Z"
      },
      {
        "duration": 97,
        "start_time": "2022-04-15T10:09:18.157Z"
      },
      {
        "duration": 126,
        "start_time": "2022-04-15T10:09:18.257Z"
      },
      {
        "duration": 99,
        "start_time": "2022-04-15T10:09:18.454Z"
      },
      {
        "duration": 13,
        "start_time": "2022-04-15T10:09:18.555Z"
      },
      {
        "duration": 26,
        "start_time": "2022-04-15T10:09:18.573Z"
      },
      {
        "duration": 12,
        "start_time": "2022-04-15T10:09:18.601Z"
      },
      {
        "duration": 2081,
        "start_time": "2022-04-15T10:09:18.615Z"
      },
      {
        "duration": 2070,
        "start_time": "2022-04-15T10:09:20.699Z"
      },
      {
        "duration": 1945,
        "start_time": "2022-04-15T10:09:22.771Z"
      },
      {
        "duration": 1991,
        "start_time": "2022-04-15T18:15:14.613Z"
      },
      {
        "duration": 342,
        "start_time": "2022-04-15T18:15:16.606Z"
      },
      {
        "duration": 17,
        "start_time": "2022-04-15T18:15:16.950Z"
      },
      {
        "duration": 16,
        "start_time": "2022-04-15T18:15:16.969Z"
      },
      {
        "duration": 35,
        "start_time": "2022-04-15T18:15:16.988Z"
      },
      {
        "duration": 80,
        "start_time": "2022-04-15T18:15:17.024Z"
      },
      {
        "duration": 12,
        "start_time": "2022-04-15T18:15:17.106Z"
      },
      {
        "duration": 35,
        "start_time": "2022-04-15T18:15:17.120Z"
      },
      {
        "duration": 33,
        "start_time": "2022-04-15T18:15:17.156Z"
      },
      {
        "duration": 43,
        "start_time": "2022-04-15T18:15:17.191Z"
      },
      {
        "duration": 29,
        "start_time": "2022-04-15T18:15:17.236Z"
      },
      {
        "duration": 17,
        "start_time": "2022-04-15T18:15:17.267Z"
      },
      {
        "duration": 32,
        "start_time": "2022-04-15T18:15:17.286Z"
      },
      {
        "duration": 73,
        "start_time": "2022-04-15T18:15:17.321Z"
      },
      {
        "duration": 405,
        "start_time": "2022-04-15T18:15:17.395Z"
      },
      {
        "duration": 300,
        "start_time": "2022-04-15T18:15:17.802Z"
      },
      {
        "duration": 329,
        "start_time": "2022-04-15T18:15:18.105Z"
      },
      {
        "duration": 10,
        "start_time": "2022-04-15T18:15:18.436Z"
      },
      {
        "duration": 6,
        "start_time": "2022-04-15T18:15:18.454Z"
      },
      {
        "duration": 95,
        "start_time": "2022-04-15T18:15:18.461Z"
      },
      {
        "duration": 5,
        "start_time": "2022-04-15T18:15:18.558Z"
      },
      {
        "duration": 98,
        "start_time": "2022-04-15T18:15:18.565Z"
      },
      {
        "duration": 28,
        "start_time": "2022-04-15T18:15:18.665Z"
      },
      {
        "duration": 11,
        "start_time": "2022-04-15T18:15:18.755Z"
      },
      {
        "duration": 26,
        "start_time": "2022-04-15T18:15:18.855Z"
      },
      {
        "duration": 73,
        "start_time": "2022-04-15T18:15:18.883Z"
      },
      {
        "duration": 97,
        "start_time": "2022-04-15T18:15:18.958Z"
      },
      {
        "duration": 3,
        "start_time": "2022-04-15T18:15:19.057Z"
      },
      {
        "duration": 5,
        "start_time": "2022-04-15T18:15:21.385Z"
      },
      {
        "duration": 1307,
        "start_time": "2022-04-15T18:15:26.348Z"
      },
      {
        "duration": 5,
        "start_time": "2022-04-15T18:15:51.127Z"
      },
      {
        "duration": 1150,
        "start_time": "2022-04-15T18:15:53.571Z"
      },
      {
        "duration": 5,
        "start_time": "2022-04-15T18:16:15.856Z"
      },
      {
        "duration": 1185,
        "start_time": "2022-04-15T18:16:19.484Z"
      },
      {
        "duration": 1353,
        "start_time": "2022-04-15T18:16:23.774Z"
      },
      {
        "duration": 1211,
        "start_time": "2022-04-15T18:16:31.769Z"
      }
    ],
    "colab": {
      "provenance": []
    },
    "kernelspec": {
      "display_name": "Python 3 (ipykernel)",
      "language": "python",
      "name": "python3"
    },
    "language_info": {
      "codemirror_mode": {
        "name": "ipython",
        "version": 3
      },
      "file_extension": ".py",
      "mimetype": "text/x-python",
      "name": "python",
      "nbconvert_exporter": "python",
      "pygments_lexer": "ipython3",
      "version": "3.9.5"
    },
    "toc": {
      "base_numbering": 1,
      "nav_menu": {},
      "number_sections": true,
      "sideBar": true,
      "skip_h1_title": true,
      "title_cell": "Table of Contents",
      "title_sidebar": "Contents",
      "toc_cell": false,
      "toc_position": {},
      "toc_section_display": true,
      "toc_window_display": false
    }
  },
  "nbformat": 4,
  "nbformat_minor": 0
}
