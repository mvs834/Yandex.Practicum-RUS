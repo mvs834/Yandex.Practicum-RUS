{
  "cells": [
    {
      "cell_type": "markdown",
      "metadata": {
        "id": "-IvjpAO-Yx5Q"
      },
      "source": [
        "# Описание проекта\n",
        "\n",
        "Необходимо проанализировать поведение клиентов телекоммуникационной компании и сделать вывод — какой тариф выгоднее для компании\n"
      ]
    },
    {
      "cell_type": "markdown",
      "metadata": {
        "id": "0IuhCAdSYx5S"
      },
      "source": [
        "## Загрузка данных\n",
        "### Calls"
      ]
    },
    {
      "cell_type": "code",
      "execution_count": null,
      "metadata": {
        "id": "Qb0PlG0GYx5T"
      },
      "outputs": [],
      "source": [
        "import pandas as pd\n",
        "import numpy as np\n",
        "from scipy import stats as st"
      ]
    },
    {
      "cell_type": "code",
      "execution_count": null,
      "metadata": {
        "id": "fy7qHZoSYx5U",
        "outputId": "6c074367-ef68-4f54-ff28-f6b494707509",
        "scrolled": false
      },
      "outputs": [
        {
          "data": {
            "text/html": [
              "<div>\n",
              "<style scoped>\n",
              "    .dataframe tbody tr th:only-of-type {\n",
              "        vertical-align: middle;\n",
              "    }\n",
              "\n",
              "    .dataframe tbody tr th {\n",
              "        vertical-align: top;\n",
              "    }\n",
              "\n",
              "    .dataframe thead th {\n",
              "        text-align: right;\n",
              "    }\n",
              "</style>\n",
              "<table border=\"1\" class=\"dataframe\">\n",
              "  <thead>\n",
              "    <tr style=\"text-align: right;\">\n",
              "      <th></th>\n",
              "      <th>id</th>\n",
              "      <th>call_date</th>\n",
              "      <th>duration</th>\n",
              "      <th>user_id</th>\n",
              "    </tr>\n",
              "  </thead>\n",
              "  <tbody>\n",
              "    <tr>\n",
              "      <td>0</td>\n",
              "      <td>1000_0</td>\n",
              "      <td>2018-07-25</td>\n",
              "      <td>0.00</td>\n",
              "      <td>1000</td>\n",
              "    </tr>\n",
              "    <tr>\n",
              "      <td>1</td>\n",
              "      <td>1000_1</td>\n",
              "      <td>2018-08-17</td>\n",
              "      <td>0.00</td>\n",
              "      <td>1000</td>\n",
              "    </tr>\n",
              "    <tr>\n",
              "      <td>2</td>\n",
              "      <td>1000_2</td>\n",
              "      <td>2018-06-11</td>\n",
              "      <td>2.85</td>\n",
              "      <td>1000</td>\n",
              "    </tr>\n",
              "    <tr>\n",
              "      <td>3</td>\n",
              "      <td>1000_3</td>\n",
              "      <td>2018-09-21</td>\n",
              "      <td>13.80</td>\n",
              "      <td>1000</td>\n",
              "    </tr>\n",
              "    <tr>\n",
              "      <td>4</td>\n",
              "      <td>1000_4</td>\n",
              "      <td>2018-12-15</td>\n",
              "      <td>5.18</td>\n",
              "      <td>1000</td>\n",
              "    </tr>\n",
              "  </tbody>\n",
              "</table>\n",
              "</div>"
            ],
            "text/plain": [
              "       id   call_date  duration  user_id\n",
              "0  1000_0  2018-07-25      0.00     1000\n",
              "1  1000_1  2018-08-17      0.00     1000\n",
              "2  1000_2  2018-06-11      2.85     1000\n",
              "3  1000_3  2018-09-21     13.80     1000\n",
              "4  1000_4  2018-12-15      5.18     1000"
            ]
          },
          "execution_count": 2,
          "metadata": {},
          "output_type": "execute_result"
        }
      ],
      "source": [
        "calls = pd.read_csv('/datasets/calls.csv')\n",
        "\n",
        "calls.head()"
      ]
    },
    {
      "cell_type": "markdown",
      "metadata": {
        "id": "ArJ86d3KYx5V"
      },
      "source": [
        "Таблица calls (информация о звонках):\n",
        "* id — уникальный номер звонка\n",
        "* call_date — дата звонка\n",
        "* duration — длительность звонка в минутах\n",
        "* user_id — идентификатор пользователя, сделавшего звонок"
      ]
    },
    {
      "cell_type": "code",
      "execution_count": null,
      "metadata": {
        "id": "T7_8TDnnYx5V",
        "outputId": "6392df2f-4e77-4276-d2f5-8aa47f40a6f9",
        "scrolled": true
      },
      "outputs": [
        {
          "name": "stdout",
          "output_type": "stream",
          "text": [
            "<class 'pandas.core.frame.DataFrame'>\n",
            "RangeIndex: 202607 entries, 0 to 202606\n",
            "Data columns (total 4 columns):\n",
            "id           202607 non-null object\n",
            "call_date    202607 non-null object\n",
            "duration     202607 non-null float64\n",
            "user_id      202607 non-null int64\n",
            "dtypes: float64(1), int64(1), object(2)\n",
            "memory usage: 6.2+ MB\n"
          ]
        }
      ],
      "source": [
        "calls.info()"
      ]
    },
    {
      "cell_type": "markdown",
      "metadata": {
        "id": "xdIMnnGPYx5W"
      },
      "source": [
        "Данные не содержат пропусков.\n",
        "\n",
        "Данные колонки call_date должны быть переведены в формат даты"
      ]
    },
    {
      "cell_type": "code",
      "execution_count": null,
      "metadata": {
        "id": "salQSmzZYx5W",
        "outputId": "98d332c7-43cd-4a4c-a91c-43b2b49c8c8d",
        "scrolled": true
      },
      "outputs": [
        {
          "data": {
            "text/html": [
              "<div>\n",
              "<style scoped>\n",
              "    .dataframe tbody tr th:only-of-type {\n",
              "        vertical-align: middle;\n",
              "    }\n",
              "\n",
              "    .dataframe tbody tr th {\n",
              "        vertical-align: top;\n",
              "    }\n",
              "\n",
              "    .dataframe thead th {\n",
              "        text-align: right;\n",
              "    }\n",
              "</style>\n",
              "<table border=\"1\" class=\"dataframe\">\n",
              "  <thead>\n",
              "    <tr style=\"text-align: right;\">\n",
              "      <th></th>\n",
              "      <th>duration</th>\n",
              "      <th>user_id</th>\n",
              "    </tr>\n",
              "  </thead>\n",
              "  <tbody>\n",
              "    <tr>\n",
              "      <td>count</td>\n",
              "      <td>202607.000000</td>\n",
              "      <td>202607.000000</td>\n",
              "    </tr>\n",
              "    <tr>\n",
              "      <td>mean</td>\n",
              "      <td>6.755887</td>\n",
              "      <td>1253.940619</td>\n",
              "    </tr>\n",
              "    <tr>\n",
              "      <td>std</td>\n",
              "      <td>5.843365</td>\n",
              "      <td>144.722751</td>\n",
              "    </tr>\n",
              "    <tr>\n",
              "      <td>min</td>\n",
              "      <td>0.000000</td>\n",
              "      <td>1000.000000</td>\n",
              "    </tr>\n",
              "    <tr>\n",
              "      <td>25%</td>\n",
              "      <td>1.300000</td>\n",
              "      <td>1126.000000</td>\n",
              "    </tr>\n",
              "    <tr>\n",
              "      <td>50%</td>\n",
              "      <td>6.000000</td>\n",
              "      <td>1260.000000</td>\n",
              "    </tr>\n",
              "    <tr>\n",
              "      <td>75%</td>\n",
              "      <td>10.700000</td>\n",
              "      <td>1379.000000</td>\n",
              "    </tr>\n",
              "    <tr>\n",
              "      <td>max</td>\n",
              "      <td>38.000000</td>\n",
              "      <td>1499.000000</td>\n",
              "    </tr>\n",
              "  </tbody>\n",
              "</table>\n",
              "</div>"
            ],
            "text/plain": [
              "            duration        user_id\n",
              "count  202607.000000  202607.000000\n",
              "mean        6.755887    1253.940619\n",
              "std         5.843365     144.722751\n",
              "min         0.000000    1000.000000\n",
              "25%         1.300000    1126.000000\n",
              "50%         6.000000    1260.000000\n",
              "75%        10.700000    1379.000000\n",
              "max        38.000000    1499.000000"
            ]
          },
          "execution_count": 4,
          "metadata": {},
          "output_type": "execute_result"
        }
      ],
      "source": [
        "calls.describe()"
      ]
    },
    {
      "cell_type": "code",
      "execution_count": null,
      "metadata": {
        "id": "0jP6XJCbYx5W",
        "outputId": "d75cc1d9-8a42-49af-9f13-5cf889011d82",
        "scrolled": true
      },
      "outputs": [
        {
          "data": {
            "image/png": "[encoded data removed]",
            "text/plain": [
              "<Figure size 432x288 with 1 Axes>"
            ]
          },
          "metadata": {
            "needs_background": "light"
          },
          "output_type": "display_data"
        }
      ],
      "source": [
        "ax = calls['duration'].hist(bins = 50);\n",
        "ax.set_title('Распределение продолжительности всех звонков');\n",
        "ax.set_xlabel('продолжительность разговора (мин)');\n",
        "ax.set_ylabel('частота');"
      ]
    },
    {
      "cell_type": "code",
      "execution_count": null,
      "metadata": {
        "id": "NjOD0Q-3Yx5X",
        "outputId": "cc0c2c4d-37c2-4990-fea2-a082b73cf68c"
      },
      "outputs": [
        {
          "data": {
            "text/plain": [
              "0.00     39613\n",
              "4.49       142\n",
              "5.50       142\n",
              "6.15       141\n",
              "6.38       141\n",
              "         ...  \n",
              "27.02        1\n",
              "26.19        1\n",
              "25.34        1\n",
              "27.13        1\n",
              "24.28        1\n",
              "Name: duration, Length: 2871, dtype: int64"
            ]
          },
          "execution_count": 6,
          "metadata": {},
          "output_type": "execute_result"
        }
      ],
      "source": [
        "calls['duration'].value_counts()"
      ]
    },
    {
      "cell_type": "markdown",
      "metadata": {
        "id": "akezvooTYx5X"
      },
      "source": [
        "Огромное количество пропущенных звонков, которые не имеют значения для исследования"
      ]
    },
    {
      "cell_type": "code",
      "execution_count": null,
      "metadata": {
        "id": "WhOx7kQUYx5X",
        "outputId": "35c67e1d-36a0-4bfe-e2dc-a5cdbc6e326d",
        "scrolled": false
      },
      "outputs": [
        {
          "data": {
            "image/png": "[encoded data removed]",
            "text/plain": [
              "<Figure size 432x288 with 1 Axes>"
            ]
          },
          "metadata": {
            "needs_background": "light"
          },
          "output_type": "display_data"
        }
      ],
      "source": [
        "ax = calls.query('duration > 0')['duration'].hist(bins = 50);\n",
        "ax.set_title('Распределение продолжительности непропущенных звонков');\n",
        "ax.set_xlabel('продолжительность разговора (мин)');\n",
        "ax.set_ylabel('частота');"
      ]
    },
    {
      "cell_type": "markdown",
      "metadata": {
        "id": "e5EScKKKYx5Y"
      },
      "source": [
        "Данные колонки duration имеют скошенное левостороннее распределение, приближающееся к распределению Пуассона. Это ожидаемое распределение от данных, отражающих продолжительность события.\n",
        "\n",
        "Значения от n.01 до n.59 нужно округлить до (n+1).00, исходя из кабальных правил компании."
      ]
    },
    {
      "cell_type": "markdown",
      "metadata": {
        "id": "fGZ7RGzAYx5Y"
      },
      "source": [
        "### Internet"
      ]
    },
    {
      "cell_type": "code",
      "execution_count": null,
      "metadata": {
        "id": "xU4zP_dqYx5Y",
        "outputId": "c1ceb20e-6a08-4247-df79-36c43da2b534",
        "scrolled": true
      },
      "outputs": [
        {
          "data": {
            "text/html": [
              "<div>\n",
              "<style scoped>\n",
              "    .dataframe tbody tr th:only-of-type {\n",
              "        vertical-align: middle;\n",
              "    }\n",
              "\n",
              "    .dataframe tbody tr th {\n",
              "        vertical-align: top;\n",
              "    }\n",
              "\n",
              "    .dataframe thead th {\n",
              "        text-align: right;\n",
              "    }\n",
              "</style>\n",
              "<table border=\"1\" class=\"dataframe\">\n",
              "  <thead>\n",
              "    <tr style=\"text-align: right;\">\n",
              "      <th></th>\n",
              "      <th>Unnamed: 0</th>\n",
              "      <th>id</th>\n",
              "      <th>mb_used</th>\n",
              "      <th>session_date</th>\n",
              "      <th>user_id</th>\n",
              "    </tr>\n",
              "  </thead>\n",
              "  <tbody>\n",
              "    <tr>\n",
              "      <td>0</td>\n",
              "      <td>0</td>\n",
              "      <td>1000_0</td>\n",
              "      <td>112.95</td>\n",
              "      <td>2018-11-25</td>\n",
              "      <td>1000</td>\n",
              "    </tr>\n",
              "    <tr>\n",
              "      <td>1</td>\n",
              "      <td>1</td>\n",
              "      <td>1000_1</td>\n",
              "      <td>1052.81</td>\n",
              "      <td>2018-09-07</td>\n",
              "      <td>1000</td>\n",
              "    </tr>\n",
              "    <tr>\n",
              "      <td>2</td>\n",
              "      <td>2</td>\n",
              "      <td>1000_2</td>\n",
              "      <td>1197.26</td>\n",
              "      <td>2018-06-25</td>\n",
              "      <td>1000</td>\n",
              "    </tr>\n",
              "    <tr>\n",
              "      <td>3</td>\n",
              "      <td>3</td>\n",
              "      <td>1000_3</td>\n",
              "      <td>550.27</td>\n",
              "      <td>2018-08-22</td>\n",
              "      <td>1000</td>\n",
              "    </tr>\n",
              "    <tr>\n",
              "      <td>4</td>\n",
              "      <td>4</td>\n",
              "      <td>1000_4</td>\n",
              "      <td>302.56</td>\n",
              "      <td>2018-09-24</td>\n",
              "      <td>1000</td>\n",
              "    </tr>\n",
              "  </tbody>\n",
              "</table>\n",
              "</div>"
            ],
            "text/plain": [
              "   Unnamed: 0      id  mb_used session_date  user_id\n",
              "0           0  1000_0   112.95   2018-11-25     1000\n",
              "1           1  1000_1  1052.81   2018-09-07     1000\n",
              "2           2  1000_2  1197.26   2018-06-25     1000\n",
              "3           3  1000_3   550.27   2018-08-22     1000\n",
              "4           4  1000_4   302.56   2018-09-24     1000"
            ]
          },
          "execution_count": 8,
          "metadata": {},
          "output_type": "execute_result"
        }
      ],
      "source": [
        "internet = pd.read_csv('/datasets/internet.csv')\n",
        "\n",
        "internet.head()"
      ]
    },
    {
      "cell_type": "code",
      "execution_count": null,
      "metadata": {
        "id": "2K-51g1yYx5Y"
      },
      "outputs": [],
      "source": [
        "internet = internet.drop(columns = \"Unnamed: 0\")"
      ]
    },
    {
      "cell_type": "markdown",
      "metadata": {
        "id": "fJ6Bhsx8Yx5Z"
      },
      "source": [
        "Таблица internet (информация об интернет-сессиях):\n",
        "* id — уникальный номер сессии\n",
        "* mb_used — объём потраченного за сессию интернет-трафика (в мегабайтах)\n",
        "* session_date — дата интернет-сессии\n",
        "* user_id — идентификатор пользователя"
      ]
    },
    {
      "cell_type": "code",
      "execution_count": null,
      "metadata": {
        "id": "dR4_OxwZYx5Z",
        "outputId": "b9101a87-738b-482e-e3c1-dd1fa64f61a5",
        "scrolled": false
      },
      "outputs": [
        {
          "name": "stdout",
          "output_type": "stream",
          "text": [
            "<class 'pandas.core.frame.DataFrame'>\n",
            "RangeIndex: 149396 entries, 0 to 149395\n",
            "Data columns (total 4 columns):\n",
            "id              149396 non-null object\n",
            "mb_used         149396 non-null float64\n",
            "session_date    149396 non-null object\n",
            "user_id         149396 non-null int64\n",
            "dtypes: float64(1), int64(1), object(2)\n",
            "memory usage: 4.6+ MB\n"
          ]
        }
      ],
      "source": [
        "internet.info()"
      ]
    },
    {
      "cell_type": "markdown",
      "metadata": {
        "id": "RV3_vXLJYx5Z"
      },
      "source": [
        "Данные не содержат пропусков.\n",
        "\n",
        "Колонка unnamed: 0 соответствует номеру строки и может быть удалена.\n",
        "\n",
        "Данные колонки session_date должны быть переведены в формат даты"
      ]
    },
    {
      "cell_type": "code",
      "execution_count": null,
      "metadata": {
        "id": "Ca6NHEE6Yx5Z",
        "outputId": "9e9243af-d13b-4046-c1de-b2fb8fc6796b"
      },
      "outputs": [
        {
          "data": {
            "image/png": "[encoded data removed]",
            "text/plain": [
              "<Figure size 432x288 with 1 Axes>"
            ]
          },
          "metadata": {
            "needs_background": "light"
          },
          "output_type": "display_data"
        }
      ],
      "source": [
        "ax = internet['mb_used'].hist(bins = 50);\n",
        "ax.set_title('Распределение интернет трафика');\n",
        "ax.set_xlabel('объём переданной информации за сессию (мб)');\n",
        "ax.set_ylabel('частота');"
      ]
    },
    {
      "cell_type": "markdown",
      "metadata": {
        "id": "4puOMJrMYx5a"
      },
      "source": [
        "Огромное количество малых сессий (с объёмом менее 1 мб) могут быть связаны с сообщениями в мессенджерах, push-уведомлениями и пр. Эти значения нужны, поскольку отражают активность абонента.\n",
        "\n",
        "Данные колонки mb_used имеют скошенное левостороннее распределение, приближающееся к распределению Пуассона. Это ожидаемое распределение от данных, отражающих продолжительность события."
      ]
    },
    {
      "cell_type": "markdown",
      "metadata": {
        "id": "DoEtGRXmYx5b"
      },
      "source": [
        "### Messages"
      ]
    },
    {
      "cell_type": "code",
      "execution_count": null,
      "metadata": {
        "id": "SpuYRxdBYx5c",
        "outputId": "912cef28-5c2b-4940-e89b-ab01e91a37f9",
        "scrolled": false
      },
      "outputs": [
        {
          "data": {
            "text/html": [
              "<div>\n",
              "<style scoped>\n",
              "    .dataframe tbody tr th:only-of-type {\n",
              "        vertical-align: middle;\n",
              "    }\n",
              "\n",
              "    .dataframe tbody tr th {\n",
              "        vertical-align: top;\n",
              "    }\n",
              "\n",
              "    .dataframe thead th {\n",
              "        text-align: right;\n",
              "    }\n",
              "</style>\n",
              "<table border=\"1\" class=\"dataframe\">\n",
              "  <thead>\n",
              "    <tr style=\"text-align: right;\">\n",
              "      <th></th>\n",
              "      <th>id</th>\n",
              "      <th>message_date</th>\n",
              "      <th>user_id</th>\n",
              "    </tr>\n",
              "  </thead>\n",
              "  <tbody>\n",
              "    <tr>\n",
              "      <td>0</td>\n",
              "      <td>1000_0</td>\n",
              "      <td>2018-06-27</td>\n",
              "      <td>1000</td>\n",
              "    </tr>\n",
              "    <tr>\n",
              "      <td>1</td>\n",
              "      <td>1000_1</td>\n",
              "      <td>2018-10-08</td>\n",
              "      <td>1000</td>\n",
              "    </tr>\n",
              "    <tr>\n",
              "      <td>2</td>\n",
              "      <td>1000_2</td>\n",
              "      <td>2018-08-04</td>\n",
              "      <td>1000</td>\n",
              "    </tr>\n",
              "    <tr>\n",
              "      <td>3</td>\n",
              "      <td>1000_3</td>\n",
              "      <td>2018-06-16</td>\n",
              "      <td>1000</td>\n",
              "    </tr>\n",
              "    <tr>\n",
              "      <td>4</td>\n",
              "      <td>1000_4</td>\n",
              "      <td>2018-12-05</td>\n",
              "      <td>1000</td>\n",
              "    </tr>\n",
              "  </tbody>\n",
              "</table>\n",
              "</div>"
            ],
            "text/plain": [
              "       id message_date  user_id\n",
              "0  1000_0   2018-06-27     1000\n",
              "1  1000_1   2018-10-08     1000\n",
              "2  1000_2   2018-08-04     1000\n",
              "3  1000_3   2018-06-16     1000\n",
              "4  1000_4   2018-12-05     1000"
            ]
          },
          "execution_count": 12,
          "metadata": {},
          "output_type": "execute_result"
        }
      ],
      "source": [
        "messages = pd.read_csv('/datasets/messages.csv')\n",
        "\n",
        "messages.head()"
      ]
    },
    {
      "cell_type": "markdown",
      "metadata": {
        "id": "IizjN7MsYx5c"
      },
      "source": [
        "Таблица messages (информация о сообщениях):\n",
        "* id — уникальный номер сообщения\n",
        "* message_date — дата сообщения\n",
        "* user_id — идентификатор пользователя, отправившего сообщение"
      ]
    },
    {
      "cell_type": "code",
      "execution_count": null,
      "metadata": {
        "id": "-YiHh5ShYx5d",
        "outputId": "5b7a74e4-d940-486d-e65e-8cb2af68df17",
        "scrolled": true
      },
      "outputs": [
        {
          "name": "stdout",
          "output_type": "stream",
          "text": [
            "<class 'pandas.core.frame.DataFrame'>\n",
            "RangeIndex: 123036 entries, 0 to 123035\n",
            "Data columns (total 3 columns):\n",
            "id              123036 non-null object\n",
            "message_date    123036 non-null object\n",
            "user_id         123036 non-null int64\n",
            "dtypes: int64(1), object(2)\n",
            "memory usage: 2.8+ MB\n"
          ]
        }
      ],
      "source": [
        "messages.info()"
      ]
    },
    {
      "cell_type": "markdown",
      "metadata": {
        "id": "y885PCgmYx5d"
      },
      "source": [
        "Данные не содержат пропусков.\n",
        "\n",
        "Данные колонки message_date должны быть переведены в формат даты"
      ]
    },
    {
      "cell_type": "markdown",
      "metadata": {
        "id": "8h7evCMvYx5e"
      },
      "source": [
        "### Tariffs"
      ]
    },
    {
      "cell_type": "code",
      "execution_count": null,
      "metadata": {
        "id": "QSbBKp91Yx5e",
        "outputId": "c3851b8b-ffda-4acf-fb04-2c091cb6a9f5",
        "scrolled": true
      },
      "outputs": [
        {
          "data": {
            "text/html": [
              "<div>\n",
              "<style scoped>\n",
              "    .dataframe tbody tr th:only-of-type {\n",
              "        vertical-align: middle;\n",
              "    }\n",
              "\n",
              "    .dataframe tbody tr th {\n",
              "        vertical-align: top;\n",
              "    }\n",
              "\n",
              "    .dataframe thead th {\n",
              "        text-align: right;\n",
              "    }\n",
              "</style>\n",
              "<table border=\"1\" class=\"dataframe\">\n",
              "  <thead>\n",
              "    <tr style=\"text-align: right;\">\n",
              "      <th></th>\n",
              "      <th>messages_included</th>\n",
              "      <th>mb_per_month_included</th>\n",
              "      <th>minutes_included</th>\n",
              "      <th>rub_monthly_fee</th>\n",
              "      <th>rub_per_gb</th>\n",
              "      <th>rub_per_message</th>\n",
              "      <th>rub_per_minute</th>\n",
              "      <th>tariff_name</th>\n",
              "    </tr>\n",
              "  </thead>\n",
              "  <tbody>\n",
              "    <tr>\n",
              "      <td>0</td>\n",
              "      <td>50</td>\n",
              "      <td>15360</td>\n",
              "      <td>500</td>\n",
              "      <td>550</td>\n",
              "      <td>200</td>\n",
              "      <td>3</td>\n",
              "      <td>3</td>\n",
              "      <td>smart</td>\n",
              "    </tr>\n",
              "    <tr>\n",
              "      <td>1</td>\n",
              "      <td>1000</td>\n",
              "      <td>30720</td>\n",
              "      <td>3000</td>\n",
              "      <td>1950</td>\n",
              "      <td>150</td>\n",
              "      <td>1</td>\n",
              "      <td>1</td>\n",
              "      <td>ultra</td>\n",
              "    </tr>\n",
              "  </tbody>\n",
              "</table>\n",
              "</div>"
            ],
            "text/plain": [
              "   messages_included  mb_per_month_included  minutes_included  \\\n",
              "0                 50                  15360               500   \n",
              "1               1000                  30720              3000   \n",
              "\n",
              "   rub_monthly_fee  rub_per_gb  rub_per_message  rub_per_minute tariff_name  \n",
              "0              550         200                3               3       smart  \n",
              "1             1950         150                1               1       ultra  "
            ]
          },
          "execution_count": 14,
          "metadata": {},
          "output_type": "execute_result"
        }
      ],
      "source": [
        "tariffs = pd.read_csv('/datasets/tariffs.csv')\n",
        "\n",
        "tariffs.head()"
      ]
    },
    {
      "cell_type": "markdown",
      "metadata": {
        "id": "MN583SwsYx5e"
      },
      "source": [
        "Таблица tariffs (информация о тарифах):\n",
        "* tariff_name — название тарифа\n",
        "* rub_monthly_fee — ежемесячная абонентская плата в рублях\n",
        "* minutes_included — количество минут разговора в месяц, включённых в абонентскую плату\n",
        "* messages_included — количество сообщений в месяц, включённых в абонентскую плату\n",
        "* mb_per_month_included — объём интернет-трафика, включённого в абонентскую плату (в мегабайтах)\n",
        "* rub_per_minute — стоимость минуты разговора сверх тарифного пакета (например, если в тарифе 100 минут разговора в месяц, то со 101 минуты будет взиматься плата)\n",
        "* rub_per_message — стоимость отправки сообщения сверх тарифного пакета\n",
        "* rub_per_gb — стоимость дополнительного гигабайта интернет-трафика сверх тарифного пакета (1 гигабайт = 1024 мегабайта)"
      ]
    },
    {
      "cell_type": "code",
      "execution_count": null,
      "metadata": {
        "id": "TAAgOXLrYx5f",
        "outputId": "e1528775-95f7-4f90-945e-fdf9ba3fb832",
        "scrolled": true
      },
      "outputs": [
        {
          "name": "stdout",
          "output_type": "stream",
          "text": [
            "<class 'pandas.core.frame.DataFrame'>\n",
            "RangeIndex: 2 entries, 0 to 1\n",
            "Data columns (total 8 columns):\n",
            "messages_included        2 non-null int64\n",
            "mb_per_month_included    2 non-null int64\n",
            "minutes_included         2 non-null int64\n",
            "rub_monthly_fee          2 non-null int64\n",
            "rub_per_gb               2 non-null int64\n",
            "rub_per_message          2 non-null int64\n",
            "rub_per_minute           2 non-null int64\n",
            "tariff_name              2 non-null object\n",
            "dtypes: int64(7), object(1)\n",
            "memory usage: 256.0+ bytes\n"
          ]
        }
      ],
      "source": [
        "tariffs.info()"
      ]
    },
    {
      "cell_type": "markdown",
      "metadata": {
        "id": "eiCFrtGdYx5f"
      },
      "source": [
        "Данные не содержат пропусков"
      ]
    },
    {
      "cell_type": "markdown",
      "metadata": {
        "id": "dgByqz3cYx5f"
      },
      "source": [
        "### Users"
      ]
    },
    {
      "cell_type": "code",
      "execution_count": null,
      "metadata": {
        "id": "qLZSK-jpYx5f",
        "outputId": "b8b2da82-1f49-414e-e902-de372e3ee40a",
        "scrolled": false
      },
      "outputs": [
        {
          "data": {
            "text/html": [
              "<div>\n",
              "<style scoped>\n",
              "    .dataframe tbody tr th:only-of-type {\n",
              "        vertical-align: middle;\n",
              "    }\n",
              "\n",
              "    .dataframe tbody tr th {\n",
              "        vertical-align: top;\n",
              "    }\n",
              "\n",
              "    .dataframe thead th {\n",
              "        text-align: right;\n",
              "    }\n",
              "</style>\n",
              "<table border=\"1\" class=\"dataframe\">\n",
              "  <thead>\n",
              "    <tr style=\"text-align: right;\">\n",
              "      <th></th>\n",
              "      <th>user_id</th>\n",
              "      <th>age</th>\n",
              "      <th>churn_date</th>\n",
              "      <th>city</th>\n",
              "      <th>first_name</th>\n",
              "      <th>last_name</th>\n",
              "      <th>reg_date</th>\n",
              "      <th>tariff</th>\n",
              "    </tr>\n",
              "  </thead>\n",
              "  <tbody>\n",
              "    <tr>\n",
              "      <td>0</td>\n",
              "      <td>1000</td>\n",
              "      <td>52</td>\n",
              "      <td>NaN</td>\n",
              "      <td>Краснодар</td>\n",
              "      <td>Рафаил</td>\n",
              "      <td>Верещагин</td>\n",
              "      <td>2018-05-25</td>\n",
              "      <td>ultra</td>\n",
              "    </tr>\n",
              "    <tr>\n",
              "      <td>1</td>\n",
              "      <td>1001</td>\n",
              "      <td>41</td>\n",
              "      <td>NaN</td>\n",
              "      <td>Москва</td>\n",
              "      <td>Иван</td>\n",
              "      <td>Ежов</td>\n",
              "      <td>2018-11-01</td>\n",
              "      <td>smart</td>\n",
              "    </tr>\n",
              "    <tr>\n",
              "      <td>2</td>\n",
              "      <td>1002</td>\n",
              "      <td>59</td>\n",
              "      <td>NaN</td>\n",
              "      <td>Стерлитамак</td>\n",
              "      <td>Евгений</td>\n",
              "      <td>Абрамович</td>\n",
              "      <td>2018-06-17</td>\n",
              "      <td>smart</td>\n",
              "    </tr>\n",
              "    <tr>\n",
              "      <td>3</td>\n",
              "      <td>1003</td>\n",
              "      <td>23</td>\n",
              "      <td>NaN</td>\n",
              "      <td>Москва</td>\n",
              "      <td>Белла</td>\n",
              "      <td>Белякова</td>\n",
              "      <td>2018-08-17</td>\n",
              "      <td>ultra</td>\n",
              "    </tr>\n",
              "    <tr>\n",
              "      <td>4</td>\n",
              "      <td>1004</td>\n",
              "      <td>68</td>\n",
              "      <td>NaN</td>\n",
              "      <td>Новокузнецк</td>\n",
              "      <td>Татьяна</td>\n",
              "      <td>Авдеенко</td>\n",
              "      <td>2018-05-14</td>\n",
              "      <td>ultra</td>\n",
              "    </tr>\n",
              "  </tbody>\n",
              "</table>\n",
              "</div>"
            ],
            "text/plain": [
              "   user_id  age churn_date         city first_name  last_name    reg_date  \\\n",
              "0     1000   52        NaN    Краснодар     Рафаил  Верещагин  2018-05-25   \n",
              "1     1001   41        NaN       Москва       Иван       Ежов  2018-11-01   \n",
              "2     1002   59        NaN  Стерлитамак    Евгений  Абрамович  2018-06-17   \n",
              "3     1003   23        NaN       Москва      Белла   Белякова  2018-08-17   \n",
              "4     1004   68        NaN  Новокузнецк    Татьяна   Авдеенко  2018-05-14   \n",
              "\n",
              "  tariff  \n",
              "0  ultra  \n",
              "1  smart  \n",
              "2  smart  \n",
              "3  ultra  \n",
              "4  ultra  "
            ]
          },
          "execution_count": 16,
          "metadata": {},
          "output_type": "execute_result"
        }
      ],
      "source": [
        "users = pd.read_csv('/datasets/users.csv')\n",
        "\n",
        "users.head()"
      ]
    },
    {
      "cell_type": "markdown",
      "metadata": {
        "id": "AQaqmo0mYx5f"
      },
      "source": [
        "Таблица users (информация о пользователях):\n",
        "* user_id — уникальный идентификатор пользователя\n",
        "* first_name — имя пользователя\n",
        "* last_name — фамилия пользователя\n",
        "* age — возраст пользователя (годы)\n",
        "* reg_date — дата подключения тарифа (день, месяц, год)\n",
        "* churn_date — дата прекращения пользования тарифом (если значение пропущено, то тариф ещё действовал на момент выгрузки данных)\n",
        "* city — город проживания пользователя\n",
        "* tarif — название тарифного плана"
      ]
    },
    {
      "cell_type": "code",
      "execution_count": null,
      "metadata": {
        "id": "omiA5L21Yx5g",
        "outputId": "b22e690c-534c-4802-f46f-6f1c5031b26a",
        "scrolled": true
      },
      "outputs": [
        {
          "name": "stdout",
          "output_type": "stream",
          "text": [
            "<class 'pandas.core.frame.DataFrame'>\n",
            "RangeIndex: 500 entries, 0 to 499\n",
            "Data columns (total 8 columns):\n",
            "user_id       500 non-null int64\n",
            "age           500 non-null int64\n",
            "churn_date    38 non-null object\n",
            "city          500 non-null object\n",
            "first_name    500 non-null object\n",
            "last_name     500 non-null object\n",
            "reg_date      500 non-null object\n",
            "tariff        500 non-null object\n",
            "dtypes: int64(2), object(6)\n",
            "memory usage: 31.4+ KB\n"
          ]
        }
      ],
      "source": [
        "users.info()"
      ]
    },
    {
      "cell_type": "markdown",
      "metadata": {
        "id": "jqlq86bgYx5g"
      },
      "source": [
        "Колонка churn_date содержит пропуски, имеющие смысловое значение\n",
        "\n",
        "Данные колонки user_id должны быть переведены в формат int64, а колонок churn_date и reg_date должны быть переведены в формат даты"
      ]
    },
    {
      "cell_type": "markdown",
      "metadata": {
        "id": "KCCLG2wcYx5g"
      },
      "source": [
        "Вывод: данные загружены, не имеют пропусков. Поскольку в задании необходимо изучить срезы по месяцам, даты следует привести к соответствующему виду"
      ]
    },
    {
      "attachments": {},
      "cell_type": "markdown",
      "metadata": {
        "id": "wChh1_VaYx5h"
      },
      "source": [
        "## Подготовка данных"
      ]
    },
    {
      "cell_type": "markdown",
      "metadata": {
        "id": "0xbqjIQTYx5h"
      },
      "source": [
        "### Переименование колонок"
      ]
    },
    {
      "cell_type": "code",
      "execution_count": null,
      "metadata": {
        "id": "yACn--8TYx5h",
        "scrolled": true
      },
      "outputs": [],
      "source": [
        "tariffs = tariffs.rename(columns = {'tariff_name': 'tariff'})\n",
        "messages = messages.rename(columns = {'id': 'message_id'})"
      ]
    },
    {
      "cell_type": "markdown",
      "metadata": {
        "id": "sXOLHQXcYx5h"
      },
      "source": [
        "### Изменение типа данных"
      ]
    },
    {
      "cell_type": "code",
      "execution_count": null,
      "metadata": {
        "id": "oJ0bhdkXYx5i",
        "outputId": "f524c4a2-d67d-4b47-82fd-4faf81a29fe3"
      },
      "outputs": [
        {
          "name": "stdout",
          "output_type": "stream",
          "text": [
            "<class 'pandas.core.frame.DataFrame'>\n",
            "RangeIndex: 500 entries, 0 to 499\n",
            "Data columns (total 8 columns):\n",
            "user_id       500 non-null int64\n",
            "age           500 non-null int64\n",
            "churn_date    38 non-null object\n",
            "city          500 non-null object\n",
            "first_name    500 non-null object\n",
            "last_name     500 non-null object\n",
            "reg_date      500 non-null object\n",
            "tariff        500 non-null object\n",
            "dtypes: int64(2), object(6)\n",
            "memory usage: 31.4+ KB\n"
          ]
        }
      ],
      "source": [
        "users['user_id'] = users['user_id'].astype(int)\n",
        "\n",
        "users.info()"
      ]
    },
    {
      "cell_type": "markdown",
      "metadata": {
        "id": "X4GynuPKYx5i"
      },
      "source": [
        "### Округление дат до месяцев"
      ]
    },
    {
      "cell_type": "code",
      "execution_count": null,
      "metadata": {
        "id": "hhDhosbXYx5i",
        "scrolled": true
      },
      "outputs": [],
      "source": [
        "#все даты приводятся к первому числу месяца\n",
        "\n",
        "calls['call_date'] = calls['call_date'].astype('datetime64[M]')\n",
        "internet['session_date'] = internet['session_date'].astype('datetime64[M]')\n",
        "messages['message_date'] = messages['message_date'].astype('datetime64[M]')\n",
        "users['churn_date'] = users['churn_date'].astype('datetime64[M]')\n",
        "users['reg_date'] = users['reg_date'].astype('datetime64[M]')"
      ]
    },
    {
      "cell_type": "markdown",
      "metadata": {
        "id": "RW_Tq9NTYx5i"
      },
      "source": [
        "### Приведение дат к единому названию"
      ]
    },
    {
      "cell_type": "code",
      "execution_count": null,
      "metadata": {
        "id": "5qGPKjZvYx5i"
      },
      "outputs": [],
      "source": [
        "calls = calls.rename(columns = {'call_date':'date'})\n",
        "internet = internet.rename(columns = {'session_date':'date'})\n",
        "messages = messages.rename(columns = {'message_date':'date'})"
      ]
    },
    {
      "cell_type": "markdown",
      "metadata": {
        "id": "GmSngGeIYx5j"
      },
      "source": [
        "### Округление секунд до минут"
      ]
    },
    {
      "cell_type": "code",
      "execution_count": null,
      "metadata": {
        "id": "HddQy43tYx5j",
        "scrolled": false
      },
      "outputs": [],
      "source": [
        "calls['duration'] = np.ceil(calls['duration'])"
      ]
    },
    {
      "cell_type": "markdown",
      "metadata": {
        "id": "D2E8FNh8Yx5k"
      },
      "source": [
        "### Расчёт новых колонок"
      ]
    },
    {
      "cell_type": "markdown",
      "metadata": {
        "id": "-Tb__rHbYx5k"
      },
      "source": [
        "#### Доход со звонков"
      ]
    },
    {
      "cell_type": "code",
      "execution_count": null,
      "metadata": {
        "id": "ArybM1_gYx5k"
      },
      "outputs": [],
      "source": [
        "#количество сделанных звонков по месяцам\n",
        "calls_per_month = calls.query('duration > 0').pivot_table(index = ('user_id', 'call_date'), values = 'duration', aggfunc = 'count')"
      ]
    },
    {
      "cell_type": "code",
      "execution_count": null,
      "metadata": {
        "id": "v_0ko254Yx5k",
        "scrolled": true
      },
      "outputs": [],
      "source": [
        "#количество израсходованных минут разговора по месяцам\n",
        "minutes_per_month = np.ceil(calls.query('duration > 0').pivot_table(index = ('user_id', 'call_date'), values = 'duration', aggfunc = 'sum'))"
      ]
    },
    {
      "cell_type": "code",
      "execution_count": null,
      "metadata": {
        "id": "9CCLTmzFYx5l",
        "scrolled": true
      },
      "outputs": [],
      "source": [
        "#для того, чтобы можно было обращаться к row['tariff'] в функции расчёта дохода, \n",
        "#следует превратить pivot table в data_frame (если есть иная возможность, подскажите, пожалуйста!)\n",
        "minutes_per_month = minutes_per_month.reset_index()"
      ]
    },
    {
      "cell_type": "code",
      "execution_count": null,
      "metadata": {
        "id": "EPcqQDVHYx5l",
        "outputId": "4415463d-02fb-4316-d049-784bbe3621c4"
      },
      "outputs": [
        {
          "data": {
            "text/html": [
              "<div>\n",
              "<style scoped>\n",
              "    .dataframe tbody tr th:only-of-type {\n",
              "        vertical-align: middle;\n",
              "    }\n",
              "\n",
              "    .dataframe tbody tr th {\n",
              "        vertical-align: top;\n",
              "    }\n",
              "\n",
              "    .dataframe thead th {\n",
              "        text-align: right;\n",
              "    }\n",
              "</style>\n",
              "<table border=\"1\" class=\"dataframe\">\n",
              "  <thead>\n",
              "    <tr style=\"text-align: right;\">\n",
              "      <th></th>\n",
              "      <th>user_id</th>\n",
              "      <th>call_date</th>\n",
              "      <th>duration</th>\n",
              "    </tr>\n",
              "  </thead>\n",
              "  <tbody>\n",
              "    <tr>\n",
              "      <td>0</td>\n",
              "      <td>1000</td>\n",
              "      <td>2018-05-01</td>\n",
              "      <td>159.0</td>\n",
              "    </tr>\n",
              "    <tr>\n",
              "      <td>1</td>\n",
              "      <td>1000</td>\n",
              "      <td>2018-06-01</td>\n",
              "      <td>172.0</td>\n",
              "    </tr>\n",
              "    <tr>\n",
              "      <td>2</td>\n",
              "      <td>1000</td>\n",
              "      <td>2018-07-01</td>\n",
              "      <td>340.0</td>\n",
              "    </tr>\n",
              "    <tr>\n",
              "      <td>3</td>\n",
              "      <td>1000</td>\n",
              "      <td>2018-08-01</td>\n",
              "      <td>408.0</td>\n",
              "    </tr>\n",
              "    <tr>\n",
              "      <td>4</td>\n",
              "      <td>1000</td>\n",
              "      <td>2018-09-01</td>\n",
              "      <td>466.0</td>\n",
              "    </tr>\n",
              "    <tr>\n",
              "      <td>...</td>\n",
              "      <td>...</td>\n",
              "      <td>...</td>\n",
              "      <td>...</td>\n",
              "    </tr>\n",
              "    <tr>\n",
              "      <td>3163</td>\n",
              "      <td>1498</td>\n",
              "      <td>2018-10-01</td>\n",
              "      <td>247.0</td>\n",
              "    </tr>\n",
              "    <tr>\n",
              "      <td>3164</td>\n",
              "      <td>1499</td>\n",
              "      <td>2018-09-01</td>\n",
              "      <td>70.0</td>\n",
              "    </tr>\n",
              "    <tr>\n",
              "      <td>3165</td>\n",
              "      <td>1499</td>\n",
              "      <td>2018-10-01</td>\n",
              "      <td>449.0</td>\n",
              "    </tr>\n",
              "    <tr>\n",
              "      <td>3166</td>\n",
              "      <td>1499</td>\n",
              "      <td>2018-11-01</td>\n",
              "      <td>612.0</td>\n",
              "    </tr>\n",
              "    <tr>\n",
              "      <td>3167</td>\n",
              "      <td>1499</td>\n",
              "      <td>2018-12-01</td>\n",
              "      <td>492.0</td>\n",
              "    </tr>\n",
              "  </tbody>\n",
              "</table>\n",
              "<p>3168 rows × 3 columns</p>\n",
              "</div>"
            ],
            "text/plain": [
              "      user_id  call_date  duration\n",
              "0        1000 2018-05-01     159.0\n",
              "1        1000 2018-06-01     172.0\n",
              "2        1000 2018-07-01     340.0\n",
              "3        1000 2018-08-01     408.0\n",
              "4        1000 2018-09-01     466.0\n",
              "...       ...        ...       ...\n",
              "3163     1498 2018-10-01     247.0\n",
              "3164     1499 2018-09-01      70.0\n",
              "3165     1499 2018-10-01     449.0\n",
              "3166     1499 2018-11-01     612.0\n",
              "3167     1499 2018-12-01     492.0\n",
              "\n",
              "[3168 rows x 3 columns]"
            ]
          },
          "execution_count": 26,
          "metadata": {},
          "output_type": "execute_result"
        }
      ],
      "source": [
        "minutes_per_month"
      ]
    },
    {
      "cell_type": "code",
      "execution_count": null,
      "metadata": {
        "id": "uHmDeC-FYx5l"
      },
      "outputs": [],
      "source": [
        "minutes_per_month = minutes_per_month.merge(users)"
      ]
    },
    {
      "cell_type": "code",
      "execution_count": null,
      "metadata": {
        "id": "0pgxu6L9Yx5l",
        "scrolled": true
      },
      "outputs": [],
      "source": [
        "def revenue_calls(row):\n",
        "    if row['tariff'] == 'smart':\n",
        "        if row['duration'] <= int(tariffs.query('tariff == \"smart\"')['minutes_included']):        \n",
        "            row['revenue_calls'] = 0\n",
        "        else:\n",
        "            row['revenue_calls'] = (row['duration'] - int(tariffs.query('tariff == \"smart\"')['minutes_included'])) * int(tariffs.query('tariff == \"smart\"')['rub_per_minute']) +int(tariffs.query('tariff == \"smart\"')['rub_monthly_fee'])\n",
        "    else:\n",
        "        if row['duration'] <= int(tariffs.query('tariff == \"ultra\"')['minutes_included']):\n",
        "            row['revenue_calls'] = 0\n",
        "        else:\n",
        "            row['revenue_calls'] = (row['duration'] - int(tariffs.query('tariff == \"ultra\"')['minutes_included'])) * int(tariffs.query('tariff == \"ultra\"')['rub_per_minute']) + int(tariffs.query('tariff == \"smart\"')['rub_monthly_fee'])\n",
        "    return row\n",
        "    \n",
        "minutes_per_month = minutes_per_month.apply(revenue_calls, axis=1)"
      ]
    },
    {
      "cell_type": "code",
      "execution_count": null,
      "metadata": {
        "id": "9Uf5L-BeYx5m",
        "outputId": "7d1e14f5-55b1-4181-af76-594bc55176c3"
      },
      "outputs": [
        {
          "data": {
            "text/html": [
              "<div>\n",
              "<style scoped>\n",
              "    .dataframe tbody tr th:only-of-type {\n",
              "        vertical-align: middle;\n",
              "    }\n",
              "\n",
              "    .dataframe tbody tr th {\n",
              "        vertical-align: top;\n",
              "    }\n",
              "\n",
              "    .dataframe thead th {\n",
              "        text-align: right;\n",
              "    }\n",
              "</style>\n",
              "<table border=\"1\" class=\"dataframe\">\n",
              "  <thead>\n",
              "    <tr style=\"text-align: right;\">\n",
              "      <th></th>\n",
              "      <th>user_id</th>\n",
              "      <th>call_date</th>\n",
              "      <th>duration</th>\n",
              "      <th>age</th>\n",
              "      <th>churn_date</th>\n",
              "      <th>city</th>\n",
              "      <th>first_name</th>\n",
              "      <th>last_name</th>\n",
              "      <th>reg_date</th>\n",
              "      <th>tariff</th>\n",
              "      <th>revenue_calls</th>\n",
              "    </tr>\n",
              "  </thead>\n",
              "  <tbody>\n",
              "    <tr>\n",
              "      <td>0</td>\n",
              "      <td>1000</td>\n",
              "      <td>2018-05-01</td>\n",
              "      <td>159.0</td>\n",
              "      <td>52</td>\n",
              "      <td>NaT</td>\n",
              "      <td>Краснодар</td>\n",
              "      <td>Рафаил</td>\n",
              "      <td>Верещагин</td>\n",
              "      <td>2018-05-01</td>\n",
              "      <td>ultra</td>\n",
              "      <td>0.0</td>\n",
              "    </tr>\n",
              "    <tr>\n",
              "      <td>1</td>\n",
              "      <td>1000</td>\n",
              "      <td>2018-06-01</td>\n",
              "      <td>172.0</td>\n",
              "      <td>52</td>\n",
              "      <td>NaT</td>\n",
              "      <td>Краснодар</td>\n",
              "      <td>Рафаил</td>\n",
              "      <td>Верещагин</td>\n",
              "      <td>2018-05-01</td>\n",
              "      <td>ultra</td>\n",
              "      <td>0.0</td>\n",
              "    </tr>\n",
              "    <tr>\n",
              "      <td>2</td>\n",
              "      <td>1000</td>\n",
              "      <td>2018-07-01</td>\n",
              "      <td>340.0</td>\n",
              "      <td>52</td>\n",
              "      <td>NaT</td>\n",
              "      <td>Краснодар</td>\n",
              "      <td>Рафаил</td>\n",
              "      <td>Верещагин</td>\n",
              "      <td>2018-05-01</td>\n",
              "      <td>ultra</td>\n",
              "      <td>0.0</td>\n",
              "    </tr>\n",
              "    <tr>\n",
              "      <td>3</td>\n",
              "      <td>1000</td>\n",
              "      <td>2018-08-01</td>\n",
              "      <td>408.0</td>\n",
              "      <td>52</td>\n",
              "      <td>NaT</td>\n",
              "      <td>Краснодар</td>\n",
              "      <td>Рафаил</td>\n",
              "      <td>Верещагин</td>\n",
              "      <td>2018-05-01</td>\n",
              "      <td>ultra</td>\n",
              "      <td>0.0</td>\n",
              "    </tr>\n",
              "    <tr>\n",
              "      <td>4</td>\n",
              "      <td>1000</td>\n",
              "      <td>2018-09-01</td>\n",
              "      <td>466.0</td>\n",
              "      <td>52</td>\n",
              "      <td>NaT</td>\n",
              "      <td>Краснодар</td>\n",
              "      <td>Рафаил</td>\n",
              "      <td>Верещагин</td>\n",
              "      <td>2018-05-01</td>\n",
              "      <td>ultra</td>\n",
              "      <td>0.0</td>\n",
              "    </tr>\n",
              "    <tr>\n",
              "      <td>...</td>\n",
              "      <td>...</td>\n",
              "      <td>...</td>\n",
              "      <td>...</td>\n",
              "      <td>...</td>\n",
              "      <td>...</td>\n",
              "      <td>...</td>\n",
              "      <td>...</td>\n",
              "      <td>...</td>\n",
              "      <td>...</td>\n",
              "      <td>...</td>\n",
              "      <td>...</td>\n",
              "    </tr>\n",
              "    <tr>\n",
              "      <td>3163</td>\n",
              "      <td>1498</td>\n",
              "      <td>2018-10-01</td>\n",
              "      <td>247.0</td>\n",
              "      <td>68</td>\n",
              "      <td>2018-10-01</td>\n",
              "      <td>Владикавказ</td>\n",
              "      <td>Всеволод</td>\n",
              "      <td>Акимчин</td>\n",
              "      <td>2018-07-01</td>\n",
              "      <td>smart</td>\n",
              "      <td>0.0</td>\n",
              "    </tr>\n",
              "    <tr>\n",
              "      <td>3164</td>\n",
              "      <td>1499</td>\n",
              "      <td>2018-09-01</td>\n",
              "      <td>70.0</td>\n",
              "      <td>35</td>\n",
              "      <td>NaT</td>\n",
              "      <td>Пермь</td>\n",
              "      <td>Гектор</td>\n",
              "      <td>Корнилов</td>\n",
              "      <td>2018-09-01</td>\n",
              "      <td>smart</td>\n",
              "      <td>0.0</td>\n",
              "    </tr>\n",
              "    <tr>\n",
              "      <td>3165</td>\n",
              "      <td>1499</td>\n",
              "      <td>2018-10-01</td>\n",
              "      <td>449.0</td>\n",
              "      <td>35</td>\n",
              "      <td>NaT</td>\n",
              "      <td>Пермь</td>\n",
              "      <td>Гектор</td>\n",
              "      <td>Корнилов</td>\n",
              "      <td>2018-09-01</td>\n",
              "      <td>smart</td>\n",
              "      <td>0.0</td>\n",
              "    </tr>\n",
              "    <tr>\n",
              "      <td>3166</td>\n",
              "      <td>1499</td>\n",
              "      <td>2018-11-01</td>\n",
              "      <td>612.0</td>\n",
              "      <td>35</td>\n",
              "      <td>NaT</td>\n",
              "      <td>Пермь</td>\n",
              "      <td>Гектор</td>\n",
              "      <td>Корнилов</td>\n",
              "      <td>2018-09-01</td>\n",
              "      <td>smart</td>\n",
              "      <td>886.0</td>\n",
              "    </tr>\n",
              "    <tr>\n",
              "      <td>3167</td>\n",
              "      <td>1499</td>\n",
              "      <td>2018-12-01</td>\n",
              "      <td>492.0</td>\n",
              "      <td>35</td>\n",
              "      <td>NaT</td>\n",
              "      <td>Пермь</td>\n",
              "      <td>Гектор</td>\n",
              "      <td>Корнилов</td>\n",
              "      <td>2018-09-01</td>\n",
              "      <td>smart</td>\n",
              "      <td>0.0</td>\n",
              "    </tr>\n",
              "  </tbody>\n",
              "</table>\n",
              "<p>3168 rows × 11 columns</p>\n",
              "</div>"
            ],
            "text/plain": [
              "      user_id  call_date  duration  age churn_date         city first_name  \\\n",
              "0        1000 2018-05-01     159.0   52        NaT    Краснодар     Рафаил   \n",
              "1        1000 2018-06-01     172.0   52        NaT    Краснодар     Рафаил   \n",
              "2        1000 2018-07-01     340.0   52        NaT    Краснодар     Рафаил   \n",
              "3        1000 2018-08-01     408.0   52        NaT    Краснодар     Рафаил   \n",
              "4        1000 2018-09-01     466.0   52        NaT    Краснодар     Рафаил   \n",
              "...       ...        ...       ...  ...        ...          ...        ...   \n",
              "3163     1498 2018-10-01     247.0   68 2018-10-01  Владикавказ   Всеволод   \n",
              "3164     1499 2018-09-01      70.0   35        NaT        Пермь     Гектор   \n",
              "3165     1499 2018-10-01     449.0   35        NaT        Пермь     Гектор   \n",
              "3166     1499 2018-11-01     612.0   35        NaT        Пермь     Гектор   \n",
              "3167     1499 2018-12-01     492.0   35        NaT        Пермь     Гектор   \n",
              "\n",
              "      last_name   reg_date tariff  revenue_calls  \n",
              "0     Верещагин 2018-05-01  ultra            0.0  \n",
              "1     Верещагин 2018-05-01  ultra            0.0  \n",
              "2     Верещагин 2018-05-01  ultra            0.0  \n",
              "3     Верещагин 2018-05-01  ultra            0.0  \n",
              "4     Верещагин 2018-05-01  ultra            0.0  \n",
              "...         ...        ...    ...            ...  \n",
              "3163    Акимчин 2018-07-01  smart            0.0  \n",
              "3164   Корнилов 2018-09-01  smart            0.0  \n",
              "3165   Корнилов 2018-09-01  smart            0.0  \n",
              "3166   Корнилов 2018-09-01  smart          886.0  \n",
              "3167   Корнилов 2018-09-01  smart            0.0  \n",
              "\n",
              "[3168 rows x 11 columns]"
            ]
          },
          "execution_count": 29,
          "metadata": {},
          "output_type": "execute_result"
        }
      ],
      "source": [
        "minutes_per_month"
      ]
    },
    {
      "cell_type": "code",
      "execution_count": null,
      "metadata": {
        "id": "XVTqhlfEYx5m",
        "outputId": "f68a422b-7f16-4815-ed54-0f09ae7a93d4",
        "scrolled": false
      },
      "outputs": [
        {
          "data": {
            "text/html": [
              "<div>\n",
              "<style scoped>\n",
              "    .dataframe tbody tr th:only-of-type {\n",
              "        vertical-align: middle;\n",
              "    }\n",
              "\n",
              "    .dataframe tbody tr th {\n",
              "        vertical-align: top;\n",
              "    }\n",
              "\n",
              "    .dataframe thead tr th {\n",
              "        text-align: left;\n",
              "    }\n",
              "\n",
              "    .dataframe thead tr:last-of-type th {\n",
              "        text-align: right;\n",
              "    }\n",
              "</style>\n",
              "<table border=\"1\" class=\"dataframe\">\n",
              "  <thead>\n",
              "    <tr>\n",
              "      <th></th>\n",
              "      <th colspan=\"8\" halign=\"left\">duration</th>\n",
              "      <th colspan=\"8\" halign=\"left\">revenue_calls</th>\n",
              "    </tr>\n",
              "    <tr>\n",
              "      <th></th>\n",
              "      <th>count</th>\n",
              "      <th>mean</th>\n",
              "      <th>std</th>\n",
              "      <th>min</th>\n",
              "      <th>25%</th>\n",
              "      <th>50%</th>\n",
              "      <th>75%</th>\n",
              "      <th>max</th>\n",
              "      <th>count</th>\n",
              "      <th>mean</th>\n",
              "      <th>std</th>\n",
              "      <th>min</th>\n",
              "      <th>25%</th>\n",
              "      <th>50%</th>\n",
              "      <th>75%</th>\n",
              "      <th>max</th>\n",
              "    </tr>\n",
              "    <tr>\n",
              "      <th>tariff</th>\n",
              "      <th></th>\n",
              "      <th></th>\n",
              "      <th></th>\n",
              "      <th></th>\n",
              "      <th></th>\n",
              "      <th></th>\n",
              "      <th></th>\n",
              "      <th></th>\n",
              "      <th></th>\n",
              "      <th></th>\n",
              "      <th></th>\n",
              "      <th></th>\n",
              "      <th></th>\n",
              "      <th></th>\n",
              "      <th></th>\n",
              "      <th></th>\n",
              "    </tr>\n",
              "  </thead>\n",
              "  <tbody>\n",
              "    <tr>\n",
              "      <td>smart</td>\n",
              "      <td>2221.0</td>\n",
              "      <td>419.440342</td>\n",
              "      <td>188.992403</td>\n",
              "      <td>2.0</td>\n",
              "      <td>285.0</td>\n",
              "      <td>423.0</td>\n",
              "      <td>546.0</td>\n",
              "      <td>1435.0</td>\n",
              "      <td>2221.0</td>\n",
              "      <td>311.984241</td>\n",
              "      <td>472.892571</td>\n",
              "      <td>0.0</td>\n",
              "      <td>0.0</td>\n",
              "      <td>0.0</td>\n",
              "      <td>688.0</td>\n",
              "      <td>3355.0</td>\n",
              "    </tr>\n",
              "    <tr>\n",
              "      <td>ultra</td>\n",
              "      <td>947.0</td>\n",
              "      <td>547.755016</td>\n",
              "      <td>305.513385</td>\n",
              "      <td>1.0</td>\n",
              "      <td>311.0</td>\n",
              "      <td>529.0</td>\n",
              "      <td>758.0</td>\n",
              "      <td>1673.0</td>\n",
              "      <td>947.0</td>\n",
              "      <td>0.000000</td>\n",
              "      <td>0.000000</td>\n",
              "      <td>0.0</td>\n",
              "      <td>0.0</td>\n",
              "      <td>0.0</td>\n",
              "      <td>0.0</td>\n",
              "      <td>0.0</td>\n",
              "    </tr>\n",
              "  </tbody>\n",
              "</table>\n",
              "</div>"
            ],
            "text/plain": [
              "       duration                                                            \\\n",
              "          count        mean         std  min    25%    50%    75%     max   \n",
              "tariff                                                                      \n",
              "smart    2221.0  419.440342  188.992403  2.0  285.0  423.0  546.0  1435.0   \n",
              "ultra     947.0  547.755016  305.513385  1.0  311.0  529.0  758.0  1673.0   \n",
              "\n",
              "       revenue_calls                                                        \n",
              "               count        mean         std  min  25%  50%    75%     max  \n",
              "tariff                                                                      \n",
              "smart         2221.0  311.984241  472.892571  0.0  0.0  0.0  688.0  3355.0  \n",
              "ultra          947.0    0.000000    0.000000  0.0  0.0  0.0    0.0     0.0  "
            ]
          },
          "execution_count": 30,
          "metadata": {},
          "output_type": "execute_result"
        }
      ],
      "source": [
        "minutes_per_month.groupby('tariff')['duration', 'revenue_calls'].describe()"
      ]
    },
    {
      "cell_type": "markdown",
      "metadata": {
        "id": "QExLsg7oYx5m"
      },
      "source": [
        "#### Доход с сообщений"
      ]
    },
    {
      "cell_type": "code",
      "execution_count": null,
      "metadata": {
        "id": "VQgoVA0JYx5m",
        "scrolled": true
      },
      "outputs": [],
      "source": [
        "#количество отправленных сообщений по месяцам\n",
        "messages_per_month = messages.pivot_table(index = ('user_id', 'message_date'), values = 'user_id', aggfunc = 'count')"
      ]
    },
    {
      "cell_type": "code",
      "execution_count": null,
      "metadata": {
        "id": "Vxl_kyHiYx5m",
        "outputId": "1f8b1de6-c3f1-444d-9016-a53213663011"
      },
      "outputs": [
        {
          "data": {
            "text/html": [
              "<div>\n",
              "<style scoped>\n",
              "    .dataframe tbody tr th:only-of-type {\n",
              "        vertical-align: middle;\n",
              "    }\n",
              "\n",
              "    .dataframe tbody tr th {\n",
              "        vertical-align: top;\n",
              "    }\n",
              "\n",
              "    .dataframe thead th {\n",
              "        text-align: right;\n",
              "    }\n",
              "</style>\n",
              "<table border=\"1\" class=\"dataframe\">\n",
              "  <thead>\n",
              "    <tr style=\"text-align: right;\">\n",
              "      <th></th>\n",
              "      <th></th>\n",
              "      <th>message_id</th>\n",
              "    </tr>\n",
              "    <tr>\n",
              "      <th>user_id</th>\n",
              "      <th>message_date</th>\n",
              "      <th></th>\n",
              "    </tr>\n",
              "  </thead>\n",
              "  <tbody>\n",
              "    <tr>\n",
              "      <td rowspan=\"5\" valign=\"top\">1000</td>\n",
              "      <td>2018-05-01</td>\n",
              "      <td>22</td>\n",
              "    </tr>\n",
              "    <tr>\n",
              "      <td>2018-06-01</td>\n",
              "      <td>60</td>\n",
              "    </tr>\n",
              "    <tr>\n",
              "      <td>2018-07-01</td>\n",
              "      <td>75</td>\n",
              "    </tr>\n",
              "    <tr>\n",
              "      <td>2018-08-01</td>\n",
              "      <td>81</td>\n",
              "    </tr>\n",
              "    <tr>\n",
              "      <td>2018-09-01</td>\n",
              "      <td>57</td>\n",
              "    </tr>\n",
              "    <tr>\n",
              "      <td>...</td>\n",
              "      <td>...</td>\n",
              "      <td>...</td>\n",
              "    </tr>\n",
              "    <tr>\n",
              "      <td>1498</td>\n",
              "      <td>2018-10-01</td>\n",
              "      <td>42</td>\n",
              "    </tr>\n",
              "    <tr>\n",
              "      <td rowspan=\"4\" valign=\"top\">1499</td>\n",
              "      <td>2018-09-01</td>\n",
              "      <td>11</td>\n",
              "    </tr>\n",
              "    <tr>\n",
              "      <td>2018-10-01</td>\n",
              "      <td>48</td>\n",
              "    </tr>\n",
              "    <tr>\n",
              "      <td>2018-11-01</td>\n",
              "      <td>59</td>\n",
              "    </tr>\n",
              "    <tr>\n",
              "      <td>2018-12-01</td>\n",
              "      <td>66</td>\n",
              "    </tr>\n",
              "  </tbody>\n",
              "</table>\n",
              "<p>2717 rows × 1 columns</p>\n",
              "</div>"
            ],
            "text/plain": [
              "                      message_id\n",
              "user_id message_date            \n",
              "1000    2018-05-01            22\n",
              "        2018-06-01            60\n",
              "        2018-07-01            75\n",
              "        2018-08-01            81\n",
              "        2018-09-01            57\n",
              "...                          ...\n",
              "1498    2018-10-01            42\n",
              "1499    2018-09-01            11\n",
              "        2018-10-01            48\n",
              "        2018-11-01            59\n",
              "        2018-12-01            66\n",
              "\n",
              "[2717 rows x 1 columns]"
            ]
          },
          "execution_count": 32,
          "metadata": {},
          "output_type": "execute_result"
        }
      ],
      "source": [
        "messages_per_month"
      ]
    },
    {
      "cell_type": "code",
      "execution_count": null,
      "metadata": {
        "id": "0dABhg7AYx5m",
        "scrolled": true
      },
      "outputs": [],
      "source": [
        "messages_per_month = messages_per_month.reset_index().rename(columns = {'message_id': 'n_messages'})"
      ]
    },
    {
      "cell_type": "code",
      "execution_count": null,
      "metadata": {
        "id": "5frg7R96Yx5n"
      },
      "outputs": [],
      "source": [
        "messages_per_month = messages_per_month.merge(users)"
      ]
    },
    {
      "cell_type": "code",
      "execution_count": null,
      "metadata": {
        "id": "gfiru8g7Yx5n"
      },
      "outputs": [],
      "source": [
        "def revenue_messages(row):\n",
        "    if row['tariff'] == 'smart':\n",
        "        if row['n_messages'] > int(tariffs.query('tariff == \"smart\"')['messages_included']):        \n",
        "            row['revenue_messages'] = (row['n_messages'] - int(tariffs.query('tariff == \"smart\"')['messages_included'])) * int(tariffs.query('tariff == \"smart\"')['rub_per_message'])\n",
        "        else:\n",
        "            row['revenue_messages'] = 0\n",
        "    else:\n",
        "        if row['n_messages'] > int(tariffs.query('tariff == \"ultra\"')['messages_included']):\n",
        "            row['revenue_messages'] = (row['n_messages'] - int(tariffs.query('tariff == \"ultra\"')['messages_included'])) * int(tariffs.query('tariff == \"ultra\"')['rub_per_message'])\n",
        "        else:\n",
        "            row['revenue_messages'] = 0\n",
        "    return row\n",
        "    \n",
        "messages_per_month = messages_per_month.apply(revenue_messages, axis=1)"
      ]
    },
    {
      "cell_type": "code",
      "execution_count": null,
      "metadata": {
        "id": "L_P-SEmrYx5n",
        "outputId": "4f392318-e62a-44c2-b499-62af316ad288"
      },
      "outputs": [
        {
          "data": {
            "text/html": [
              "<div>\n",
              "<style scoped>\n",
              "    .dataframe tbody tr th:only-of-type {\n",
              "        vertical-align: middle;\n",
              "    }\n",
              "\n",
              "    .dataframe tbody tr th {\n",
              "        vertical-align: top;\n",
              "    }\n",
              "\n",
              "    .dataframe thead th {\n",
              "        text-align: right;\n",
              "    }\n",
              "</style>\n",
              "<table border=\"1\" class=\"dataframe\">\n",
              "  <thead>\n",
              "    <tr style=\"text-align: right;\">\n",
              "      <th></th>\n",
              "      <th>user_id</th>\n",
              "      <th>message_date</th>\n",
              "      <th>n_messages</th>\n",
              "      <th>age</th>\n",
              "      <th>churn_date</th>\n",
              "      <th>city</th>\n",
              "      <th>first_name</th>\n",
              "      <th>last_name</th>\n",
              "      <th>reg_date</th>\n",
              "      <th>tariff</th>\n",
              "      <th>revenue_messages</th>\n",
              "    </tr>\n",
              "  </thead>\n",
              "  <tbody>\n",
              "    <tr>\n",
              "      <td>0</td>\n",
              "      <td>1000</td>\n",
              "      <td>2018-05-01</td>\n",
              "      <td>22</td>\n",
              "      <td>52</td>\n",
              "      <td>NaT</td>\n",
              "      <td>Краснодар</td>\n",
              "      <td>Рафаил</td>\n",
              "      <td>Верещагин</td>\n",
              "      <td>2018-05-01</td>\n",
              "      <td>ultra</td>\n",
              "      <td>0</td>\n",
              "    </tr>\n",
              "    <tr>\n",
              "      <td>1</td>\n",
              "      <td>1000</td>\n",
              "      <td>2018-06-01</td>\n",
              "      <td>60</td>\n",
              "      <td>52</td>\n",
              "      <td>NaT</td>\n",
              "      <td>Краснодар</td>\n",
              "      <td>Рафаил</td>\n",
              "      <td>Верещагин</td>\n",
              "      <td>2018-05-01</td>\n",
              "      <td>ultra</td>\n",
              "      <td>0</td>\n",
              "    </tr>\n",
              "    <tr>\n",
              "      <td>2</td>\n",
              "      <td>1000</td>\n",
              "      <td>2018-07-01</td>\n",
              "      <td>75</td>\n",
              "      <td>52</td>\n",
              "      <td>NaT</td>\n",
              "      <td>Краснодар</td>\n",
              "      <td>Рафаил</td>\n",
              "      <td>Верещагин</td>\n",
              "      <td>2018-05-01</td>\n",
              "      <td>ultra</td>\n",
              "      <td>0</td>\n",
              "    </tr>\n",
              "    <tr>\n",
              "      <td>3</td>\n",
              "      <td>1000</td>\n",
              "      <td>2018-08-01</td>\n",
              "      <td>81</td>\n",
              "      <td>52</td>\n",
              "      <td>NaT</td>\n",
              "      <td>Краснодар</td>\n",
              "      <td>Рафаил</td>\n",
              "      <td>Верещагин</td>\n",
              "      <td>2018-05-01</td>\n",
              "      <td>ultra</td>\n",
              "      <td>0</td>\n",
              "    </tr>\n",
              "    <tr>\n",
              "      <td>4</td>\n",
              "      <td>1000</td>\n",
              "      <td>2018-09-01</td>\n",
              "      <td>57</td>\n",
              "      <td>52</td>\n",
              "      <td>NaT</td>\n",
              "      <td>Краснодар</td>\n",
              "      <td>Рафаил</td>\n",
              "      <td>Верещагин</td>\n",
              "      <td>2018-05-01</td>\n",
              "      <td>ultra</td>\n",
              "      <td>0</td>\n",
              "    </tr>\n",
              "    <tr>\n",
              "      <td>...</td>\n",
              "      <td>...</td>\n",
              "      <td>...</td>\n",
              "      <td>...</td>\n",
              "      <td>...</td>\n",
              "      <td>...</td>\n",
              "      <td>...</td>\n",
              "      <td>...</td>\n",
              "      <td>...</td>\n",
              "      <td>...</td>\n",
              "      <td>...</td>\n",
              "      <td>...</td>\n",
              "    </tr>\n",
              "    <tr>\n",
              "      <td>2712</td>\n",
              "      <td>1498</td>\n",
              "      <td>2018-10-01</td>\n",
              "      <td>42</td>\n",
              "      <td>68</td>\n",
              "      <td>2018-10-01</td>\n",
              "      <td>Владикавказ</td>\n",
              "      <td>Всеволод</td>\n",
              "      <td>Акимчин</td>\n",
              "      <td>2018-07-01</td>\n",
              "      <td>smart</td>\n",
              "      <td>0</td>\n",
              "    </tr>\n",
              "    <tr>\n",
              "      <td>2713</td>\n",
              "      <td>1499</td>\n",
              "      <td>2018-09-01</td>\n",
              "      <td>11</td>\n",
              "      <td>35</td>\n",
              "      <td>NaT</td>\n",
              "      <td>Пермь</td>\n",
              "      <td>Гектор</td>\n",
              "      <td>Корнилов</td>\n",
              "      <td>2018-09-01</td>\n",
              "      <td>smart</td>\n",
              "      <td>0</td>\n",
              "    </tr>\n",
              "    <tr>\n",
              "      <td>2714</td>\n",
              "      <td>1499</td>\n",
              "      <td>2018-10-01</td>\n",
              "      <td>48</td>\n",
              "      <td>35</td>\n",
              "      <td>NaT</td>\n",
              "      <td>Пермь</td>\n",
              "      <td>Гектор</td>\n",
              "      <td>Корнилов</td>\n",
              "      <td>2018-09-01</td>\n",
              "      <td>smart</td>\n",
              "      <td>0</td>\n",
              "    </tr>\n",
              "    <tr>\n",
              "      <td>2715</td>\n",
              "      <td>1499</td>\n",
              "      <td>2018-11-01</td>\n",
              "      <td>59</td>\n",
              "      <td>35</td>\n",
              "      <td>NaT</td>\n",
              "      <td>Пермь</td>\n",
              "      <td>Гектор</td>\n",
              "      <td>Корнилов</td>\n",
              "      <td>2018-09-01</td>\n",
              "      <td>smart</td>\n",
              "      <td>27</td>\n",
              "    </tr>\n",
              "    <tr>\n",
              "      <td>2716</td>\n",
              "      <td>1499</td>\n",
              "      <td>2018-12-01</td>\n",
              "      <td>66</td>\n",
              "      <td>35</td>\n",
              "      <td>NaT</td>\n",
              "      <td>Пермь</td>\n",
              "      <td>Гектор</td>\n",
              "      <td>Корнилов</td>\n",
              "      <td>2018-09-01</td>\n",
              "      <td>smart</td>\n",
              "      <td>48</td>\n",
              "    </tr>\n",
              "  </tbody>\n",
              "</table>\n",
              "<p>2717 rows × 11 columns</p>\n",
              "</div>"
            ],
            "text/plain": [
              "      user_id message_date  n_messages  age churn_date         city  \\\n",
              "0        1000   2018-05-01          22   52        NaT    Краснодар   \n",
              "1        1000   2018-06-01          60   52        NaT    Краснодар   \n",
              "2        1000   2018-07-01          75   52        NaT    Краснодар   \n",
              "3        1000   2018-08-01          81   52        NaT    Краснодар   \n",
              "4        1000   2018-09-01          57   52        NaT    Краснодар   \n",
              "...       ...          ...         ...  ...        ...          ...   \n",
              "2712     1498   2018-10-01          42   68 2018-10-01  Владикавказ   \n",
              "2713     1499   2018-09-01          11   35        NaT        Пермь   \n",
              "2714     1499   2018-10-01          48   35        NaT        Пермь   \n",
              "2715     1499   2018-11-01          59   35        NaT        Пермь   \n",
              "2716     1499   2018-12-01          66   35        NaT        Пермь   \n",
              "\n",
              "     first_name  last_name   reg_date tariff  revenue_messages  \n",
              "0        Рафаил  Верещагин 2018-05-01  ultra                 0  \n",
              "1        Рафаил  Верещагин 2018-05-01  ultra                 0  \n",
              "2        Рафаил  Верещагин 2018-05-01  ultra                 0  \n",
              "3        Рафаил  Верещагин 2018-05-01  ultra                 0  \n",
              "4        Рафаил  Верещагин 2018-05-01  ultra                 0  \n",
              "...         ...        ...        ...    ...               ...  \n",
              "2712   Всеволод    Акимчин 2018-07-01  smart                 0  \n",
              "2713     Гектор   Корнилов 2018-09-01  smart                 0  \n",
              "2714     Гектор   Корнилов 2018-09-01  smart                 0  \n",
              "2715     Гектор   Корнилов 2018-09-01  smart                27  \n",
              "2716     Гектор   Корнилов 2018-09-01  smart                48  \n",
              "\n",
              "[2717 rows x 11 columns]"
            ]
          },
          "execution_count": 36,
          "metadata": {},
          "output_type": "execute_result"
        }
      ],
      "source": [
        "messages_per_month"
      ]
    },
    {
      "cell_type": "markdown",
      "metadata": {
        "id": "WC_ZTLu1Yx5n"
      },
      "source": [
        "#### Доход с интернета"
      ]
    },
    {
      "cell_type": "code",
      "execution_count": null,
      "metadata": {
        "id": "VzA4qQ_QYx5n",
        "scrolled": true
      },
      "outputs": [],
      "source": [
        "#объем израсходованного интернет-трафика по месяцам\n",
        "internet_per_month = np.ceil(internet.pivot_table(index = ('user_id', 'session_date'), values = 'mb_used', aggfunc = 'sum'))"
      ]
    },
    {
      "cell_type": "code",
      "execution_count": null,
      "metadata": {
        "id": "5M8aAq8wYx5n",
        "outputId": "95e3f68a-3f71-4594-d8e7-f53684cf6d96"
      },
      "outputs": [
        {
          "data": {
            "text/html": [
              "<div>\n",
              "<style scoped>\n",
              "    .dataframe tbody tr th:only-of-type {\n",
              "        vertical-align: middle;\n",
              "    }\n",
              "\n",
              "    .dataframe tbody tr th {\n",
              "        vertical-align: top;\n",
              "    }\n",
              "\n",
              "    .dataframe thead th {\n",
              "        text-align: right;\n",
              "    }\n",
              "</style>\n",
              "<table border=\"1\" class=\"dataframe\">\n",
              "  <thead>\n",
              "    <tr style=\"text-align: right;\">\n",
              "      <th></th>\n",
              "      <th>user_id</th>\n",
              "      <th>session_date</th>\n",
              "      <th>mb_used</th>\n",
              "    </tr>\n",
              "  </thead>\n",
              "  <tbody>\n",
              "    <tr>\n",
              "      <td>0</td>\n",
              "      <td>1000</td>\n",
              "      <td>2018-05-01</td>\n",
              "      <td>2254.0</td>\n",
              "    </tr>\n",
              "    <tr>\n",
              "      <td>1</td>\n",
              "      <td>1000</td>\n",
              "      <td>2018-06-01</td>\n",
              "      <td>23234.0</td>\n",
              "    </tr>\n",
              "    <tr>\n",
              "      <td>2</td>\n",
              "      <td>1000</td>\n",
              "      <td>2018-07-01</td>\n",
              "      <td>14004.0</td>\n",
              "    </tr>\n",
              "    <tr>\n",
              "      <td>3</td>\n",
              "      <td>1000</td>\n",
              "      <td>2018-08-01</td>\n",
              "      <td>14056.0</td>\n",
              "    </tr>\n",
              "    <tr>\n",
              "      <td>4</td>\n",
              "      <td>1000</td>\n",
              "      <td>2018-09-01</td>\n",
              "      <td>14569.0</td>\n",
              "    </tr>\n",
              "    <tr>\n",
              "      <td>...</td>\n",
              "      <td>...</td>\n",
              "      <td>...</td>\n",
              "      <td>...</td>\n",
              "    </tr>\n",
              "    <tr>\n",
              "      <td>3198</td>\n",
              "      <td>1498</td>\n",
              "      <td>2018-10-01</td>\n",
              "      <td>20580.0</td>\n",
              "    </tr>\n",
              "    <tr>\n",
              "      <td>3199</td>\n",
              "      <td>1499</td>\n",
              "      <td>2018-09-01</td>\n",
              "      <td>1846.0</td>\n",
              "    </tr>\n",
              "    <tr>\n",
              "      <td>3200</td>\n",
              "      <td>1499</td>\n",
              "      <td>2018-10-01</td>\n",
              "      <td>17789.0</td>\n",
              "    </tr>\n",
              "    <tr>\n",
              "      <td>3201</td>\n",
              "      <td>1499</td>\n",
              "      <td>2018-11-01</td>\n",
              "      <td>17964.0</td>\n",
              "    </tr>\n",
              "    <tr>\n",
              "      <td>3202</td>\n",
              "      <td>1499</td>\n",
              "      <td>2018-12-01</td>\n",
              "      <td>13056.0</td>\n",
              "    </tr>\n",
              "  </tbody>\n",
              "</table>\n",
              "<p>3203 rows × 3 columns</p>\n",
              "</div>"
            ],
            "text/plain": [
              "      user_id session_date  mb_used\n",
              "0        1000   2018-05-01   2254.0\n",
              "1        1000   2018-06-01  23234.0\n",
              "2        1000   2018-07-01  14004.0\n",
              "3        1000   2018-08-01  14056.0\n",
              "4        1000   2018-09-01  14569.0\n",
              "...       ...          ...      ...\n",
              "3198     1498   2018-10-01  20580.0\n",
              "3199     1499   2018-09-01   1846.0\n",
              "3200     1499   2018-10-01  17789.0\n",
              "3201     1499   2018-11-01  17964.0\n",
              "3202     1499   2018-12-01  13056.0\n",
              "\n",
              "[3203 rows x 3 columns]"
            ]
          },
          "execution_count": 38,
          "metadata": {},
          "output_type": "execute_result"
        }
      ],
      "source": [
        "internet_per_month = internet_per_month.reset_index()\n",
        "internet_per_month"
      ]
    },
    {
      "cell_type": "code",
      "execution_count": null,
      "metadata": {
        "id": "kq_xymmNYx5o"
      },
      "outputs": [],
      "source": [
        "internet_per_month = internet_per_month.merge(users)"
      ]
    },
    {
      "cell_type": "code",
      "execution_count": null,
      "metadata": {
        "id": "_mzeMASWYx5o"
      },
      "outputs": [],
      "source": [
        "def revenue_internet(row):\n",
        "    if row['tariff'] == 'smart':\n",
        "        if row['mb_used'] > int(tariffs.query('tariff == \"smart\"')['mb_per_month_included']):        \n",
        "            row['revenue_internet'] = np.ceil((row['mb_used'] - int(tariffs.query('tariff == \"smart\"')['mb_per_month_included']))/1000) * int(tariffs.query('tariff == \"smart\"')['rub_per_gb'])\n",
        "        else:\n",
        "            row['revenue_internet'] = 0\n",
        "    else:\n",
        "        if row['mb_used'] > int(tariffs.query('tariff == \"ultra\"')['mb_per_month_included']):\n",
        "            row['revenue_internet'] = np.ceil((row['mb_used'] - int(tariffs.query('tariff == \"ultra\"')['mb_per_month_included']))/1000) * int(tariffs.query('tariff == \"ultra\"')['rub_per_gb'])\n",
        "        else:\n",
        "            row['revenue_internet'] = 0\n",
        "    return row\n",
        "    \n",
        "internet_per_month = internet_per_month.apply(revenue_internet, axis=1)"
      ]
    },
    {
      "cell_type": "code",
      "execution_count": null,
      "metadata": {
        "id": "GBzMfQ6jYx5o",
        "outputId": "3f82074d-171f-40b5-d82e-78065814fb33",
        "scrolled": false
      },
      "outputs": [
        {
          "data": {
            "text/html": [
              "<div>\n",
              "<style scoped>\n",
              "    .dataframe tbody tr th:only-of-type {\n",
              "        vertical-align: middle;\n",
              "    }\n",
              "\n",
              "    .dataframe tbody tr th {\n",
              "        vertical-align: top;\n",
              "    }\n",
              "\n",
              "    .dataframe thead th {\n",
              "        text-align: right;\n",
              "    }\n",
              "</style>\n",
              "<table border=\"1\" class=\"dataframe\">\n",
              "  <thead>\n",
              "    <tr style=\"text-align: right;\">\n",
              "      <th></th>\n",
              "      <th>user_id</th>\n",
              "      <th>session_date</th>\n",
              "      <th>mb_used</th>\n",
              "      <th>age</th>\n",
              "      <th>churn_date</th>\n",
              "      <th>city</th>\n",
              "      <th>first_name</th>\n",
              "      <th>last_name</th>\n",
              "      <th>reg_date</th>\n",
              "      <th>tariff</th>\n",
              "      <th>revenue_internet</th>\n",
              "    </tr>\n",
              "  </thead>\n",
              "  <tbody>\n",
              "    <tr>\n",
              "      <td>0</td>\n",
              "      <td>1000</td>\n",
              "      <td>2018-05-01</td>\n",
              "      <td>2254.0</td>\n",
              "      <td>52</td>\n",
              "      <td>NaT</td>\n",
              "      <td>Краснодар</td>\n",
              "      <td>Рафаил</td>\n",
              "      <td>Верещагин</td>\n",
              "      <td>2018-05-01</td>\n",
              "      <td>ultra</td>\n",
              "      <td>0.0</td>\n",
              "    </tr>\n",
              "    <tr>\n",
              "      <td>1</td>\n",
              "      <td>1000</td>\n",
              "      <td>2018-06-01</td>\n",
              "      <td>23234.0</td>\n",
              "      <td>52</td>\n",
              "      <td>NaT</td>\n",
              "      <td>Краснодар</td>\n",
              "      <td>Рафаил</td>\n",
              "      <td>Верещагин</td>\n",
              "      <td>2018-05-01</td>\n",
              "      <td>ultra</td>\n",
              "      <td>0.0</td>\n",
              "    </tr>\n",
              "    <tr>\n",
              "      <td>2</td>\n",
              "      <td>1000</td>\n",
              "      <td>2018-07-01</td>\n",
              "      <td>14004.0</td>\n",
              "      <td>52</td>\n",
              "      <td>NaT</td>\n",
              "      <td>Краснодар</td>\n",
              "      <td>Рафаил</td>\n",
              "      <td>Верещагин</td>\n",
              "      <td>2018-05-01</td>\n",
              "      <td>ultra</td>\n",
              "      <td>0.0</td>\n",
              "    </tr>\n",
              "    <tr>\n",
              "      <td>3</td>\n",
              "      <td>1000</td>\n",
              "      <td>2018-08-01</td>\n",
              "      <td>14056.0</td>\n",
              "      <td>52</td>\n",
              "      <td>NaT</td>\n",
              "      <td>Краснодар</td>\n",
              "      <td>Рафаил</td>\n",
              "      <td>Верещагин</td>\n",
              "      <td>2018-05-01</td>\n",
              "      <td>ultra</td>\n",
              "      <td>0.0</td>\n",
              "    </tr>\n",
              "    <tr>\n",
              "      <td>4</td>\n",
              "      <td>1000</td>\n",
              "      <td>2018-09-01</td>\n",
              "      <td>14569.0</td>\n",
              "      <td>52</td>\n",
              "      <td>NaT</td>\n",
              "      <td>Краснодар</td>\n",
              "      <td>Рафаил</td>\n",
              "      <td>Верещагин</td>\n",
              "      <td>2018-05-01</td>\n",
              "      <td>ultra</td>\n",
              "      <td>0.0</td>\n",
              "    </tr>\n",
              "    <tr>\n",
              "      <td>...</td>\n",
              "      <td>...</td>\n",
              "      <td>...</td>\n",
              "      <td>...</td>\n",
              "      <td>...</td>\n",
              "      <td>...</td>\n",
              "      <td>...</td>\n",
              "      <td>...</td>\n",
              "      <td>...</td>\n",
              "      <td>...</td>\n",
              "      <td>...</td>\n",
              "      <td>...</td>\n",
              "    </tr>\n",
              "    <tr>\n",
              "      <td>3198</td>\n",
              "      <td>1498</td>\n",
              "      <td>2018-10-01</td>\n",
              "      <td>20580.0</td>\n",
              "      <td>68</td>\n",
              "      <td>2018-10-01</td>\n",
              "      <td>Владикавказ</td>\n",
              "      <td>Всеволод</td>\n",
              "      <td>Акимчин</td>\n",
              "      <td>2018-07-01</td>\n",
              "      <td>smart</td>\n",
              "      <td>1200.0</td>\n",
              "    </tr>\n",
              "    <tr>\n",
              "      <td>3199</td>\n",
              "      <td>1499</td>\n",
              "      <td>2018-09-01</td>\n",
              "      <td>1846.0</td>\n",
              "      <td>35</td>\n",
              "      <td>NaT</td>\n",
              "      <td>Пермь</td>\n",
              "      <td>Гектор</td>\n",
              "      <td>Корнилов</td>\n",
              "      <td>2018-09-01</td>\n",
              "      <td>smart</td>\n",
              "      <td>0.0</td>\n",
              "    </tr>\n",
              "    <tr>\n",
              "      <td>3200</td>\n",
              "      <td>1499</td>\n",
              "      <td>2018-10-01</td>\n",
              "      <td>17789.0</td>\n",
              "      <td>35</td>\n",
              "      <td>NaT</td>\n",
              "      <td>Пермь</td>\n",
              "      <td>Гектор</td>\n",
              "      <td>Корнилов</td>\n",
              "      <td>2018-09-01</td>\n",
              "      <td>smart</td>\n",
              "      <td>600.0</td>\n",
              "    </tr>\n",
              "    <tr>\n",
              "      <td>3201</td>\n",
              "      <td>1499</td>\n",
              "      <td>2018-11-01</td>\n",
              "      <td>17964.0</td>\n",
              "      <td>35</td>\n",
              "      <td>NaT</td>\n",
              "      <td>Пермь</td>\n",
              "      <td>Гектор</td>\n",
              "      <td>Корнилов</td>\n",
              "      <td>2018-09-01</td>\n",
              "      <td>smart</td>\n",
              "      <td>600.0</td>\n",
              "    </tr>\n",
              "    <tr>\n",
              "      <td>3202</td>\n",
              "      <td>1499</td>\n",
              "      <td>2018-12-01</td>\n",
              "      <td>13056.0</td>\n",
              "      <td>35</td>\n",
              "      <td>NaT</td>\n",
              "      <td>Пермь</td>\n",
              "      <td>Гектор</td>\n",
              "      <td>Корнилов</td>\n",
              "      <td>2018-09-01</td>\n",
              "      <td>smart</td>\n",
              "      <td>0.0</td>\n",
              "    </tr>\n",
              "  </tbody>\n",
              "</table>\n",
              "<p>3203 rows × 11 columns</p>\n",
              "</div>"
            ],
            "text/plain": [
              "      user_id session_date  mb_used  age churn_date         city first_name  \\\n",
              "0        1000   2018-05-01   2254.0   52        NaT    Краснодар     Рафаил   \n",
              "1        1000   2018-06-01  23234.0   52        NaT    Краснодар     Рафаил   \n",
              "2        1000   2018-07-01  14004.0   52        NaT    Краснодар     Рафаил   \n",
              "3        1000   2018-08-01  14056.0   52        NaT    Краснодар     Рафаил   \n",
              "4        1000   2018-09-01  14569.0   52        NaT    Краснодар     Рафаил   \n",
              "...       ...          ...      ...  ...        ...          ...        ...   \n",
              "3198     1498   2018-10-01  20580.0   68 2018-10-01  Владикавказ   Всеволод   \n",
              "3199     1499   2018-09-01   1846.0   35        NaT        Пермь     Гектор   \n",
              "3200     1499   2018-10-01  17789.0   35        NaT        Пермь     Гектор   \n",
              "3201     1499   2018-11-01  17964.0   35        NaT        Пермь     Гектор   \n",
              "3202     1499   2018-12-01  13056.0   35        NaT        Пермь     Гектор   \n",
              "\n",
              "      last_name   reg_date tariff  revenue_internet  \n",
              "0     Верещагин 2018-05-01  ultra               0.0  \n",
              "1     Верещагин 2018-05-01  ultra               0.0  \n",
              "2     Верещагин 2018-05-01  ultra               0.0  \n",
              "3     Верещагин 2018-05-01  ultra               0.0  \n",
              "4     Верещагин 2018-05-01  ultra               0.0  \n",
              "...         ...        ...    ...               ...  \n",
              "3198    Акимчин 2018-07-01  smart            1200.0  \n",
              "3199   Корнилов 2018-09-01  smart               0.0  \n",
              "3200   Корнилов 2018-09-01  smart             600.0  \n",
              "3201   Корнилов 2018-09-01  smart             600.0  \n",
              "3202   Корнилов 2018-09-01  smart               0.0  \n",
              "\n",
              "[3203 rows x 11 columns]"
            ]
          },
          "execution_count": 41,
          "metadata": {},
          "output_type": "execute_result"
        }
      ],
      "source": [
        "internet_per_month"
      ]
    },
    {
      "cell_type": "markdown",
      "metadata": {
        "id": "N-TfPIKJYx5o"
      },
      "source": [
        "#### Объединение результатов"
      ]
    },
    {
      "cell_type": "code",
      "execution_count": null,
      "metadata": {
        "id": "qS9--HIxYx5o"
      },
      "outputs": [],
      "source": [
        "minutes_per_month = minutes_per_month.rename(columns = {'call_date': 'month'})\n",
        "messages_per_month = messages_per_month.rename(columns = {'message_date': 'month'})\n",
        "internet_per_month = internet_per_month.rename(columns = {'session_date': 'month'})"
      ]
    },
    {
      "cell_type": "code",
      "execution_count": null,
      "metadata": {
        "id": "xDgUJ2VdYx5p"
      },
      "outputs": [],
      "source": [
        "monthly_revenue = minutes_per_month[['tariff','user_id','month','revenue_calls']].merge(messages_per_month[['tariff','user_id','month','revenue_messages']], on = ('tariff','user_id','month'), how = 'outer')\n",
        "monthly_revenue = monthly_revenue.merge(internet_per_month[['tariff','user_id','month','revenue_internet']], on = ('tariff','user_id','month'), how = 'outer')"
      ]
    },
    {
      "cell_type": "code",
      "execution_count": null,
      "metadata": {
        "id": "lmPuuzTxYx5p"
      },
      "outputs": [],
      "source": [
        "monthly_revenue = monthly_revenue.fillna(0)"
      ]
    },
    {
      "cell_type": "code",
      "execution_count": null,
      "metadata": {
        "id": "WBUIJaF-Yx5q"
      },
      "outputs": [],
      "source": [
        "monthly_revenue['total_revenue'] = monthly_revenue['revenue_calls'] + monthly_revenue['revenue_messages'] + monthly_revenue['revenue_internet'] "
      ]
    },
    {
      "cell_type": "code",
      "execution_count": null,
      "metadata": {
        "id": "cvRhnk3XYx5q",
        "outputId": "ab378aee-f263-4095-9148-4cd6a399f6c2"
      },
      "outputs": [
        {
          "name": "stdout",
          "output_type": "stream",
          "text": [
            "<class 'pandas.core.frame.DataFrame'>\n",
            "Int64Index: 3214 entries, 0 to 3213\n",
            "Data columns (total 7 columns):\n",
            "tariff              3214 non-null object\n",
            "user_id             3214 non-null int64\n",
            "month               3214 non-null datetime64[ns]\n",
            "revenue_calls       3214 non-null float64\n",
            "revenue_messages    3214 non-null float64\n",
            "revenue_internet    3214 non-null float64\n",
            "total_revenue       3214 non-null float64\n",
            "dtypes: datetime64[ns](1), float64(4), int64(1), object(1)\n",
            "memory usage: 200.9+ KB\n"
          ]
        }
      ],
      "source": [
        "monthly_revenue.info()"
      ]
    },
    {
      "cell_type": "code",
      "execution_count": null,
      "metadata": {
        "id": "7xmHSPuXYx5q",
        "outputId": "f06c32c3-20ee-4e5b-aa8e-a620bc6dff09",
        "scrolled": true
      },
      "outputs": [
        {
          "data": {
            "image/png": "[encoded data removed]",
            "text/plain": [
              "<Figure size 432x288 with 1 Axes>"
            ]
          },
          "metadata": {
            "needs_background": "light"
          },
          "output_type": "display_data"
        }
      ],
      "source": [
        "ax = monthly_revenue.query('tariff == \"smart\"').pivot_table(index = 'month', values = 'total_revenue', aggfunc = 'sum').plot(label = 'smart');\n",
        "monthly_revenue.query('tariff == \"ultra\"').pivot_table(index = 'month', values = 'total_revenue', aggfunc = 'sum').plot(ax = ax, label = 'ultra');\n",
        "ax.legend(('smart', 'ultra'));"
      ]
    },
    {
      "cell_type": "code",
      "execution_count": null,
      "metadata": {
        "id": "hoSjSr3gYx5q",
        "outputId": "1188c79c-becd-43d9-dc0a-3ee520e0debb",
        "scrolled": false
      },
      "outputs": [
        {
          "data": {
            "image/png": "[encoded data removed]",
            "text/plain": [
              "<Figure size 432x288 with 1 Axes>"
            ]
          },
          "metadata": {
            "needs_background": "light"
          },
          "output_type": "display_data"
        }
      ],
      "source": [
        "internet_per_month.query('tariff == \"smart\" and revenue_internet > 0')['revenue_internet'].hist(bins = 25, alpha = 0.5, label = 'smart').legend();\n",
        "internet_per_month.query('tariff == \"ultra\" and revenue_internet > 0')['revenue_internet'].hist(bins = 25, alpha = 0.5, label = 'ultra').legend();"
      ]
    },
    {
      "cell_type": "code",
      "execution_count": null,
      "metadata": {
        "id": "oZiNDIFCYx5q",
        "outputId": "78c7d65e-6997-49ba-cdbf-b7070e06b0e5",
        "scrolled": true
      },
      "outputs": [
        {
          "data": {
            "image/png": "[encoded data removed]",
            "text/plain": [
              "<Figure size 432x288 with 1 Axes>"
            ]
          },
          "metadata": {
            "needs_background": "light"
          },
          "output_type": "display_data"
        }
      ],
      "source": [
        "messages_per_month.query('tariff == \"smart\" and revenue_messages > 0')['revenue_messages'].hist(bins = 25, alpha = 0.5, label = 'smart').legend();\n",
        "messages_per_month.query('tariff == \"ultra\" and revenue_messages > 0')['revenue_messages'].hist(bins = 25, alpha = 0.5, label = 'ultra').legend();"
      ]
    },
    {
      "cell_type": "code",
      "execution_count": null,
      "metadata": {
        "id": "4e3AjUmFYx5r",
        "outputId": "f9294e1a-44e4-47f8-f222-83afd8c2b3b0",
        "scrolled": true
      },
      "outputs": [
        {
          "data": {
            "image/png": "[encoded data removed]",
            "text/plain": [
              "<Figure size 432x288 with 1 Axes>"
            ]
          },
          "metadata": {
            "needs_background": "light"
          },
          "output_type": "display_data"
        }
      ],
      "source": [
        "minutes_per_month.query('tariff == \"smart\" and revenue_calls > 0')['revenue_calls'].hist(bins = 25, alpha = 0.5, label = 'smart').legend();\n",
        "minutes_per_month.query('tariff == \"ultra\" and revenue_calls > 0')['revenue_calls'].hist(bins = 25, alpha = 0.5, label = 'ultra').legend();"
      ]
    },
    {
      "cell_type": "markdown",
      "metadata": {
        "id": "aSnfRD-DYx5r"
      },
      "source": [
        "Тариф \"смарт\" приносит доход со звонков, интернета и сообщений, а тариф \"ультра\" - только немного с интернета. Пользователи тарифа \"ультра\" не выходят за лимиты"
      ]
    },
    {
      "cell_type": "markdown",
      "metadata": {
        "id": "HLgRHpWqYx5r"
      },
      "source": [
        "#### Доход с абонентской платы"
      ]
    },
    {
      "cell_type": "code",
      "execution_count": null,
      "metadata": {
        "id": "BGIJr4sxYx5r"
      },
      "outputs": [],
      "source": [
        "monthly_revenue = monthly_revenue.merge(users)"
      ]
    },
    {
      "cell_type": "code",
      "execution_count": null,
      "metadata": {
        "id": "ZmVK3Vs0Yx5r"
      },
      "outputs": [],
      "source": [
        "def revenue_fee(row):\n",
        "    if row['tariff'] == 'smart':\n",
        "        row['revenue_fee'] = int(tariffs.query('tariff == \"smart\"')['rub_monthly_fee'])\n",
        "    else:\n",
        "        row['revenue_fee'] = int(tariffs.query('tariff == \"ultra\"')['rub_monthly_fee'])\n",
        "    return row\n",
        "    \n",
        "monthly_revenue = monthly_revenue.apply(revenue_fee, axis=1)"
      ]
    },
    {
      "cell_type": "code",
      "execution_count": null,
      "metadata": {
        "id": "8caE9b_3Yx5r",
        "outputId": "5e165fe6-a22f-44c6-fbfc-92222e333df0",
        "scrolled": true
      },
      "outputs": [
        {
          "data": {
            "text/html": [
              "<div>\n",
              "<style scoped>\n",
              "    .dataframe tbody tr th:only-of-type {\n",
              "        vertical-align: middle;\n",
              "    }\n",
              "\n",
              "    .dataframe tbody tr th {\n",
              "        vertical-align: top;\n",
              "    }\n",
              "\n",
              "    .dataframe thead th {\n",
              "        text-align: right;\n",
              "    }\n",
              "</style>\n",
              "<table border=\"1\" class=\"dataframe\">\n",
              "  <thead>\n",
              "    <tr style=\"text-align: right;\">\n",
              "      <th></th>\n",
              "      <th>tariff</th>\n",
              "      <th>user_id</th>\n",
              "      <th>month</th>\n",
              "      <th>revenue_calls</th>\n",
              "      <th>revenue_messages</th>\n",
              "      <th>revenue_internet</th>\n",
              "      <th>total_revenue</th>\n",
              "      <th>age</th>\n",
              "      <th>churn_date</th>\n",
              "      <th>city</th>\n",
              "      <th>first_name</th>\n",
              "      <th>last_name</th>\n",
              "      <th>reg_date</th>\n",
              "      <th>revenue_fee</th>\n",
              "    </tr>\n",
              "  </thead>\n",
              "  <tbody>\n",
              "    <tr>\n",
              "      <td>0</td>\n",
              "      <td>ultra</td>\n",
              "      <td>1000</td>\n",
              "      <td>2018-05-01</td>\n",
              "      <td>0.0</td>\n",
              "      <td>0.0</td>\n",
              "      <td>0.0</td>\n",
              "      <td>1950.0</td>\n",
              "      <td>52</td>\n",
              "      <td>NaT</td>\n",
              "      <td>Краснодар</td>\n",
              "      <td>Рафаил</td>\n",
              "      <td>Верещагин</td>\n",
              "      <td>2018-05-01</td>\n",
              "      <td>1950</td>\n",
              "    </tr>\n",
              "    <tr>\n",
              "      <td>1</td>\n",
              "      <td>ultra</td>\n",
              "      <td>1000</td>\n",
              "      <td>2018-06-01</td>\n",
              "      <td>0.0</td>\n",
              "      <td>0.0</td>\n",
              "      <td>0.0</td>\n",
              "      <td>1950.0</td>\n",
              "      <td>52</td>\n",
              "      <td>NaT</td>\n",
              "      <td>Краснодар</td>\n",
              "      <td>Рафаил</td>\n",
              "      <td>Верещагин</td>\n",
              "      <td>2018-05-01</td>\n",
              "      <td>1950</td>\n",
              "    </tr>\n",
              "    <tr>\n",
              "      <td>2</td>\n",
              "      <td>ultra</td>\n",
              "      <td>1000</td>\n",
              "      <td>2018-07-01</td>\n",
              "      <td>0.0</td>\n",
              "      <td>0.0</td>\n",
              "      <td>0.0</td>\n",
              "      <td>1950.0</td>\n",
              "      <td>52</td>\n",
              "      <td>NaT</td>\n",
              "      <td>Краснодар</td>\n",
              "      <td>Рафаил</td>\n",
              "      <td>Верещагин</td>\n",
              "      <td>2018-05-01</td>\n",
              "      <td>1950</td>\n",
              "    </tr>\n",
              "    <tr>\n",
              "      <td>3</td>\n",
              "      <td>ultra</td>\n",
              "      <td>1000</td>\n",
              "      <td>2018-08-01</td>\n",
              "      <td>0.0</td>\n",
              "      <td>0.0</td>\n",
              "      <td>0.0</td>\n",
              "      <td>1950.0</td>\n",
              "      <td>52</td>\n",
              "      <td>NaT</td>\n",
              "      <td>Краснодар</td>\n",
              "      <td>Рафаил</td>\n",
              "      <td>Верещагин</td>\n",
              "      <td>2018-05-01</td>\n",
              "      <td>1950</td>\n",
              "    </tr>\n",
              "    <tr>\n",
              "      <td>4</td>\n",
              "      <td>ultra</td>\n",
              "      <td>1000</td>\n",
              "      <td>2018-09-01</td>\n",
              "      <td>0.0</td>\n",
              "      <td>0.0</td>\n",
              "      <td>0.0</td>\n",
              "      <td>1950.0</td>\n",
              "      <td>52</td>\n",
              "      <td>NaT</td>\n",
              "      <td>Краснодар</td>\n",
              "      <td>Рафаил</td>\n",
              "      <td>Верещагин</td>\n",
              "      <td>2018-05-01</td>\n",
              "      <td>1950</td>\n",
              "    </tr>\n",
              "    <tr>\n",
              "      <td>...</td>\n",
              "      <td>...</td>\n",
              "      <td>...</td>\n",
              "      <td>...</td>\n",
              "      <td>...</td>\n",
              "      <td>...</td>\n",
              "      <td>...</td>\n",
              "      <td>...</td>\n",
              "      <td>...</td>\n",
              "      <td>...</td>\n",
              "      <td>...</td>\n",
              "      <td>...</td>\n",
              "      <td>...</td>\n",
              "      <td>...</td>\n",
              "      <td>...</td>\n",
              "    </tr>\n",
              "    <tr>\n",
              "      <td>3209</td>\n",
              "      <td>smart</td>\n",
              "      <td>1489</td>\n",
              "      <td>2018-08-01</td>\n",
              "      <td>0.0</td>\n",
              "      <td>0.0</td>\n",
              "      <td>0.0</td>\n",
              "      <td>550.0</td>\n",
              "      <td>35</td>\n",
              "      <td>NaT</td>\n",
              "      <td>Санкт-Петербург</td>\n",
              "      <td>Павел</td>\n",
              "      <td>Гончаров</td>\n",
              "      <td>2018-08-01</td>\n",
              "      <td>550</td>\n",
              "    </tr>\n",
              "    <tr>\n",
              "      <td>3210</td>\n",
              "      <td>smart</td>\n",
              "      <td>1489</td>\n",
              "      <td>2018-09-01</td>\n",
              "      <td>0.0</td>\n",
              "      <td>0.0</td>\n",
              "      <td>400.0</td>\n",
              "      <td>950.0</td>\n",
              "      <td>35</td>\n",
              "      <td>NaT</td>\n",
              "      <td>Санкт-Петербург</td>\n",
              "      <td>Павел</td>\n",
              "      <td>Гончаров</td>\n",
              "      <td>2018-08-01</td>\n",
              "      <td>550</td>\n",
              "    </tr>\n",
              "    <tr>\n",
              "      <td>3211</td>\n",
              "      <td>smart</td>\n",
              "      <td>1489</td>\n",
              "      <td>2018-10-01</td>\n",
              "      <td>0.0</td>\n",
              "      <td>0.0</td>\n",
              "      <td>1000.0</td>\n",
              "      <td>1550.0</td>\n",
              "      <td>35</td>\n",
              "      <td>NaT</td>\n",
              "      <td>Санкт-Петербург</td>\n",
              "      <td>Павел</td>\n",
              "      <td>Гончаров</td>\n",
              "      <td>2018-08-01</td>\n",
              "      <td>550</td>\n",
              "    </tr>\n",
              "    <tr>\n",
              "      <td>3212</td>\n",
              "      <td>smart</td>\n",
              "      <td>1489</td>\n",
              "      <td>2018-11-01</td>\n",
              "      <td>0.0</td>\n",
              "      <td>0.0</td>\n",
              "      <td>600.0</td>\n",
              "      <td>1150.0</td>\n",
              "      <td>35</td>\n",
              "      <td>NaT</td>\n",
              "      <td>Санкт-Петербург</td>\n",
              "      <td>Павел</td>\n",
              "      <td>Гончаров</td>\n",
              "      <td>2018-08-01</td>\n",
              "      <td>550</td>\n",
              "    </tr>\n",
              "    <tr>\n",
              "      <td>3213</td>\n",
              "      <td>smart</td>\n",
              "      <td>1489</td>\n",
              "      <td>2018-12-01</td>\n",
              "      <td>0.0</td>\n",
              "      <td>0.0</td>\n",
              "      <td>400.0</td>\n",
              "      <td>950.0</td>\n",
              "      <td>35</td>\n",
              "      <td>NaT</td>\n",
              "      <td>Санкт-Петербург</td>\n",
              "      <td>Павел</td>\n",
              "      <td>Гончаров</td>\n",
              "      <td>2018-08-01</td>\n",
              "      <td>550</td>\n",
              "    </tr>\n",
              "  </tbody>\n",
              "</table>\n",
              "<p>3214 rows × 14 columns</p>\n",
              "</div>"
            ],
            "text/plain": [
              "     tariff  user_id      month  revenue_calls  revenue_messages  \\\n",
              "0     ultra     1000 2018-05-01            0.0               0.0   \n",
              "1     ultra     1000 2018-06-01            0.0               0.0   \n",
              "2     ultra     1000 2018-07-01            0.0               0.0   \n",
              "3     ultra     1000 2018-08-01            0.0               0.0   \n",
              "4     ultra     1000 2018-09-01            0.0               0.0   \n",
              "...     ...      ...        ...            ...               ...   \n",
              "3209  smart     1489 2018-08-01            0.0               0.0   \n",
              "3210  smart     1489 2018-09-01            0.0               0.0   \n",
              "3211  smart     1489 2018-10-01            0.0               0.0   \n",
              "3212  smart     1489 2018-11-01            0.0               0.0   \n",
              "3213  smart     1489 2018-12-01            0.0               0.0   \n",
              "\n",
              "      revenue_internet  total_revenue  age churn_date             city  \\\n",
              "0                  0.0         1950.0   52        NaT        Краснодар   \n",
              "1                  0.0         1950.0   52        NaT        Краснодар   \n",
              "2                  0.0         1950.0   52        NaT        Краснодар   \n",
              "3                  0.0         1950.0   52        NaT        Краснодар   \n",
              "4                  0.0         1950.0   52        NaT        Краснодар   \n",
              "...                ...            ...  ...        ...              ...   \n",
              "3209               0.0          550.0   35        NaT  Санкт-Петербург   \n",
              "3210             400.0          950.0   35        NaT  Санкт-Петербург   \n",
              "3211            1000.0         1550.0   35        NaT  Санкт-Петербург   \n",
              "3212             600.0         1150.0   35        NaT  Санкт-Петербург   \n",
              "3213             400.0          950.0   35        NaT  Санкт-Петербург   \n",
              "\n",
              "     first_name  last_name   reg_date  revenue_fee  \n",
              "0        Рафаил  Верещагин 2018-05-01         1950  \n",
              "1        Рафаил  Верещагин 2018-05-01         1950  \n",
              "2        Рафаил  Верещагин 2018-05-01         1950  \n",
              "3        Рафаил  Верещагин 2018-05-01         1950  \n",
              "4        Рафаил  Верещагин 2018-05-01         1950  \n",
              "...         ...        ...        ...          ...  \n",
              "3209      Павел   Гончаров 2018-08-01          550  \n",
              "3210      Павел   Гончаров 2018-08-01          550  \n",
              "3211      Павел   Гончаров 2018-08-01          550  \n",
              "3212      Павел   Гончаров 2018-08-01          550  \n",
              "3213      Павел   Гончаров 2018-08-01          550  \n",
              "\n",
              "[3214 rows x 14 columns]"
            ]
          },
          "execution_count": 53,
          "metadata": {},
          "output_type": "execute_result"
        }
      ],
      "source": [
        "monthly_revenue['total_revenue'] = monthly_revenue['total_revenue'] + monthly_revenue['revenue_fee']\n",
        "monthly_revenue"
      ]
    },
    {
      "cell_type": "code",
      "execution_count": null,
      "metadata": {
        "id": "04VbQIZuYx5r",
        "outputId": "3690d0d8-0f61-4bc5-e216-4ada66d77817"
      },
      "outputs": [
        {
          "data": {
            "image/png": "[encoded data removed]",
            "text/plain": [
              "<Figure size 432x288 with 1 Axes>"
            ]
          },
          "metadata": {
            "needs_background": "light"
          },
          "output_type": "display_data"
        }
      ],
      "source": [
        "ax = monthly_revenue.query('tariff == \"smart\"').pivot_table(index = 'month', values = 'total_revenue', aggfunc = 'sum').plot(label = 'smart');\n",
        "monthly_revenue.query('tariff == \"ultra\"').pivot_table(index = 'month', values = 'total_revenue', aggfunc = 'sum').plot(ax = ax, label = 'ultra');\n",
        "ax.legend(('smart', 'ultra'));"
      ]
    },
    {
      "cell_type": "markdown",
      "metadata": {
        "id": "jOeczCfiYx5s"
      },
      "source": [
        "Тариф \"смарт\" приносит больший доход чем тариф \"ультра\" с учётом абонентской платы"
      ]
    },
    {
      "cell_type": "markdown",
      "metadata": {
        "id": "8JQfe8R6Yx5s"
      },
      "source": [
        "## Анализ данных\n",
        "\n",
        "Опишите поведение клиентов оператора, исходя из выборки. Сколько минут разговора, сколько сообщений и какой объём интернет-трафика требуется пользователям каждого тарифа в месяц? Посчитайте среднее количество, дисперсию и стандартное отклонение. Постройте гистограммы. Опишите распределения."
      ]
    },
    {
      "cell_type": "markdown",
      "metadata": {
        "id": "HI3iZBeeYx5s"
      },
      "source": [
        "### Количество минут разговора в месяц"
      ]
    },
    {
      "cell_type": "code",
      "execution_count": null,
      "metadata": {
        "id": "QB4Rp9TGYx5s",
        "outputId": "52fe3a85-da5c-46d5-802f-11700de81cc1",
        "scrolled": true
      },
      "outputs": [
        {
          "data": {
            "image/png": "[encoded data removed]",
            "text/plain": [
              "<Figure size 432x288 with 1 Axes>"
            ]
          },
          "metadata": {
            "needs_background": "light"
          },
          "output_type": "display_data"
        }
      ],
      "source": [
        "minutes_per_month.query('tariff == \"smart\"')['duration'].hist(bins = 50, alpha = 0.5, label = 'smart').legend();\n",
        "minutes_per_month.query('tariff == \"ultra\"')['duration'].hist(bins = 50, alpha = 0.5, label = 'ultra').legend();"
      ]
    },
    {
      "cell_type": "code",
      "execution_count": null,
      "metadata": {
        "id": "NAPtmTXJYx5s",
        "outputId": "c18446a3-d893-4d77-850c-efa4a382b0d6",
        "scrolled": true
      },
      "outputs": [
        {
          "data": {
            "text/plain": [
              "count    2221.000000\n",
              "mean      419.440342\n",
              "std       188.992403\n",
              "min         2.000000\n",
              "25%       285.000000\n",
              "50%       423.000000\n",
              "75%       546.000000\n",
              "max      1435.000000\n",
              "Name: duration, dtype: float64"
            ]
          },
          "execution_count": 56,
          "metadata": {},
          "output_type": "execute_result"
        }
      ],
      "source": [
        "minutes_per_month.query('tariff == \"smart\"')['duration'].describe()"
      ]
    },
    {
      "cell_type": "code",
      "execution_count": null,
      "metadata": {
        "id": "r19qBn4SYx5t",
        "outputId": "9dbe4647-08e7-4c98-f71a-63c548ea0dd9",
        "scrolled": true
      },
      "outputs": [
        {
          "data": {
            "text/plain": [
              "count     947.000000\n",
              "mean      547.755016\n",
              "std       305.513385\n",
              "min         1.000000\n",
              "25%       311.000000\n",
              "50%       529.000000\n",
              "75%       758.000000\n",
              "max      1673.000000\n",
              "Name: duration, dtype: float64"
            ]
          },
          "execution_count": 57,
          "metadata": {},
          "output_type": "execute_result"
        }
      ],
      "source": [
        "minutes_per_month.query('tariff == \"ultra\"')['duration'].describe()"
      ]
    },
    {
      "cell_type": "code",
      "execution_count": null,
      "metadata": {
        "id": "K7fdUpfLYx5t",
        "outputId": "4425b374-bcdd-434b-b108-c356f13b0183"
      },
      "outputs": [
        {
          "data": {
            "text/plain": [
              "35702.04653099502"
            ]
          },
          "execution_count": 58,
          "metadata": {},
          "output_type": "execute_result"
        }
      ],
      "source": [
        "#дисперсия по тарифу смарт\n",
        "np.var(minutes_per_month.query('tariff == \"smart\"')['duration'])"
      ]
    },
    {
      "cell_type": "code",
      "execution_count": null,
      "metadata": {
        "id": "hoeVGAYuYx5t",
        "outputId": "f9d5aa37-3696-4912-f2f7-6469aa724ae7"
      },
      "outputs": [
        {
          "data": {
            "text/plain": [
              "188.9498518946099"
            ]
          },
          "execution_count": 59,
          "metadata": {},
          "output_type": "execute_result"
        }
      ],
      "source": [
        "#стандартное отклонение по тарифу смарт\n",
        "np.sqrt(np.var(minutes_per_month.query('tariff == \"smart\"')['duration']))"
      ]
    },
    {
      "cell_type": "code",
      "execution_count": null,
      "metadata": {
        "id": "7Ez6AdjrYx5t",
        "outputId": "1c3b6a7a-ce4f-402c-ef6f-0363c8471f3b"
      },
      "outputs": [
        {
          "data": {
            "text/plain": [
              "93239.86606512647"
            ]
          },
          "execution_count": 60,
          "metadata": {},
          "output_type": "execute_result"
        }
      ],
      "source": [
        "#дисперсия по тарифу ультра\n",
        "np.var(minutes_per_month.query('tariff == \"ultra\"')['duration'])"
      ]
    },
    {
      "cell_type": "code",
      "execution_count": null,
      "metadata": {
        "id": "E3jIhVI_Yx5t",
        "outputId": "1ed3311c-c3de-468e-cbfb-893a190e55f0"
      },
      "outputs": [
        {
          "data": {
            "text/plain": [
              "305.35203628783364"
            ]
          },
          "execution_count": 61,
          "metadata": {},
          "output_type": "execute_result"
        }
      ],
      "source": [
        "#стандартное отклонение по тарифу ультра\n",
        "np.sqrt(np.var(minutes_per_month.query('tariff == \"ultra\"')['duration']))"
      ]
    },
    {
      "cell_type": "markdown",
      "metadata": {
        "id": "Ax5G_4miYx5t"
      },
      "source": [
        "Среднее значение по выборке тарифа \"ультра\" больше, чем \"смарт\".\n",
        "\n",
        "Стандартное отклонение по выборке тарифа \"ультра\" больше, чем \"смарт\".\n",
        "\n",
        "Распределения схожи, но выборка по тарифу \"ультра\" имеет большую положительную скошенность."
      ]
    },
    {
      "cell_type": "markdown",
      "metadata": {
        "id": "rxKLjJqhYx5u"
      },
      "source": [
        "### Количество сообщений в месяц"
      ]
    },
    {
      "cell_type": "code",
      "execution_count": null,
      "metadata": {
        "id": "2qjGX1O4Yx5u",
        "outputId": "d1672ffd-b57b-43d3-c187-e32076a5e711",
        "scrolled": false
      },
      "outputs": [
        {
          "data": {
            "image/png": "[encoded data removed]",
            "text/plain": [
              "<Figure size 432x288 with 1 Axes>"
            ]
          },
          "metadata": {
            "needs_background": "light"
          },
          "output_type": "display_data"
        }
      ],
      "source": [
        "messages_per_month.query('tariff == \"smart\"')['n_messages'].hist(bins = 50, alpha = 0.5, label = 'smart').legend();\n",
        "messages_per_month.query('tariff == \"ultra\"')['n_messages'].hist(bins = 50, alpha = 0.5, label = 'ultra').legend();"
      ]
    },
    {
      "cell_type": "code",
      "execution_count": null,
      "metadata": {
        "id": "jJl-Q6crYx5u",
        "outputId": "07c52853-d330-492c-9553-94b1de2f1b99",
        "scrolled": true
      },
      "outputs": [
        {
          "data": {
            "text/plain": [
              "count    1922.000000\n",
              "mean       38.716441\n",
              "std        26.787949\n",
              "min         1.000000\n",
              "25%        17.000000\n",
              "50%        34.000000\n",
              "75%        55.000000\n",
              "max       143.000000\n",
              "Name: n_messages, dtype: float64"
            ]
          },
          "execution_count": 63,
          "metadata": {},
          "output_type": "execute_result"
        }
      ],
      "source": [
        "messages_per_month.query('tariff == \"smart\"')['n_messages'].describe()"
      ]
    },
    {
      "cell_type": "code",
      "execution_count": null,
      "metadata": {
        "id": "yoGd5ruBYx5u",
        "outputId": "3ffbafa8-9fd9-4b2a-c207-839823fa04ab"
      },
      "outputs": [
        {
          "data": {
            "text/plain": [
              "count    795.000000\n",
              "mean      61.161006\n",
              "std       45.931026\n",
              "min        1.000000\n",
              "25%       24.000000\n",
              "50%       51.000000\n",
              "75%       87.500000\n",
              "max      224.000000\n",
              "Name: n_messages, dtype: float64"
            ]
          },
          "execution_count": 64,
          "metadata": {},
          "output_type": "execute_result"
        }
      ],
      "source": [
        "messages_per_month.query('tariff == \"ultra\"')['n_messages'].describe()"
      ]
    },
    {
      "cell_type": "code",
      "execution_count": null,
      "metadata": {
        "id": "u39M0kLJYx5u",
        "outputId": "0225f047-634a-43ee-c450-b344986257a9"
      },
      "outputs": [
        {
          "data": {
            "text/plain": [
              "717.220843110227"
            ]
          },
          "execution_count": 65,
          "metadata": {},
          "output_type": "execute_result"
        }
      ],
      "source": [
        "#дисперсия по тарифу смарт\n",
        "np.var(messages_per_month.query('tariff == \"smart\"')['n_messages'])"
      ]
    },
    {
      "cell_type": "code",
      "execution_count": null,
      "metadata": {
        "id": "tuGAhgRsYx5u",
        "outputId": "b76ff548-c3dd-4c2f-949a-f49e79a75c40"
      },
      "outputs": [
        {
          "data": {
            "text/plain": [
              "26.780979129042816"
            ]
          },
          "execution_count": 66,
          "metadata": {},
          "output_type": "execute_result"
        }
      ],
      "source": [
        "#стандартное отклонение по тарифу смарт\n",
        "np.sqrt(np.var(messages_per_month.query('tariff == \"smart\"')['n_messages']))"
      ]
    },
    {
      "cell_type": "code",
      "execution_count": null,
      "metadata": {
        "id": "kTJ2WMfDYx5v",
        "outputId": "b8cb5545-1015-475e-ed6a-acf994c065b8"
      },
      "outputs": [
        {
          "data": {
            "text/plain": [
              "2107.0055235156838"
            ]
          },
          "execution_count": 67,
          "metadata": {},
          "output_type": "execute_result"
        }
      ],
      "source": [
        "#дисперсия по тарифу ультра\n",
        "np.var(messages_per_month.query('tariff == \"ultra\"')['n_messages'])"
      ]
    },
    {
      "cell_type": "code",
      "execution_count": null,
      "metadata": {
        "id": "sYXKNDPnYx5v",
        "outputId": "121f6cca-bd41-4671-dd66-6a83f32d7720"
      },
      "outputs": [
        {
          "data": {
            "text/plain": [
              "45.90212983637779"
            ]
          },
          "execution_count": 68,
          "metadata": {},
          "output_type": "execute_result"
        }
      ],
      "source": [
        "#стандартное отклонение по тарифу ультра\n",
        "np.sqrt(np.var(messages_per_month.query('tariff == \"ultra\"')['n_messages']))"
      ]
    },
    {
      "cell_type": "markdown",
      "metadata": {
        "id": "dKPcftW5Yx5v"
      },
      "source": [
        "Среднее значение по выборке тарифа \"ультра\" больше, чем \"смарт\".\n",
        "\n",
        "Стандартное отклонение по выборке тарифа \"ультра\" больше, чем \"смарт\".\n",
        "\n",
        "Распределение выборки по тарифу \"ультра\" имеет большую положительную скошенность, чем \"смарт\"."
      ]
    },
    {
      "cell_type": "markdown",
      "metadata": {
        "id": "JrNjCz4lYx5v"
      },
      "source": [
        "### Объём интернет-трафика в месяц"
      ]
    },
    {
      "cell_type": "code",
      "execution_count": null,
      "metadata": {
        "id": "A8_BLLUEYx5v",
        "outputId": "524b61d8-a0f1-4ac5-c862-cae21231891f",
        "scrolled": true
      },
      "outputs": [
        {
          "data": {
            "image/png": "[encoded data removed]",
            "text/plain": [
              "<Figure size 432x288 with 1 Axes>"
            ]
          },
          "metadata": {
            "needs_background": "light"
          },
          "output_type": "display_data"
        }
      ],
      "source": [
        "internet_per_month.query('tariff == \"smart\"')['mb_used'].hist(bins = 50, alpha = 0.5, label = 'smart').legend();\n",
        "internet_per_month.query('tariff == \"ultra\"')['mb_used'].hist(bins = 50, alpha = 0.5, label = 'ultra').legend();"
      ]
    },
    {
      "cell_type": "code",
      "execution_count": null,
      "metadata": {
        "id": "IdFUTb6eYx5v",
        "outputId": "dcd6f8d1-df78-4a46-fd94-f865922f9f4c",
        "scrolled": true
      },
      "outputs": [
        {
          "data": {
            "text/plain": [
              "count     2228.000000\n",
              "mean     16216.148564\n",
              "std       5861.741292\n",
              "min          0.000000\n",
              "25%      12650.000000\n",
              "50%      16508.000000\n",
              "75%      20044.000000\n",
              "max      38553.000000\n",
              "Name: mb_used, dtype: float64"
            ]
          },
          "execution_count": 70,
          "metadata": {},
          "output_type": "execute_result"
        }
      ],
      "source": [
        "internet_per_month.query('tariff == \"smart\"')['mb_used'].describe()"
      ]
    },
    {
      "cell_type": "code",
      "execution_count": null,
      "metadata": {
        "id": "8AyYIqooYx5v",
        "outputId": "3cf2a735-6ecb-4908-88f6-cee42a4872d9",
        "scrolled": true
      },
      "outputs": [
        {
          "data": {
            "text/plain": [
              "count      975.000000\n",
              "mean     19668.993846\n",
              "std       9943.067706\n",
              "min          0.000000\n",
              "25%      12008.500000\n",
              "50%      19395.000000\n",
              "75%      26897.000000\n",
              "max      49746.000000\n",
              "Name: mb_used, dtype: float64"
            ]
          },
          "execution_count": 71,
          "metadata": {},
          "output_type": "execute_result"
        }
      ],
      "source": [
        "internet_per_month.query('tariff == \"ultra\"')['mb_used'].describe()"
      ]
    },
    {
      "cell_type": "code",
      "execution_count": null,
      "metadata": {
        "id": "2Q0Hj9kjYx5w",
        "outputId": "e54fd509-e7bd-4d0f-c959-8c56fb52098f"
      },
      "outputs": [
        {
          "data": {
            "text/plain": [
              "34344589.06275826"
            ]
          },
          "execution_count": 72,
          "metadata": {},
          "output_type": "execute_result"
        }
      ],
      "source": [
        "#дисперсия по тарифу смарт\n",
        "np.var(internet_per_month.query('tariff == \"smart\"')['mb_used'])"
      ]
    },
    {
      "cell_type": "code",
      "execution_count": null,
      "metadata": {
        "id": "FEEiNDVrYx5w",
        "outputId": "8c5f7fc2-be9b-43eb-8a56-c6ced06c6178"
      },
      "outputs": [
        {
          "data": {
            "text/plain": [
              "5860.425672488156"
            ]
          },
          "execution_count": 73,
          "metadata": {},
          "output_type": "execute_result"
        }
      ],
      "source": [
        "#стандартное отклонение по тарифу смарт\n",
        "np.sqrt(np.var(internet_per_month.query('tariff == \"smart\"')['mb_used']))"
      ]
    },
    {
      "cell_type": "code",
      "execution_count": null,
      "metadata": {
        "id": "hDNcBLf7Yx5w",
        "outputId": "9be1dc51-4173-4f6f-fdf3-152e583d8668"
      },
      "outputs": [
        {
          "data": {
            "text/plain": [
              "98763195.81739803"
            ]
          },
          "execution_count": 74,
          "metadata": {},
          "output_type": "execute_result"
        }
      ],
      "source": [
        "#дисперсия по тарифу ультра\n",
        "np.var(internet_per_month.query('tariff == \"ultra\"')['mb_used'])"
      ]
    },
    {
      "cell_type": "code",
      "execution_count": null,
      "metadata": {
        "id": "OE-Wqml0Yx5w",
        "outputId": "c4aead3d-dc3d-46a1-fad9-f764afde9071"
      },
      "outputs": [
        {
          "data": {
            "text/plain": [
              "9937.967388626208"
            ]
          },
          "execution_count": 75,
          "metadata": {},
          "output_type": "execute_result"
        }
      ],
      "source": [
        "#стандартное отклонение по тарифу ультра\n",
        "np.sqrt(np.var(internet_per_month.query('tariff == \"ultra\"')['mb_used']))"
      ]
    },
    {
      "cell_type": "markdown",
      "metadata": {
        "id": "B1okiVFGYx5w"
      },
      "source": [
        "Среднее значение по выборке тарифа \"ультра\" больше, чем \"смарт\".\n",
        "\n",
        "Стандартное отклонение по выборке тарифа \"ультра\" больше, чем \"смарт\".\n",
        "\n",
        "Распределения схожи, но выборка по тарифу \"ультра\" имеет большую положительную скошенность, хотя значение первого квартиля меньше, чем \"смарт\"."
      ]
    },
    {
      "cell_type": "markdown",
      "metadata": {
        "id": "J_PUT7qeYx5w"
      },
      "source": [
        "## Проверка гипотез\n",
        "\n",
        "Критерий статистической значимости принимается 5%"
      ]
    },
    {
      "cell_type": "markdown",
      "metadata": {
        "id": "CGVuXKPiYx5x"
      },
      "source": [
        "### Выручка по тарифам\n",
        "\n",
        "Нулевая гипотеза: средняя выручка пользователей тарифов «Ультра» и «Смарт» равна\n",
        "\n",
        "Альтернативная гипотеза: средняя выручка пользователей тарифов «Ультра» и «Смарт» не равна"
      ]
    },
    {
      "cell_type": "code",
      "execution_count": null,
      "metadata": {
        "id": "rU6kV8XHYx5x",
        "outputId": "a42778b1-6aed-4d59-a47c-e69cb587276c"
      },
      "outputs": [
        {
          "name": "stdout",
          "output_type": "stream",
          "text": [
            "p-значение:  2.4993562363437228e-124\n"
          ]
        }
      ],
      "source": [
        "results = st.ttest_ind(\n",
        "    monthly_revenue.query('tariff == \"smart\"')['total_revenue'],\n",
        "    monthly_revenue.query('tariff == \"ultra\"')['total_revenue'],\n",
        "    equal_var = False)\n",
        "\n",
        "print('p-значение: ', results.pvalue)"
      ]
    },
    {
      "cell_type": "markdown",
      "metadata": {
        "id": "fu7VjyNwYx5x"
      },
      "source": [
        "уровень статистической значимости выполнения нулевой гипотезы почти нулевой, и это означает, что нулевую гипотезу следует отвергнуть и принять альтернативную"
      ]
    },
    {
      "cell_type": "markdown",
      "metadata": {
        "id": "j2Bn4UNyYx5x"
      },
      "source": [
        "### Выручка по городам\n",
        "\n",
        "Нулевая гипотеза: средняя выручка пользователей из Москвы не отличается от выручки пользователей из других регионов\n",
        "\n",
        "Альтернативная гипотеза: средняя выручка пользователей из Москвы отличается от выручки пользователей из других регионов"
      ]
    },
    {
      "cell_type": "code",
      "execution_count": null,
      "metadata": {
        "id": "B1fy46VyYx5x",
        "outputId": "75e674cc-a252-4cc3-bbc0-5a768bd85824",
        "scrolled": true
      },
      "outputs": [
        {
          "data": {
            "text/plain": [
              "count     611.000000\n",
              "mean     1667.253682\n",
              "std       796.682111\n",
              "min       550.000000\n",
              "25%       950.000000\n",
              "50%      1950.000000\n",
              "75%      1950.000000\n",
              "max      5871.000000\n",
              "Name: total_revenue, dtype: float64"
            ]
          },
          "execution_count": 77,
          "metadata": {},
          "output_type": "execute_result"
        }
      ],
      "source": [
        "monthly_revenue.query('city == \"Москва\"')['total_revenue'].describe()"
      ]
    },
    {
      "cell_type": "code",
      "execution_count": null,
      "metadata": {
        "id": "LMWOYfnFYx5y",
        "outputId": "3902f35f-68e4-4969-d6fa-26241d6135fc",
        "scrolled": true
      },
      "outputs": [
        {
          "data": {
            "text/plain": [
              "count    2603.000000\n",
              "mean     1668.194007\n",
              "std       874.571806\n",
              "min       550.000000\n",
              "25%       950.000000\n",
              "50%      1950.000000\n",
              "75%      1950.000000\n",
              "max      7520.000000\n",
              "Name: total_revenue, dtype: float64"
            ]
          },
          "execution_count": 78,
          "metadata": {},
          "output_type": "execute_result"
        }
      ],
      "source": [
        "monthly_revenue.query('city != \"Москва\"')['total_revenue'].describe()"
      ]
    },
    {
      "cell_type": "markdown",
      "metadata": {
        "id": "KChYWoO1Yx5y"
      },
      "source": [
        "стандартное отклонение выборок различается"
      ]
    },
    {
      "cell_type": "code",
      "execution_count": null,
      "metadata": {
        "id": "g0ExGT3WYx5y",
        "outputId": "6777aa06-591e-4669-cfeb-bfdcb0ad4ff2",
        "scrolled": true
      },
      "outputs": [
        {
          "name": "stdout",
          "output_type": "stream",
          "text": [
            "p-значение:  0.9794551187108997\n"
          ]
        }
      ],
      "source": [
        "results = st.ttest_ind(\n",
        "    monthly_revenue.query('city == \"Москва\"')['total_revenue'],\n",
        "    monthly_revenue.query('city != \"Москва\"')['total_revenue'],\n",
        "    equal_var = False)\n",
        "\n",
        "print('p-значение: ', results.pvalue)"
      ]
    },
    {
      "cell_type": "markdown",
      "metadata": {
        "id": "KhWF8_iuYx5y"
      },
      "source": [
        "уровень статистической значимости выполнения нулевой гипотезы 97,9% => принимаем нулевую гипотезу"
      ]
    },
    {
      "cell_type": "markdown",
      "metadata": {
        "id": "smWOTYjRYx5z"
      },
      "source": [
        "## Вывод\n",
        "\n",
        "Входные данные duration и mb_used имеют скошенное левостороннее распределение, приближающееся к распределению Пуассона. Это ожидаемое распределение от данных, отражающих продолжительность событий.\n",
        "\n",
        "Предобработка исходных данных включала переименование колонок, изменение типа данных, округление дат до месяцев, приведение дат к единому формату и округление секунд до минут.\n",
        "\n",
        "Были рассчитаны колонки дохода по видам услуг исходя из тарифных планов, проанализированы объёмы пользования услугами, а также сформулированы и проверены статистические гипотезы.\n",
        "\n",
        "В среднем пользователи тарифа \"смарт\" тратят 419 минут на разговоры в месяц (стандартное отклонение 189), а \"ультра\" - 548 (стандартное отклонение 305). Пользователи тарифа \"смарт\" тратят в среднем 39 сообщений в месяц (стандартное отклонение 27), а тарифа \"ультра\" - 61 (стандартное отклонение 46). На интернет пользователи тарифа \"смарт\" ежемесячно тратят 16 Гб (стандартное отклонение 6), а тарифа \"ультра\" - 20 Гб (стандартное отклонение  10). Распределения по видам услуг у разных тарифов отличается - тариф \"ультра\" имеет больший скос влево, что также отражает большие объёмы пользования услугами у клиентов этого тарифа.\n",
        "\n",
        "Тариф \"смарт\" приносит доход со звонков, интернета и сообщений, а тариф \"ультра\" - только немного с интернета. Пользователи тарифа \"ультра\" не выходят за лимиты и приносят доход в основном в виде абонентской платы.\n",
        "\n",
        "Средняя выручка у тарифов различается и тариф \"смарт\" приносит больший доход, чем тариф \"ультра\". Средняя выручка от пользователей Москвы не отличается значительно от средней выручки польователей других регионов."
      ]
    }
  ],
  "metadata": {
    "ExecuteTimeLog": [
      {
        "duration": 3398,
        "start_time": "2022-02-07T20:14:48.777Z"
      },
      {
        "duration": 2408,
        "start_time": "2022-02-07T20:14:59.723Z"
      },
      {
        "duration": 2237,
        "start_time": "2022-02-07T20:15:12.110Z"
      },
      {
        "duration": 1626,
        "start_time": "2022-02-07T20:15:57.329Z"
      },
      {
        "duration": 141,
        "start_time": "2022-02-07T20:17:13.033Z"
      },
      {
        "duration": 151,
        "start_time": "2022-02-07T20:17:18.232Z"
      },
      {
        "duration": 144,
        "start_time": "2022-02-07T20:18:54.183Z"
      },
      {
        "duration": 25,
        "start_time": "2022-02-07T20:19:19.314Z"
      },
      {
        "duration": 321,
        "start_time": "2022-02-07T20:19:36.577Z"
      },
      {
        "duration": 19,
        "start_time": "2022-02-07T20:20:28.667Z"
      },
      {
        "duration": 115,
        "start_time": "2022-02-07T20:24:19.045Z"
      },
      {
        "duration": 15,
        "start_time": "2022-02-07T20:24:46.144Z"
      },
      {
        "duration": 85,
        "start_time": "2022-02-07T20:26:59.267Z"
      },
      {
        "duration": 14,
        "start_time": "2022-02-07T20:27:24.665Z"
      },
      {
        "duration": 21,
        "start_time": "2022-02-07T20:28:06.381Z"
      },
      {
        "duration": 64,
        "start_time": "2022-02-07T20:28:40.816Z"
      },
      {
        "duration": 6,
        "start_time": "2022-02-07T20:31:12.407Z"
      },
      {
        "duration": 6,
        "start_time": "2022-02-07T20:32:21.515Z"
      },
      {
        "duration": 26,
        "start_time": "2022-02-07T20:35:06.400Z"
      },
      {
        "duration": 241,
        "start_time": "2022-02-07T20:35:49.699Z"
      },
      {
        "duration": 171,
        "start_time": "2022-02-07T20:35:54.084Z"
      },
      {
        "duration": 10,
        "start_time": "2022-02-07T20:37:30.900Z"
      },
      {
        "duration": 306,
        "start_time": "2022-02-07T20:38:53.406Z"
      },
      {
        "duration": 27,
        "start_time": "2022-02-07T20:39:00.185Z"
      },
      {
        "duration": 37,
        "start_time": "2022-02-07T20:39:24.258Z"
      },
      {
        "duration": 308,
        "start_time": "2022-02-07T20:39:58.491Z"
      },
      {
        "duration": 165,
        "start_time": "2022-02-07T20:40:15.786Z"
      },
      {
        "duration": 163,
        "start_time": "2022-02-07T20:40:19.074Z"
      },
      {
        "duration": 224,
        "start_time": "2022-02-07T20:40:26.417Z"
      },
      {
        "duration": 212,
        "start_time": "2022-02-07T20:41:29.659Z"
      },
      {
        "duration": 434,
        "start_time": "2022-02-08T19:26:19.973Z"
      },
      {
        "duration": 956,
        "start_time": "2022-02-08T19:26:26.879Z"
      },
      {
        "duration": 34,
        "start_time": "2022-02-08T19:26:27.838Z"
      },
      {
        "duration": 42,
        "start_time": "2022-02-08T19:26:27.875Z"
      },
      {
        "duration": 523,
        "start_time": "2022-02-08T19:26:27.920Z"
      },
      {
        "duration": 25,
        "start_time": "2022-02-08T19:26:28.445Z"
      },
      {
        "duration": 406,
        "start_time": "2022-02-08T19:26:28.473Z"
      },
      {
        "duration": 176,
        "start_time": "2022-02-08T19:26:28.882Z"
      },
      {
        "duration": 22,
        "start_time": "2022-02-08T19:26:29.060Z"
      },
      {
        "duration": 128,
        "start_time": "2022-02-08T19:26:29.085Z"
      },
      {
        "duration": 21,
        "start_time": "2022-02-08T19:26:29.216Z"
      },
      {
        "duration": 27,
        "start_time": "2022-02-08T19:26:29.258Z"
      },
      {
        "duration": 11,
        "start_time": "2022-02-08T19:26:29.287Z"
      },
      {
        "duration": 40,
        "start_time": "2022-02-08T19:26:29.300Z"
      },
      {
        "duration": 63,
        "start_time": "2022-02-08T19:26:29.343Z"
      },
      {
        "duration": 72,
        "start_time": "2022-02-08T19:26:36.006Z"
      },
      {
        "duration": 299,
        "start_time": "2022-02-08T19:26:54.807Z"
      },
      {
        "duration": 55,
        "start_time": "2022-02-08T19:28:09.041Z"
      },
      {
        "duration": 45,
        "start_time": "2022-02-08T19:28:44.575Z"
      },
      {
        "duration": 73,
        "start_time": "2022-02-08T19:30:07.735Z"
      },
      {
        "duration": 376,
        "start_time": "2022-02-08T19:30:17.583Z"
      },
      {
        "duration": 384,
        "start_time": "2022-02-08T19:30:22.495Z"
      },
      {
        "duration": 63,
        "start_time": "2022-02-08T19:30:45.380Z"
      },
      {
        "duration": 68,
        "start_time": "2022-02-08T19:31:10.388Z"
      },
      {
        "duration": 50,
        "start_time": "2022-02-08T19:35:00.158Z"
      },
      {
        "duration": 212,
        "start_time": "2022-02-08T19:37:30.388Z"
      },
      {
        "duration": 62,
        "start_time": "2022-02-08T19:37:30.604Z"
      },
      {
        "duration": 53,
        "start_time": "2022-02-08T19:37:30.671Z"
      },
      {
        "duration": 695,
        "start_time": "2022-02-08T19:37:30.728Z"
      },
      {
        "duration": 35,
        "start_time": "2022-02-08T19:37:31.426Z"
      },
      {
        "duration": 695,
        "start_time": "2022-02-08T19:37:31.464Z"
      },
      {
        "duration": 257,
        "start_time": "2022-02-08T19:37:32.162Z"
      },
      {
        "duration": 50,
        "start_time": "2022-02-08T19:37:32.424Z"
      },
      {
        "duration": 130,
        "start_time": "2022-02-08T19:37:32.477Z"
      },
      {
        "duration": 19,
        "start_time": "2022-02-08T19:37:32.610Z"
      },
      {
        "duration": 37,
        "start_time": "2022-02-08T19:37:32.631Z"
      },
      {
        "duration": 7,
        "start_time": "2022-02-08T19:37:32.671Z"
      },
      {
        "duration": 68,
        "start_time": "2022-02-08T19:37:32.681Z"
      },
      {
        "duration": 8,
        "start_time": "2022-02-08T19:37:32.751Z"
      },
      {
        "duration": 182,
        "start_time": "2022-02-08T19:37:32.762Z"
      },
      {
        "duration": 80,
        "start_time": "2022-02-08T19:43:53.645Z"
      },
      {
        "duration": 89,
        "start_time": "2022-02-08T19:45:44.736Z"
      },
      {
        "duration": 91,
        "start_time": "2022-02-08T19:47:51.671Z"
      },
      {
        "duration": 93,
        "start_time": "2022-02-08T19:51:13.669Z"
      },
      {
        "duration": 88,
        "start_time": "2022-02-08T19:51:24.252Z"
      },
      {
        "duration": 472,
        "start_time": "2022-02-08T19:52:24.447Z"
      },
      {
        "duration": 90,
        "start_time": "2022-02-08T19:52:37.138Z"
      },
      {
        "duration": 90,
        "start_time": "2022-02-08T19:52:54.897Z"
      },
      {
        "duration": 73,
        "start_time": "2022-02-08T19:54:33.711Z"
      },
      {
        "duration": 395,
        "start_time": "2022-02-08T19:55:56.200Z"
      },
      {
        "duration": 76,
        "start_time": "2022-02-08T19:56:10.948Z"
      },
      {
        "duration": 66,
        "start_time": "2022-02-08T21:21:28.789Z"
      },
      {
        "duration": 32,
        "start_time": "2022-02-08T21:21:33.065Z"
      },
      {
        "duration": 25,
        "start_time": "2022-02-08T21:21:38.993Z"
      },
      {
        "duration": 10,
        "start_time": "2022-02-08T21:21:52.711Z"
      },
      {
        "duration": 434,
        "start_time": "2022-02-08T21:22:02.564Z"
      },
      {
        "duration": 71,
        "start_time": "2022-02-08T21:22:22.596Z"
      },
      {
        "duration": 32,
        "start_time": "2022-02-08T22:05:03.016Z"
      },
      {
        "duration": 35,
        "start_time": "2022-02-08T22:05:47.384Z"
      },
      {
        "duration": 68,
        "start_time": "2022-02-08T22:16:15.798Z"
      },
      {
        "duration": 21,
        "start_time": "2022-02-08T22:16:29.466Z"
      },
      {
        "duration": 408,
        "start_time": "2022-02-08T22:18:41.433Z"
      },
      {
        "duration": 683,
        "start_time": "2022-02-08T22:19:05.492Z"
      },
      {
        "duration": 794,
        "start_time": "2022-02-08T22:20:16.484Z"
      },
      {
        "duration": 358,
        "start_time": "2022-02-08T22:20:32.120Z"
      },
      {
        "duration": 131,
        "start_time": "2022-02-08T22:21:46.118Z"
      },
      {
        "duration": 28,
        "start_time": "2022-02-08T22:22:11.571Z"
      },
      {
        "duration": 369,
        "start_time": "2022-02-08T22:22:21.494Z"
      },
      {
        "duration": 377,
        "start_time": "2022-02-08T22:22:28.547Z"
      },
      {
        "duration": 232,
        "start_time": "2022-02-08T22:22:39.746Z"
      },
      {
        "duration": 25,
        "start_time": "2022-02-08T22:22:39.981Z"
      },
      {
        "duration": 66,
        "start_time": "2022-02-08T22:22:40.010Z"
      },
      {
        "duration": 401,
        "start_time": "2022-02-08T22:22:40.079Z"
      },
      {
        "duration": 14,
        "start_time": "2022-02-08T22:22:40.482Z"
      },
      {
        "duration": 612,
        "start_time": "2022-02-08T22:22:40.499Z"
      },
      {
        "duration": 177,
        "start_time": "2022-02-08T22:22:41.113Z"
      },
      {
        "duration": 22,
        "start_time": "2022-02-08T22:22:41.294Z"
      },
      {
        "duration": 136,
        "start_time": "2022-02-08T22:22:41.318Z"
      },
      {
        "duration": 19,
        "start_time": "2022-02-08T22:22:41.456Z"
      },
      {
        "duration": 27,
        "start_time": "2022-02-08T22:22:41.477Z"
      },
      {
        "duration": 8,
        "start_time": "2022-02-08T22:22:41.506Z"
      },
      {
        "duration": 50,
        "start_time": "2022-02-08T22:22:41.516Z"
      },
      {
        "duration": 9,
        "start_time": "2022-02-08T22:22:41.569Z"
      },
      {
        "duration": 24,
        "start_time": "2022-02-08T22:22:41.580Z"
      },
      {
        "duration": 185,
        "start_time": "2022-02-08T22:22:41.607Z"
      },
      {
        "duration": 87,
        "start_time": "2022-02-08T22:22:41.794Z"
      },
      {
        "duration": 96,
        "start_time": "2022-02-08T22:22:41.883Z"
      },
      {
        "duration": 79,
        "start_time": "2022-02-08T22:22:41.982Z"
      },
      {
        "duration": 40,
        "start_time": "2022-02-08T22:22:42.064Z"
      },
      {
        "duration": 81,
        "start_time": "2022-02-08T22:22:42.106Z"
      },
      {
        "duration": 414,
        "start_time": "2022-02-08T22:22:42.189Z"
      },
      {
        "duration": 404,
        "start_time": "2022-02-08T22:23:00.823Z"
      },
      {
        "duration": 12,
        "start_time": "2022-02-08T22:23:10.297Z"
      },
      {
        "duration": 13,
        "start_time": "2022-02-08T22:23:35.370Z"
      },
      {
        "duration": 355,
        "start_time": "2022-02-08T22:23:43.675Z"
      },
      {
        "duration": 233,
        "start_time": "2022-02-08T22:23:51.051Z"
      },
      {
        "duration": 25,
        "start_time": "2022-02-08T22:23:51.287Z"
      },
      {
        "duration": 58,
        "start_time": "2022-02-08T22:23:51.315Z"
      },
      {
        "duration": 410,
        "start_time": "2022-02-08T22:23:51.376Z"
      },
      {
        "duration": 18,
        "start_time": "2022-02-08T22:23:51.789Z"
      },
      {
        "duration": 459,
        "start_time": "2022-02-08T22:23:51.810Z"
      },
      {
        "duration": 213,
        "start_time": "2022-02-08T22:23:52.272Z"
      },
      {
        "duration": 25,
        "start_time": "2022-02-08T22:23:52.489Z"
      },
      {
        "duration": 153,
        "start_time": "2022-02-08T22:23:52.518Z"
      },
      {
        "duration": 20,
        "start_time": "2022-02-08T22:23:52.674Z"
      },
      {
        "duration": 27,
        "start_time": "2022-02-08T22:23:52.697Z"
      },
      {
        "duration": 35,
        "start_time": "2022-02-08T22:23:52.726Z"
      },
      {
        "duration": 51,
        "start_time": "2022-02-08T22:23:52.764Z"
      },
      {
        "duration": 101,
        "start_time": "2022-02-08T22:23:52.818Z"
      },
      {
        "duration": 25,
        "start_time": "2022-02-08T22:23:52.922Z"
      },
      {
        "duration": 196,
        "start_time": "2022-02-08T22:23:52.950Z"
      },
      {
        "duration": 142,
        "start_time": "2022-02-08T22:23:53.149Z"
      },
      {
        "duration": 123,
        "start_time": "2022-02-08T22:23:53.294Z"
      },
      {
        "duration": 111,
        "start_time": "2022-02-08T22:23:53.420Z"
      },
      {
        "duration": 74,
        "start_time": "2022-02-08T22:23:53.534Z"
      },
      {
        "duration": 71,
        "start_time": "2022-02-08T22:23:53.611Z"
      },
      {
        "duration": 538,
        "start_time": "2022-02-08T22:23:53.688Z"
      },
      {
        "duration": 11,
        "start_time": "2022-02-08T22:24:39.064Z"
      },
      {
        "duration": 5,
        "start_time": "2022-02-08T22:24:49.512Z"
      },
      {
        "duration": 11,
        "start_time": "2022-02-08T22:24:52.638Z"
      },
      {
        "duration": 58,
        "start_time": "2022-02-08T22:25:00.256Z"
      },
      {
        "duration": 43,
        "start_time": "2022-02-08T22:25:10.072Z"
      },
      {
        "duration": 17,
        "start_time": "2022-02-08T22:27:14.201Z"
      },
      {
        "duration": 11,
        "start_time": "2022-02-08T22:27:16.774Z"
      },
      {
        "duration": 44,
        "start_time": "2022-02-08T22:27:24.638Z"
      },
      {
        "duration": 30,
        "start_time": "2022-02-08T22:33:05.760Z"
      },
      {
        "duration": 38,
        "start_time": "2022-02-08T22:33:21.103Z"
      },
      {
        "duration": 36,
        "start_time": "2022-02-08T22:34:15.595Z"
      },
      {
        "duration": 48,
        "start_time": "2022-02-08T22:39:45.844Z"
      },
      {
        "duration": 64,
        "start_time": "2022-02-08T22:40:04.850Z"
      },
      {
        "duration": 404,
        "start_time": "2022-02-08T22:40:07.902Z"
      },
      {
        "duration": 61,
        "start_time": "2022-02-08T22:40:20.010Z"
      },
      {
        "duration": 39,
        "start_time": "2022-02-08T22:40:28.229Z"
      },
      {
        "duration": 26,
        "start_time": "2022-02-08T22:40:37.439Z"
      },
      {
        "duration": 62,
        "start_time": "2022-02-08T22:41:19.013Z"
      },
      {
        "duration": 1041,
        "start_time": "2022-02-08T22:45:55.039Z"
      },
      {
        "duration": 29,
        "start_time": "2022-02-08T22:45:56.082Z"
      },
      {
        "duration": 62,
        "start_time": "2022-02-08T22:45:56.114Z"
      },
      {
        "duration": 499,
        "start_time": "2022-02-08T22:45:56.179Z"
      },
      {
        "duration": 19,
        "start_time": "2022-02-08T22:45:56.680Z"
      },
      {
        "duration": 412,
        "start_time": "2022-02-08T22:45:56.701Z"
      },
      {
        "duration": 182,
        "start_time": "2022-02-08T22:45:57.115Z"
      },
      {
        "duration": 21,
        "start_time": "2022-02-08T22:45:57.299Z"
      },
      {
        "duration": 128,
        "start_time": "2022-02-08T22:45:57.325Z"
      },
      {
        "duration": 20,
        "start_time": "2022-02-08T22:45:57.455Z"
      },
      {
        "duration": 26,
        "start_time": "2022-02-08T22:45:57.477Z"
      },
      {
        "duration": 8,
        "start_time": "2022-02-08T22:45:57.506Z"
      },
      {
        "duration": 50,
        "start_time": "2022-02-08T22:45:57.516Z"
      },
      {
        "duration": 64,
        "start_time": "2022-02-08T22:45:57.568Z"
      },
      {
        "duration": 27,
        "start_time": "2022-02-08T22:45:57.635Z"
      },
      {
        "duration": 180,
        "start_time": "2022-02-08T22:45:57.664Z"
      },
      {
        "duration": 102,
        "start_time": "2022-02-08T22:45:57.846Z"
      },
      {
        "duration": 104,
        "start_time": "2022-02-08T22:45:57.958Z"
      },
      {
        "duration": 69,
        "start_time": "2022-02-08T22:45:58.064Z"
      },
      {
        "duration": 92,
        "start_time": "2022-02-08T22:45:58.136Z"
      },
      {
        "duration": 1007,
        "start_time": "2022-02-08T22:46:34.245Z"
      },
      {
        "duration": 33,
        "start_time": "2022-02-08T22:46:35.255Z"
      },
      {
        "duration": 69,
        "start_time": "2022-02-08T22:46:35.292Z"
      },
      {
        "duration": 570,
        "start_time": "2022-02-08T22:46:35.364Z"
      },
      {
        "duration": 26,
        "start_time": "2022-02-08T22:46:35.936Z"
      },
      {
        "duration": 452,
        "start_time": "2022-02-08T22:46:35.964Z"
      },
      {
        "duration": 207,
        "start_time": "2022-02-08T22:46:36.418Z"
      },
      {
        "duration": 32,
        "start_time": "2022-02-08T22:46:36.627Z"
      },
      {
        "duration": 140,
        "start_time": "2022-02-08T22:46:36.664Z"
      },
      {
        "duration": 19,
        "start_time": "2022-02-08T22:46:36.807Z"
      },
      {
        "duration": 31,
        "start_time": "2022-02-08T22:46:36.828Z"
      },
      {
        "duration": 10,
        "start_time": "2022-02-08T22:46:36.861Z"
      },
      {
        "duration": 43,
        "start_time": "2022-02-08T22:46:36.873Z"
      },
      {
        "duration": 71,
        "start_time": "2022-02-08T22:46:36.919Z"
      },
      {
        "duration": 9,
        "start_time": "2022-02-08T22:46:36.992Z"
      },
      {
        "duration": 166,
        "start_time": "2022-02-08T22:46:37.003Z"
      },
      {
        "duration": 97,
        "start_time": "2022-02-08T22:46:37.172Z"
      },
      {
        "duration": 103,
        "start_time": "2022-02-08T22:46:37.271Z"
      },
      {
        "duration": 73,
        "start_time": "2022-02-08T22:46:37.377Z"
      },
      {
        "duration": 79,
        "start_time": "2022-02-08T22:46:37.452Z"
      },
      {
        "duration": 637,
        "start_time": "2022-02-08T22:47:10.327Z"
      },
      {
        "duration": 231,
        "start_time": "2022-02-08T22:47:20.360Z"
      },
      {
        "duration": 27,
        "start_time": "2022-02-08T22:47:20.594Z"
      },
      {
        "duration": 56,
        "start_time": "2022-02-08T22:47:20.624Z"
      },
      {
        "duration": 400,
        "start_time": "2022-02-08T22:47:20.683Z"
      },
      {
        "duration": 20,
        "start_time": "2022-02-08T22:47:21.086Z"
      },
      {
        "duration": 497,
        "start_time": "2022-02-08T22:47:21.109Z"
      },
      {
        "duration": 179,
        "start_time": "2022-02-08T22:47:21.608Z"
      },
      {
        "duration": 23,
        "start_time": "2022-02-08T22:47:21.789Z"
      },
      {
        "duration": 136,
        "start_time": "2022-02-08T22:47:21.816Z"
      },
      {
        "duration": 19,
        "start_time": "2022-02-08T22:47:21.959Z"
      },
      {
        "duration": 26,
        "start_time": "2022-02-08T22:47:21.981Z"
      },
      {
        "duration": 9,
        "start_time": "2022-02-08T22:47:22.010Z"
      },
      {
        "duration": 44,
        "start_time": "2022-02-08T22:47:22.021Z"
      },
      {
        "duration": 8,
        "start_time": "2022-02-08T22:47:22.068Z"
      },
      {
        "duration": 11,
        "start_time": "2022-02-08T22:47:22.078Z"
      },
      {
        "duration": 171,
        "start_time": "2022-02-08T22:47:22.091Z"
      },
      {
        "duration": 101,
        "start_time": "2022-02-08T22:47:22.264Z"
      },
      {
        "duration": 104,
        "start_time": "2022-02-08T22:47:22.368Z"
      },
      {
        "duration": 67,
        "start_time": "2022-02-08T22:47:22.474Z"
      },
      {
        "duration": 85,
        "start_time": "2022-02-08T22:47:22.543Z"
      },
      {
        "duration": 362,
        "start_time": "2022-02-08T22:47:24.997Z"
      },
      {
        "duration": 6,
        "start_time": "2022-02-08T22:47:51.533Z"
      },
      {
        "duration": 88,
        "start_time": "2022-02-08T22:48:40.803Z"
      },
      {
        "duration": 148,
        "start_time": "2022-02-08T22:49:02.696Z"
      },
      {
        "duration": 28,
        "start_time": "2022-02-08T22:49:12.911Z"
      },
      {
        "duration": 83,
        "start_time": "2022-02-08T22:52:21.088Z"
      },
      {
        "duration": 15,
        "start_time": "2022-02-08T22:52:28.248Z"
      },
      {
        "duration": 386,
        "start_time": "2022-02-08T22:59:54.028Z"
      },
      {
        "duration": 4,
        "start_time": "2022-02-08T23:00:01.189Z"
      },
      {
        "duration": 415,
        "start_time": "2022-02-08T23:00:07.526Z"
      },
      {
        "duration": 4,
        "start_time": "2022-02-08T23:01:22.454Z"
      },
      {
        "duration": 415,
        "start_time": "2022-02-08T23:01:31.065Z"
      },
      {
        "duration": 37,
        "start_time": "2022-02-08T23:01:41.115Z"
      },
      {
        "duration": 27,
        "start_time": "2022-02-08T23:02:22.710Z"
      },
      {
        "duration": 3,
        "start_time": "2022-02-08T23:02:37.924Z"
      },
      {
        "duration": 201,
        "start_time": "2022-02-08T23:02:37.930Z"
      },
      {
        "duration": 34,
        "start_time": "2022-02-08T23:02:38.134Z"
      },
      {
        "duration": 50,
        "start_time": "2022-02-08T23:02:38.172Z"
      },
      {
        "duration": 704,
        "start_time": "2022-02-08T23:02:38.226Z"
      },
      {
        "duration": 34,
        "start_time": "2022-02-08T23:02:38.933Z"
      },
      {
        "duration": 693,
        "start_time": "2022-02-08T23:02:38.970Z"
      },
      {
        "duration": 281,
        "start_time": "2022-02-08T23:02:39.669Z"
      },
      {
        "duration": 27,
        "start_time": "2022-02-08T23:02:39.953Z"
      },
      {
        "duration": 130,
        "start_time": "2022-02-08T23:02:39.982Z"
      },
      {
        "duration": 20,
        "start_time": "2022-02-08T23:02:40.114Z"
      },
      {
        "duration": 32,
        "start_time": "2022-02-08T23:02:40.136Z"
      },
      {
        "duration": 8,
        "start_time": "2022-02-08T23:02:40.171Z"
      },
      {
        "duration": 44,
        "start_time": "2022-02-08T23:02:40.182Z"
      },
      {
        "duration": 8,
        "start_time": "2022-02-08T23:02:40.229Z"
      },
      {
        "duration": 5,
        "start_time": "2022-02-08T23:02:40.260Z"
      },
      {
        "duration": 174,
        "start_time": "2022-02-08T23:02:40.267Z"
      },
      {
        "duration": 7,
        "start_time": "2022-02-08T23:02:43.071Z"
      },
      {
        "duration": 9,
        "start_time": "2022-02-08T23:02:56.825Z"
      },
      {
        "duration": 17,
        "start_time": "2022-02-08T23:05:04.325Z"
      },
      {
        "duration": 15,
        "start_time": "2022-02-08T23:05:25.289Z"
      },
      {
        "duration": 5,
        "start_time": "2022-02-08T23:06:29.401Z"
      },
      {
        "duration": 415,
        "start_time": "2022-02-11T19:45:34.266Z"
      },
      {
        "duration": 719,
        "start_time": "2022-02-11T19:45:41.271Z"
      },
      {
        "duration": 220,
        "start_time": "2022-02-11T19:45:41.993Z"
      },
      {
        "duration": 39,
        "start_time": "2022-02-11T19:45:42.217Z"
      },
      {
        "duration": 46,
        "start_time": "2022-02-11T19:45:42.260Z"
      },
      {
        "duration": 520,
        "start_time": "2022-02-11T19:45:42.309Z"
      },
      {
        "duration": 26,
        "start_time": "2022-02-11T19:45:42.832Z"
      },
      {
        "duration": 403,
        "start_time": "2022-02-11T19:45:42.861Z"
      },
      {
        "duration": 182,
        "start_time": "2022-02-11T19:45:43.268Z"
      },
      {
        "duration": 24,
        "start_time": "2022-02-11T19:45:43.454Z"
      },
      {
        "duration": 138,
        "start_time": "2022-02-11T19:45:43.481Z"
      },
      {
        "duration": 27,
        "start_time": "2022-02-11T19:45:43.622Z"
      },
      {
        "duration": 21,
        "start_time": "2022-02-11T19:45:43.652Z"
      },
      {
        "duration": 13,
        "start_time": "2022-02-11T19:45:43.676Z"
      },
      {
        "duration": 56,
        "start_time": "2022-02-11T19:45:43.692Z"
      },
      {
        "duration": 57,
        "start_time": "2022-02-11T19:45:43.751Z"
      },
      {
        "duration": 10,
        "start_time": "2022-02-11T19:45:43.810Z"
      },
      {
        "duration": 172,
        "start_time": "2022-02-11T19:45:43.822Z"
      },
      {
        "duration": 6,
        "start_time": "2022-02-11T19:45:43.997Z"
      },
      {
        "duration": 391,
        "start_time": "2022-02-11T20:01:18.855Z"
      },
      {
        "duration": 383,
        "start_time": "2022-02-11T21:18:47.999Z"
      },
      {
        "duration": 329,
        "start_time": "2022-02-11T21:19:05.219Z"
      },
      {
        "duration": 289,
        "start_time": "2022-02-11T21:21:00.797Z"
      },
      {
        "duration": 1079,
        "start_time": "2022-02-11T21:21:14.857Z"
      },
      {
        "duration": 317,
        "start_time": "2022-02-11T21:21:22.651Z"
      },
      {
        "duration": 9980,
        "start_time": "2022-02-11T21:24:49.500Z"
      },
      {
        "duration": 80,
        "start_time": "2022-02-11T21:25:31.422Z"
      },
      {
        "duration": 81,
        "start_time": "2022-02-11T21:26:21.712Z"
      },
      {
        "duration": 75,
        "start_time": "2022-02-11T21:26:59.702Z"
      },
      {
        "duration": 128,
        "start_time": "2022-02-11T21:27:41.547Z"
      },
      {
        "duration": 136,
        "start_time": "2022-02-11T21:27:50.393Z"
      },
      {
        "duration": 149,
        "start_time": "2022-02-11T21:29:09.641Z"
      },
      {
        "duration": 121,
        "start_time": "2022-02-11T21:29:22.744Z"
      },
      {
        "duration": 141,
        "start_time": "2022-02-11T21:31:27.719Z"
      },
      {
        "duration": 563,
        "start_time": "2022-02-11T21:31:48.388Z"
      },
      {
        "duration": 289,
        "start_time": "2022-02-11T21:35:59.628Z"
      },
      {
        "duration": 5,
        "start_time": "2022-02-11T21:36:42.701Z"
      },
      {
        "duration": 827,
        "start_time": "2022-02-11T21:36:49.349Z"
      },
      {
        "duration": 132,
        "start_time": "2022-02-11T21:37:07.506Z"
      },
      {
        "duration": 15,
        "start_time": "2022-02-11T21:37:21.955Z"
      },
      {
        "duration": 10,
        "start_time": "2022-02-11T21:37:26.608Z"
      },
      {
        "duration": 401,
        "start_time": "2022-02-11T21:38:40.493Z"
      },
      {
        "duration": 144,
        "start_time": "2022-02-11T21:40:16.360Z"
      },
      {
        "duration": 172,
        "start_time": "2022-02-11T21:40:35.324Z"
      },
      {
        "duration": 189,
        "start_time": "2022-02-11T21:40:58.284Z"
      },
      {
        "duration": 188,
        "start_time": "2022-02-11T21:41:48.428Z"
      },
      {
        "duration": 656,
        "start_time": "2022-02-11T21:43:26.675Z"
      },
      {
        "duration": 189,
        "start_time": "2022-02-11T21:43:53.345Z"
      },
      {
        "duration": 195,
        "start_time": "2022-02-11T21:44:08.098Z"
      },
      {
        "duration": 124,
        "start_time": "2022-02-11T21:44:33.114Z"
      },
      {
        "duration": 187,
        "start_time": "2022-02-11T21:44:39.337Z"
      },
      {
        "duration": 434,
        "start_time": "2022-02-11T21:46:22.548Z"
      },
      {
        "duration": 244,
        "start_time": "2022-02-11T21:46:38.929Z"
      },
      {
        "duration": 195,
        "start_time": "2022-02-11T21:46:48.953Z"
      },
      {
        "duration": 497,
        "start_time": "2022-02-11T22:01:32.755Z"
      },
      {
        "duration": 264,
        "start_time": "2022-02-11T22:01:45.826Z"
      },
      {
        "duration": 120,
        "start_time": "2022-02-11T22:41:39.299Z"
      },
      {
        "duration": 88,
        "start_time": "2022-02-11T22:42:28.863Z"
      },
      {
        "duration": 87,
        "start_time": "2022-02-11T22:42:34.283Z"
      },
      {
        "duration": 87,
        "start_time": "2022-02-11T22:42:39.098Z"
      },
      {
        "duration": 303,
        "start_time": "2022-02-11T22:42:56.103Z"
      },
      {
        "duration": 51,
        "start_time": "2022-02-11T22:43:23.949Z"
      },
      {
        "duration": 64,
        "start_time": "2022-02-11T22:44:12.239Z"
      },
      {
        "duration": 53,
        "start_time": "2022-02-11T22:47:15.585Z"
      },
      {
        "duration": 61,
        "start_time": "2022-02-11T22:47:25.881Z"
      },
      {
        "duration": 34,
        "start_time": "2022-02-11T22:47:37.627Z"
      },
      {
        "duration": 38,
        "start_time": "2022-02-11T22:47:46.733Z"
      },
      {
        "duration": 69620,
        "start_time": "2022-02-11T22:50:16.842Z"
      },
      {
        "duration": 45,
        "start_time": "2022-02-11T22:51:26.504Z"
      },
      {
        "duration": 30,
        "start_time": "2022-02-11T22:52:36.124Z"
      },
      {
        "duration": 11,
        "start_time": "2022-02-11T22:52:44.119Z"
      },
      {
        "duration": 7,
        "start_time": "2022-02-11T22:58:39.593Z"
      },
      {
        "duration": 32,
        "start_time": "2022-02-11T23:00:53.260Z"
      },
      {
        "duration": 33,
        "start_time": "2022-02-11T23:01:23.596Z"
      },
      {
        "duration": 34,
        "start_time": "2022-02-11T23:01:46.218Z"
      },
      {
        "duration": 34,
        "start_time": "2022-02-11T23:01:54.717Z"
      },
      {
        "duration": 68,
        "start_time": "2022-02-11T23:11:09.624Z"
      },
      {
        "duration": 37,
        "start_time": "2022-02-11T23:11:18.775Z"
      },
      {
        "duration": 70,
        "start_time": "2022-02-11T23:12:39.144Z"
      },
      {
        "duration": 37,
        "start_time": "2022-02-11T23:12:43.395Z"
      },
      {
        "duration": 208,
        "start_time": "2022-02-12T09:05:40.230Z"
      },
      {
        "duration": 562,
        "start_time": "2022-02-12T09:05:45.565Z"
      },
      {
        "duration": 147,
        "start_time": "2022-02-12T09:05:46.129Z"
      },
      {
        "duration": 20,
        "start_time": "2022-02-12T09:05:46.278Z"
      },
      {
        "duration": 26,
        "start_time": "2022-02-12T09:05:46.300Z"
      },
      {
        "duration": 320,
        "start_time": "2022-02-12T09:05:46.328Z"
      },
      {
        "duration": 17,
        "start_time": "2022-02-12T09:05:46.650Z"
      },
      {
        "duration": 318,
        "start_time": "2022-02-12T09:05:46.669Z"
      },
      {
        "duration": 218,
        "start_time": "2022-02-12T09:05:46.990Z"
      },
      {
        "duration": 23,
        "start_time": "2022-02-12T09:05:47.212Z"
      },
      {
        "duration": 85,
        "start_time": "2022-02-12T09:05:47.237Z"
      },
      {
        "duration": 14,
        "start_time": "2022-02-12T09:05:47.323Z"
      },
      {
        "duration": 23,
        "start_time": "2022-02-12T09:05:47.338Z"
      },
      {
        "duration": 10,
        "start_time": "2022-02-12T09:05:47.363Z"
      },
      {
        "duration": 28,
        "start_time": "2022-02-12T09:05:47.374Z"
      },
      {
        "duration": 51,
        "start_time": "2022-02-12T09:05:47.404Z"
      },
      {
        "duration": 9,
        "start_time": "2022-02-12T09:05:47.459Z"
      },
      {
        "duration": 13,
        "start_time": "2022-02-12T09:05:47.469Z"
      },
      {
        "duration": 121,
        "start_time": "2022-02-12T09:05:47.484Z"
      },
      {
        "duration": 6,
        "start_time": "2022-02-12T09:05:47.607Z"
      },
      {
        "duration": 201,
        "start_time": "2022-02-12T09:05:47.614Z"
      },
      {
        "duration": 92,
        "start_time": "2022-02-12T09:05:47.817Z"
      },
      {
        "duration": 50,
        "start_time": "2022-02-12T09:05:47.911Z"
      },
      {
        "duration": 24,
        "start_time": "2022-02-12T09:05:47.963Z"
      },
      {
        "duration": 27,
        "start_time": "2022-02-12T09:05:47.989Z"
      },
      {
        "duration": 6391,
        "start_time": "2022-02-12T09:05:50.415Z"
      },
      {
        "duration": 6043,
        "start_time": "2022-02-12T09:06:04.921Z"
      },
      {
        "duration": 24,
        "start_time": "2022-02-12T09:06:18.509Z"
      },
      {
        "duration": 177,
        "start_time": "2022-02-12T09:06:29.647Z"
      },
      {
        "duration": 222,
        "start_time": "2022-02-12T09:06:41.588Z"
      },
      {
        "duration": 8,
        "start_time": "2022-02-12T09:07:05.885Z"
      },
      {
        "duration": 25,
        "start_time": "2022-02-12T09:07:35.233Z"
      },
      {
        "duration": 5884,
        "start_time": "2022-02-12T09:07:52.656Z"
      },
      {
        "duration": 23,
        "start_time": "2022-02-12T09:21:24.855Z"
      },
      {
        "duration": 200,
        "start_time": "2022-02-12T09:21:36.172Z"
      },
      {
        "duration": 350,
        "start_time": "2022-02-12T09:21:56.183Z"
      },
      {
        "duration": 184,
        "start_time": "2022-02-12T09:22:04.608Z"
      },
      {
        "duration": 4,
        "start_time": "2022-02-12T09:22:09.262Z"
      },
      {
        "duration": 6609,
        "start_time": "2022-02-12T09:22:31.775Z"
      },
      {
        "duration": 4,
        "start_time": "2022-02-12T09:22:50.217Z"
      },
      {
        "duration": 4,
        "start_time": "2022-02-12T09:22:59.592Z"
      },
      {
        "duration": 4,
        "start_time": "2022-02-12T09:23:03.295Z"
      },
      {
        "duration": 184,
        "start_time": "2022-02-12T09:23:06.996Z"
      },
      {
        "duration": 4,
        "start_time": "2022-02-12T09:23:09.763Z"
      },
      {
        "duration": 174,
        "start_time": "2022-02-12T09:23:36.234Z"
      },
      {
        "duration": 4,
        "start_time": "2022-02-12T09:23:39.827Z"
      },
      {
        "duration": 4,
        "start_time": "2022-02-12T09:24:00.906Z"
      },
      {
        "duration": 26,
        "start_time": "2022-02-12T09:24:48.543Z"
      },
      {
        "duration": 845,
        "start_time": "2022-02-12T09:25:00.171Z"
      },
      {
        "duration": 59,
        "start_time": "2022-02-12T09:25:49.816Z"
      },
      {
        "duration": 59,
        "start_time": "2022-02-12T09:26:03.643Z"
      },
      {
        "duration": 68,
        "start_time": "2022-02-12T09:26:15.595Z"
      },
      {
        "duration": 26,
        "start_time": "2022-02-12T09:28:46.566Z"
      },
      {
        "duration": 29,
        "start_time": "2022-02-12T09:30:10.103Z"
      },
      {
        "duration": 23,
        "start_time": "2022-02-12T09:30:25.536Z"
      },
      {
        "duration": 31,
        "start_time": "2022-02-12T09:30:35.309Z"
      },
      {
        "duration": 27,
        "start_time": "2022-02-12T09:30:41.296Z"
      },
      {
        "duration": 6,
        "start_time": "2022-02-12T09:30:58.658Z"
      },
      {
        "duration": 6,
        "start_time": "2022-02-12T09:32:03.949Z"
      },
      {
        "duration": 31,
        "start_time": "2022-02-12T09:32:13.017Z"
      },
      {
        "duration": 29,
        "start_time": "2022-02-12T09:33:58.544Z"
      },
      {
        "duration": 22,
        "start_time": "2022-02-12T09:34:11.279Z"
      },
      {
        "duration": 24,
        "start_time": "2022-02-12T11:02:56.768Z"
      },
      {
        "duration": 24,
        "start_time": "2022-02-12T11:03:13.875Z"
      },
      {
        "duration": 26,
        "start_time": "2022-02-12T11:03:20.253Z"
      },
      {
        "duration": 25,
        "start_time": "2022-02-12T11:32:15.755Z"
      },
      {
        "duration": 8,
        "start_time": "2022-02-12T11:32:38.064Z"
      },
      {
        "duration": 7,
        "start_time": "2022-02-12T11:33:11.055Z"
      },
      {
        "duration": 8,
        "start_time": "2022-02-12T11:33:22.612Z"
      },
      {
        "duration": 8,
        "start_time": "2022-02-12T11:33:30.490Z"
      },
      {
        "duration": 174,
        "start_time": "2022-02-12T11:33:37.716Z"
      },
      {
        "duration": 178,
        "start_time": "2022-02-12T11:33:47.424Z"
      },
      {
        "duration": 27,
        "start_time": "2022-02-12T11:33:54.782Z"
      },
      {
        "duration": 28,
        "start_time": "2022-02-12T11:34:35.004Z"
      },
      {
        "duration": 178,
        "start_time": "2022-02-12T11:39:15.432Z"
      },
      {
        "duration": 181,
        "start_time": "2022-02-12T11:39:46.544Z"
      },
      {
        "duration": 31,
        "start_time": "2022-02-12T11:39:54.046Z"
      },
      {
        "duration": 86,
        "start_time": "2022-02-12T11:50:04.715Z"
      },
      {
        "duration": 744,
        "start_time": "2022-02-13T20:50:28.526Z"
      },
      {
        "duration": 260,
        "start_time": "2022-02-13T20:50:29.274Z"
      },
      {
        "duration": 27,
        "start_time": "2022-02-13T20:50:29.538Z"
      },
      {
        "duration": 65,
        "start_time": "2022-02-13T20:50:29.568Z"
      },
      {
        "duration": 503,
        "start_time": "2022-02-13T20:50:29.636Z"
      },
      {
        "duration": 18,
        "start_time": "2022-02-13T20:50:30.142Z"
      },
      {
        "duration": 440,
        "start_time": "2022-02-13T20:50:30.162Z"
      },
      {
        "duration": 199,
        "start_time": "2022-02-13T20:50:30.606Z"
      },
      {
        "duration": 28,
        "start_time": "2022-02-13T20:50:30.809Z"
      },
      {
        "duration": 203,
        "start_time": "2022-02-13T20:50:30.840Z"
      },
      {
        "duration": 36,
        "start_time": "2022-02-13T20:50:31.047Z"
      },
      {
        "duration": 39,
        "start_time": "2022-02-13T20:50:31.086Z"
      },
      {
        "duration": 65,
        "start_time": "2022-02-13T20:50:31.129Z"
      },
      {
        "duration": 41,
        "start_time": "2022-02-13T20:50:31.196Z"
      },
      {
        "duration": 9,
        "start_time": "2022-02-13T20:50:31.239Z"
      },
      {
        "duration": 9,
        "start_time": "2022-02-13T20:50:31.250Z"
      },
      {
        "duration": 13,
        "start_time": "2022-02-13T20:50:31.262Z"
      },
      {
        "duration": 193,
        "start_time": "2022-02-13T20:50:31.277Z"
      },
      {
        "duration": 7,
        "start_time": "2022-02-13T20:50:31.472Z"
      },
      {
        "duration": 328,
        "start_time": "2022-02-13T20:50:31.481Z"
      },
      {
        "duration": 138,
        "start_time": "2022-02-13T20:50:31.812Z"
      },
      {
        "duration": 77,
        "start_time": "2022-02-13T20:50:31.953Z"
      },
      {
        "duration": 34,
        "start_time": "2022-02-13T20:50:32.036Z"
      },
      {
        "duration": 61,
        "start_time": "2022-02-13T20:50:32.073Z"
      },
      {
        "duration": 54,
        "start_time": "2022-02-13T20:50:32.137Z"
      },
      {
        "duration": 80,
        "start_time": "2022-02-13T20:51:42.427Z"
      },
      {
        "duration": 99,
        "start_time": "2022-02-13T20:52:12.815Z"
      },
      {
        "duration": 120,
        "start_time": "2022-02-13T20:58:05.085Z"
      },
      {
        "duration": 69,
        "start_time": "2022-02-13T20:59:43.867Z"
      },
      {
        "duration": 38,
        "start_time": "2022-02-13T21:00:45.730Z"
      },
      {
        "duration": 404,
        "start_time": "2022-02-13T21:06:14.381Z"
      },
      {
        "duration": 31,
        "start_time": "2022-02-13T21:07:38.485Z"
      },
      {
        "duration": 74,
        "start_time": "2022-02-13T21:08:24.240Z"
      },
      {
        "duration": 37,
        "start_time": "2022-02-13T21:08:28.959Z"
      },
      {
        "duration": 21,
        "start_time": "2022-02-13T21:08:48.251Z"
      },
      {
        "duration": 50,
        "start_time": "2022-02-13T21:08:50.028Z"
      },
      {
        "duration": 8942,
        "start_time": "2022-02-13T21:09:00.061Z"
      },
      {
        "duration": 42,
        "start_time": "2022-02-13T21:09:32.077Z"
      },
      {
        "duration": 43,
        "start_time": "2022-02-13T21:09:47.160Z"
      },
      {
        "duration": 51,
        "start_time": "2022-02-13T21:09:51.449Z"
      },
      {
        "duration": 54,
        "start_time": "2022-02-13T21:09:58.703Z"
      },
      {
        "duration": 94,
        "start_time": "2022-02-13T21:11:22.797Z"
      },
      {
        "duration": 76,
        "start_time": "2022-02-13T21:11:44.417Z"
      },
      {
        "duration": 36,
        "start_time": "2022-02-13T21:11:50.695Z"
      },
      {
        "duration": 1255,
        "start_time": "2022-02-13T21:12:18.854Z"
      },
      {
        "duration": 34,
        "start_time": "2022-02-13T21:12:22.108Z"
      },
      {
        "duration": 70,
        "start_time": "2022-02-13T21:12:56.775Z"
      },
      {
        "duration": 12,
        "start_time": "2022-02-13T21:13:13.124Z"
      },
      {
        "duration": 327,
        "start_time": "2022-02-13T21:13:33.933Z"
      },
      {
        "duration": 8,
        "start_time": "2022-02-13T21:13:35.602Z"
      },
      {
        "duration": 3049,
        "start_time": "2022-02-13T21:14:29.231Z"
      },
      {
        "duration": 3000,
        "start_time": "2022-02-13T21:14:36.642Z"
      },
      {
        "duration": 81,
        "start_time": "2022-02-13T21:14:58.073Z"
      },
      {
        "duration": 7,
        "start_time": "2022-02-13T21:15:01.474Z"
      },
      {
        "duration": 35,
        "start_time": "2022-02-13T21:15:04.352Z"
      },
      {
        "duration": 71,
        "start_time": "2022-02-13T21:15:08.833Z"
      },
      {
        "duration": 37,
        "start_time": "2022-02-13T21:15:10.949Z"
      },
      {
        "duration": 3537,
        "start_time": "2022-02-13T21:15:39.480Z"
      },
      {
        "duration": 389,
        "start_time": "2022-02-13T21:16:13.463Z"
      },
      {
        "duration": 73,
        "start_time": "2022-02-13T21:16:16.807Z"
      },
      {
        "duration": 295,
        "start_time": "2022-02-13T21:16:18.567Z"
      },
      {
        "duration": 42,
        "start_time": "2022-02-13T21:16:30.458Z"
      },
      {
        "duration": 46,
        "start_time": "2022-02-13T21:17:09.195Z"
      },
      {
        "duration": 42,
        "start_time": "2022-02-13T21:19:55.041Z"
      },
      {
        "duration": -53,
        "start_time": "2022-02-13T21:20:20.718Z"
      },
      {
        "duration": -59,
        "start_time": "2022-02-13T21:20:20.727Z"
      },
      {
        "duration": 72,
        "start_time": "2022-02-13T21:20:26.814Z"
      },
      {
        "duration": 767,
        "start_time": "2022-02-13T21:20:46.207Z"
      },
      {
        "duration": 214,
        "start_time": "2022-02-13T21:20:46.977Z"
      },
      {
        "duration": 36,
        "start_time": "2022-02-13T21:20:47.194Z"
      },
      {
        "duration": 36,
        "start_time": "2022-02-13T21:20:47.233Z"
      },
      {
        "duration": 524,
        "start_time": "2022-02-13T21:20:47.272Z"
      },
      {
        "duration": 30,
        "start_time": "2022-02-13T21:20:47.798Z"
      },
      {
        "duration": 436,
        "start_time": "2022-02-13T21:20:47.831Z"
      },
      {
        "duration": 187,
        "start_time": "2022-02-13T21:20:48.270Z"
      },
      {
        "duration": 22,
        "start_time": "2022-02-13T21:20:48.461Z"
      },
      {
        "duration": 127,
        "start_time": "2022-02-13T21:20:48.486Z"
      },
      {
        "duration": 23,
        "start_time": "2022-02-13T21:20:48.616Z"
      },
      {
        "duration": 25,
        "start_time": "2022-02-13T21:20:48.642Z"
      },
      {
        "duration": 9,
        "start_time": "2022-02-13T21:20:48.670Z"
      },
      {
        "duration": 52,
        "start_time": "2022-02-13T21:20:48.681Z"
      },
      {
        "duration": 60,
        "start_time": "2022-02-13T21:20:48.735Z"
      },
      {
        "duration": 6,
        "start_time": "2022-02-13T21:20:48.798Z"
      },
      {
        "duration": 10,
        "start_time": "2022-02-13T21:20:48.824Z"
      },
      {
        "duration": 180,
        "start_time": "2022-02-13T21:20:48.837Z"
      },
      {
        "duration": 7,
        "start_time": "2022-02-13T21:20:49.019Z"
      },
      {
        "duration": 322,
        "start_time": "2022-02-13T21:20:49.028Z"
      },
      {
        "duration": 142,
        "start_time": "2022-02-13T21:20:49.352Z"
      },
      {
        "duration": 72,
        "start_time": "2022-02-13T21:20:52.839Z"
      },
      {
        "duration": 76,
        "start_time": "2022-02-13T21:20:54.246Z"
      },
      {
        "duration": 43,
        "start_time": "2022-02-13T21:20:55.984Z"
      },
      {
        "duration": 114,
        "start_time": "2022-02-13T21:21:10.174Z"
      },
      {
        "duration": 85,
        "start_time": "2022-02-13T21:21:24.415Z"
      },
      {
        "duration": 133,
        "start_time": "2022-02-13T21:25:18.087Z"
      },
      {
        "duration": 5798,
        "start_time": "2022-02-13T21:25:29.255Z"
      },
      {
        "duration": 82,
        "start_time": "2022-02-13T21:25:43.221Z"
      },
      {
        "duration": 7476,
        "start_time": "2022-02-13T21:25:49.573Z"
      },
      {
        "duration": 4382,
        "start_time": "2022-02-13T21:26:01.846Z"
      },
      {
        "duration": 298,
        "start_time": "2022-02-13T21:26:25.212Z"
      },
      {
        "duration": 297,
        "start_time": "2022-02-13T21:27:10.234Z"
      },
      {
        "duration": 302,
        "start_time": "2022-02-13T21:27:12.283Z"
      },
      {
        "duration": 281,
        "start_time": "2022-02-13T21:27:28.551Z"
      },
      {
        "duration": 26,
        "start_time": "2022-02-13T21:27:57.219Z"
      },
      {
        "duration": 28,
        "start_time": "2022-02-13T21:28:17.014Z"
      },
      {
        "duration": 23,
        "start_time": "2022-02-13T21:28:25.675Z"
      },
      {
        "duration": 23,
        "start_time": "2022-02-13T21:28:30.576Z"
      },
      {
        "duration": 19,
        "start_time": "2022-02-13T21:28:36.069Z"
      },
      {
        "duration": 4277,
        "start_time": "2022-02-13T21:28:45.587Z"
      },
      {
        "duration": 27,
        "start_time": "2022-02-13T21:28:55.428Z"
      },
      {
        "duration": 115,
        "start_time": "2022-02-13T21:29:02.862Z"
      },
      {
        "duration": 30,
        "start_time": "2022-02-13T21:29:17.956Z"
      },
      {
        "duration": 5416,
        "start_time": "2022-02-13T21:29:23.225Z"
      },
      {
        "duration": 5059,
        "start_time": "2022-02-13T21:29:42.909Z"
      },
      {
        "duration": 15,
        "start_time": "2022-02-13T21:30:05.026Z"
      },
      {
        "duration": 28,
        "start_time": "2022-02-13T21:30:11.425Z"
      },
      {
        "duration": 25,
        "start_time": "2022-02-13T21:30:14.533Z"
      },
      {
        "duration": 111,
        "start_time": "2022-02-13T21:30:24.092Z"
      },
      {
        "duration": 24,
        "start_time": "2022-02-13T21:30:42.002Z"
      },
      {
        "duration": 25,
        "start_time": "2022-02-13T21:30:48.756Z"
      },
      {
        "duration": 15,
        "start_time": "2022-02-13T21:30:58.107Z"
      },
      {
        "duration": 16,
        "start_time": "2022-02-13T21:31:03.712Z"
      },
      {
        "duration": 11,
        "start_time": "2022-02-13T21:35:52.696Z"
      },
      {
        "duration": 8970,
        "start_time": "2022-02-13T21:36:30.282Z"
      },
      {
        "duration": 112,
        "start_time": "2022-02-13T21:36:54.799Z"
      },
      {
        "duration": 105,
        "start_time": "2022-02-13T21:36:59.675Z"
      },
      {
        "duration": 88,
        "start_time": "2022-02-13T21:37:09.577Z"
      },
      {
        "duration": 369,
        "start_time": "2022-02-13T21:37:21.267Z"
      },
      {
        "duration": 4644,
        "start_time": "2022-02-13T21:37:46.298Z"
      },
      {
        "duration": 103,
        "start_time": "2022-02-13T21:37:59.464Z"
      },
      {
        "duration": 67,
        "start_time": "2022-02-13T21:39:59.278Z"
      },
      {
        "duration": 24,
        "start_time": "2022-02-13T21:40:06.550Z"
      },
      {
        "duration": 26,
        "start_time": "2022-02-13T21:40:13.603Z"
      },
      {
        "duration": 30,
        "start_time": "2022-02-13T21:40:17.494Z"
      },
      {
        "duration": 96,
        "start_time": "2022-02-13T21:40:45.457Z"
      },
      {
        "duration": 30,
        "start_time": "2022-02-13T21:40:52.865Z"
      },
      {
        "duration": 27,
        "start_time": "2022-02-13T21:41:52.739Z"
      },
      {
        "duration": 23,
        "start_time": "2022-02-13T21:41:54.423Z"
      },
      {
        "duration": 17,
        "start_time": "2022-02-13T21:42:11.487Z"
      },
      {
        "duration": 20,
        "start_time": "2022-02-13T21:42:12.812Z"
      },
      {
        "duration": 548,
        "start_time": "2022-02-13T21:42:18.448Z"
      },
      {
        "duration": 21,
        "start_time": "2022-02-13T21:42:20.060Z"
      },
      {
        "duration": 66,
        "start_time": "2022-02-13T21:42:25.999Z"
      },
      {
        "duration": 24,
        "start_time": "2022-02-13T21:42:27.603Z"
      },
      {
        "duration": 4046,
        "start_time": "2022-02-13T21:42:48.809Z"
      },
      {
        "duration": 26,
        "start_time": "2022-02-13T21:42:53.845Z"
      },
      {
        "duration": 89,
        "start_time": "2022-02-13T21:43:10.381Z"
      },
      {
        "duration": 24,
        "start_time": "2022-02-13T21:43:15.692Z"
      },
      {
        "duration": 1023,
        "start_time": "2022-02-13T21:48:56.585Z"
      },
      {
        "duration": 530,
        "start_time": "2022-02-13T21:50:15.538Z"
      },
      {
        "duration": 15,
        "start_time": "2022-02-13T21:52:45.258Z"
      },
      {
        "duration": 10,
        "start_time": "2022-02-13T21:52:49.158Z"
      },
      {
        "duration": 9,
        "start_time": "2022-02-13T21:52:52.660Z"
      },
      {
        "duration": 536,
        "start_time": "2022-02-13T21:53:08.967Z"
      },
      {
        "duration": 1107,
        "start_time": "2022-02-13T21:53:22.621Z"
      },
      {
        "duration": 7877,
        "start_time": "2022-02-13T21:55:02.030Z"
      },
      {
        "duration": 66,
        "start_time": "2022-02-13T21:55:40.013Z"
      },
      {
        "duration": 37,
        "start_time": "2022-02-13T21:56:22.270Z"
      },
      {
        "duration": 24,
        "start_time": "2022-02-13T21:56:23.712Z"
      },
      {
        "duration": 6837,
        "start_time": "2022-02-13T21:57:04.400Z"
      },
      {
        "duration": 28,
        "start_time": "2022-02-13T21:57:44.666Z"
      },
      {
        "duration": 10,
        "start_time": "2022-02-13T22:02:10.372Z"
      },
      {
        "duration": 6,
        "start_time": "2022-02-13T22:02:16.069Z"
      },
      {
        "duration": 9,
        "start_time": "2022-02-13T22:02:26.714Z"
      },
      {
        "duration": 87,
        "start_time": "2022-02-13T22:02:49.222Z"
      },
      {
        "duration": 274,
        "start_time": "2022-02-13T22:02:59.826Z"
      },
      {
        "duration": 1943,
        "start_time": "2022-02-13T22:03:02.518Z"
      },
      {
        "duration": 10,
        "start_time": "2022-02-13T22:03:11.722Z"
      },
      {
        "duration": 288,
        "start_time": "2022-02-13T22:04:06.984Z"
      },
      {
        "duration": 14,
        "start_time": "2022-02-13T22:04:13.656Z"
      },
      {
        "duration": 12,
        "start_time": "2022-02-13T22:04:19.498Z"
      },
      {
        "duration": 17,
        "start_time": "2022-02-13T22:04:23.952Z"
      },
      {
        "duration": 15,
        "start_time": "2022-02-13T22:04:28.511Z"
      },
      {
        "duration": 11,
        "start_time": "2022-02-13T22:04:32.222Z"
      },
      {
        "duration": 269,
        "start_time": "2022-02-13T22:04:37.363Z"
      },
      {
        "duration": 13,
        "start_time": "2022-02-13T22:05:10.539Z"
      },
      {
        "duration": 66,
        "start_time": "2022-02-13T22:16:47.102Z"
      },
      {
        "duration": 22,
        "start_time": "2022-02-13T22:16:51.052Z"
      },
      {
        "duration": 2142,
        "start_time": "2022-02-13T22:17:20.600Z"
      },
      {
        "duration": 12,
        "start_time": "2022-02-13T22:17:25.611Z"
      },
      {
        "duration": 29,
        "start_time": "2022-02-13T22:17:32.427Z"
      },
      {
        "duration": 14,
        "start_time": "2022-02-13T22:17:40.021Z"
      },
      {
        "duration": 15,
        "start_time": "2022-02-13T22:17:53.580Z"
      },
      {
        "duration": 1930,
        "start_time": "2022-02-13T22:20:46.197Z"
      },
      {
        "duration": 6742,
        "start_time": "2022-02-13T22:21:00.352Z"
      },
      {
        "duration": 298,
        "start_time": "2022-02-13T22:21:14.847Z"
      },
      {
        "duration": 6,
        "start_time": "2022-02-13T22:21:18.501Z"
      },
      {
        "duration": 13,
        "start_time": "2022-02-13T22:22:00.823Z"
      },
      {
        "duration": 281,
        "start_time": "2022-02-13T22:22:31.072Z"
      },
      {
        "duration": 288,
        "start_time": "2022-02-13T22:22:38.861Z"
      },
      {
        "duration": 1197,
        "start_time": "2022-02-13T22:22:43.390Z"
      },
      {
        "duration": 271,
        "start_time": "2022-02-13T22:22:58.628Z"
      },
      {
        "duration": 24,
        "start_time": "2022-02-13T22:23:11.442Z"
      },
      {
        "duration": 13,
        "start_time": "2022-02-13T22:23:42.172Z"
      },
      {
        "duration": 269,
        "start_time": "2022-02-13T22:25:46.327Z"
      },
      {
        "duration": 464,
        "start_time": "2022-02-13T22:26:28.415Z"
      },
      {
        "duration": 266,
        "start_time": "2022-02-13T22:26:34.658Z"
      },
      {
        "duration": 259,
        "start_time": "2022-02-13T22:26:37.968Z"
      },
      {
        "duration": 64,
        "start_time": "2022-02-13T22:26:42.365Z"
      },
      {
        "duration": 292,
        "start_time": "2022-02-13T22:26:44.924Z"
      },
      {
        "duration": 9,
        "start_time": "2022-02-13T22:34:18.903Z"
      },
      {
        "duration": 7700,
        "start_time": "2022-02-13T22:35:15.466Z"
      },
      {
        "duration": 388,
        "start_time": "2022-02-13T22:36:03.944Z"
      },
      {
        "duration": 14,
        "start_time": "2022-02-13T22:38:18.166Z"
      },
      {
        "duration": 26,
        "start_time": "2022-02-13T22:38:26.941Z"
      },
      {
        "duration": 62,
        "start_time": "2022-02-13T22:38:31.254Z"
      },
      {
        "duration": 88,
        "start_time": "2022-02-13T22:38:40.656Z"
      },
      {
        "duration": 41,
        "start_time": "2022-02-13T22:38:53.579Z"
      },
      {
        "duration": 27,
        "start_time": "2022-02-13T22:38:59.026Z"
      },
      {
        "duration": 51,
        "start_time": "2022-02-13T22:39:58.926Z"
      },
      {
        "duration": 103,
        "start_time": "2022-02-13T22:40:04.665Z"
      },
      {
        "duration": 27,
        "start_time": "2022-02-13T22:40:12.033Z"
      },
      {
        "duration": 14,
        "start_time": "2022-02-13T22:42:19.618Z"
      },
      {
        "duration": 20,
        "start_time": "2022-02-13T22:42:21.983Z"
      },
      {
        "duration": 8115,
        "start_time": "2022-02-13T22:42:40.349Z"
      },
      {
        "duration": 7445,
        "start_time": "2022-02-13T22:42:58.792Z"
      },
      {
        "duration": 7087,
        "start_time": "2022-02-13T22:43:41.513Z"
      },
      {
        "duration": 7152,
        "start_time": "2022-02-13T22:43:57.333Z"
      },
      {
        "duration": 6,
        "start_time": "2022-02-13T22:44:16.831Z"
      },
      {
        "duration": 265,
        "start_time": "2022-02-13T22:44:19.429Z"
      },
      {
        "duration": 6912,
        "start_time": "2022-02-13T22:44:35.702Z"
      },
      {
        "duration": 40,
        "start_time": "2022-02-13T22:44:45.093Z"
      },
      {
        "duration": 8,
        "start_time": "2022-02-13T22:44:56.519Z"
      },
      {
        "duration": 19,
        "start_time": "2022-02-13T22:44:59.058Z"
      },
      {
        "duration": 7970,
        "start_time": "2022-02-13T22:45:04.063Z"
      },
      {
        "duration": 9,
        "start_time": "2022-02-13T22:45:13.178Z"
      },
      {
        "duration": 4584,
        "start_time": "2022-02-13T22:45:19.803Z"
      },
      {
        "duration": 7,
        "start_time": "2022-02-13T22:45:42.081Z"
      },
      {
        "duration": 3939,
        "start_time": "2022-02-13T22:45:57.707Z"
      },
      {
        "duration": 3887,
        "start_time": "2022-02-13T22:46:09.563Z"
      },
      {
        "duration": 6099,
        "start_time": "2022-02-13T22:47:14.383Z"
      },
      {
        "duration": 3766,
        "start_time": "2022-02-13T22:47:24.467Z"
      },
      {
        "duration": 20,
        "start_time": "2022-02-13T22:47:43.170Z"
      },
      {
        "duration": 67,
        "start_time": "2022-02-13T22:48:24.959Z"
      },
      {
        "duration": 8,
        "start_time": "2022-02-13T22:48:26.918Z"
      },
      {
        "duration": 1541,
        "start_time": "2022-02-13T22:48:35.769Z"
      },
      {
        "duration": 1834,
        "start_time": "2022-02-13T22:49:46.105Z"
      },
      {
        "duration": 8,
        "start_time": "2022-02-13T22:51:03.790Z"
      },
      {
        "duration": 7,
        "start_time": "2022-02-13T22:51:06.829Z"
      },
      {
        "duration": 615,
        "start_time": "2022-02-13T22:51:12.779Z"
      },
      {
        "duration": 9,
        "start_time": "2022-02-13T22:51:32.901Z"
      },
      {
        "duration": 4817,
        "start_time": "2022-02-13T22:51:37.973Z"
      },
      {
        "duration": 4721,
        "start_time": "2022-02-13T22:52:06.572Z"
      },
      {
        "duration": 9,
        "start_time": "2022-02-13T22:52:34.356Z"
      },
      {
        "duration": 9,
        "start_time": "2022-02-13T22:52:37.808Z"
      },
      {
        "duration": 9,
        "start_time": "2022-02-13T22:52:42.280Z"
      },
      {
        "duration": 4592,
        "start_time": "2022-02-13T22:52:46.126Z"
      },
      {
        "duration": 11,
        "start_time": "2022-02-13T22:52:52.761Z"
      },
      {
        "duration": 11,
        "start_time": "2022-02-13T22:52:56.953Z"
      },
      {
        "duration": 4897,
        "start_time": "2022-02-13T22:53:10.644Z"
      },
      {
        "duration": 5,
        "start_time": "2022-02-13T22:54:15.131Z"
      },
      {
        "duration": 5,
        "start_time": "2022-02-13T22:54:17.504Z"
      },
      {
        "duration": 6,
        "start_time": "2022-02-13T22:54:20.140Z"
      },
      {
        "duration": 6,
        "start_time": "2022-02-13T22:54:22.790Z"
      },
      {
        "duration": 5,
        "start_time": "2022-02-13T22:54:25.695Z"
      },
      {
        "duration": 4362,
        "start_time": "2022-02-13T22:54:28.478Z"
      },
      {
        "duration": 5,
        "start_time": "2022-02-13T22:54:35.108Z"
      },
      {
        "duration": 7,
        "start_time": "2022-02-13T22:54:44.112Z"
      },
      {
        "duration": 6,
        "start_time": "2022-02-13T22:54:50.538Z"
      },
      {
        "duration": 9,
        "start_time": "2022-02-13T22:54:55.587Z"
      },
      {
        "duration": 6,
        "start_time": "2022-02-13T22:55:02.472Z"
      },
      {
        "duration": 4400,
        "start_time": "2022-02-13T22:55:25.849Z"
      },
      {
        "duration": 93,
        "start_time": "2022-02-13T22:55:39.677Z"
      },
      {
        "duration": 12,
        "start_time": "2022-02-13T22:55:42.998Z"
      },
      {
        "duration": 13,
        "start_time": "2022-02-13T22:55:57.822Z"
      },
      {
        "duration": 16,
        "start_time": "2022-02-13T22:56:10.434Z"
      },
      {
        "duration": 1683,
        "start_time": "2022-02-13T22:56:39.754Z"
      },
      {
        "duration": 24023,
        "start_time": "2022-02-13T23:07:27.483Z"
      },
      {
        "duration": 25,
        "start_time": "2022-02-13T23:07:55.518Z"
      },
      {
        "duration": 23,
        "start_time": "2022-02-13T23:08:19.636Z"
      },
      {
        "duration": 12,
        "start_time": "2022-02-13T23:12:01.793Z"
      },
      {
        "duration": 22,
        "start_time": "2022-02-13T23:12:30.250Z"
      },
      {
        "duration": 16,
        "start_time": "2022-02-13T23:12:41.009Z"
      },
      {
        "duration": 22,
        "start_time": "2022-02-13T23:13:08.728Z"
      },
      {
        "duration": 29,
        "start_time": "2022-02-13T23:13:16.989Z"
      },
      {
        "duration": 30,
        "start_time": "2022-02-13T23:13:27.340Z"
      },
      {
        "duration": 69,
        "start_time": "2022-02-13T23:14:26.660Z"
      },
      {
        "duration": 8,
        "start_time": "2022-02-13T23:14:29.533Z"
      },
      {
        "duration": 28237,
        "start_time": "2022-02-13T23:14:32.429Z"
      },
      {
        "duration": 32,
        "start_time": "2022-02-13T23:15:02.569Z"
      },
      {
        "duration": 69,
        "start_time": "2022-02-13T23:16:22.756Z"
      },
      {
        "duration": 7,
        "start_time": "2022-02-13T23:16:25.615Z"
      },
      {
        "duration": 30,
        "start_time": "2022-02-13T23:16:37.644Z"
      },
      {
        "duration": 67,
        "start_time": "2022-02-13T23:16:52.016Z"
      },
      {
        "duration": 82,
        "start_time": "2022-02-13T23:16:54.233Z"
      },
      {
        "duration": 11,
        "start_time": "2022-02-13T23:16:56.112Z"
      },
      {
        "duration": 32496,
        "start_time": "2022-02-13T23:16:58.891Z"
      },
      {
        "duration": 44,
        "start_time": "2022-02-13T23:17:34.636Z"
      },
      {
        "duration": 698,
        "start_time": "2022-02-13T23:22:40.871Z"
      },
      {
        "duration": 318,
        "start_time": "2022-02-13T23:25:20.657Z"
      },
      {
        "duration": 327,
        "start_time": "2022-02-13T23:25:32.061Z"
      },
      {
        "duration": 528,
        "start_time": "2022-02-13T23:25:48.831Z"
      },
      {
        "duration": 569,
        "start_time": "2022-02-13T23:25:54.770Z"
      },
      {
        "duration": 566,
        "start_time": "2022-02-13T23:26:03.784Z"
      },
      {
        "duration": 572,
        "start_time": "2022-02-13T23:26:15.326Z"
      },
      {
        "duration": 1110,
        "start_time": "2022-02-13T23:26:31.357Z"
      },
      {
        "duration": 565,
        "start_time": "2022-02-13T23:26:48.957Z"
      },
      {
        "duration": 1179,
        "start_time": "2022-02-13T23:26:58.944Z"
      },
      {
        "duration": 1171,
        "start_time": "2022-02-13T23:27:32.659Z"
      },
      {
        "duration": 902,
        "start_time": "2022-02-13T23:27:39.437Z"
      },
      {
        "duration": 69,
        "start_time": "2022-02-13T23:33:17.626Z"
      },
      {
        "duration": 36,
        "start_time": "2022-02-13T23:33:23.797Z"
      },
      {
        "duration": 113,
        "start_time": "2022-02-13T23:33:42.691Z"
      },
      {
        "duration": 36,
        "start_time": "2022-02-13T23:33:44.406Z"
      },
      {
        "duration": 76,
        "start_time": "2022-02-13T23:34:18.703Z"
      },
      {
        "duration": 45,
        "start_time": "2022-02-13T23:34:20.817Z"
      },
      {
        "duration": 22,
        "start_time": "2022-02-13T23:34:22.376Z"
      },
      {
        "duration": 288,
        "start_time": "2022-02-13T23:35:24.804Z"
      },
      {
        "duration": 4,
        "start_time": "2022-02-13T23:35:33.862Z"
      },
      {
        "duration": 26,
        "start_time": "2022-02-13T23:35:41.472Z"
      },
      {
        "duration": 41,
        "start_time": "2022-02-13T23:36:58.789Z"
      },
      {
        "duration": 7,
        "start_time": "2022-02-13T23:37:00.641Z"
      },
      {
        "duration": 19,
        "start_time": "2022-02-13T23:37:03.059Z"
      },
      {
        "duration": 5,
        "start_time": "2022-02-13T23:37:14.932Z"
      },
      {
        "duration": 43,
        "start_time": "2022-02-13T23:37:16.727Z"
      },
      {
        "duration": 8,
        "start_time": "2022-02-13T23:37:18.252Z"
      },
      {
        "duration": 20,
        "start_time": "2022-02-13T23:37:21.843Z"
      },
      {
        "duration": 20,
        "start_time": "2022-02-13T23:38:23.967Z"
      },
      {
        "duration": 19,
        "start_time": "2022-02-13T23:38:38.430Z"
      },
      {
        "duration": 4772,
        "start_time": "2022-02-13T23:44:27.076Z"
      },
      {
        "duration": 655,
        "start_time": "2022-02-13T23:45:16.079Z"
      },
      {
        "duration": 46,
        "start_time": "2022-02-13T23:46:56.827Z"
      },
      {
        "duration": 7,
        "start_time": "2022-02-13T23:47:20.436Z"
      },
      {
        "duration": 18,
        "start_time": "2022-02-13T23:47:26.683Z"
      },
      {
        "duration": 51,
        "start_time": "2022-02-13T23:47:38.231Z"
      },
      {
        "duration": 7,
        "start_time": "2022-02-13T23:47:40.133Z"
      },
      {
        "duration": 16,
        "start_time": "2022-02-13T23:47:41.668Z"
      },
      {
        "duration": 4,
        "start_time": "2022-02-13T23:50:41.033Z"
      },
      {
        "duration": 331,
        "start_time": "2022-02-13T23:50:45.740Z"
      },
      {
        "duration": 48,
        "start_time": "2022-02-13T23:52:31.028Z"
      },
      {
        "duration": 7,
        "start_time": "2022-02-13T23:52:34.181Z"
      },
      {
        "duration": 18,
        "start_time": "2022-02-13T23:52:35.835Z"
      },
      {
        "duration": 4,
        "start_time": "2022-02-13T23:52:44.099Z"
      },
      {
        "duration": 345,
        "start_time": "2022-02-13T23:53:29.080Z"
      },
      {
        "duration": 68,
        "start_time": "2022-02-13T23:53:35.193Z"
      },
      {
        "duration": 361,
        "start_time": "2022-02-13T23:53:36.968Z"
      },
      {
        "duration": 63,
        "start_time": "2022-02-13T23:53:40.820Z"
      },
      {
        "duration": 68,
        "start_time": "2022-02-13T23:53:44.435Z"
      },
      {
        "duration": 66,
        "start_time": "2022-02-13T23:53:46.220Z"
      },
      {
        "duration": 9,
        "start_time": "2022-02-13T23:53:48.026Z"
      },
      {
        "duration": 28270,
        "start_time": "2022-02-13T23:53:50.947Z"
      },
      {
        "duration": 1090,
        "start_time": "2022-02-13T23:54:21.751Z"
      },
      {
        "duration": 268,
        "start_time": "2022-02-13T23:57:37.709Z"
      },
      {
        "duration": 45,
        "start_time": "2022-02-13T23:57:48.694Z"
      },
      {
        "duration": 46,
        "start_time": "2022-02-13T23:57:54.746Z"
      },
      {
        "duration": 8,
        "start_time": "2022-02-13T23:57:57.249Z"
      },
      {
        "duration": 30,
        "start_time": "2022-02-13T23:58:03.914Z"
      },
      {
        "duration": 69,
        "start_time": "2022-02-13T23:58:27.468Z"
      },
      {
        "duration": 19,
        "start_time": "2022-02-13T23:58:29.022Z"
      },
      {
        "duration": 86,
        "start_time": "2022-02-13T23:59:14.048Z"
      },
      {
        "duration": 23,
        "start_time": "2022-02-13T23:59:18.709Z"
      },
      {
        "duration": 8,
        "start_time": "2022-02-13T23:59:36.377Z"
      },
      {
        "duration": 23,
        "start_time": "2022-02-13T23:59:42.433Z"
      },
      {
        "duration": 43,
        "start_time": "2022-02-13T23:59:47.332Z"
      },
      {
        "duration": 9,
        "start_time": "2022-02-13T23:59:49.672Z"
      },
      {
        "duration": 17,
        "start_time": "2022-02-13T23:59:51.222Z"
      },
      {
        "duration": 22,
        "start_time": "2022-02-13T23:59:59.306Z"
      },
      {
        "duration": 3298,
        "start_time": "2022-02-14T00:00:06.073Z"
      },
      {
        "duration": 661,
        "start_time": "2022-02-14T00:00:12.947Z"
      },
      {
        "duration": 50,
        "start_time": "2022-02-14T00:02:40.782Z"
      },
      {
        "duration": 29,
        "start_time": "2022-02-14T00:02:43.035Z"
      },
      {
        "duration": 46,
        "start_time": "2022-02-14T00:05:23.324Z"
      },
      {
        "duration": 21,
        "start_time": "2022-02-14T00:05:24.845Z"
      },
      {
        "duration": 3488,
        "start_time": "2022-02-14T00:05:28.230Z"
      },
      {
        "duration": 18,
        "start_time": "2022-02-14T00:05:37.907Z"
      },
      {
        "duration": 4482,
        "start_time": "2022-02-14T00:10:30.480Z"
      },
      {
        "duration": 19,
        "start_time": "2022-02-14T00:10:36.625Z"
      },
      {
        "duration": 3103,
        "start_time": "2022-02-14T00:11:48.125Z"
      },
      {
        "duration": 23,
        "start_time": "2022-02-14T00:11:52.981Z"
      },
      {
        "duration": 60,
        "start_time": "2022-02-14T00:12:10.353Z"
      },
      {
        "duration": 29,
        "start_time": "2022-02-14T00:12:11.894Z"
      },
      {
        "duration": 3387,
        "start_time": "2022-02-14T00:12:14.342Z"
      },
      {
        "duration": 22,
        "start_time": "2022-02-14T00:12:19.958Z"
      },
      {
        "duration": 2836,
        "start_time": "2022-02-14T00:12:35.367Z"
      },
      {
        "duration": 44,
        "start_time": "2022-02-14T00:12:40.641Z"
      },
      {
        "duration": 24,
        "start_time": "2022-02-14T00:12:42.239Z"
      },
      {
        "duration": 3561,
        "start_time": "2022-02-14T00:12:44.924Z"
      },
      {
        "duration": 18,
        "start_time": "2022-02-14T00:12:49.729Z"
      },
      {
        "duration": 830,
        "start_time": "2022-02-14T00:13:03.000Z"
      },
      {
        "duration": 648,
        "start_time": "2022-02-14T00:13:31.634Z"
      },
      {
        "duration": 1133,
        "start_time": "2022-02-14T00:14:16.054Z"
      },
      {
        "duration": 615,
        "start_time": "2022-02-14T00:14:35.243Z"
      },
      {
        "duration": 975,
        "start_time": "2022-02-14T00:14:41.626Z"
      },
      {
        "duration": 27,
        "start_time": "2022-02-14T00:14:52.355Z"
      },
      {
        "duration": 29,
        "start_time": "2022-02-14T00:15:06.011Z"
      },
      {
        "duration": 72,
        "start_time": "2022-02-14T00:15:35.447Z"
      },
      {
        "duration": 66,
        "start_time": "2022-02-14T00:16:06.556Z"
      },
      {
        "duration": 927,
        "start_time": "2022-02-14T00:18:35.538Z"
      },
      {
        "duration": 749,
        "start_time": "2022-02-14T00:19:18.265Z"
      },
      {
        "duration": 97,
        "start_time": "2022-02-14T00:22:40.427Z"
      },
      {
        "duration": 140,
        "start_time": "2022-02-14T00:22:45.360Z"
      },
      {
        "duration": 6716,
        "start_time": "2022-02-14T00:26:13.370Z"
      },
      {
        "duration": 6781,
        "start_time": "2022-02-14T00:26:36.893Z"
      },
      {
        "duration": 313,
        "start_time": "2022-02-14T00:26:58.917Z"
      },
      {
        "duration": 9,
        "start_time": "2022-02-14T00:29:15.484Z"
      },
      {
        "duration": 18,
        "start_time": "2022-02-14T00:29:21.519Z"
      },
      {
        "duration": 18,
        "start_time": "2022-02-14T00:29:27.316Z"
      },
      {
        "duration": 21,
        "start_time": "2022-02-14T00:29:33.025Z"
      },
      {
        "duration": 301,
        "start_time": "2022-02-14T00:29:43.367Z"
      },
      {
        "duration": 19,
        "start_time": "2022-02-14T00:30:16.016Z"
      },
      {
        "duration": 18,
        "start_time": "2022-02-14T00:30:41.203Z"
      },
      {
        "duration": 347,
        "start_time": "2022-02-14T00:30:51.953Z"
      },
      {
        "duration": 285,
        "start_time": "2022-02-14T00:31:24.279Z"
      },
      {
        "duration": 320,
        "start_time": "2022-02-14T00:31:50.909Z"
      },
      {
        "duration": 6,
        "start_time": "2022-02-14T00:32:29.558Z"
      },
      {
        "duration": 5,
        "start_time": "2022-02-14T00:32:34.481Z"
      },
      {
        "duration": 5,
        "start_time": "2022-02-14T00:32:41.509Z"
      },
      {
        "duration": 3,
        "start_time": "2022-02-14T00:34:58.658Z"
      },
      {
        "duration": 252,
        "start_time": "2022-02-14T00:34:58.665Z"
      },
      {
        "duration": 40,
        "start_time": "2022-02-14T00:34:58.921Z"
      },
      {
        "duration": 65,
        "start_time": "2022-02-14T00:34:58.965Z"
      },
      {
        "duration": 705,
        "start_time": "2022-02-14T00:34:59.033Z"
      },
      {
        "duration": 23,
        "start_time": "2022-02-14T00:34:59.743Z"
      },
      {
        "duration": 732,
        "start_time": "2022-02-14T00:34:59.769Z"
      },
      {
        "duration": 168,
        "start_time": "2022-02-14T00:35:00.503Z"
      },
      {
        "duration": 23,
        "start_time": "2022-02-14T00:35:00.675Z"
      },
      {
        "duration": 123,
        "start_time": "2022-02-14T00:35:00.701Z"
      },
      {
        "duration": 19,
        "start_time": "2022-02-14T00:35:00.827Z"
      },
      {
        "duration": 23,
        "start_time": "2022-02-14T00:35:00.849Z"
      },
      {
        "duration": 22,
        "start_time": "2022-02-14T00:35:00.874Z"
      },
      {
        "duration": 52,
        "start_time": "2022-02-14T00:35:00.898Z"
      },
      {
        "duration": 13,
        "start_time": "2022-02-14T00:35:00.953Z"
      },
      {
        "duration": 11,
        "start_time": "2022-02-14T00:35:00.970Z"
      },
      {
        "duration": 39,
        "start_time": "2022-02-14T00:35:00.984Z"
      },
      {
        "duration": 253,
        "start_time": "2022-02-14T00:35:01.026Z"
      },
      {
        "duration": 5,
        "start_time": "2022-02-14T00:35:01.282Z"
      },
      {
        "duration": 363,
        "start_time": "2022-02-14T00:35:01.290Z"
      },
      {
        "duration": 142,
        "start_time": "2022-02-14T00:35:01.656Z"
      },
      {
        "duration": 93,
        "start_time": "2022-02-14T00:35:01.801Z"
      },
      {
        "duration": 9,
        "start_time": "2022-02-14T00:35:01.897Z"
      },
      {
        "duration": 26585,
        "start_time": "2022-02-14T00:35:01.908Z"
      },
      {
        "duration": 71,
        "start_time": "2022-02-14T00:35:28.495Z"
      },
      {
        "duration": 655,
        "start_time": "2022-02-14T00:35:28.568Z"
      },
      {
        "duration": 634,
        "start_time": "2022-02-14T00:35:29.228Z"
      },
      {
        "duration": 44,
        "start_time": "2022-02-14T00:35:29.865Z"
      },
      {
        "duration": 24,
        "start_time": "2022-02-14T00:35:29.923Z"
      },
      {
        "duration": 3634,
        "start_time": "2022-02-14T00:35:29.950Z"
      },
      {
        "duration": 22,
        "start_time": "2022-02-14T00:35:33.587Z"
      },
      {
        "duration": 658,
        "start_time": "2022-02-14T00:35:33.624Z"
      },
      {
        "duration": 729,
        "start_time": "2022-02-14T00:35:34.286Z"
      },
      {
        "duration": 44,
        "start_time": "2022-02-14T00:35:35.017Z"
      },
      {
        "duration": 20,
        "start_time": "2022-02-14T00:35:35.063Z"
      },
      {
        "duration": 3461,
        "start_time": "2022-02-14T00:35:35.085Z"
      },
      {
        "duration": 17,
        "start_time": "2022-02-14T00:35:38.549Z"
      },
      {
        "duration": 1040,
        "start_time": "2022-02-14T00:35:38.569Z"
      },
      {
        "duration": 1088,
        "start_time": "2022-02-14T00:35:39.613Z"
      },
      {
        "duration": 21,
        "start_time": "2022-02-14T00:35:40.703Z"
      },
      {
        "duration": 6,
        "start_time": "2022-02-14T00:35:40.727Z"
      },
      {
        "duration": 293,
        "start_time": "2022-02-14T00:35:43.533Z"
      },
      {
        "duration": 5,
        "start_time": "2022-02-14T00:35:53.380Z"
      },
      {
        "duration": 18,
        "start_time": "2022-02-14T00:36:13.358Z"
      },
      {
        "duration": 340,
        "start_time": "2022-02-14T00:37:04.272Z"
      },
      {
        "duration": 532,
        "start_time": "2022-02-14T00:38:10.056Z"
      },
      {
        "duration": 286,
        "start_time": "2022-02-14T00:38:32.397Z"
      },
      {
        "duration": 282,
        "start_time": "2022-02-14T00:38:49.617Z"
      },
      {
        "duration": 18,
        "start_time": "2022-02-14T00:39:14.174Z"
      },
      {
        "duration": 18,
        "start_time": "2022-02-14T00:39:26.185Z"
      },
      {
        "duration": 301,
        "start_time": "2022-02-14T00:39:53.564Z"
      },
      {
        "duration": 16,
        "start_time": "2022-02-14T00:40:15.303Z"
      },
      {
        "duration": 23,
        "start_time": "2022-02-14T00:40:28.977Z"
      },
      {
        "duration": 15,
        "start_time": "2022-02-14T00:41:17.871Z"
      },
      {
        "duration": 23,
        "start_time": "2022-02-14T00:41:20.332Z"
      },
      {
        "duration": 20,
        "start_time": "2022-02-14T00:41:43.446Z"
      },
      {
        "duration": 24,
        "start_time": "2022-02-14T00:41:50.168Z"
      },
      {
        "duration": 26,
        "start_time": "2022-02-14T00:42:11.047Z"
      },
      {
        "duration": 44,
        "start_time": "2022-02-14T00:42:19.571Z"
      },
      {
        "duration": 28,
        "start_time": "2022-02-14T00:45:33.973Z"
      },
      {
        "duration": 26,
        "start_time": "2022-02-14T00:45:36.007Z"
      },
      {
        "duration": 27,
        "start_time": "2022-02-14T00:45:58.058Z"
      },
      {
        "duration": 25,
        "start_time": "2022-02-14T00:46:01.269Z"
      },
      {
        "duration": 21,
        "start_time": "2022-02-14T00:46:13.477Z"
      },
      {
        "duration": 6,
        "start_time": "2022-02-14T00:47:11.899Z"
      },
      {
        "duration": 23,
        "start_time": "2022-02-14T00:47:22.176Z"
      },
      {
        "duration": 853,
        "start_time": "2022-02-14T00:50:20.486Z"
      },
      {
        "duration": 4,
        "start_time": "2022-02-14T00:50:24.579Z"
      },
      {
        "duration": 20,
        "start_time": "2022-02-14T00:50:27.629Z"
      },
      {
        "duration": 955,
        "start_time": "2022-02-14T00:51:17.444Z"
      },
      {
        "duration": 5,
        "start_time": "2022-02-14T00:51:19.865Z"
      },
      {
        "duration": 22,
        "start_time": "2022-02-14T00:51:21.607Z"
      },
      {
        "duration": 4,
        "start_time": "2022-02-14T00:51:29.063Z"
      },
      {
        "duration": 204,
        "start_time": "2022-02-14T00:51:29.075Z"
      },
      {
        "duration": 26,
        "start_time": "2022-02-14T00:51:29.282Z"
      },
      {
        "duration": 37,
        "start_time": "2022-02-14T00:51:29.323Z"
      },
      {
        "duration": 423,
        "start_time": "2022-02-14T00:51:29.364Z"
      },
      {
        "duration": 15,
        "start_time": "2022-02-14T00:51:29.790Z"
      },
      {
        "duration": 415,
        "start_time": "2022-02-14T00:51:29.823Z"
      },
      {
        "duration": 171,
        "start_time": "2022-02-14T00:51:30.241Z"
      },
      {
        "duration": 29,
        "start_time": "2022-02-14T00:51:30.415Z"
      },
      {
        "duration": 129,
        "start_time": "2022-02-14T00:51:30.449Z"
      },
      {
        "duration": 20,
        "start_time": "2022-02-14T00:51:30.583Z"
      },
      {
        "duration": 39,
        "start_time": "2022-02-14T00:51:30.605Z"
      },
      {
        "duration": 33,
        "start_time": "2022-02-14T00:51:30.646Z"
      },
      {
        "duration": 33,
        "start_time": "2022-02-14T00:51:30.682Z"
      },
      {
        "duration": 56,
        "start_time": "2022-02-14T00:51:30.717Z"
      },
      {
        "duration": 7,
        "start_time": "2022-02-14T00:51:30.776Z"
      },
      {
        "duration": 20,
        "start_time": "2022-02-14T00:51:30.785Z"
      },
      {
        "duration": 168,
        "start_time": "2022-02-14T00:51:30.807Z"
      },
      {
        "duration": 5,
        "start_time": "2022-02-14T00:51:30.977Z"
      },
      {
        "duration": 281,
        "start_time": "2022-02-14T00:51:30.985Z"
      },
      {
        "duration": 113,
        "start_time": "2022-02-14T00:51:31.268Z"
      },
      {
        "duration": 74,
        "start_time": "2022-02-14T00:51:31.384Z"
      },
      {
        "duration": 8,
        "start_time": "2022-02-14T00:51:31.460Z"
      },
      {
        "duration": 21417,
        "start_time": "2022-02-14T00:51:31.472Z"
      },
      {
        "duration": 63,
        "start_time": "2022-02-14T00:51:52.892Z"
      },
      {
        "duration": 16,
        "start_time": "2022-02-14T00:51:52.958Z"
      },
      {
        "duration": 649,
        "start_time": "2022-02-14T00:51:52.977Z"
      },
      {
        "duration": 623,
        "start_time": "2022-02-14T00:51:53.631Z"
      },
      {
        "duration": 70,
        "start_time": "2022-02-14T00:51:54.258Z"
      },
      {
        "duration": 28,
        "start_time": "2022-02-14T00:51:54.330Z"
      },
      {
        "duration": 5408,
        "start_time": "2022-02-14T00:51:54.361Z"
      },
      {
        "duration": 29,
        "start_time": "2022-02-14T00:51:59.773Z"
      },
      {
        "duration": 667,
        "start_time": "2022-02-14T00:51:59.804Z"
      },
      {
        "duration": 745,
        "start_time": "2022-02-14T00:52:00.473Z"
      },
      {
        "duration": 46,
        "start_time": "2022-02-14T00:52:01.224Z"
      },
      {
        "duration": 19,
        "start_time": "2022-02-14T00:52:01.273Z"
      },
      {
        "duration": 3424,
        "start_time": "2022-02-14T00:52:01.294Z"
      },
      {
        "duration": 20,
        "start_time": "2022-02-14T00:52:04.724Z"
      },
      {
        "duration": 651,
        "start_time": "2022-02-14T00:52:04.747Z"
      },
      {
        "duration": 659,
        "start_time": "2022-02-14T00:52:05.400Z"
      },
      {
        "duration": 9,
        "start_time": "2022-02-14T00:52:06.063Z"
      },
      {
        "duration": 52,
        "start_time": "2022-02-14T00:52:06.075Z"
      },
      {
        "duration": 857,
        "start_time": "2022-02-14T00:52:06.130Z"
      },
      {
        "duration": 6,
        "start_time": "2022-02-14T00:52:06.990Z"
      },
      {
        "duration": 21,
        "start_time": "2022-02-14T00:52:09.202Z"
      },
      {
        "duration": 883,
        "start_time": "2022-02-14T00:52:47.431Z"
      },
      {
        "duration": 5,
        "start_time": "2022-02-14T00:52:50.190Z"
      },
      {
        "duration": 22,
        "start_time": "2022-02-14T00:52:52.550Z"
      },
      {
        "duration": 343,
        "start_time": "2022-02-14T00:53:36.646Z"
      },
      {
        "duration": 352,
        "start_time": "2022-02-14T00:53:41.418Z"
      },
      {
        "duration": 7572,
        "start_time": "2022-02-14T00:55:51.714Z"
      },
      {
        "duration": 22,
        "start_time": "2022-02-14T00:56:09.449Z"
      },
      {
        "duration": 324,
        "start_time": "2022-02-14T00:56:18.384Z"
      },
      {
        "duration": 299,
        "start_time": "2022-02-14T00:56:21.938Z"
      },
      {
        "duration": 309,
        "start_time": "2022-02-14T00:57:01.540Z"
      },
      {
        "duration": 841,
        "start_time": "2022-02-14T00:57:13.431Z"
      },
      {
        "duration": 402,
        "start_time": "2022-02-14T00:57:26.553Z"
      },
      {
        "duration": 456,
        "start_time": "2022-02-14T00:57:53.220Z"
      },
      {
        "duration": 612,
        "start_time": "2022-02-14T00:58:06.264Z"
      },
      {
        "duration": 456,
        "start_time": "2022-02-14T00:58:12.991Z"
      },
      {
        "duration": 362,
        "start_time": "2022-02-14T01:00:00.347Z"
      },
      {
        "duration": 340,
        "start_time": "2022-02-14T01:00:05.537Z"
      },
      {
        "duration": 324,
        "start_time": "2022-02-14T01:01:17.133Z"
      },
      {
        "duration": 368,
        "start_time": "2022-02-14T01:01:25.262Z"
      },
      {
        "duration": 327,
        "start_time": "2022-02-15T18:41:22.018Z"
      },
      {
        "duration": 980,
        "start_time": "2022-02-15T18:41:27.263Z"
      },
      {
        "duration": 335,
        "start_time": "2022-02-15T18:41:28.246Z"
      },
      {
        "duration": 33,
        "start_time": "2022-02-15T18:41:28.585Z"
      },
      {
        "duration": 74,
        "start_time": "2022-02-15T18:41:28.621Z"
      },
      {
        "duration": 564,
        "start_time": "2022-02-15T18:41:28.698Z"
      },
      {
        "duration": 25,
        "start_time": "2022-02-15T18:41:29.265Z"
      },
      {
        "duration": 494,
        "start_time": "2022-02-15T18:41:29.294Z"
      },
      {
        "duration": 242,
        "start_time": "2022-02-15T18:41:29.791Z"
      },
      {
        "duration": 48,
        "start_time": "2022-02-15T18:41:30.038Z"
      },
      {
        "duration": 149,
        "start_time": "2022-02-15T18:41:30.091Z"
      },
      {
        "duration": 28,
        "start_time": "2022-02-15T18:41:30.243Z"
      },
      {
        "duration": 28,
        "start_time": "2022-02-15T18:41:30.274Z"
      },
      {
        "duration": 90,
        "start_time": "2022-02-15T18:41:30.305Z"
      },
      {
        "duration": 49,
        "start_time": "2022-02-15T18:41:30.399Z"
      },
      {
        "duration": 12,
        "start_time": "2022-02-15T18:41:30.450Z"
      },
      {
        "duration": 15,
        "start_time": "2022-02-15T18:41:30.465Z"
      },
      {
        "duration": 14,
        "start_time": "2022-02-15T18:41:30.483Z"
      },
      {
        "duration": 198,
        "start_time": "2022-02-15T18:41:30.500Z"
      },
      {
        "duration": 6,
        "start_time": "2022-02-15T18:41:30.701Z"
      },
      {
        "duration": 374,
        "start_time": "2022-02-15T18:41:30.710Z"
      },
      {
        "duration": 155,
        "start_time": "2022-02-15T18:41:31.091Z"
      },
      {
        "duration": 89,
        "start_time": "2022-02-15T18:41:31.248Z"
      },
      {
        "duration": 9,
        "start_time": "2022-02-15T18:41:31.339Z"
      },
      {
        "duration": 23741,
        "start_time": "2022-02-15T18:41:31.351Z"
      },
      {
        "duration": 55,
        "start_time": "2022-02-15T18:41:55.094Z"
      },
      {
        "duration": 39,
        "start_time": "2022-02-15T18:41:55.151Z"
      },
      {
        "duration": 49,
        "start_time": "2022-02-15T18:41:55.195Z"
      },
      {
        "duration": 52,
        "start_time": "2022-02-15T18:41:55.246Z"
      },
      {
        "duration": 3491,
        "start_time": "2022-02-15T18:41:55.300Z"
      },
      {
        "duration": 19,
        "start_time": "2022-02-15T18:41:58.793Z"
      },
      {
        "duration": 785,
        "start_time": "2022-02-15T18:41:58.815Z"
      },
      {
        "duration": 728,
        "start_time": "2022-02-15T18:41:59.603Z"
      },
      {
        "duration": 68,
        "start_time": "2022-02-15T18:42:00.333Z"
      },
      {
        "duration": 23,
        "start_time": "2022-02-15T18:42:00.404Z"
      },
      {
        "duration": 3998,
        "start_time": "2022-02-15T18:42:00.429Z"
      },
      {
        "duration": 18,
        "start_time": "2022-02-15T18:42:04.430Z"
      },
      {
        "duration": 824,
        "start_time": "2022-02-15T18:42:04.451Z"
      },
      {
        "duration": 734,
        "start_time": "2022-02-15T18:42:05.279Z"
      },
      {
        "duration": 9,
        "start_time": "2022-02-15T18:42:06.016Z"
      },
      {
        "duration": 56,
        "start_time": "2022-02-15T18:42:06.028Z"
      },
      {
        "duration": 937,
        "start_time": "2022-02-15T18:42:06.089Z"
      },
      {
        "duration": 6,
        "start_time": "2022-02-15T18:42:07.029Z"
      },
      {
        "duration": 411,
        "start_time": "2022-02-15T18:42:07.037Z"
      },
      {
        "duration": 767,
        "start_time": "2022-02-15T18:42:07.451Z"
      },
      {
        "duration": 15,
        "start_time": "2022-02-15T18:42:11.991Z"
      },
      {
        "duration": 15,
        "start_time": "2022-02-15T18:42:43.744Z"
      },
      {
        "duration": 13,
        "start_time": "2022-02-15T18:51:17.872Z"
      },
      {
        "duration": 12,
        "start_time": "2022-02-15T18:52:21.029Z"
      },
      {
        "duration": 12,
        "start_time": "2022-02-15T18:52:56.811Z"
      },
      {
        "duration": 13,
        "start_time": "2022-02-15T18:53:50.987Z"
      },
      {
        "duration": 122,
        "start_time": "2022-02-15T19:02:47.618Z"
      },
      {
        "duration": 14,
        "start_time": "2022-02-15T19:02:53.393Z"
      },
      {
        "duration": 12,
        "start_time": "2022-02-15T19:03:07.144Z"
      },
      {
        "duration": 1020,
        "start_time": "2022-02-15T19:03:55.625Z"
      },
      {
        "duration": 651,
        "start_time": "2022-02-15T19:04:11.147Z"
      },
      {
        "duration": 11,
        "start_time": "2022-02-15T19:06:07.475Z"
      },
      {
        "duration": 10,
        "start_time": "2022-02-15T19:06:45.489Z"
      },
      {
        "duration": 9,
        "start_time": "2022-02-15T19:06:49.068Z"
      },
      {
        "duration": 22,
        "start_time": "2022-02-15T19:07:44.623Z"
      },
      {
        "duration": 22,
        "start_time": "2022-02-15T19:07:59.016Z"
      },
      {
        "duration": 15,
        "start_time": "2022-02-15T19:14:14.266Z"
      },
      {
        "duration": 16,
        "start_time": "2022-02-15T19:14:23.662Z"
      },
      {
        "duration": 13,
        "start_time": "2022-02-15T19:17:57.365Z"
      },
      {
        "duration": 15,
        "start_time": "2022-02-15T19:18:22.504Z"
      },
      {
        "duration": 11,
        "start_time": "2022-02-15T19:18:51.818Z"
      },
      {
        "duration": 13,
        "start_time": "2022-02-15T19:18:54.194Z"
      },
      {
        "duration": 588,
        "start_time": "2022-02-15T20:18:10.610Z"
      },
      {
        "duration": 17,
        "start_time": "2022-02-15T20:18:20.955Z"
      },
      {
        "duration": 12,
        "start_time": "2022-02-15T20:18:33.106Z"
      },
      {
        "duration": 405,
        "start_time": "2022-02-15T20:18:56.425Z"
      },
      {
        "duration": 15,
        "start_time": "2022-02-15T20:19:04.243Z"
      },
      {
        "duration": 11,
        "start_time": "2022-02-15T20:20:03.357Z"
      },
      {
        "duration": 354,
        "start_time": "2022-02-15T20:20:55.548Z"
      },
      {
        "duration": 384,
        "start_time": "2022-02-15T20:21:04.754Z"
      },
      {
        "duration": 13,
        "start_time": "2022-02-15T20:21:57.688Z"
      },
      {
        "duration": 977,
        "start_time": "2022-02-15T20:22:30.828Z"
      },
      {
        "duration": 10,
        "start_time": "2022-02-15T20:22:35.092Z"
      },
      {
        "duration": 5,
        "start_time": "2022-02-15T20:22:39.760Z"
      },
      {
        "duration": 12,
        "start_time": "2022-02-15T20:22:41.987Z"
      },
      {
        "duration": 459,
        "start_time": "2022-02-15T20:22:49.851Z"
      },
      {
        "duration": 692,
        "start_time": "2022-02-15T20:22:59.922Z"
      },
      {
        "duration": 14,
        "start_time": "2022-02-15T20:23:06.058Z"
      },
      {
        "duration": 14,
        "start_time": "2022-02-15T20:23:09.486Z"
      },
      {
        "duration": 10,
        "start_time": "2022-02-15T20:23:12.325Z"
      },
      {
        "duration": 11,
        "start_time": "2022-02-15T20:23:15.101Z"
      },
      {
        "duration": 10,
        "start_time": "2022-02-15T20:23:17.487Z"
      },
      {
        "duration": 10,
        "start_time": "2022-02-15T20:23:20.445Z"
      },
      {
        "duration": 688,
        "start_time": "2022-02-15T20:23:23.685Z"
      },
      {
        "duration": 16,
        "start_time": "2022-02-15T20:23:30.142Z"
      },
      {
        "duration": 15,
        "start_time": "2022-02-15T20:23:32.845Z"
      },
      {
        "duration": 10,
        "start_time": "2022-02-15T20:23:35.893Z"
      },
      {
        "duration": 767,
        "start_time": "2022-02-15T20:23:42.768Z"
      },
      {
        "duration": 9,
        "start_time": "2022-02-15T20:23:50.816Z"
      },
      {
        "duration": 14,
        "start_time": "2022-02-15T20:23:54.523Z"
      },
      {
        "duration": 15,
        "start_time": "2022-02-15T20:29:14.841Z"
      },
      {
        "duration": 37,
        "start_time": "2022-02-15T20:30:39.910Z"
      },
      {
        "duration": 41,
        "start_time": "2022-02-15T20:31:06.638Z"
      },
      {
        "duration": 21,
        "start_time": "2022-02-15T20:32:11.861Z"
      },
      {
        "duration": 15,
        "start_time": "2022-02-15T20:32:26.294Z"
      },
      {
        "duration": 14,
        "start_time": "2022-02-15T20:32:35.386Z"
      },
      {
        "duration": 52,
        "start_time": "2022-02-15T21:48:24.802Z"
      },
      {
        "duration": 33,
        "start_time": "2022-02-15T21:59:26.246Z"
      },
      {
        "duration": 80,
        "start_time": "2022-02-15T21:59:31.832Z"
      },
      {
        "duration": 75,
        "start_time": "2022-02-15T22:00:29.517Z"
      },
      {
        "duration": 78,
        "start_time": "2022-02-15T22:00:49.780Z"
      },
      {
        "duration": 80,
        "start_time": "2022-02-15T22:01:08.812Z"
      },
      {
        "duration": 82,
        "start_time": "2022-02-15T22:01:15.972Z"
      },
      {
        "duration": 67,
        "start_time": "2022-02-15T22:01:24.884Z"
      },
      {
        "duration": 60,
        "start_time": "2022-02-15T22:01:36.311Z"
      },
      {
        "duration": 52,
        "start_time": "2022-02-15T22:01:43.476Z"
      },
      {
        "duration": 23,
        "start_time": "2022-02-15T22:06:26.223Z"
      },
      {
        "duration": 16,
        "start_time": "2022-02-15T22:06:52.940Z"
      },
      {
        "duration": 118,
        "start_time": "2022-02-15T22:07:25.123Z"
      },
      {
        "duration": 14,
        "start_time": "2022-02-15T22:07:35.925Z"
      },
      {
        "duration": 256,
        "start_time": "2022-02-15T22:07:51.737Z"
      },
      {
        "duration": 82,
        "start_time": "2022-02-15T22:07:57.038Z"
      },
      {
        "duration": 18,
        "start_time": "2022-02-15T22:08:24.661Z"
      },
      {
        "duration": 57,
        "start_time": "2022-02-15T22:15:40.688Z"
      },
      {
        "duration": 59,
        "start_time": "2022-02-15T22:16:01.849Z"
      },
      {
        "duration": 59,
        "start_time": "2022-02-15T22:16:13.762Z"
      },
      {
        "duration": 319,
        "start_time": "2022-02-15T22:17:59.798Z"
      },
      {
        "duration": 90,
        "start_time": "2022-02-15T22:18:15.189Z"
      },
      {
        "duration": 56,
        "start_time": "2022-02-15T22:18:43.126Z"
      },
      {
        "duration": 92,
        "start_time": "2022-02-15T22:19:30.283Z"
      },
      {
        "duration": 94,
        "start_time": "2022-02-15T22:22:22.981Z"
      },
      {
        "duration": 320,
        "start_time": "2022-02-15T22:26:55.142Z"
      },
      {
        "duration": 71,
        "start_time": "2022-02-15T22:27:10.550Z"
      },
      {
        "duration": 40,
        "start_time": "2022-02-15T22:27:24.629Z"
      },
      {
        "duration": 4874,
        "start_time": "2022-02-15T22:27:42.406Z"
      },
      {
        "duration": 91,
        "start_time": "2022-02-15T22:29:40.790Z"
      },
      {
        "duration": 95,
        "start_time": "2022-02-15T22:31:29.467Z"
      },
      {
        "duration": 96,
        "start_time": "2022-02-15T22:31:54.192Z"
      },
      {
        "duration": 10,
        "start_time": "2022-02-15T22:37:36.579Z"
      },
      {
        "duration": 26,
        "start_time": "2022-02-15T22:37:42.913Z"
      },
      {
        "duration": 32,
        "start_time": "2022-02-15T22:45:49.831Z"
      },
      {
        "duration": 30,
        "start_time": "2022-02-15T22:46:48.232Z"
      },
      {
        "duration": 15,
        "start_time": "2022-02-15T22:51:12.815Z"
      },
      {
        "duration": 307,
        "start_time": "2022-02-15T22:52:42.872Z"
      },
      {
        "duration": 3,
        "start_time": "2022-02-15T22:52:50.174Z"
      },
      {
        "duration": 331,
        "start_time": "2022-02-15T22:52:50.181Z"
      },
      {
        "duration": 55,
        "start_time": "2022-02-15T22:52:50.516Z"
      },
      {
        "duration": 38,
        "start_time": "2022-02-15T22:52:50.573Z"
      },
      {
        "duration": 428,
        "start_time": "2022-02-15T22:52:50.614Z"
      },
      {
        "duration": 26,
        "start_time": "2022-02-15T22:52:51.045Z"
      },
      {
        "duration": 426,
        "start_time": "2022-02-15T22:52:51.073Z"
      },
      {
        "duration": 199,
        "start_time": "2022-02-15T22:52:51.502Z"
      },
      {
        "duration": 24,
        "start_time": "2022-02-15T22:52:51.704Z"
      },
      {
        "duration": 139,
        "start_time": "2022-02-15T22:52:51.730Z"
      },
      {
        "duration": 19,
        "start_time": "2022-02-15T22:52:51.871Z"
      },
      {
        "duration": 23,
        "start_time": "2022-02-15T22:52:51.893Z"
      },
      {
        "duration": 12,
        "start_time": "2022-02-15T22:52:51.918Z"
      },
      {
        "duration": 50,
        "start_time": "2022-02-15T22:52:51.931Z"
      },
      {
        "duration": 8,
        "start_time": "2022-02-15T22:52:51.983Z"
      },
      {
        "duration": 22,
        "start_time": "2022-02-15T22:52:51.994Z"
      },
      {
        "duration": 10,
        "start_time": "2022-02-15T22:52:52.018Z"
      },
      {
        "duration": 178,
        "start_time": "2022-02-15T22:52:52.030Z"
      },
      {
        "duration": 34,
        "start_time": "2022-02-15T22:52:52.210Z"
      },
      {
        "duration": 5,
        "start_time": "2022-02-15T22:52:52.247Z"
      },
      {
        "duration": 289,
        "start_time": "2022-02-15T22:52:54.678Z"
      },
      {
        "duration": 277,
        "start_time": "2022-02-15T22:55:05.934Z"
      },
      {
        "duration": 283,
        "start_time": "2022-02-15T22:55:11.493Z"
      },
      {
        "duration": 275,
        "start_time": "2022-02-15T22:55:35.589Z"
      },
      {
        "duration": 266,
        "start_time": "2022-02-15T22:55:54.518Z"
      },
      {
        "duration": 264,
        "start_time": "2022-02-15T22:56:47.787Z"
      },
      {
        "duration": 323,
        "start_time": "2022-02-15T22:58:01.230Z"
      },
      {
        "duration": 1313,
        "start_time": "2022-02-15T22:58:57.602Z"
      },
      {
        "duration": 772,
        "start_time": "2022-02-15T23:01:31.705Z"
      },
      {
        "duration": 233,
        "start_time": "2022-02-15T23:01:32.480Z"
      },
      {
        "duration": 28,
        "start_time": "2022-02-15T23:01:32.716Z"
      },
      {
        "duration": 54,
        "start_time": "2022-02-15T23:01:32.747Z"
      },
      {
        "duration": 521,
        "start_time": "2022-02-15T23:01:32.803Z"
      },
      {
        "duration": 19,
        "start_time": "2022-02-15T23:01:33.326Z"
      },
      {
        "duration": 430,
        "start_time": "2022-02-15T23:01:33.347Z"
      },
      {
        "duration": 190,
        "start_time": "2022-02-15T23:01:33.780Z"
      },
      {
        "duration": 24,
        "start_time": "2022-02-15T23:01:33.976Z"
      },
      {
        "duration": 137,
        "start_time": "2022-02-15T23:01:34.003Z"
      },
      {
        "duration": 29,
        "start_time": "2022-02-15T23:01:34.143Z"
      },
      {
        "duration": 23,
        "start_time": "2022-02-15T23:01:34.174Z"
      },
      {
        "duration": 13,
        "start_time": "2022-02-15T23:01:34.199Z"
      },
      {
        "duration": 35,
        "start_time": "2022-02-15T23:01:34.214Z"
      },
      {
        "duration": 79,
        "start_time": "2022-02-15T23:01:34.251Z"
      },
      {
        "duration": 19,
        "start_time": "2022-02-15T23:01:34.332Z"
      },
      {
        "duration": 23,
        "start_time": "2022-02-15T23:01:34.353Z"
      },
      {
        "duration": 173,
        "start_time": "2022-02-15T23:01:34.378Z"
      },
      {
        "duration": 44,
        "start_time": "2022-02-15T23:01:34.553Z"
      },
      {
        "duration": 5,
        "start_time": "2022-02-15T23:01:34.600Z"
      },
      {
        "duration": 337,
        "start_time": "2022-02-15T23:03:43.855Z"
      },
      {
        "duration": 751,
        "start_time": "2022-02-15T23:03:52.466Z"
      },
      {
        "duration": 221,
        "start_time": "2022-02-15T23:03:53.220Z"
      },
      {
        "duration": 41,
        "start_time": "2022-02-15T23:03:53.444Z"
      },
      {
        "duration": 50,
        "start_time": "2022-02-15T23:03:53.489Z"
      },
      {
        "duration": 523,
        "start_time": "2022-02-15T23:03:53.541Z"
      },
      {
        "duration": 20,
        "start_time": "2022-02-15T23:03:54.070Z"
      },
      {
        "duration": 432,
        "start_time": "2022-02-15T23:03:54.093Z"
      },
      {
        "duration": 195,
        "start_time": "2022-02-15T23:03:54.528Z"
      },
      {
        "duration": 23,
        "start_time": "2022-02-15T23:03:54.729Z"
      },
      {
        "duration": 127,
        "start_time": "2022-02-15T23:03:54.771Z"
      },
      {
        "duration": 22,
        "start_time": "2022-02-15T23:03:54.902Z"
      },
      {
        "duration": 44,
        "start_time": "2022-02-15T23:03:54.927Z"
      },
      {
        "duration": 9,
        "start_time": "2022-02-15T23:03:54.974Z"
      },
      {
        "duration": 36,
        "start_time": "2022-02-15T23:03:54.986Z"
      },
      {
        "duration": 80,
        "start_time": "2022-02-15T23:03:55.024Z"
      },
      {
        "duration": 19,
        "start_time": "2022-02-15T23:03:55.107Z"
      },
      {
        "duration": 10,
        "start_time": "2022-02-15T23:03:55.128Z"
      },
      {
        "duration": 184,
        "start_time": "2022-02-15T23:03:55.140Z"
      },
      {
        "duration": 48,
        "start_time": "2022-02-15T23:03:55.326Z"
      },
      {
        "duration": 5,
        "start_time": "2022-02-15T23:03:55.377Z"
      },
      {
        "duration": 313,
        "start_time": "2022-02-15T23:04:05.539Z"
      },
      {
        "duration": 288,
        "start_time": "2022-02-15T23:05:48.393Z"
      },
      {
        "duration": 266,
        "start_time": "2022-02-15T23:05:58.150Z"
      },
      {
        "duration": 571,
        "start_time": "2022-02-15T23:06:31.850Z"
      },
      {
        "duration": 620,
        "start_time": "2022-02-15T23:06:50.456Z"
      },
      {
        "duration": 1041,
        "start_time": "2022-02-20T23:11:18.250Z"
      },
      {
        "duration": 219,
        "start_time": "2022-02-20T23:11:19.294Z"
      },
      {
        "duration": 27,
        "start_time": "2022-02-20T23:11:19.517Z"
      },
      {
        "duration": 36,
        "start_time": "2022-02-20T23:11:19.561Z"
      },
      {
        "duration": 531,
        "start_time": "2022-02-20T23:11:19.599Z"
      },
      {
        "duration": 30,
        "start_time": "2022-02-20T23:11:20.132Z"
      },
      {
        "duration": 430,
        "start_time": "2022-02-20T23:11:20.164Z"
      },
      {
        "duration": 193,
        "start_time": "2022-02-20T23:11:20.597Z"
      },
      {
        "duration": 22,
        "start_time": "2022-02-20T23:11:20.793Z"
      },
      {
        "duration": 130,
        "start_time": "2022-02-20T23:11:20.817Z"
      },
      {
        "duration": 27,
        "start_time": "2022-02-20T23:11:20.950Z"
      },
      {
        "duration": 21,
        "start_time": "2022-02-20T23:11:20.979Z"
      },
      {
        "duration": 79,
        "start_time": "2022-02-20T23:11:21.002Z"
      },
      {
        "duration": 37,
        "start_time": "2022-02-20T23:11:21.083Z"
      },
      {
        "duration": 8,
        "start_time": "2022-02-20T23:11:21.123Z"
      },
      {
        "duration": 14,
        "start_time": "2022-02-20T23:11:21.133Z"
      },
      {
        "duration": 17,
        "start_time": "2022-02-20T23:11:21.150Z"
      },
      {
        "duration": 173,
        "start_time": "2022-02-20T23:11:21.170Z"
      },
      {
        "duration": 46,
        "start_time": "2022-02-20T23:11:21.346Z"
      },
      {
        "duration": 5,
        "start_time": "2022-02-20T23:11:21.395Z"
      },
      {
        "duration": 739,
        "start_time": "2022-02-20T23:11:21.402Z"
      },
      {
        "duration": -1864,
        "start_time": "2022-02-20T23:11:24.010Z"
      },
      {
        "duration": -1874,
        "start_time": "2022-02-20T23:11:24.022Z"
      },
      {
        "duration": -1883,
        "start_time": "2022-02-20T23:11:24.032Z"
      },
      {
        "duration": -1890,
        "start_time": "2022-02-20T23:11:24.041Z"
      },
      {
        "duration": -1900,
        "start_time": "2022-02-20T23:11:24.052Z"
      },
      {
        "duration": -1907,
        "start_time": "2022-02-20T23:11:24.061Z"
      },
      {
        "duration": -1913,
        "start_time": "2022-02-20T23:11:24.068Z"
      },
      {
        "duration": -1916,
        "start_time": "2022-02-20T23:11:24.073Z"
      },
      {
        "duration": -1922,
        "start_time": "2022-02-20T23:11:24.080Z"
      },
      {
        "duration": -1924,
        "start_time": "2022-02-20T23:11:24.084Z"
      },
      {
        "duration": -1927,
        "start_time": "2022-02-20T23:11:24.088Z"
      },
      {
        "duration": -1930,
        "start_time": "2022-02-20T23:11:24.092Z"
      },
      {
        "duration": -1940,
        "start_time": "2022-02-20T23:11:24.104Z"
      },
      {
        "duration": -1944,
        "start_time": "2022-02-20T23:11:24.109Z"
      },
      {
        "duration": -1948,
        "start_time": "2022-02-20T23:11:24.114Z"
      },
      {
        "duration": -1954,
        "start_time": "2022-02-20T23:11:24.121Z"
      },
      {
        "duration": -1958,
        "start_time": "2022-02-20T23:11:24.127Z"
      },
      {
        "duration": -1962,
        "start_time": "2022-02-20T23:11:24.132Z"
      },
      {
        "duration": -1966,
        "start_time": "2022-02-20T23:11:24.137Z"
      },
      {
        "duration": -1969,
        "start_time": "2022-02-20T23:11:24.142Z"
      },
      {
        "duration": -1974,
        "start_time": "2022-02-20T23:11:24.148Z"
      },
      {
        "duration": -1978,
        "start_time": "2022-02-20T23:11:24.153Z"
      },
      {
        "duration": -1982,
        "start_time": "2022-02-20T23:11:24.159Z"
      },
      {
        "duration": -1986,
        "start_time": "2022-02-20T23:11:24.165Z"
      },
      {
        "duration": -1990,
        "start_time": "2022-02-20T23:11:24.170Z"
      },
      {
        "duration": -1998,
        "start_time": "2022-02-20T23:11:24.179Z"
      },
      {
        "duration": -2000,
        "start_time": "2022-02-20T23:11:24.183Z"
      },
      {
        "duration": -2003,
        "start_time": "2022-02-20T23:11:24.187Z"
      },
      {
        "duration": -2004,
        "start_time": "2022-02-20T23:11:24.190Z"
      },
      {
        "duration": -2006,
        "start_time": "2022-02-20T23:11:24.193Z"
      },
      {
        "duration": -2008,
        "start_time": "2022-02-20T23:11:24.197Z"
      },
      {
        "duration": -2010,
        "start_time": "2022-02-20T23:11:24.200Z"
      },
      {
        "duration": -2020,
        "start_time": "2022-02-20T23:11:24.211Z"
      },
      {
        "duration": -2022,
        "start_time": "2022-02-20T23:11:24.214Z"
      },
      {
        "duration": -2023,
        "start_time": "2022-02-20T23:11:24.217Z"
      },
      {
        "duration": -2025,
        "start_time": "2022-02-20T23:11:24.221Z"
      },
      {
        "duration": -2027,
        "start_time": "2022-02-20T23:11:24.224Z"
      },
      {
        "duration": -2029,
        "start_time": "2022-02-20T23:11:24.227Z"
      },
      {
        "duration": -2030,
        "start_time": "2022-02-20T23:11:24.230Z"
      },
      {
        "duration": -1972,
        "start_time": "2022-02-20T23:11:24.233Z"
      },
      {
        "duration": -1973,
        "start_time": "2022-02-20T23:11:24.236Z"
      },
      {
        "duration": -1975,
        "start_time": "2022-02-20T23:11:24.239Z"
      },
      {
        "duration": -1976,
        "start_time": "2022-02-20T23:11:24.242Z"
      },
      {
        "duration": -1978,
        "start_time": "2022-02-20T23:11:24.245Z"
      },
      {
        "duration": -1979,
        "start_time": "2022-02-20T23:11:24.248Z"
      },
      {
        "duration": -1981,
        "start_time": "2022-02-20T23:11:24.251Z"
      },
      {
        "duration": -1984,
        "start_time": "2022-02-20T23:11:24.255Z"
      },
      {
        "duration": -1984,
        "start_time": "2022-02-20T23:11:24.257Z"
      },
      {
        "duration": -1987,
        "start_time": "2022-02-20T23:11:24.261Z"
      },
      {
        "duration": -1991,
        "start_time": "2022-02-20T23:11:24.266Z"
      },
      {
        "duration": -1994,
        "start_time": "2022-02-20T23:11:24.271Z"
      },
      {
        "duration": -1997,
        "start_time": "2022-02-20T23:11:24.275Z"
      },
      {
        "duration": 836,
        "start_time": "2022-02-20T23:11:39.905Z"
      },
      {
        "duration": 3,
        "start_time": "2022-02-20T23:11:57.425Z"
      },
      {
        "duration": 252,
        "start_time": "2022-02-20T23:11:57.435Z"
      },
      {
        "duration": 28,
        "start_time": "2022-02-20T23:11:57.690Z"
      },
      {
        "duration": 72,
        "start_time": "2022-02-20T23:11:57.721Z"
      },
      {
        "duration": 409,
        "start_time": "2022-02-20T23:11:57.796Z"
      },
      {
        "duration": 15,
        "start_time": "2022-02-20T23:11:58.208Z"
      },
      {
        "duration": 426,
        "start_time": "2022-02-20T23:11:58.225Z"
      },
      {
        "duration": 178,
        "start_time": "2022-02-20T23:11:58.654Z"
      },
      {
        "duration": 32,
        "start_time": "2022-02-20T23:11:58.835Z"
      },
      {
        "duration": 132,
        "start_time": "2022-02-20T23:11:58.871Z"
      },
      {
        "duration": 20,
        "start_time": "2022-02-20T23:11:59.006Z"
      },
      {
        "duration": 33,
        "start_time": "2022-02-20T23:11:59.029Z"
      },
      {
        "duration": 8,
        "start_time": "2022-02-20T23:11:59.065Z"
      },
      {
        "duration": 31,
        "start_time": "2022-02-20T23:11:59.076Z"
      },
      {
        "duration": 9,
        "start_time": "2022-02-20T23:11:59.109Z"
      },
      {
        "duration": 43,
        "start_time": "2022-02-20T23:11:59.121Z"
      },
      {
        "duration": 10,
        "start_time": "2022-02-20T23:11:59.167Z"
      },
      {
        "duration": 176,
        "start_time": "2022-02-20T23:11:59.180Z"
      },
      {
        "duration": 39,
        "start_time": "2022-02-20T23:11:59.362Z"
      },
      {
        "duration": 5,
        "start_time": "2022-02-20T23:11:59.403Z"
      },
      {
        "duration": 776,
        "start_time": "2022-02-20T23:11:59.410Z"
      },
      {
        "duration": -1741,
        "start_time": "2022-02-20T23:12:01.933Z"
      },
      {
        "duration": -1749,
        "start_time": "2022-02-20T23:12:01.943Z"
      },
      {
        "duration": -1758,
        "start_time": "2022-02-20T23:12:01.953Z"
      },
      {
        "duration": -1765,
        "start_time": "2022-02-20T23:12:01.962Z"
      },
      {
        "duration": -1773,
        "start_time": "2022-02-20T23:12:01.971Z"
      },
      {
        "duration": -1781,
        "start_time": "2022-02-20T23:12:01.981Z"
      },
      {
        "duration": -1787,
        "start_time": "2022-02-20T23:12:01.989Z"
      },
      {
        "duration": -1795,
        "start_time": "2022-02-20T23:12:01.998Z"
      },
      {
        "duration": -1801,
        "start_time": "2022-02-20T23:12:02.006Z"
      },
      {
        "duration": -1809,
        "start_time": "2022-02-20T23:12:02.016Z"
      },
      {
        "duration": -1834,
        "start_time": "2022-02-20T23:12:02.042Z"
      },
      {
        "duration": -1843,
        "start_time": "2022-02-20T23:12:02.053Z"
      },
      {
        "duration": -1851,
        "start_time": "2022-02-20T23:12:02.062Z"
      },
      {
        "duration": -1858,
        "start_time": "2022-02-20T23:12:02.071Z"
      },
      {
        "duration": -1865,
        "start_time": "2022-02-20T23:12:02.080Z"
      },
      {
        "duration": -1874,
        "start_time": "2022-02-20T23:12:02.090Z"
      },
      {
        "duration": -1883,
        "start_time": "2022-02-20T23:12:02.101Z"
      },
      {
        "duration": -1892,
        "start_time": "2022-02-20T23:12:02.111Z"
      },
      {
        "duration": -1899,
        "start_time": "2022-02-20T23:12:02.120Z"
      },
      {
        "duration": -1907,
        "start_time": "2022-02-20T23:12:02.129Z"
      },
      {
        "duration": -1876,
        "start_time": "2022-02-20T23:12:02.138Z"
      },
      {
        "duration": -1900,
        "start_time": "2022-02-20T23:12:02.164Z"
      },
      {
        "duration": -1907,
        "start_time": "2022-02-20T23:12:02.173Z"
      },
      {
        "duration": -1918,
        "start_time": "2022-02-20T23:12:02.185Z"
      },
      {
        "duration": -1926,
        "start_time": "2022-02-20T23:12:02.195Z"
      },
      {
        "duration": -2000,
        "start_time": "2022-02-20T23:12:02.271Z"
      },
      {
        "duration": -2005,
        "start_time": "2022-02-20T23:12:02.277Z"
      },
      {
        "duration": -2008,
        "start_time": "2022-02-20T23:12:02.282Z"
      },
      {
        "duration": -2030,
        "start_time": "2022-02-20T23:12:02.306Z"
      },
      {
        "duration": -2034,
        "start_time": "2022-02-20T23:12:02.311Z"
      },
      {
        "duration": -2037,
        "start_time": "2022-02-20T23:12:02.316Z"
      },
      {
        "duration": -2058,
        "start_time": "2022-02-20T23:12:02.339Z"
      },
      {
        "duration": -2061,
        "start_time": "2022-02-20T23:12:02.344Z"
      },
      {
        "duration": -2065,
        "start_time": "2022-02-20T23:12:02.349Z"
      },
      {
        "duration": -2069,
        "start_time": "2022-02-20T23:12:02.355Z"
      },
      {
        "duration": -2099,
        "start_time": "2022-02-20T23:12:02.387Z"
      },
      {
        "duration": -2102,
        "start_time": "2022-02-20T23:12:02.392Z"
      },
      {
        "duration": -2119,
        "start_time": "2022-02-20T23:12:02.410Z"
      },
      {
        "duration": -2122,
        "start_time": "2022-02-20T23:12:02.415Z"
      },
      {
        "duration": -2125,
        "start_time": "2022-02-20T23:12:02.420Z"
      },
      {
        "duration": -2148,
        "start_time": "2022-02-20T23:12:02.444Z"
      },
      {
        "duration": -2088,
        "start_time": "2022-02-20T23:12:02.449Z"
      },
      {
        "duration": -2089,
        "start_time": "2022-02-20T23:12:02.452Z"
      },
      {
        "duration": -2090,
        "start_time": "2022-02-20T23:12:02.455Z"
      },
      {
        "duration": -2095,
        "start_time": "2022-02-20T23:12:02.462Z"
      },
      {
        "duration": -2098,
        "start_time": "2022-02-20T23:12:02.466Z"
      },
      {
        "duration": -2105,
        "start_time": "2022-02-20T23:12:02.475Z"
      },
      {
        "duration": -2108,
        "start_time": "2022-02-20T23:12:02.479Z"
      },
      {
        "duration": -2131,
        "start_time": "2022-02-20T23:12:02.503Z"
      },
      {
        "duration": -2135,
        "start_time": "2022-02-20T23:12:02.509Z"
      },
      {
        "duration": -2138,
        "start_time": "2022-02-20T23:12:02.514Z"
      },
      {
        "duration": -2142,
        "start_time": "2022-02-20T23:12:02.519Z"
      },
      {
        "duration": 275,
        "start_time": "2022-02-20T23:12:22.153Z"
      },
      {
        "duration": 293,
        "start_time": "2022-02-20T23:12:28.878Z"
      },
      {
        "duration": 290,
        "start_time": "2022-02-20T23:12:52.457Z"
      },
      {
        "duration": 275,
        "start_time": "2022-02-20T23:13:32.772Z"
      },
      {
        "duration": 350,
        "start_time": "2022-02-20T23:15:01.969Z"
      },
      {
        "duration": 4,
        "start_time": "2022-02-20T23:15:14.640Z"
      },
      {
        "duration": 234,
        "start_time": "2022-02-20T23:15:14.647Z"
      },
      {
        "duration": 27,
        "start_time": "2022-02-20T23:15:14.885Z"
      },
      {
        "duration": 58,
        "start_time": "2022-02-20T23:15:14.915Z"
      },
      {
        "duration": 504,
        "start_time": "2022-02-20T23:15:14.975Z"
      },
      {
        "duration": 14,
        "start_time": "2022-02-20T23:15:15.481Z"
      },
      {
        "duration": 474,
        "start_time": "2022-02-20T23:15:15.500Z"
      },
      {
        "duration": 181,
        "start_time": "2022-02-20T23:15:15.979Z"
      },
      {
        "duration": 24,
        "start_time": "2022-02-20T23:15:16.163Z"
      },
      {
        "duration": 128,
        "start_time": "2022-02-20T23:15:16.190Z"
      },
      {
        "duration": 20,
        "start_time": "2022-02-20T23:15:16.320Z"
      },
      {
        "duration": 31,
        "start_time": "2022-02-20T23:15:16.342Z"
      },
      {
        "duration": 11,
        "start_time": "2022-02-20T23:15:16.375Z"
      },
      {
        "duration": 34,
        "start_time": "2022-02-20T23:15:16.388Z"
      },
      {
        "duration": 9,
        "start_time": "2022-02-20T23:15:16.425Z"
      },
      {
        "duration": 125,
        "start_time": "2022-02-20T23:15:16.436Z"
      },
      {
        "duration": 10,
        "start_time": "2022-02-20T23:15:16.563Z"
      },
      {
        "duration": 172,
        "start_time": "2022-02-20T23:15:16.575Z"
      },
      {
        "duration": 34,
        "start_time": "2022-02-20T23:15:16.751Z"
      },
      {
        "duration": 5,
        "start_time": "2022-02-20T23:15:16.787Z"
      },
      {
        "duration": 337,
        "start_time": "2022-02-20T23:15:19.212Z"
      },
      {
        "duration": 291,
        "start_time": "2022-02-20T23:16:02.324Z"
      },
      {
        "duration": 344,
        "start_time": "2022-02-20T23:16:27.056Z"
      },
      {
        "duration": 1068,
        "start_time": "2022-02-20T23:18:01.423Z"
      },
      {
        "duration": 272,
        "start_time": "2022-02-20T23:18:22.943Z"
      },
      {
        "duration": 345,
        "start_time": "2022-02-20T23:19:57.556Z"
      },
      {
        "duration": 735,
        "start_time": "2022-02-20T23:20:27.993Z"
      },
      {
        "duration": 223,
        "start_time": "2022-02-20T23:20:28.730Z"
      },
      {
        "duration": 30,
        "start_time": "2022-02-20T23:20:28.961Z"
      },
      {
        "duration": 37,
        "start_time": "2022-02-20T23:20:28.994Z"
      },
      {
        "duration": 540,
        "start_time": "2022-02-20T23:20:29.062Z"
      },
      {
        "duration": 17,
        "start_time": "2022-02-20T23:20:29.605Z"
      },
      {
        "duration": 438,
        "start_time": "2022-02-20T23:20:29.625Z"
      },
      {
        "duration": 199,
        "start_time": "2022-02-20T23:20:30.067Z"
      },
      {
        "duration": 23,
        "start_time": "2022-02-20T23:20:30.269Z"
      },
      {
        "duration": 146,
        "start_time": "2022-02-20T23:20:30.295Z"
      },
      {
        "duration": 28,
        "start_time": "2022-02-20T23:20:30.443Z"
      },
      {
        "duration": 24,
        "start_time": "2022-02-20T23:20:30.474Z"
      },
      {
        "duration": 9,
        "start_time": "2022-02-20T23:20:30.500Z"
      },
      {
        "duration": 103,
        "start_time": "2022-02-20T23:20:30.511Z"
      },
      {
        "duration": 9,
        "start_time": "2022-02-20T23:20:30.616Z"
      },
      {
        "duration": 37,
        "start_time": "2022-02-20T23:20:30.628Z"
      },
      {
        "duration": 10,
        "start_time": "2022-02-20T23:20:30.667Z"
      },
      {
        "duration": 184,
        "start_time": "2022-02-20T23:20:30.680Z"
      },
      {
        "duration": 43,
        "start_time": "2022-02-20T23:20:30.867Z"
      },
      {
        "duration": 5,
        "start_time": "2022-02-20T23:20:30.913Z"
      },
      {
        "duration": 1402,
        "start_time": "2022-02-20T23:20:33.859Z"
      },
      {
        "duration": 1251,
        "start_time": "2022-02-20T23:21:25.183Z"
      },
      {
        "duration": 806,
        "start_time": "2022-02-20T23:25:02.330Z"
      },
      {
        "duration": 223,
        "start_time": "2022-02-20T23:25:03.139Z"
      },
      {
        "duration": 30,
        "start_time": "2022-02-20T23:25:03.365Z"
      },
      {
        "duration": 33,
        "start_time": "2022-02-20T23:25:03.399Z"
      },
      {
        "duration": 553,
        "start_time": "2022-02-20T23:25:03.434Z"
      },
      {
        "duration": 16,
        "start_time": "2022-02-20T23:25:03.989Z"
      },
      {
        "duration": 434,
        "start_time": "2022-02-20T23:25:04.008Z"
      },
      {
        "duration": 183,
        "start_time": "2022-02-20T23:25:04.446Z"
      },
      {
        "duration": 35,
        "start_time": "2022-02-20T23:25:04.631Z"
      },
      {
        "duration": 122,
        "start_time": "2022-02-20T23:25:04.668Z"
      },
      {
        "duration": 19,
        "start_time": "2022-02-20T23:25:04.792Z"
      },
      {
        "duration": 21,
        "start_time": "2022-02-20T23:25:04.813Z"
      },
      {
        "duration": 32,
        "start_time": "2022-02-20T23:25:04.836Z"
      },
      {
        "duration": 74,
        "start_time": "2022-02-20T23:25:04.871Z"
      },
      {
        "duration": 19,
        "start_time": "2022-02-20T23:25:04.948Z"
      },
      {
        "duration": 13,
        "start_time": "2022-02-20T23:25:04.969Z"
      },
      {
        "duration": 9,
        "start_time": "2022-02-20T23:25:04.985Z"
      },
      {
        "duration": 186,
        "start_time": "2022-02-20T23:25:04.997Z"
      },
      {
        "duration": 46,
        "start_time": "2022-02-20T23:25:05.186Z"
      },
      {
        "duration": 27,
        "start_time": "2022-02-20T23:25:05.235Z"
      },
      {
        "duration": 1049,
        "start_time": "2022-02-20T23:25:10.504Z"
      },
      {
        "duration": 342,
        "start_time": "2022-02-20T23:28:22.089Z"
      },
      {
        "duration": 743,
        "start_time": "2022-02-20T23:28:27.766Z"
      },
      {
        "duration": 214,
        "start_time": "2022-02-20T23:28:28.512Z"
      },
      {
        "duration": 36,
        "start_time": "2022-02-20T23:28:28.729Z"
      },
      {
        "duration": 38,
        "start_time": "2022-02-20T23:28:28.768Z"
      },
      {
        "duration": 525,
        "start_time": "2022-02-20T23:28:28.808Z"
      },
      {
        "duration": 31,
        "start_time": "2022-02-20T23:28:29.336Z"
      },
      {
        "duration": 435,
        "start_time": "2022-02-20T23:28:29.370Z"
      },
      {
        "duration": 182,
        "start_time": "2022-02-20T23:28:29.808Z"
      },
      {
        "duration": 22,
        "start_time": "2022-02-20T23:28:29.994Z"
      },
      {
        "duration": 130,
        "start_time": "2022-02-20T23:28:30.019Z"
      },
      {
        "duration": 23,
        "start_time": "2022-02-20T23:28:30.152Z"
      },
      {
        "duration": 25,
        "start_time": "2022-02-20T23:28:30.178Z"
      },
      {
        "duration": 20,
        "start_time": "2022-02-20T23:28:30.206Z"
      },
      {
        "duration": 53,
        "start_time": "2022-02-20T23:28:30.229Z"
      },
      {
        "duration": 64,
        "start_time": "2022-02-20T23:28:30.284Z"
      },
      {
        "duration": 23,
        "start_time": "2022-02-20T23:28:30.350Z"
      },
      {
        "duration": 9,
        "start_time": "2022-02-20T23:28:30.375Z"
      },
      {
        "duration": 204,
        "start_time": "2022-02-20T23:28:30.387Z"
      },
      {
        "duration": 38,
        "start_time": "2022-02-20T23:28:30.594Z"
      },
      {
        "duration": 5,
        "start_time": "2022-02-20T23:28:30.635Z"
      },
      {
        "duration": 1900,
        "start_time": "2022-02-20T23:28:35.268Z"
      },
      {
        "duration": 486,
        "start_time": "2022-02-20T23:32:41.303Z"
      },
      {
        "duration": 731,
        "start_time": "2022-02-20T23:32:50.485Z"
      },
      {
        "duration": 225,
        "start_time": "2022-02-20T23:32:51.219Z"
      },
      {
        "duration": 31,
        "start_time": "2022-02-20T23:32:51.447Z"
      },
      {
        "duration": 36,
        "start_time": "2022-02-20T23:32:51.481Z"
      },
      {
        "duration": 534,
        "start_time": "2022-02-20T23:32:51.519Z"
      },
      {
        "duration": 14,
        "start_time": "2022-02-20T23:32:52.061Z"
      },
      {
        "duration": 419,
        "start_time": "2022-02-20T23:32:52.077Z"
      },
      {
        "duration": 177,
        "start_time": "2022-02-20T23:32:52.499Z"
      },
      {
        "duration": 11,
        "start_time": "2022-02-20T23:33:00.916Z"
      },
      {
        "duration": 17,
        "start_time": "2022-02-20T23:33:11.502Z"
      },
      {
        "duration": 4,
        "start_time": "2022-02-20T23:33:34.508Z"
      },
      {
        "duration": 216,
        "start_time": "2022-02-20T23:33:34.519Z"
      },
      {
        "duration": 35,
        "start_time": "2022-02-20T23:33:34.737Z"
      },
      {
        "duration": 33,
        "start_time": "2022-02-20T23:33:34.775Z"
      },
      {
        "duration": 480,
        "start_time": "2022-02-20T23:33:34.811Z"
      },
      {
        "duration": 14,
        "start_time": "2022-02-20T23:33:35.293Z"
      },
      {
        "duration": 424,
        "start_time": "2022-02-20T23:33:35.310Z"
      },
      {
        "duration": 181,
        "start_time": "2022-02-20T23:33:35.736Z"
      },
      {
        "duration": 9,
        "start_time": "2022-02-20T23:33:35.921Z"
      },
      {
        "duration": 40,
        "start_time": "2022-02-20T23:33:35.932Z"
      },
      {
        "duration": 133,
        "start_time": "2022-02-20T23:33:35.975Z"
      },
      {
        "duration": 19,
        "start_time": "2022-02-20T23:33:36.111Z"
      },
      {
        "duration": 32,
        "start_time": "2022-02-20T23:33:36.132Z"
      },
      {
        "duration": 8,
        "start_time": "2022-02-20T23:33:36.166Z"
      },
      {
        "duration": 37,
        "start_time": "2022-02-20T23:33:36.177Z"
      },
      {
        "duration": 8,
        "start_time": "2022-02-20T23:33:36.217Z"
      },
      {
        "duration": 38,
        "start_time": "2022-02-20T23:33:36.227Z"
      },
      {
        "duration": 9,
        "start_time": "2022-02-20T23:33:36.268Z"
      },
      {
        "duration": 171,
        "start_time": "2022-02-20T23:33:36.280Z"
      },
      {
        "duration": 39,
        "start_time": "2022-02-20T23:33:36.454Z"
      },
      {
        "duration": 5,
        "start_time": "2022-02-20T23:33:36.496Z"
      },
      {
        "duration": 1846,
        "start_time": "2022-02-20T23:33:50.240Z"
      },
      {
        "duration": 758,
        "start_time": "2022-02-20T23:34:46.789Z"
      },
      {
        "duration": 204,
        "start_time": "2022-02-20T23:34:47.550Z"
      },
      {
        "duration": 28,
        "start_time": "2022-02-20T23:34:47.756Z"
      },
      {
        "duration": 36,
        "start_time": "2022-02-20T23:34:47.788Z"
      },
      {
        "duration": 525,
        "start_time": "2022-02-20T23:34:47.827Z"
      },
      {
        "duration": 18,
        "start_time": "2022-02-20T23:34:48.361Z"
      },
      {
        "duration": 431,
        "start_time": "2022-02-20T23:34:48.382Z"
      },
      {
        "duration": 190,
        "start_time": "2022-02-20T23:34:48.819Z"
      },
      {
        "duration": 10,
        "start_time": "2022-02-20T23:34:49.013Z"
      },
      {
        "duration": 44,
        "start_time": "2022-02-20T23:34:49.026Z"
      },
      {
        "duration": 123,
        "start_time": "2022-02-20T23:34:49.073Z"
      },
      {
        "duration": 20,
        "start_time": "2022-02-20T23:34:49.200Z"
      },
      {
        "duration": 39,
        "start_time": "2022-02-20T23:34:49.223Z"
      },
      {
        "duration": 12,
        "start_time": "2022-02-20T23:34:49.266Z"
      },
      {
        "duration": 109,
        "start_time": "2022-02-20T23:34:49.280Z"
      },
      {
        "duration": 9,
        "start_time": "2022-02-20T23:34:49.393Z"
      },
      {
        "duration": 17,
        "start_time": "2022-02-20T23:34:49.406Z"
      },
      {
        "duration": 10,
        "start_time": "2022-02-20T23:34:49.425Z"
      },
      {
        "duration": 168,
        "start_time": "2022-02-20T23:34:49.461Z"
      },
      {
        "duration": 47,
        "start_time": "2022-02-20T23:34:49.632Z"
      },
      {
        "duration": 5,
        "start_time": "2022-02-20T23:34:49.682Z"
      },
      {
        "duration": 1789,
        "start_time": "2022-02-20T23:35:07.401Z"
      },
      {
        "duration": 360,
        "start_time": "2022-02-20T23:35:14.313Z"
      },
      {
        "duration": 285,
        "start_time": "2022-02-20T23:35:33.460Z"
      },
      {
        "duration": 3,
        "start_time": "2022-02-20T23:36:09.713Z"
      },
      {
        "duration": 214,
        "start_time": "2022-02-20T23:36:09.721Z"
      },
      {
        "duration": 33,
        "start_time": "2022-02-20T23:36:09.938Z"
      },
      {
        "duration": 33,
        "start_time": "2022-02-20T23:36:09.974Z"
      },
      {
        "duration": 432,
        "start_time": "2022-02-20T23:36:10.010Z"
      },
      {
        "duration": 24,
        "start_time": "2022-02-20T23:36:10.444Z"
      },
      {
        "duration": 433,
        "start_time": "2022-02-20T23:36:10.470Z"
      },
      {
        "duration": 188,
        "start_time": "2022-02-20T23:36:10.907Z"
      },
      {
        "duration": 9,
        "start_time": "2022-02-20T23:36:11.099Z"
      },
      {
        "duration": 30,
        "start_time": "2022-02-20T23:36:11.110Z"
      },
      {
        "duration": 123,
        "start_time": "2022-02-20T23:36:11.142Z"
      },
      {
        "duration": 17,
        "start_time": "2022-02-20T23:36:11.268Z"
      },
      {
        "duration": 21,
        "start_time": "2022-02-20T23:36:11.288Z"
      },
      {
        "duration": 9,
        "start_time": "2022-02-20T23:36:11.311Z"
      },
      {
        "duration": 56,
        "start_time": "2022-02-20T23:36:11.323Z"
      },
      {
        "duration": 10,
        "start_time": "2022-02-20T23:36:11.382Z"
      },
      {
        "duration": 15,
        "start_time": "2022-02-20T23:36:11.395Z"
      },
      {
        "duration": 55,
        "start_time": "2022-02-20T23:36:11.413Z"
      },
      {
        "duration": 168,
        "start_time": "2022-02-20T23:36:11.471Z"
      },
      {
        "duration": 45,
        "start_time": "2022-02-20T23:36:11.642Z"
      },
      {
        "duration": 5,
        "start_time": "2022-02-20T23:36:11.690Z"
      },
      {
        "duration": 272,
        "start_time": "2022-02-20T23:36:20.879Z"
      },
      {
        "duration": 1848,
        "start_time": "2022-02-20T23:36:30.348Z"
      },
      {
        "duration": 3,
        "start_time": "2022-02-20T23:37:02.994Z"
      },
      {
        "duration": 214,
        "start_time": "2022-02-20T23:37:03.003Z"
      },
      {
        "duration": 26,
        "start_time": "2022-02-20T23:37:03.219Z"
      },
      {
        "duration": 38,
        "start_time": "2022-02-20T23:37:03.261Z"
      },
      {
        "duration": 441,
        "start_time": "2022-02-20T23:37:03.302Z"
      },
      {
        "duration": 28,
        "start_time": "2022-02-20T23:37:03.746Z"
      },
      {
        "duration": 446,
        "start_time": "2022-02-20T23:37:03.777Z"
      },
      {
        "duration": 191,
        "start_time": "2022-02-20T23:37:04.226Z"
      },
      {
        "duration": 9,
        "start_time": "2022-02-20T23:37:04.421Z"
      },
      {
        "duration": 43,
        "start_time": "2022-02-20T23:37:04.433Z"
      },
      {
        "duration": 120,
        "start_time": "2022-02-20T23:37:04.478Z"
      },
      {
        "duration": 17,
        "start_time": "2022-02-20T23:37:04.601Z"
      },
      {
        "duration": 42,
        "start_time": "2022-02-20T23:37:04.621Z"
      },
      {
        "duration": 13,
        "start_time": "2022-02-20T23:37:04.665Z"
      },
      {
        "duration": 30,
        "start_time": "2022-02-20T23:37:04.680Z"
      },
      {
        "duration": 9,
        "start_time": "2022-02-20T23:37:04.713Z"
      },
      {
        "duration": 17,
        "start_time": "2022-02-20T23:37:04.724Z"
      },
      {
        "duration": 10,
        "start_time": "2022-02-20T23:37:04.762Z"
      },
      {
        "duration": 172,
        "start_time": "2022-02-20T23:37:04.775Z"
      },
      {
        "duration": 39,
        "start_time": "2022-02-20T23:37:04.950Z"
      },
      {
        "duration": 6,
        "start_time": "2022-02-20T23:37:04.991Z"
      },
      {
        "duration": 1422,
        "start_time": "2022-02-20T23:37:07.697Z"
      },
      {
        "duration": 3,
        "start_time": "2022-02-20T23:37:32.739Z"
      },
      {
        "duration": 207,
        "start_time": "2022-02-20T23:37:32.749Z"
      },
      {
        "duration": 27,
        "start_time": "2022-02-20T23:37:32.958Z"
      },
      {
        "duration": 34,
        "start_time": "2022-02-20T23:37:32.988Z"
      },
      {
        "duration": 476,
        "start_time": "2022-02-20T23:37:33.025Z"
      },
      {
        "duration": 18,
        "start_time": "2022-02-20T23:37:33.504Z"
      },
      {
        "duration": 445,
        "start_time": "2022-02-20T23:37:33.525Z"
      },
      {
        "duration": 189,
        "start_time": "2022-02-20T23:37:33.973Z"
      },
      {
        "duration": 9,
        "start_time": "2022-02-20T23:37:34.166Z"
      },
      {
        "duration": 25,
        "start_time": "2022-02-20T23:37:34.178Z"
      },
      {
        "duration": 132,
        "start_time": "2022-02-20T23:37:34.206Z"
      },
      {
        "duration": 27,
        "start_time": "2022-02-20T23:37:34.340Z"
      },
      {
        "duration": 21,
        "start_time": "2022-02-20T23:37:34.370Z"
      },
      {
        "duration": 8,
        "start_time": "2022-02-20T23:37:34.394Z"
      },
      {
        "duration": 34,
        "start_time": "2022-02-20T23:37:34.405Z"
      },
      {
        "duration": 8,
        "start_time": "2022-02-20T23:37:34.461Z"
      },
      {
        "duration": 12,
        "start_time": "2022-02-20T23:37:34.472Z"
      },
      {
        "duration": 9,
        "start_time": "2022-02-20T23:37:34.486Z"
      },
      {
        "duration": 193,
        "start_time": "2022-02-20T23:37:34.498Z"
      },
      {
        "duration": 33,
        "start_time": "2022-02-20T23:37:34.694Z"
      },
      {
        "duration": 31,
        "start_time": "2022-02-20T23:37:34.730Z"
      },
      {
        "duration": 1053,
        "start_time": "2022-02-20T23:37:38.127Z"
      },
      {
        "duration": 1040,
        "start_time": "2022-02-20T23:37:55.397Z"
      },
      {
        "duration": 1024,
        "start_time": "2022-02-20T23:39:28.337Z"
      },
      {
        "duration": 713,
        "start_time": "2022-02-20T23:45:13.106Z"
      },
      {
        "duration": 231,
        "start_time": "2022-02-20T23:45:13.821Z"
      },
      {
        "duration": 36,
        "start_time": "2022-02-20T23:45:14.054Z"
      },
      {
        "duration": 39,
        "start_time": "2022-02-20T23:45:14.094Z"
      },
      {
        "duration": 526,
        "start_time": "2022-02-20T23:45:14.162Z"
      },
      {
        "duration": 17,
        "start_time": "2022-02-20T23:45:14.690Z"
      },
      {
        "duration": 426,
        "start_time": "2022-02-20T23:45:14.710Z"
      },
      {
        "duration": 187,
        "start_time": "2022-02-20T23:45:15.140Z"
      },
      {
        "duration": 9,
        "start_time": "2022-02-20T23:45:15.330Z"
      },
      {
        "duration": 36,
        "start_time": "2022-02-20T23:45:15.342Z"
      },
      {
        "duration": 130,
        "start_time": "2022-02-20T23:45:15.380Z"
      },
      {
        "duration": 18,
        "start_time": "2022-02-20T23:45:15.512Z"
      },
      {
        "duration": 33,
        "start_time": "2022-02-20T23:45:15.533Z"
      },
      {
        "duration": 9,
        "start_time": "2022-02-20T23:45:15.569Z"
      },
      {
        "duration": 93,
        "start_time": "2022-02-20T23:45:15.581Z"
      },
      {
        "duration": 8,
        "start_time": "2022-02-20T23:45:15.677Z"
      },
      {
        "duration": 19,
        "start_time": "2022-02-20T23:45:15.687Z"
      },
      {
        "duration": 9,
        "start_time": "2022-02-20T23:45:15.708Z"
      },
      {
        "duration": 190,
        "start_time": "2022-02-20T23:45:15.719Z"
      },
      {
        "duration": 3,
        "start_time": "2022-02-20T23:45:15.911Z"
      },
      {
        "duration": 371,
        "start_time": "2022-02-20T23:45:23.705Z"
      },
      {
        "duration": 98,
        "start_time": "2022-02-20T23:45:59.990Z"
      },
      {
        "duration": 356,
        "start_time": "2022-02-20T23:47:16.603Z"
      },
      {
        "duration": 787,
        "start_time": "2022-02-20T23:47:20.966Z"
      },
      {
        "duration": 268,
        "start_time": "2022-02-20T23:47:21.755Z"
      },
      {
        "duration": 43,
        "start_time": "2022-02-20T23:47:22.026Z"
      },
      {
        "duration": 44,
        "start_time": "2022-02-20T23:47:22.072Z"
      },
      {
        "duration": 609,
        "start_time": "2022-02-20T23:47:22.119Z"
      },
      {
        "duration": 31,
        "start_time": "2022-02-20T23:47:22.731Z"
      },
      {
        "duration": 447,
        "start_time": "2022-02-20T23:47:22.765Z"
      },
      {
        "duration": 228,
        "start_time": "2022-02-20T23:47:23.215Z"
      },
      {
        "duration": 20,
        "start_time": "2022-02-20T23:47:23.448Z"
      },
      {
        "duration": 25,
        "start_time": "2022-02-20T23:47:23.471Z"
      },
      {
        "duration": 150,
        "start_time": "2022-02-20T23:47:23.499Z"
      },
      {
        "duration": 26,
        "start_time": "2022-02-20T23:47:23.652Z"
      },
      {
        "duration": 22,
        "start_time": "2022-02-20T23:47:23.681Z"
      },
      {
        "duration": 10,
        "start_time": "2022-02-20T23:47:23.706Z"
      },
      {
        "duration": 110,
        "start_time": "2022-02-20T23:47:23.719Z"
      },
      {
        "duration": 9,
        "start_time": "2022-02-20T23:47:23.831Z"
      },
      {
        "duration": 31,
        "start_time": "2022-02-20T23:47:23.843Z"
      },
      {
        "duration": 10,
        "start_time": "2022-02-20T23:47:23.876Z"
      },
      {
        "duration": 210,
        "start_time": "2022-02-20T23:47:23.889Z"
      },
      {
        "duration": 3,
        "start_time": "2022-02-20T23:47:24.101Z"
      },
      {
        "duration": 13,
        "start_time": "2022-02-20T23:47:24.107Z"
      },
      {
        "duration": 412,
        "start_time": "2022-02-20T23:47:27.105Z"
      },
      {
        "duration": 110,
        "start_time": "2022-02-20T23:47:49.470Z"
      },
      {
        "duration": 189,
        "start_time": "2022-02-20T23:48:27.097Z"
      },
      {
        "duration": 374,
        "start_time": "2022-02-20T23:55:45.678Z"
      },
      {
        "duration": 831,
        "start_time": "2022-02-21T00:03:05.840Z"
      },
      {
        "duration": 232,
        "start_time": "2022-02-21T00:03:06.673Z"
      },
      {
        "duration": 28,
        "start_time": "2022-02-21T00:03:06.909Z"
      },
      {
        "duration": 56,
        "start_time": "2022-02-21T00:03:06.939Z"
      },
      {
        "duration": 533,
        "start_time": "2022-02-21T00:03:06.997Z"
      },
      {
        "duration": 29,
        "start_time": "2022-02-21T00:03:07.532Z"
      },
      {
        "duration": 432,
        "start_time": "2022-02-21T00:03:07.563Z"
      },
      {
        "duration": 189,
        "start_time": "2022-02-21T00:03:08.002Z"
      },
      {
        "duration": 10,
        "start_time": "2022-02-21T00:03:08.195Z"
      },
      {
        "duration": 24,
        "start_time": "2022-02-21T00:03:08.207Z"
      },
      {
        "duration": 125,
        "start_time": "2022-02-21T00:03:08.262Z"
      },
      {
        "duration": 21,
        "start_time": "2022-02-21T00:03:08.390Z"
      },
      {
        "duration": 21,
        "start_time": "2022-02-21T00:03:08.414Z"
      },
      {
        "duration": 8,
        "start_time": "2022-02-21T00:03:08.462Z"
      },
      {
        "duration": 88,
        "start_time": "2022-02-21T00:03:08.473Z"
      },
      {
        "duration": 9,
        "start_time": "2022-02-21T00:03:08.564Z"
      },
      {
        "duration": 16,
        "start_time": "2022-02-21T00:03:08.575Z"
      },
      {
        "duration": 9,
        "start_time": "2022-02-21T00:03:08.593Z"
      },
      {
        "duration": 4,
        "start_time": "2022-02-21T00:03:08.605Z"
      },
      {
        "duration": 92,
        "start_time": "2022-02-21T00:03:08.612Z"
      },
      {
        "duration": 5,
        "start_time": "2022-02-21T00:03:08.706Z"
      },
      {
        "duration": 396,
        "start_time": "2022-02-21T00:03:11.237Z"
      },
      {
        "duration": 287,
        "start_time": "2022-02-21T00:03:28.404Z"
      },
      {
        "duration": 273,
        "start_time": "2022-02-21T00:03:47.870Z"
      },
      {
        "duration": 298,
        "start_time": "2022-02-21T00:04:11.238Z"
      },
      {
        "duration": 6523,
        "start_time": "2022-02-21T00:05:16.513Z"
      },
      {
        "duration": 284,
        "start_time": "2022-02-21T00:05:31.731Z"
      },
      {
        "duration": 188,
        "start_time": "2022-02-21T00:10:05.194Z"
      },
      {
        "duration": 570,
        "start_time": "2022-02-21T00:10:29.992Z"
      },
      {
        "duration": 1106,
        "start_time": "2022-02-21T00:10:40.208Z"
      },
      {
        "duration": 266,
        "start_time": "2022-02-21T00:17:44.553Z"
      },
      {
        "duration": 3,
        "start_time": "2022-02-21T00:21:26.552Z"
      },
      {
        "duration": 409,
        "start_time": "2022-02-21T00:24:10.959Z"
      },
      {
        "duration": 4,
        "start_time": "2022-02-21T00:24:15.083Z"
      },
      {
        "duration": 253,
        "start_time": "2022-02-21T00:24:15.094Z"
      },
      {
        "duration": 46,
        "start_time": "2022-02-21T00:24:15.351Z"
      },
      {
        "duration": 35,
        "start_time": "2022-02-21T00:24:15.400Z"
      },
      {
        "duration": 444,
        "start_time": "2022-02-21T00:24:15.438Z"
      },
      {
        "duration": 14,
        "start_time": "2022-02-21T00:24:15.884Z"
      },
      {
        "duration": 434,
        "start_time": "2022-02-21T00:24:15.900Z"
      },
      {
        "duration": 167,
        "start_time": "2022-02-21T00:24:16.337Z"
      },
      {
        "duration": 10,
        "start_time": "2022-02-21T00:24:16.507Z"
      },
      {
        "duration": 43,
        "start_time": "2022-02-21T00:24:16.520Z"
      },
      {
        "duration": 115,
        "start_time": "2022-02-21T00:24:16.565Z"
      },
      {
        "duration": 20,
        "start_time": "2022-02-21T00:24:16.682Z"
      },
      {
        "duration": 20,
        "start_time": "2022-02-21T00:24:16.704Z"
      },
      {
        "duration": 9,
        "start_time": "2022-02-21T00:24:16.726Z"
      },
      {
        "duration": 29,
        "start_time": "2022-02-21T00:24:16.762Z"
      },
      {
        "duration": 8,
        "start_time": "2022-02-21T00:24:16.794Z"
      },
      {
        "duration": 12,
        "start_time": "2022-02-21T00:24:16.805Z"
      },
      {
        "duration": 10,
        "start_time": "2022-02-21T00:24:16.820Z"
      },
      {
        "duration": 194,
        "start_time": "2022-02-21T00:24:16.833Z"
      },
      {
        "duration": 3,
        "start_time": "2022-02-21T00:24:17.029Z"
      },
      {
        "duration": 11,
        "start_time": "2022-02-21T00:24:17.035Z"
      },
      {
        "duration": 44,
        "start_time": "2022-02-21T00:24:19.239Z"
      },
      {
        "duration": 61,
        "start_time": "2022-02-21T00:24:31.340Z"
      },
      {
        "duration": 43,
        "start_time": "2022-02-21T00:24:41.553Z"
      },
      {
        "duration": 47,
        "start_time": "2022-02-21T00:26:12.115Z"
      },
      {
        "duration": 7,
        "start_time": "2022-02-21T00:26:19.243Z"
      },
      {
        "duration": 267,
        "start_time": "2022-02-21T00:26:43.697Z"
      },
      {
        "duration": 266,
        "start_time": "2022-02-21T00:26:49.450Z"
      },
      {
        "duration": 283,
        "start_time": "2022-02-21T00:27:03.511Z"
      },
      {
        "duration": 290,
        "start_time": "2022-02-21T00:27:11.938Z"
      },
      {
        "duration": 16,
        "start_time": "2022-02-21T00:27:26.629Z"
      },
      {
        "duration": 13,
        "start_time": "2022-02-21T00:28:35.209Z"
      },
      {
        "duration": 21181,
        "start_time": "2022-02-21T00:28:44.039Z"
      },
      {
        "duration": 51,
        "start_time": "2022-02-21T00:29:08.006Z"
      },
      {
        "duration": 35,
        "start_time": "2022-02-21T00:29:18.136Z"
      },
      {
        "duration": 295,
        "start_time": "2022-02-21T00:30:32.216Z"
      },
      {
        "duration": 35,
        "start_time": "2022-02-21T00:31:35.969Z"
      },
      {
        "duration": 3,
        "start_time": "2022-02-21T00:34:55.882Z"
      },
      {
        "duration": 203,
        "start_time": "2022-02-21T00:34:55.891Z"
      },
      {
        "duration": 25,
        "start_time": "2022-02-21T00:34:56.097Z"
      },
      {
        "duration": 59,
        "start_time": "2022-02-21T00:34:56.126Z"
      },
      {
        "duration": 428,
        "start_time": "2022-02-21T00:34:56.188Z"
      },
      {
        "duration": 14,
        "start_time": "2022-02-21T00:34:56.619Z"
      },
      {
        "duration": 430,
        "start_time": "2022-02-21T00:34:56.636Z"
      },
      {
        "duration": 169,
        "start_time": "2022-02-21T00:34:57.069Z"
      },
      {
        "duration": 19,
        "start_time": "2022-02-21T00:34:57.242Z"
      },
      {
        "duration": 20,
        "start_time": "2022-02-21T00:34:57.265Z"
      },
      {
        "duration": 120,
        "start_time": "2022-02-21T00:34:57.287Z"
      },
      {
        "duration": 23,
        "start_time": "2022-02-21T00:34:57.409Z"
      },
      {
        "duration": 46,
        "start_time": "2022-02-21T00:34:57.435Z"
      },
      {
        "duration": 12,
        "start_time": "2022-02-21T00:34:57.484Z"
      },
      {
        "duration": 33,
        "start_time": "2022-02-21T00:34:57.499Z"
      },
      {
        "duration": 27,
        "start_time": "2022-02-21T00:34:57.535Z"
      },
      {
        "duration": 26,
        "start_time": "2022-02-21T00:34:57.565Z"
      },
      {
        "duration": 12,
        "start_time": "2022-02-21T00:34:57.594Z"
      },
      {
        "duration": 179,
        "start_time": "2022-02-21T00:34:57.609Z"
      },
      {
        "duration": 3,
        "start_time": "2022-02-21T00:34:57.790Z"
      },
      {
        "duration": 9,
        "start_time": "2022-02-21T00:34:57.795Z"
      },
      {
        "duration": 64,
        "start_time": "2022-02-21T00:34:57.806Z"
      },
      {
        "duration": 45,
        "start_time": "2022-02-21T00:34:57.873Z"
      },
      {
        "duration": 6,
        "start_time": "2022-02-21T00:34:57.922Z"
      },
      {
        "duration": 40,
        "start_time": "2022-02-21T00:34:57.931Z"
      },
      {
        "duration": 15,
        "start_time": "2022-02-21T00:34:57.973Z"
      },
      {
        "duration": 15753,
        "start_time": "2022-02-21T00:35:01.586Z"
      },
      {
        "duration": 36,
        "start_time": "2022-02-21T00:35:19.573Z"
      },
      {
        "duration": 53,
        "start_time": "2022-02-21T00:35:42.712Z"
      },
      {
        "duration": 275,
        "start_time": "2022-02-21T00:36:45.396Z"
      },
      {
        "duration": 30,
        "start_time": "2022-02-21T00:36:57.614Z"
      },
      {
        "duration": 19,
        "start_time": "2022-02-21T00:37:33.101Z"
      },
      {
        "duration": 20,
        "start_time": "2022-02-21T00:37:57.289Z"
      },
      {
        "duration": 8010,
        "start_time": "2022-02-21T00:38:16.553Z"
      },
      {
        "duration": 38,
        "start_time": "2022-02-21T00:39:02.200Z"
      },
      {
        "duration": 11963,
        "start_time": "2022-02-21T00:39:10.064Z"
      },
      {
        "duration": 32,
        "start_time": "2022-02-21T00:39:43.421Z"
      },
      {
        "duration": 30,
        "start_time": "2022-02-21T00:40:21.249Z"
      },
      {
        "duration": 20,
        "start_time": "2022-02-21T00:40:31.334Z"
      },
      {
        "duration": 12,
        "start_time": "2022-02-21T00:40:48.436Z"
      },
      {
        "duration": 17444,
        "start_time": "2022-02-21T00:40:52.139Z"
      },
      {
        "duration": 34,
        "start_time": "2022-02-21T00:41:11.528Z"
      },
      {
        "duration": 10,
        "start_time": "2022-02-21T00:43:16.730Z"
      },
      {
        "duration": 27,
        "start_time": "2022-02-21T00:43:19.077Z"
      },
      {
        "duration": 739,
        "start_time": "2022-02-21T00:43:23.408Z"
      },
      {
        "duration": 6,
        "start_time": "2022-02-21T00:43:28.376Z"
      },
      {
        "duration": 10,
        "start_time": "2022-02-21T00:43:33.428Z"
      },
      {
        "duration": 343,
        "start_time": "2022-02-21T00:43:38.350Z"
      },
      {
        "duration": 23,
        "start_time": "2022-02-21T00:44:06.695Z"
      },
      {
        "duration": 7699,
        "start_time": "2022-02-21T00:45:55.408Z"
      },
      {
        "duration": 11073,
        "start_time": "2022-02-21T00:47:01.689Z"
      },
      {
        "duration": 23,
        "start_time": "2022-02-21T00:47:16.014Z"
      },
      {
        "duration": 26,
        "start_time": "2022-02-21T00:48:01.411Z"
      },
      {
        "duration": 726,
        "start_time": "2022-02-21T00:48:46.492Z"
      },
      {
        "duration": 4,
        "start_time": "2022-02-21T00:48:53.972Z"
      },
      {
        "duration": 211,
        "start_time": "2022-02-21T00:48:53.981Z"
      },
      {
        "duration": 27,
        "start_time": "2022-02-21T00:48:54.195Z"
      },
      {
        "duration": 64,
        "start_time": "2022-02-21T00:48:54.225Z"
      },
      {
        "duration": 452,
        "start_time": "2022-02-21T00:48:54.292Z"
      },
      {
        "duration": 25,
        "start_time": "2022-02-21T00:48:54.747Z"
      },
      {
        "duration": 506,
        "start_time": "2022-02-21T00:48:54.775Z"
      },
      {
        "duration": 181,
        "start_time": "2022-02-21T00:48:55.284Z"
      },
      {
        "duration": 9,
        "start_time": "2022-02-21T00:48:55.470Z"
      },
      {
        "duration": 27,
        "start_time": "2022-02-21T00:48:55.483Z"
      },
      {
        "duration": 136,
        "start_time": "2022-02-21T00:48:55.513Z"
      },
      {
        "duration": 32,
        "start_time": "2022-02-21T00:48:55.652Z"
      },
      {
        "duration": 27,
        "start_time": "2022-02-21T00:48:55.687Z"
      },
      {
        "duration": 17,
        "start_time": "2022-02-21T00:48:55.717Z"
      },
      {
        "duration": 65,
        "start_time": "2022-02-21T00:48:55.760Z"
      },
      {
        "duration": 8,
        "start_time": "2022-02-21T00:48:55.828Z"
      },
      {
        "duration": 15,
        "start_time": "2022-02-21T00:48:55.839Z"
      },
      {
        "duration": 10,
        "start_time": "2022-02-21T00:48:55.856Z"
      },
      {
        "duration": 166,
        "start_time": "2022-02-21T00:48:55.869Z"
      },
      {
        "duration": 2,
        "start_time": "2022-02-21T00:48:56.038Z"
      },
      {
        "duration": 18,
        "start_time": "2022-02-21T00:48:56.043Z"
      },
      {
        "duration": 44,
        "start_time": "2022-02-21T00:48:56.064Z"
      },
      {
        "duration": 71,
        "start_time": "2022-02-21T00:48:56.111Z"
      },
      {
        "duration": 8,
        "start_time": "2022-02-21T00:48:56.189Z"
      },
      {
        "duration": 26,
        "start_time": "2022-02-21T00:48:56.200Z"
      },
      {
        "duration": 13,
        "start_time": "2022-02-21T00:48:56.229Z"
      },
      {
        "duration": 16171,
        "start_time": "2022-02-21T00:48:56.244Z"
      },
      {
        "duration": 47,
        "start_time": "2022-02-21T00:49:12.417Z"
      },
      {
        "duration": 61,
        "start_time": "2022-02-21T00:49:12.466Z"
      },
      {
        "duration": 43,
        "start_time": "2022-02-21T00:49:12.530Z"
      },
      {
        "duration": 19,
        "start_time": "2022-02-21T00:49:12.576Z"
      },
      {
        "duration": 24,
        "start_time": "2022-02-21T00:49:12.597Z"
      },
      {
        "duration": 22,
        "start_time": "2022-02-21T00:49:12.623Z"
      },
      {
        "duration": 12020,
        "start_time": "2022-02-21T00:49:12.647Z"
      },
      {
        "duration": 31,
        "start_time": "2022-02-21T00:49:24.670Z"
      },
      {
        "duration": 28,
        "start_time": "2022-02-21T00:49:24.703Z"
      },
      {
        "duration": 42,
        "start_time": "2022-02-21T00:49:24.733Z"
      },
      {
        "duration": 13,
        "start_time": "2022-02-21T00:49:24.777Z"
      },
      {
        "duration": 17585,
        "start_time": "2022-02-21T00:49:24.792Z"
      },
      {
        "duration": 34,
        "start_time": "2022-02-21T00:49:42.379Z"
      },
      {
        "duration": 22,
        "start_time": "2022-02-21T00:49:42.415Z"
      },
      {
        "duration": 44,
        "start_time": "2022-02-21T00:49:42.440Z"
      },
      {
        "duration": 690,
        "start_time": "2022-02-21T00:49:46.048Z"
      },
      {
        "duration": 6,
        "start_time": "2022-02-21T00:49:50.991Z"
      },
      {
        "duration": 11,
        "start_time": "2022-02-21T00:49:54.927Z"
      },
      {
        "duration": 708,
        "start_time": "2022-02-21T00:49:57.511Z"
      },
      {
        "duration": 6,
        "start_time": "2022-02-21T00:50:00.768Z"
      },
      {
        "duration": 11,
        "start_time": "2022-02-21T00:50:02.819Z"
      },
      {
        "duration": 345,
        "start_time": "2022-02-21T00:50:18.354Z"
      },
      {
        "duration": 13,
        "start_time": "2022-02-21T00:50:24.214Z"
      },
      {
        "duration": 11039,
        "start_time": "2022-02-21T00:50:27.574Z"
      },
      {
        "duration": 37,
        "start_time": "2022-02-21T00:50:52.647Z"
      },
      {
        "duration": 46,
        "start_time": "2022-02-21T00:51:49.767Z"
      },
      {
        "duration": 5,
        "start_time": "2022-02-21T00:51:51.890Z"
      },
      {
        "duration": 12,
        "start_time": "2022-02-21T00:51:53.543Z"
      },
      {
        "duration": 4,
        "start_time": "2022-02-21T00:52:33.760Z"
      },
      {
        "duration": 237,
        "start_time": "2022-02-21T00:52:33.768Z"
      },
      {
        "duration": 60,
        "start_time": "2022-02-21T00:52:34.008Z"
      },
      {
        "duration": 36,
        "start_time": "2022-02-21T00:52:34.071Z"
      },
      {
        "duration": 443,
        "start_time": "2022-02-21T00:52:34.109Z"
      },
      {
        "duration": 13,
        "start_time": "2022-02-21T00:52:34.561Z"
      },
      {
        "duration": 454,
        "start_time": "2022-02-21T00:52:34.577Z"
      },
      {
        "duration": 184,
        "start_time": "2022-02-21T00:52:35.034Z"
      },
      {
        "duration": 10,
        "start_time": "2022-02-21T00:52:35.222Z"
      },
      {
        "duration": 49,
        "start_time": "2022-02-21T00:52:35.235Z"
      },
      {
        "duration": 123,
        "start_time": "2022-02-21T00:52:35.287Z"
      },
      {
        "duration": 20,
        "start_time": "2022-02-21T00:52:35.413Z"
      },
      {
        "duration": 35,
        "start_time": "2022-02-21T00:52:35.436Z"
      },
      {
        "duration": 9,
        "start_time": "2022-02-21T00:52:35.473Z"
      },
      {
        "duration": 32,
        "start_time": "2022-02-21T00:52:35.484Z"
      },
      {
        "duration": 79,
        "start_time": "2022-02-21T00:52:35.519Z"
      },
      {
        "duration": 14,
        "start_time": "2022-02-21T00:52:35.602Z"
      },
      {
        "duration": 10,
        "start_time": "2022-02-21T00:52:35.618Z"
      },
      {
        "duration": 187,
        "start_time": "2022-02-21T00:52:35.630Z"
      },
      {
        "duration": 2,
        "start_time": "2022-02-21T00:52:35.820Z"
      },
      {
        "duration": 7,
        "start_time": "2022-02-21T00:52:35.825Z"
      },
      {
        "duration": 71,
        "start_time": "2022-02-21T00:52:35.835Z"
      },
      {
        "duration": 58,
        "start_time": "2022-02-21T00:52:35.908Z"
      },
      {
        "duration": 7,
        "start_time": "2022-02-21T00:52:35.973Z"
      },
      {
        "duration": 22,
        "start_time": "2022-02-21T00:52:35.983Z"
      },
      {
        "duration": 14,
        "start_time": "2022-02-21T00:52:36.008Z"
      },
      {
        "duration": 15672,
        "start_time": "2022-02-21T00:52:36.024Z"
      },
      {
        "duration": 38,
        "start_time": "2022-02-21T00:52:51.698Z"
      },
      {
        "duration": 74,
        "start_time": "2022-02-21T00:52:51.739Z"
      },
      {
        "duration": 48,
        "start_time": "2022-02-21T00:52:51.815Z"
      },
      {
        "duration": 19,
        "start_time": "2022-02-21T00:52:51.865Z"
      },
      {
        "duration": 12,
        "start_time": "2022-02-21T00:52:51.886Z"
      },
      {
        "duration": 15,
        "start_time": "2022-02-21T00:52:51.900Z"
      },
      {
        "duration": 11944,
        "start_time": "2022-02-21T00:52:51.917Z"
      },
      {
        "duration": 30,
        "start_time": "2022-02-21T00:53:03.864Z"
      },
      {
        "duration": 27,
        "start_time": "2022-02-21T00:53:03.897Z"
      },
      {
        "duration": 46,
        "start_time": "2022-02-21T00:53:03.926Z"
      },
      {
        "duration": 12,
        "start_time": "2022-02-21T00:53:03.974Z"
      },
      {
        "duration": 17330,
        "start_time": "2022-02-21T00:53:03.988Z"
      },
      {
        "duration": 48,
        "start_time": "2022-02-21T00:53:21.320Z"
      },
      {
        "duration": 11,
        "start_time": "2022-02-21T00:53:21.371Z"
      },
      {
        "duration": 30,
        "start_time": "2022-02-21T00:53:21.384Z"
      },
      {
        "duration": 6,
        "start_time": "2022-02-21T00:53:21.416Z"
      },
      {
        "duration": 6,
        "start_time": "2022-02-21T00:53:21.460Z"
      },
      {
        "duration": 12,
        "start_time": "2022-02-21T00:53:21.468Z"
      },
      {
        "duration": 362,
        "start_time": "2022-02-21T00:53:21.482Z"
      },
      {
        "duration": 16,
        "start_time": "2022-02-21T00:53:21.847Z"
      },
      {
        "duration": 11130,
        "start_time": "2022-02-21T00:53:21.865Z"
      },
      {
        "duration": 37,
        "start_time": "2022-02-21T00:53:32.998Z"
      },
      {
        "duration": 692,
        "start_time": "2022-02-21T00:53:33.037Z"
      },
      {
        "duration": 31,
        "start_time": "2022-02-21T00:53:33.731Z"
      },
      {
        "duration": 15,
        "start_time": "2022-02-21T00:53:33.765Z"
      },
      {
        "duration": 13,
        "start_time": "2022-02-21T00:53:33.783Z"
      },
      {
        "duration": 12,
        "start_time": "2022-02-21T00:53:33.798Z"
      },
      {
        "duration": 53,
        "start_time": "2022-02-21T00:53:33.812Z"
      },
      {
        "duration": 9,
        "start_time": "2022-02-21T00:53:33.868Z"
      },
      {
        "duration": 684,
        "start_time": "2022-02-21T00:53:33.879Z"
      },
      {
        "duration": 15,
        "start_time": "2022-02-21T00:53:34.566Z"
      },
      {
        "duration": 19,
        "start_time": "2022-02-21T00:53:34.583Z"
      },
      {
        "duration": 8,
        "start_time": "2022-02-21T00:53:34.605Z"
      },
      {
        "duration": 13,
        "start_time": "2022-02-21T00:53:34.616Z"
      },
      {
        "duration": 9,
        "start_time": "2022-02-21T00:53:34.661Z"
      },
      {
        "duration": 12,
        "start_time": "2022-02-21T00:53:34.673Z"
      },
      {
        "duration": 716,
        "start_time": "2022-02-21T00:53:34.687Z"
      },
      {
        "duration": 15,
        "start_time": "2022-02-21T00:53:35.405Z"
      },
      {
        "duration": 40,
        "start_time": "2022-02-21T00:53:35.422Z"
      },
      {
        "duration": 11,
        "start_time": "2022-02-21T00:53:35.465Z"
      },
      {
        "duration": 15,
        "start_time": "2022-02-21T00:53:35.479Z"
      },
      {
        "duration": 9,
        "start_time": "2022-02-21T00:53:35.503Z"
      },
      {
        "duration": 47,
        "start_time": "2022-02-21T00:53:35.515Z"
      },
      {
        "duration": 652,
        "start_time": "2022-02-21T00:53:35.565Z"
      },
      {
        "duration": 680,
        "start_time": "2022-02-21T00:53:36.220Z"
      },
      {
        "duration": 631,
        "start_time": "2022-02-21T00:53:36.903Z"
      },
      {
        "duration": 530,
        "start_time": "2022-02-21T00:53:37.536Z"
      },
      {
        "duration": 16,
        "start_time": "2022-02-21T00:53:38.069Z"
      },
      {
        "duration": 15,
        "start_time": "2022-02-21T00:53:38.088Z"
      },
      {
        "duration": 16,
        "start_time": "2022-02-21T00:56:06.875Z"
      },
      {
        "duration": 452,
        "start_time": "2022-02-21T00:59:39.185Z"
      },
      {
        "duration": 440,
        "start_time": "2022-02-21T00:59:57.106Z"
      },
      {
        "duration": 480,
        "start_time": "2022-02-21T01:01:44.992Z"
      },
      {
        "duration": 453,
        "start_time": "2022-02-21T01:02:05.863Z"
      },
      {
        "duration": 677,
        "start_time": "2022-02-21T01:02:32.914Z"
      },
      {
        "duration": 479,
        "start_time": "2022-02-21T01:03:19.325Z"
      },
      {
        "duration": 11,
        "start_time": "2022-02-21T01:06:23.939Z"
      },
      {
        "duration": 345,
        "start_time": "2022-02-21T01:09:28.099Z"
      },
      {
        "duration": 758,
        "start_time": "2022-03-03T10:04:43.893Z"
      },
      {
        "duration": 208,
        "start_time": "2022-03-03T10:04:44.654Z"
      },
      {
        "duration": 37,
        "start_time": "2022-03-03T10:04:44.865Z"
      },
      {
        "duration": 34,
        "start_time": "2022-03-03T10:04:44.904Z"
      },
      {
        "duration": 511,
        "start_time": "2022-03-03T10:04:44.941Z"
      },
      {
        "duration": 27,
        "start_time": "2022-03-03T10:04:45.455Z"
      },
      {
        "duration": 401,
        "start_time": "2022-03-03T10:04:45.484Z"
      },
      {
        "duration": 173,
        "start_time": "2022-03-03T10:04:45.888Z"
      },
      {
        "duration": 18,
        "start_time": "2022-03-03T10:04:46.064Z"
      },
      {
        "duration": 27,
        "start_time": "2022-03-03T10:04:46.085Z"
      },
      {
        "duration": 110,
        "start_time": "2022-03-03T10:04:46.114Z"
      },
      {
        "duration": 18,
        "start_time": "2022-03-03T10:04:46.227Z"
      },
      {
        "duration": 77,
        "start_time": "2022-03-03T10:04:46.248Z"
      },
      {
        "duration": 9,
        "start_time": "2022-03-03T10:04:46.328Z"
      },
      {
        "duration": 44,
        "start_time": "2022-03-03T10:04:46.339Z"
      },
      {
        "duration": 8,
        "start_time": "2022-03-03T10:04:46.385Z"
      },
      {
        "duration": 23,
        "start_time": "2022-03-03T10:04:46.396Z"
      },
      {
        "duration": 21,
        "start_time": "2022-03-03T10:04:46.422Z"
      },
      {
        "duration": 178,
        "start_time": "2022-03-03T10:04:46.445Z"
      },
      {
        "duration": 3,
        "start_time": "2022-03-03T10:04:46.625Z"
      },
      {
        "duration": 23,
        "start_time": "2022-03-03T10:04:46.630Z"
      },
      {
        "duration": 71,
        "start_time": "2022-03-03T10:04:46.656Z"
      },
      {
        "duration": 57,
        "start_time": "2022-03-03T10:04:46.733Z"
      },
      {
        "duration": 6,
        "start_time": "2022-03-03T10:04:46.794Z"
      },
      {
        "duration": 30,
        "start_time": "2022-03-03T10:04:46.803Z"
      },
      {
        "duration": 17,
        "start_time": "2022-03-03T10:04:46.835Z"
      },
      {
        "duration": 15095,
        "start_time": "2022-03-03T10:04:46.854Z"
      },
      {
        "duration": 45,
        "start_time": "2022-03-03T10:05:01.952Z"
      },
      {
        "duration": 56,
        "start_time": "2022-03-03T10:05:01.999Z"
      },
      {
        "duration": 42,
        "start_time": "2022-03-03T10:05:02.057Z"
      },
      {
        "duration": 19,
        "start_time": "2022-03-03T10:05:02.101Z"
      },
      {
        "duration": 15,
        "start_time": "2022-03-03T10:05:02.123Z"
      },
      {
        "duration": 20,
        "start_time": "2022-03-03T10:05:02.140Z"
      },
      {
        "duration": 11760,
        "start_time": "2022-03-03T10:05:02.163Z"
      },
      {
        "duration": 32,
        "start_time": "2022-03-03T10:05:13.926Z"
      },
      {
        "duration": 37,
        "start_time": "2022-03-03T10:05:13.987Z"
      },
      {
        "duration": 16,
        "start_time": "2022-03-03T10:05:14.027Z"
      },
      {
        "duration": 18,
        "start_time": "2022-03-03T10:05:14.046Z"
      },
      {
        "duration": 17330,
        "start_time": "2022-03-03T10:05:14.067Z"
      },
      {
        "duration": 33,
        "start_time": "2022-03-03T10:05:31.399Z"
      },
      {
        "duration": 11,
        "start_time": "2022-03-03T10:05:31.435Z"
      },
      {
        "duration": 58,
        "start_time": "2022-03-03T10:05:31.448Z"
      },
      {
        "duration": 6,
        "start_time": "2022-03-03T10:05:31.509Z"
      },
      {
        "duration": 18,
        "start_time": "2022-03-03T10:05:31.517Z"
      },
      {
        "duration": 20,
        "start_time": "2022-03-03T10:05:31.537Z"
      },
      {
        "duration": 341,
        "start_time": "2022-03-03T10:05:31.559Z"
      },
      {
        "duration": 472,
        "start_time": "2022-03-03T10:05:31.903Z"
      },
      {
        "duration": 478,
        "start_time": "2022-03-03T10:05:32.381Z"
      },
      {
        "duration": 533,
        "start_time": "2022-03-03T10:05:32.862Z"
      },
      {
        "duration": 12,
        "start_time": "2022-03-03T10:05:33.397Z"
      },
      {
        "duration": 10752,
        "start_time": "2022-03-03T10:05:33.411Z"
      },
      {
        "duration": 43,
        "start_time": "2022-03-03T10:05:44.165Z"
      },
      {
        "duration": 332,
        "start_time": "2022-03-03T10:05:44.210Z"
      },
      {
        "duration": 648,
        "start_time": "2022-03-03T10:05:44.545Z"
      },
      {
        "duration": 16,
        "start_time": "2022-03-03T10:05:45.196Z"
      },
      {
        "duration": 14,
        "start_time": "2022-03-03T10:05:45.215Z"
      },
      {
        "duration": 8,
        "start_time": "2022-03-03T10:05:45.232Z"
      },
      {
        "duration": 46,
        "start_time": "2022-03-03T10:05:45.243Z"
      },
      {
        "duration": 10,
        "start_time": "2022-03-03T10:05:45.292Z"
      },
      {
        "duration": 11,
        "start_time": "2022-03-03T10:05:45.305Z"
      },
      {
        "duration": 612,
        "start_time": "2022-03-03T10:05:45.318Z"
      },
      {
        "duration": 13,
        "start_time": "2022-03-03T10:05:45.932Z"
      },
      {
        "duration": 38,
        "start_time": "2022-03-03T10:05:45.947Z"
      },
      {
        "duration": 10,
        "start_time": "2022-03-03T10:05:45.988Z"
      },
      {
        "duration": 9,
        "start_time": "2022-03-03T10:05:46.000Z"
      },
      {
        "duration": 8,
        "start_time": "2022-03-03T10:05:46.012Z"
      },
      {
        "duration": 11,
        "start_time": "2022-03-03T10:05:46.023Z"
      },
      {
        "duration": 748,
        "start_time": "2022-03-03T10:05:46.083Z"
      },
      {
        "duration": 18,
        "start_time": "2022-03-03T10:05:46.835Z"
      },
      {
        "duration": 38,
        "start_time": "2022-03-03T10:05:46.856Z"
      },
      {
        "duration": 18,
        "start_time": "2022-03-03T10:05:46.899Z"
      },
      {
        "duration": 10,
        "start_time": "2022-03-03T10:05:46.919Z"
      },
      {
        "duration": 9,
        "start_time": "2022-03-03T10:05:46.931Z"
      },
      {
        "duration": 40,
        "start_time": "2022-03-03T10:05:46.942Z"
      },
      {
        "duration": 418,
        "start_time": "2022-03-03T10:05:46.986Z"
      },
      {
        "duration": 15,
        "start_time": "2022-03-03T10:05:47.407Z"
      },
      {
        "duration": 14,
        "start_time": "2022-03-03T10:05:47.425Z"
      },
      {
        "duration": 46,
        "start_time": "2022-03-03T10:05:47.442Z"
      },
      {
        "duration": 88,
        "start_time": "2022-03-04T16:26:58.609Z"
      },
      {
        "duration": 787,
        "start_time": "2022-03-04T16:29:43.155Z"
      },
      {
        "duration": 211,
        "start_time": "2022-03-04T16:29:43.945Z"
      },
      {
        "duration": 35,
        "start_time": "2022-03-04T16:29:44.159Z"
      },
      {
        "duration": 39,
        "start_time": "2022-03-04T16:29:44.196Z"
      },
      {
        "duration": 831,
        "start_time": "2022-03-04T16:29:52.285Z"
      },
      {
        "duration": 406,
        "start_time": "2022-03-04T16:30:01.771Z"
      },
      {
        "duration": 437,
        "start_time": "2022-03-04T16:30:10.705Z"
      },
      {
        "duration": 380,
        "start_time": "2022-03-04T16:30:45.905Z"
      },
      {
        "duration": 412,
        "start_time": "2022-03-05T00:35:08.864Z"
      },
      {
        "duration": 661,
        "start_time": "2022-03-05T00:36:08.436Z"
      },
      {
        "duration": 697,
        "start_time": "2022-03-05T00:36:27.846Z"
      },
      {
        "duration": 262,
        "start_time": "2022-03-05T00:38:07.522Z"
      },
      {
        "duration": 4,
        "start_time": "2022-03-05T00:38:29.330Z"
      },
      {
        "duration": 219,
        "start_time": "2022-03-05T00:38:29.337Z"
      },
      {
        "duration": 40,
        "start_time": "2022-03-05T00:38:29.559Z"
      },
      {
        "duration": 35,
        "start_time": "2022-03-05T00:38:29.602Z"
      },
      {
        "duration": 445,
        "start_time": "2022-03-05T00:38:29.640Z"
      },
      {
        "duration": 15,
        "start_time": "2022-03-05T00:38:30.088Z"
      },
      {
        "duration": 454,
        "start_time": "2022-03-05T00:38:30.105Z"
      },
      {
        "duration": 183,
        "start_time": "2022-03-05T00:38:30.564Z"
      },
      {
        "duration": 10,
        "start_time": "2022-03-05T00:38:30.750Z"
      },
      {
        "duration": 42,
        "start_time": "2022-03-05T00:38:30.762Z"
      },
      {
        "duration": 746,
        "start_time": "2022-03-05T11:31:39.672Z"
      },
      {
        "duration": 218,
        "start_time": "2022-03-05T11:31:40.420Z"
      },
      {
        "duration": 26,
        "start_time": "2022-03-05T11:31:40.641Z"
      },
      {
        "duration": 45,
        "start_time": "2022-03-05T11:31:40.682Z"
      },
      {
        "duration": 528,
        "start_time": "2022-03-05T11:31:40.730Z"
      },
      {
        "duration": 29,
        "start_time": "2022-03-05T11:31:41.261Z"
      },
      {
        "duration": 435,
        "start_time": "2022-03-05T11:31:41.292Z"
      },
      {
        "duration": 178,
        "start_time": "2022-03-05T11:31:41.730Z"
      },
      {
        "duration": 9,
        "start_time": "2022-03-05T11:31:41.910Z"
      },
      {
        "duration": 26,
        "start_time": "2022-03-05T11:31:41.922Z"
      },
      {
        "duration": 482,
        "start_time": "2022-03-05T11:31:49.332Z"
      },
      {
        "duration": 409,
        "start_time": "2022-03-05T11:36:54.105Z"
      },
      {
        "duration": 3,
        "start_time": "2022-03-05T12:33:59.000Z"
      },
      {
        "duration": 209,
        "start_time": "2022-03-05T12:33:59.009Z"
      },
      {
        "duration": 25,
        "start_time": "2022-03-05T12:33:59.221Z"
      },
      {
        "duration": 57,
        "start_time": "2022-03-05T12:33:59.249Z"
      },
      {
        "duration": 442,
        "start_time": "2022-03-05T12:33:59.309Z"
      },
      {
        "duration": 30,
        "start_time": "2022-03-05T12:33:59.753Z"
      },
      {
        "duration": 444,
        "start_time": "2022-03-05T12:33:59.785Z"
      },
      {
        "duration": 179,
        "start_time": "2022-03-05T12:34:00.231Z"
      },
      {
        "duration": 11,
        "start_time": "2022-03-05T12:34:00.414Z"
      },
      {
        "duration": 30,
        "start_time": "2022-03-05T12:34:00.428Z"
      },
      {
        "duration": 433,
        "start_time": "2022-03-05T12:34:00.482Z"
      },
      {
        "duration": 130,
        "start_time": "2022-03-05T12:34:00.918Z"
      },
      {
        "duration": 35,
        "start_time": "2022-03-05T12:34:01.050Z"
      },
      {
        "duration": 20,
        "start_time": "2022-03-05T12:34:01.088Z"
      },
      {
        "duration": 16,
        "start_time": "2022-03-05T12:34:01.111Z"
      },
      {
        "duration": 45,
        "start_time": "2022-03-05T12:34:01.129Z"
      },
      {
        "duration": 9,
        "start_time": "2022-03-05T12:34:01.177Z"
      },
      {
        "duration": 35,
        "start_time": "2022-03-05T12:34:01.189Z"
      },
      {
        "duration": 23,
        "start_time": "2022-03-05T12:34:01.226Z"
      },
      {
        "duration": 181,
        "start_time": "2022-03-05T12:34:01.252Z"
      },
      {
        "duration": 4,
        "start_time": "2022-03-05T12:34:01.436Z"
      },
      {
        "duration": 10,
        "start_time": "2022-03-05T12:34:01.443Z"
      },
      {
        "duration": 80,
        "start_time": "2022-03-05T12:34:01.456Z"
      },
      {
        "duration": 76,
        "start_time": "2022-03-05T12:34:01.543Z"
      },
      {
        "duration": 7,
        "start_time": "2022-03-05T12:34:01.623Z"
      },
      {
        "duration": 41,
        "start_time": "2022-03-05T12:34:01.632Z"
      },
      {
        "duration": 40,
        "start_time": "2022-03-05T12:34:01.675Z"
      },
      {
        "duration": 15170,
        "start_time": "2022-03-05T12:34:01.718Z"
      },
      {
        "duration": 37,
        "start_time": "2022-03-05T12:34:16.891Z"
      },
      {
        "duration": 79,
        "start_time": "2022-03-05T12:34:16.931Z"
      },
      {
        "duration": 35,
        "start_time": "2022-03-05T12:34:17.012Z"
      },
      {
        "duration": 35,
        "start_time": "2022-03-05T12:34:17.049Z"
      },
      {
        "duration": 27,
        "start_time": "2022-03-05T12:34:17.086Z"
      },
      {
        "duration": 25,
        "start_time": "2022-03-05T12:34:17.116Z"
      },
      {
        "duration": 11310,
        "start_time": "2022-03-05T12:34:17.144Z"
      },
      {
        "duration": 41,
        "start_time": "2022-03-05T12:34:28.457Z"
      },
      {
        "duration": 41,
        "start_time": "2022-03-05T12:34:28.501Z"
      },
      {
        "duration": 37,
        "start_time": "2022-03-05T12:34:28.544Z"
      },
      {
        "duration": 11,
        "start_time": "2022-03-05T12:34:28.584Z"
      },
      {
        "duration": 16906,
        "start_time": "2022-03-05T12:34:28.597Z"
      },
      {
        "duration": 32,
        "start_time": "2022-03-05T12:34:45.506Z"
      },
      {
        "duration": 15,
        "start_time": "2022-03-05T12:34:45.540Z"
      },
      {
        "duration": 48,
        "start_time": "2022-03-05T12:34:45.557Z"
      },
      {
        "duration": 4,
        "start_time": "2022-03-05T12:34:45.607Z"
      },
      {
        "duration": 7,
        "start_time": "2022-03-05T12:34:45.615Z"
      },
      {
        "duration": 5,
        "start_time": "2022-03-05T12:34:52.181Z"
      },
      {
        "duration": 9,
        "start_time": "2022-03-05T12:34:55.468Z"
      },
      {
        "duration": 350,
        "start_time": "2022-03-05T12:35:17.865Z"
      },
      {
        "duration": 12,
        "start_time": "2022-03-05T12:35:35.302Z"
      },
      {
        "duration": 10703,
        "start_time": "2022-03-05T12:35:40.732Z"
      },
      {
        "duration": 36,
        "start_time": "2022-03-05T12:36:01.707Z"
      },
      {
        "duration": 3,
        "start_time": "2022-03-05T12:48:44.090Z"
      },
      {
        "duration": 230,
        "start_time": "2022-03-05T12:48:44.096Z"
      },
      {
        "duration": 53,
        "start_time": "2022-03-05T12:48:44.329Z"
      },
      {
        "duration": 36,
        "start_time": "2022-03-05T12:48:44.386Z"
      },
      {
        "duration": 504,
        "start_time": "2022-03-05T12:48:44.425Z"
      },
      {
        "duration": 15,
        "start_time": "2022-03-05T12:48:44.933Z"
      },
      {
        "duration": 455,
        "start_time": "2022-03-05T12:48:44.952Z"
      },
      {
        "duration": 189,
        "start_time": "2022-03-05T12:48:45.410Z"
      },
      {
        "duration": 10,
        "start_time": "2022-03-05T12:48:45.601Z"
      },
      {
        "duration": 32,
        "start_time": "2022-03-05T12:48:45.613Z"
      },
      {
        "duration": 437,
        "start_time": "2022-03-05T12:48:45.648Z"
      },
      {
        "duration": 122,
        "start_time": "2022-03-05T12:48:46.087Z"
      },
      {
        "duration": 19,
        "start_time": "2022-03-05T12:48:46.212Z"
      },
      {
        "duration": 31,
        "start_time": "2022-03-05T12:48:46.233Z"
      },
      {
        "duration": 18,
        "start_time": "2022-03-05T12:48:46.266Z"
      },
      {
        "duration": 36,
        "start_time": "2022-03-05T12:48:46.286Z"
      },
      {
        "duration": 9,
        "start_time": "2022-03-05T12:48:46.324Z"
      },
      {
        "duration": 14,
        "start_time": "2022-03-05T12:48:46.335Z"
      },
      {
        "duration": 28,
        "start_time": "2022-03-05T12:48:46.354Z"
      },
      {
        "duration": 161,
        "start_time": "2022-03-05T12:48:46.385Z"
      },
      {
        "duration": 3,
        "start_time": "2022-03-05T12:48:46.548Z"
      },
      {
        "duration": 8,
        "start_time": "2022-03-05T12:48:46.553Z"
      },
      {
        "duration": 68,
        "start_time": "2022-03-05T12:48:46.563Z"
      },
      {
        "duration": 74,
        "start_time": "2022-03-05T12:48:46.633Z"
      },
      {
        "duration": 6,
        "start_time": "2022-03-05T12:48:46.710Z"
      },
      {
        "duration": 20,
        "start_time": "2022-03-05T12:48:46.719Z"
      },
      {
        "duration": 14,
        "start_time": "2022-03-05T12:48:46.741Z"
      },
      {
        "duration": 15768,
        "start_time": "2022-03-05T12:48:46.757Z"
      },
      {
        "duration": 34,
        "start_time": "2022-03-05T12:49:02.528Z"
      },
      {
        "duration": 66,
        "start_time": "2022-03-05T12:49:02.564Z"
      },
      {
        "duration": 50,
        "start_time": "2022-03-05T12:49:02.632Z"
      },
      {
        "duration": 17,
        "start_time": "2022-03-05T12:49:02.684Z"
      },
      {
        "duration": 21,
        "start_time": "2022-03-05T12:49:02.704Z"
      },
      {
        "duration": 21,
        "start_time": "2022-03-05T12:49:02.728Z"
      },
      {
        "duration": 12255,
        "start_time": "2022-03-05T12:49:02.751Z"
      },
      {
        "duration": 36,
        "start_time": "2022-03-05T12:49:15.010Z"
      },
      {
        "duration": 92,
        "start_time": "2022-03-05T12:49:15.049Z"
      },
      {
        "duration": 19,
        "start_time": "2022-03-05T12:49:15.143Z"
      },
      {
        "duration": 23,
        "start_time": "2022-03-05T12:49:15.166Z"
      },
      {
        "duration": 19723,
        "start_time": "2022-03-05T12:49:15.192Z"
      },
      {
        "duration": 35,
        "start_time": "2022-03-05T12:49:34.919Z"
      },
      {
        "duration": 36,
        "start_time": "2022-03-05T12:49:34.957Z"
      },
      {
        "duration": 34,
        "start_time": "2022-03-05T12:49:34.998Z"
      },
      {
        "duration": 5,
        "start_time": "2022-03-05T12:49:35.035Z"
      },
      {
        "duration": 7,
        "start_time": "2022-03-05T12:49:35.043Z"
      },
      {
        "duration": 36,
        "start_time": "2022-03-05T12:49:35.052Z"
      },
      {
        "duration": 367,
        "start_time": "2022-03-05T12:49:35.093Z"
      },
      {
        "duration": 557,
        "start_time": "2022-03-05T12:49:35.462Z"
      },
      {
        "duration": 615,
        "start_time": "2022-03-05T12:49:36.022Z"
      },
      {
        "duration": 611,
        "start_time": "2022-03-05T12:49:36.639Z"
      },
      {
        "duration": 14,
        "start_time": "2022-03-05T12:49:37.252Z"
      },
      {
        "duration": 11685,
        "start_time": "2022-03-05T12:49:37.284Z"
      },
      {
        "duration": 42,
        "start_time": "2022-03-05T12:49:48.971Z"
      },
      {
        "duration": 353,
        "start_time": "2022-03-05T12:49:49.015Z"
      },
      {
        "duration": 684,
        "start_time": "2022-03-05T12:49:49.375Z"
      },
      {
        "duration": 28,
        "start_time": "2022-03-05T12:49:50.062Z"
      },
      {
        "duration": 15,
        "start_time": "2022-03-05T12:49:50.092Z"
      },
      {
        "duration": 9,
        "start_time": "2022-03-05T12:49:50.110Z"
      },
      {
        "duration": 9,
        "start_time": "2022-03-05T12:49:50.122Z"
      },
      {
        "duration": 55,
        "start_time": "2022-03-05T12:49:50.134Z"
      },
      {
        "duration": 9,
        "start_time": "2022-03-05T12:49:50.191Z"
      },
      {
        "duration": 628,
        "start_time": "2022-03-05T12:49:50.202Z"
      },
      {
        "duration": 14,
        "start_time": "2022-03-05T12:49:50.832Z"
      },
      {
        "duration": 35,
        "start_time": "2022-03-05T12:49:50.848Z"
      },
      {
        "duration": 9,
        "start_time": "2022-03-05T12:49:50.886Z"
      },
      {
        "duration": 10,
        "start_time": "2022-03-05T12:49:50.898Z"
      },
      {
        "duration": 12,
        "start_time": "2022-03-05T12:49:50.910Z"
      },
      {
        "duration": 10,
        "start_time": "2022-03-05T12:49:50.925Z"
      },
      {
        "duration": 659,
        "start_time": "2022-03-05T12:49:50.938Z"
      },
      {
        "duration": 15,
        "start_time": "2022-03-05T12:49:51.599Z"
      },
      {
        "duration": 14,
        "start_time": "2022-03-05T12:49:51.617Z"
      },
      {
        "duration": 9,
        "start_time": "2022-03-05T12:49:51.633Z"
      },
      {
        "duration": 46,
        "start_time": "2022-03-05T12:49:51.645Z"
      },
      {
        "duration": 11,
        "start_time": "2022-03-05T12:49:51.693Z"
      },
      {
        "duration": 8,
        "start_time": "2022-03-05T12:49:51.707Z"
      },
      {
        "duration": 562,
        "start_time": "2022-03-05T12:49:51.717Z"
      },
      {
        "duration": 14,
        "start_time": "2022-03-05T12:49:52.283Z"
      },
      {
        "duration": 16,
        "start_time": "2022-03-05T12:49:52.300Z"
      },
      {
        "duration": 583,
        "start_time": "2022-03-06T05:38:26.696Z"
      },
      {
        "duration": 146,
        "start_time": "2022-03-06T05:38:27.280Z"
      },
      {
        "duration": 18,
        "start_time": "2022-03-06T05:38:27.428Z"
      },
      {
        "duration": 23,
        "start_time": "2022-03-06T05:38:27.447Z"
      },
      {
        "duration": 283,
        "start_time": "2022-03-06T05:38:27.471Z"
      },
      {
        "duration": 9,
        "start_time": "2022-03-06T05:38:27.755Z"
      },
      {
        "duration": 240,
        "start_time": "2022-03-06T05:38:27.765Z"
      },
      {
        "duration": 113,
        "start_time": "2022-03-06T05:38:28.007Z"
      },
      {
        "duration": 5,
        "start_time": "2022-03-06T05:38:28.122Z"
      },
      {
        "duration": 20,
        "start_time": "2022-03-06T05:38:28.128Z"
      },
      {
        "duration": 258,
        "start_time": "2022-03-06T05:38:28.150Z"
      },
      {
        "duration": 82,
        "start_time": "2022-03-06T05:38:28.409Z"
      },
      {
        "duration": 12,
        "start_time": "2022-03-06T05:38:28.493Z"
      },
      {
        "duration": 30,
        "start_time": "2022-03-06T05:38:28.506Z"
      },
      {
        "duration": 18,
        "start_time": "2022-03-06T05:38:28.537Z"
      },
      {
        "duration": 48,
        "start_time": "2022-03-06T05:38:28.556Z"
      },
      {
        "duration": 10,
        "start_time": "2022-03-06T05:38:28.605Z"
      },
      {
        "duration": 26,
        "start_time": "2022-03-06T05:38:28.616Z"
      },
      {
        "duration": 14,
        "start_time": "2022-03-06T05:38:28.644Z"
      },
      {
        "duration": 114,
        "start_time": "2022-03-06T05:38:28.660Z"
      },
      {
        "duration": 1,
        "start_time": "2022-03-06T05:38:28.776Z"
      },
      {
        "duration": 38,
        "start_time": "2022-03-06T05:38:28.779Z"
      },
      {
        "duration": 48,
        "start_time": "2022-03-06T05:38:28.821Z"
      },
      {
        "duration": 35,
        "start_time": "2022-03-06T05:38:28.871Z"
      },
      {
        "duration": 4,
        "start_time": "2022-03-06T05:38:28.907Z"
      },
      {
        "duration": 31,
        "start_time": "2022-03-06T05:38:28.912Z"
      },
      {
        "duration": 13,
        "start_time": "2022-03-06T05:38:28.945Z"
      },
      {
        "duration": 8102,
        "start_time": "2022-03-06T05:38:28.959Z"
      },
      {
        "duration": 17,
        "start_time": "2022-03-06T05:38:37.062Z"
      },
      {
        "duration": 39,
        "start_time": "2022-03-06T05:38:37.080Z"
      },
      {
        "duration": 18,
        "start_time": "2022-03-06T05:38:37.121Z"
      },
      {
        "duration": 9,
        "start_time": "2022-03-06T05:38:37.140Z"
      },
      {
        "duration": 7,
        "start_time": "2022-03-06T05:38:37.151Z"
      },
      {
        "duration": 7,
        "start_time": "2022-03-06T05:38:37.159Z"
      },
      {
        "duration": 6099,
        "start_time": "2022-03-06T05:38:37.168Z"
      },
      {
        "duration": 16,
        "start_time": "2022-03-06T05:38:43.269Z"
      },
      {
        "duration": 29,
        "start_time": "2022-03-06T05:38:43.286Z"
      },
      {
        "duration": 10,
        "start_time": "2022-03-06T05:38:43.316Z"
      },
      {
        "duration": 7,
        "start_time": "2022-03-06T05:38:43.327Z"
      },
      {
        "duration": 8864,
        "start_time": "2022-03-06T05:38:43.335Z"
      },
      {
        "duration": 20,
        "start_time": "2022-03-06T05:38:52.200Z"
      },
      {
        "duration": 6,
        "start_time": "2022-03-06T05:38:52.222Z"
      },
      {
        "duration": 17,
        "start_time": "2022-03-06T05:38:52.230Z"
      },
      {
        "duration": 5,
        "start_time": "2022-03-06T05:38:52.248Z"
      },
      {
        "duration": 5,
        "start_time": "2022-03-06T05:38:52.254Z"
      },
      {
        "duration": 7,
        "start_time": "2022-03-06T05:38:52.260Z"
      },
      {
        "duration": 177,
        "start_time": "2022-03-06T05:38:52.305Z"
      },
      {
        "duration": 243,
        "start_time": "2022-03-06T05:38:52.484Z"
      },
      {
        "duration": 243,
        "start_time": "2022-03-06T05:38:52.729Z"
      },
      {
        "duration": 250,
        "start_time": "2022-03-06T05:38:52.974Z"
      },
      {
        "duration": 8,
        "start_time": "2022-03-06T05:38:53.226Z"
      },
      {
        "duration": 5754,
        "start_time": "2022-03-06T05:38:53.236Z"
      },
      {
        "duration": 28,
        "start_time": "2022-03-06T05:38:58.991Z"
      },
      {
        "duration": 185,
        "start_time": "2022-03-06T05:38:59.021Z"
      },
      {
        "duration": 335,
        "start_time": "2022-03-06T05:38:59.208Z"
      },
      {
        "duration": 9,
        "start_time": "2022-03-06T05:38:59.545Z"
      },
      {
        "duration": 9,
        "start_time": "2022-03-06T05:38:59.556Z"
      },
      {
        "duration": 6,
        "start_time": "2022-03-06T05:38:59.567Z"
      },
      {
        "duration": 33,
        "start_time": "2022-03-06T05:38:59.574Z"
      },
      {
        "duration": 5,
        "start_time": "2022-03-06T05:38:59.609Z"
      },
      {
        "duration": 6,
        "start_time": "2022-03-06T05:38:59.616Z"
      },
      {
        "duration": 313,
        "start_time": "2022-03-06T05:38:59.624Z"
      },
      {
        "duration": 9,
        "start_time": "2022-03-06T05:38:59.939Z"
      },
      {
        "duration": 9,
        "start_time": "2022-03-06T05:38:59.950Z"
      },
      {
        "duration": 6,
        "start_time": "2022-03-06T05:38:59.961Z"
      },
      {
        "duration": 6,
        "start_time": "2022-03-06T05:38:59.969Z"
      },
      {
        "duration": 32,
        "start_time": "2022-03-06T05:38:59.976Z"
      },
      {
        "duration": 12,
        "start_time": "2022-03-06T05:39:00.013Z"
      },
      {
        "duration": 320,
        "start_time": "2022-03-06T05:39:00.027Z"
      },
      {
        "duration": 10,
        "start_time": "2022-03-06T05:39:00.349Z"
      },
      {
        "duration": 9,
        "start_time": "2022-03-06T05:39:00.360Z"
      },
      {
        "duration": 7,
        "start_time": "2022-03-06T05:39:00.370Z"
      },
      {
        "duration": 29,
        "start_time": "2022-03-06T05:39:00.378Z"
      },
      {
        "duration": 6,
        "start_time": "2022-03-06T05:39:00.409Z"
      },
      {
        "duration": 8,
        "start_time": "2022-03-06T05:39:00.416Z"
      },
      {
        "duration": 404,
        "start_time": "2022-03-06T05:39:00.425Z"
      },
      {
        "duration": 9,
        "start_time": "2022-03-06T05:39:00.831Z"
      },
      {
        "duration": 10,
        "start_time": "2022-03-06T05:39:00.842Z"
      },
      {
        "duration": 7,
        "start_time": "2022-03-06T05:39:00.854Z"
      }
    ],
    "colab": {
      "provenance": []
    },
    "kernelspec": {
      "display_name": "Python 3 (ipykernel)",
      "language": "python",
      "name": "python3"
    },
    "language_info": {
      "codemirror_mode": {
        "name": "ipython",
        "version": 3
      },
      "file_extension": ".py",
      "mimetype": "text/x-python",
      "name": "python",
      "nbconvert_exporter": "python",
      "pygments_lexer": "ipython3",
      "version": "3.9.5"
    },
    "toc": {
      "base_numbering": 1,
      "nav_menu": {
        "height": "208px",
        "width": "328px"
      },
      "number_sections": true,
      "sideBar": true,
      "skip_h1_title": true,
      "title_cell": "Table of Contents",
      "title_sidebar": "Contents",
      "toc_cell": false,
      "toc_position": {
        "height": "calc(100% - 180px)",
        "left": "10px",
        "top": "150px",
        "width": "238.396px"
      },
      "toc_section_display": true,
      "toc_window_display": false
    }
  },
  "nbformat": 4,
  "nbformat_minor": 0
}
